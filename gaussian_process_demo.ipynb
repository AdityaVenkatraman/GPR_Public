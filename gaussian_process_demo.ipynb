{
 "cells": [
  {
   "cell_type": "markdown",
   "metadata": {},
   "source": [
    "#  CODE FOR MULTIVARIATE GP REGRESSION WITH ARD-SE KERNEL- Aditya\n",
    "## Introduction to Gaussian process:\n",
    "\n",
    "* A Multivariate Gaussian  is defined on a domain $\\chi = \\mathbb{R}^N$ with mean  $\\mathbf{\\mu}:\\chi \\Rightarrow \\mathbb{R}$ and covariance  $K:\\chi \\times \\chi \\Rightarrow \\mathbb{R}$, such that any the probability density function of any random vector $\\mathbf{y} \\in \\chi $ is given as\n",
    "\\begin{align}\n",
    "p(\\mathbf{y})=\\dfrac{1}{(2\\pi)^{1/2} |K|^{1/2}} \\times \\exp(\\dfrac{(\\mathbf{y}-\\mu\\mathbf{1})^TK^{-1}(\\mathbf{y}-\\mu\\mathbf{1})}{2})\n",
    "\\end{align}\n",
    "\n",
    "* The variable $\\mathbf{y}$ is then represented as a \n",
    "\\begin{align}\n",
    "\\mathbf{y} \\sim \\mathcal{N} (\\mathbf{\\mu},K)\n",
    "\\end{align}\n",
    "\n",
    "\n",
    "## Conditional distribution\n",
    "\n",
    "* One very attractive property of the GP is that, it is closed under *conditioning*. \n",
    "* Specifically, the conditional distribution of query points given a set of control points obtained from the joint Gaussian of the training and test points is *also a Gaussian distribution*\n",
    "\n",
    "* Consider two sets of normally distributed random vectors $\\mathbf{y_1}$ and $\\mathbf{y_2}$, respectively. The joint distribution of the training and test points is given by the joint MVG (**M**ulti-**V**ariate  **G**aussian) distribution as\n",
    "\n",
    "\\begin{align}\n",
    "\\begin{bmatrix}\n",
    "\\mathbf{y_1} \\\\\\mathbf{y_2}\n",
    "\\end{bmatrix} =   \\mathcal{N}_{n_1+n_2}(\\begin{bmatrix}\n",
    "\\mathbf{\\mu_1} \\\\\\mathbf{ \\mu_2}\n",
    "\\end{bmatrix},\n",
    "\\begin{bmatrix}\n",
    "K_{11} && K_{12}\\\\K_{21} && K_{22}\n",
    "\\end{bmatrix}\n",
    ")\n",
    "\\end{align}\n",
    "\n",
    "* Then, the *conditional distribution of* $\\mathbf{y_2}$*given* $\\mathbf{y_1}$ is given as\n",
    "\n",
    "\\begin{align}\n",
    "p(\\mathbf{y_2} |\\mathbf{y_1})\n",
    " =   \\mathcal{N}_{n_2}(\\mu_2+K_{21}K_{11}^{-1}(\\mathbf{y_1}-\\mathbf{\\mu_1}),(K_{22}-K_{21}K_{11}^{-1}K_{12})\n",
    ")\n",
    "\\end{align}\n",
    "\n",
    "* Consider $\\mathbf{y_1},\\mathbf{y_2}$ as training and query point $\\mathbf{y},\\mathbf{f_*}$\n",
    "\n",
    "## What is a Gaussian process?\n",
    "* Instead of inferring a distribution over the parameters of a parametric function Gaussian processes can be used to infer a distribution over functions directly, by applying the properties of the multi-variate Gaussian discussed above. \n",
    "* A Gaussian process defines a prior over functions. After having observed some function values it can be converted into a posterior over functions. \n",
    "* Inference of continuous function values over the domain of interest in this context is known as GP regression but GPs.\n",
    "\n",
    "* A Gaussian process is a [random process](https://en.wikipedia.org/wiki/Stochastic_process) where any point $\\mathbf{x} \\in \\mathbb{R}^p$ is assigned a random variable $f(\\mathbf{x})$ and where the joint distribution of a finite number of these variables $p(f(\\mathbf{x}_1),...,f(\\mathbf{x}_N))$ is itself Gaussian:\n",
    "\n",
    "$$p(\\mathbf{f} \\lvert \\mathbf{X}) = \\mathcal{N}(\\mathbf{f} \\lvert \\boldsymbol\\mu, \\mathbf{K})\\tag{1}\\label{eq1}$$\n",
    "\n",
    "* In Equation $(1)$, $\\mathbf{f} = (f(\\mathbf{x}_1),...,f(\\mathbf{x}_N))$, $\\boldsymbol\\mu = (m(\\mathbf{x}_1),...,m(\\mathbf{x}_N))$ and $K_{ij} = \\kappa(\\mathbf{x}_i,\\mathbf{x}_j)$. $m$ is the mean function and it is common to use $m(\\mathbf{x}) = 0$ as GPs are flexible enough to model the mean arbitrarily well. \n",
    "* $\\kappa$ is a positive definite *kernel function* or *covariance function*. \n",
    "* Thus, a Gaussian process is a distribution over functions whose shape (smoothness, ...) is defined by $\\mathbf{K}$. If points $\\mathbf{x}_i$ and $\\mathbf{x}_j$ are considered to be similar by the kernel the function values at these points, $f(\\mathbf{x}_i)$ and $f(\\mathbf{x}_j)$, can be expected to be similar too. \n",
    "* A GP prior $p(\\mathbf{f} \\lvert \\mathbf{X})$ can be converted into a GP posterior $p(\\mathbf{f} \\lvert \\mathbf{X},\\mathbf{y})$ after having observed some data $\\mathbf{y}$. The posterior can then be used to make predictions $\\mathbf{f}_*$ given new input $\\mathbf{x}_*$:\n",
    "\n",
    "$$\n",
    "\\begin{align*}\n",
    "p(\\mathbf{f}_* \\lvert \\mathbf{x}_*,\\mathbf{X},\\mathbf{y}) \n",
    "&= \\int{p(\\mathbf{f}_* \\lvert \\mathbf{x}_*,\\mathbf{f})p(\\mathbf{f} \\lvert \\mathbf{X},\\mathbf{y})}\\ d\\mathbf{f} \\\\ \n",
    "&= \\mathcal{N}(\\mathbf{f}_* \\lvert \\boldsymbol{\\mu}_*, \\boldsymbol{\\Sigma}_*)\\tag{2}\\label{eq2}\n",
    "\\end{align*}\n",
    "$$\n",
    "\n",
    "* Equation $(2)$ is the posterior predictive distribution which is also a Gaussian with mean $\\boldsymbol{\\mu}_*$ and $\\boldsymbol{\\Sigma}_*$. By definition of the GP, the joint distribution of observed data $\\mathbf{y}$ and predictions $\\mathbf{f}_*$  is\n",
    "\n",
    "$$\n",
    "\\begin{pmatrix}\\mathbf{y} \\\\ \\mathbf{f}_*\\end{pmatrix} \\sim \\mathcal{N}\n",
    "\\left(\\boldsymbol{0},\n",
    "\\begin{pmatrix}\\mathbf{K}_y & \\mathbf{K}_* \\\\ \\mathbf{K}_*^T & \\mathbf{K}_{**}\\end{pmatrix}\n",
    "\\right)\\tag{3}\\label{eq3}\n",
    "$$\n",
    "\n",
    "* With $N$ training data and $N_*$ new input data, $\\mathbf{K}_y = \\kappa(\\mathbf{X},\\mathbf{X}) + \\sigma_y^2\\mathbf{I} = \\mathbf{K} + \\sigma_y^2\\mathbf{I}$ is $N \\times N$, $\\mathbf{K}_* = \\kappa(\\mathbf{X},\\mathbf{x}_*)$ is $N \\times N_*$ and $\\mathbf{K}_{**} = \\kappa(\\mathbf{X}_*,\\mathbf{x}_*)$ is $N_* \\times N_*$. $\\sigma_y^2$ is the noise term in the diagonal of $\\mathbf{K_y}$. It is set to zero if training targets are noise-free and to a value greater than zero if observations are noisy. The mean is set to $\\boldsymbol{0}$ for notational simplicity. The sufficient statistics of the posterior predictive distribution, $\\boldsymbol{\\mu}_*$ and $\\boldsymbol{\\Sigma}_*$, can be computed with<sup>[1][3]</sup>\n",
    "\n",
    "$$\n",
    "\\begin{align*}\n",
    "\\boldsymbol{\\mu_*} &= \\mathbf{K}_*^T \\mathbf{K}_y^{-1} \\mathbf{y}\\tag{4}\\label{eq4} \\\\\n",
    "\\boldsymbol{\\Sigma_*} &= \\mathbf{K}_{**} - \\mathbf{K}_*^T \\mathbf{K}_y^{-1} \\mathbf{K}_*\\tag{5}\\label{eq5}\n",
    "\\end{align*}\n",
    "$$\n",
    "\n",
    "\n",
    "## Covariance matrices\n",
    "* Normally, the function space realizations $\\mathbf{y}$ are generated by simulations or experiments and have unknown dependencies on the input parameters/features. Typically, these dependencies are highly non-linear and ascertaining them with only fixed set of parameters is a highly time-consuming process that involves parameter selection, validation. \n",
    "* GPs (or linear Gaussian models) have the flexibility of augmenting the predictive response given new data-points quite naturally by enlarging the dimensionality of the MVG. \n",
    "* Note that this non-parametric form asymptotically converges to the true underlying distribution. However, with a finite number of data-points, the entries in the covariance matrix strongly control the surrogate fidelity. \n",
    "* Therefore, choosing the appropriate structure for the covariance ($K$) matrix and the relevant parameters therein is crucial to building GP predictive models with sufficient accuracy. \n",
    "* A *kernel function* is used to compute the $K$ matrices. The kernel function is designed to capture the stronger correlation of outputs corresponding to closely spaced inputs. \n",
    "* Perhaps the simplest choice of a *stationery* kernel is the squared-exponential kernel , also known as Gaussian kernel or RBF kernel:\n",
    "\n",
    "$$\n",
    "\\kappa(\\mathbf{x}_i,\\mathbf{x}_j) = \\sigma_f^2 \\exp(-\\frac{1}{2l^2}\n",
    "  (\\mathbf{x}_i - \\mathbf{x}_j)^T\n",
    "  (\\mathbf{x}_i - \\mathbf{x}_j))\\tag{6}\n",
    "$$\n",
    "\n",
    "The length parameter $l$ controls the smoothness of the function and $\\sigma_f$ the vertical variation. For simplicity, we use the same length parameter $l$ for all input dimensions (isotropic kernel). \n",
    "* A popular choice for the kernel function is the Automatic Relevance Determination-Squared-Exponential (ARD-SE) kernel\n",
    "$K(x^i,x^j )=\\sigma^2  \\exp( -\\sum_{k=1}^p \\beta_k  (x^i_k-x^j_k )^2 )$, more compactly represented as \n",
    "$$\n",
    "\\kappa(\\mathbf{x}_i,\\mathbf{x}_j) = \\sigma_f^2 \\exp(-\n",
    "  (\\mathbf{x}_i - \\mathbf{x}_j)^T\\mathbf{\\beta}\n",
    "  (\\mathbf{x}_i - \\mathbf{x}_j))\\tag{7}\n",
    "$$\n",
    "* Where the $(x^i)$ are input points arranged as column vectors $(x^i_1,x^i_2...,x^i_p)^T$ with 'p' features\n",
    "* The term $\\sigma^2$ is called the precision of the GP and the parameters $\\beta_k|_{i=1}^p$ are called \"correlation parameters\""
   ]
  },
  {
   "cell_type": "code",
   "execution_count": 1,
   "metadata": {},
   "outputs": [],
   "source": [
    "import numpy as np\n",
    "\n",
    "def kernel(X1, X2, l=1.0, sigma_f=1.0):\n",
    "    '''\n",
    "    Isotropic squared exponential kernel. Computes \n",
    "    a covariance matrix from points in X1 and X2.\n",
    "    \n",
    "    Args:\n",
    "        X1: Array of m points (m x d).\n",
    "        X2: Array of n points (n x d).\n",
    "\n",
    "    Returns:\n",
    "        Covariance matrix (m x n).\n",
    "    '''\n",
    "    sqdist = np.sum(X1**2, 1).reshape(-1, 1) + np.sum(X2**2, 1) - 2 * np.dot(X1, X2.T)\n",
    "    return sigma_f**2 * np.exp(-0.5 / l**2 * sqdist)"
   ]
  },
  {
   "cell_type": "code",
   "execution_count": 2,
   "metadata": {},
   "outputs": [
    {
     "data": {
      "text/plain": [
       "[<matplotlib.lines.Line2D at 0x1d78ba61a08>]"
      ]
     },
     "execution_count": 2,
     "metadata": {},
     "output_type": "execute_result"
    },
    {
     "data": {
      "image/png": "[encoded data removed]",
      "text/plain": [
       "<Figure size 432x288 with 1 Axes>"
      ]
     },
     "metadata": {
      "needs_background": "light"
     },
     "output_type": "display_data"
    }
   ],
   "source": [
    "%matplotlib inline\n",
    "\n",
    "# from gaussian_processes_util import plot_gp\n",
    "\n",
    "# Finite number of points\n",
    "X = np.arange(-5, 5, 0.2).reshape(-1, 1)\n",
    "\n",
    "# Mean and covariance of the prior\n",
    "mu = np.zeros(X.shape)\n",
    "cov = kernel(X, X)\n",
    "\n",
    "# Draw three samples from the prior\n",
    "samples = np.random.multivariate_normal(mu.ravel(), cov,3)\n",
    "\n",
    "# Plot GP mean, confidence interval and samples \n",
    "\n",
    "import matplotlib.pyplot as plt\n",
    "\n",
    "plt.plot(X,samples[0,:],'r--')\n",
    "plt.plot(X,samples[1,:],'b--')\n",
    "plt.plot(X,samples[2,:],'g--')"
   ]
  },
  {
   "cell_type": "markdown",
   "metadata": {},
   "source": [
    "### Prediction from noise-free training data\n",
    "\n",
    "To compute the sufficient statistics i.e. mean and covariance of the posterior predictive distribution we implement Equations $(4)$ and $(5)$"
   ]
  },
  {
   "cell_type": "code",
   "execution_count": 3,
   "metadata": {},
   "outputs": [],
   "source": [
    "from numpy.linalg import inv\n",
    "\n",
    "def posterior_predictive(X_s, X_train, Y_train, l=1.0, sigma_f=1.0, sigma_y=1e-8):\n",
    "    '''\n",
    "    Computes the suffifient statistics of the GP posterior predictive distribution \n",
    "    from m training data X_train and Y_train and n new inputs X_s.\n",
    "    \n",
    "    Args:\n",
    "        X_s: New input locations (n x d).\n",
    "        X_train: Training locations (m x d).\n",
    "        Y_train: Training targets (m x 1).\n",
    "        l: Kernel length parameter.\n",
    "        sigma_f: Kernel vertical variation parameter.\n",
    "        sigma_y: Noise parameter.\n",
    "    \n",
    "    Returns:\n",
    "        Posterior mean vector (n x d) and covariance matrix (n x n).\n",
    "    '''\n",
    "    K = kernel(X_train, X_train, l, sigma_f) + sigma_y**2 * np.eye(len(X_train))\n",
    "    K_s = kernel(X_train, X_s, l, sigma_f)\n",
    "    K_ss = kernel(X_s, X_s, l, sigma_f) + 1e-8 * np.eye(len(X_s))\n",
    "    K_inv = inv(K)\n",
    "    \n",
    "    # Equation (4)\n",
    "    mu_s = K_s.T.dot(K_inv).dot(Y_train)\n",
    "\n",
    "    # Equation (5)\n",
    "    cov_s = K_ss - K_s.T.dot(K_inv).dot(K_s)\n",
    "    \n",
    "    return mu_s, cov_s"
   ]
  },
  {
   "cell_type": "code",
   "execution_count": 4,
   "metadata": {},
   "outputs": [],
   "source": [
    "# Noise free training data\n",
    "X_train = np.array([-4, -3, -2, -1, 1]).reshape(-1, 1)\n",
    "Y_train = np.sin(X_train)\n",
    "\n",
    "# Compute mean and covariance of the posterior predictive distribution\n",
    "mu_s, cov_s = posterior_predictive(X, X_train, Y_train)\n",
    "samples = np.random.multivariate_normal(mu_s.ravel(), cov_s, 3)\n",
    "stdev=np.diag(cov_s)\n",
    "mu_s=mu_s.reshape((mu_s.shape[0],))"
   ]
  },
  {
   "cell_type": "code",
   "execution_count": 5,
   "metadata": {},
   "outputs": [
    {
     "data": {
      "text/plain": [
       "<matplotlib.legend.Legend at 0x1d78bb28748>"
      ]
     },
     "execution_count": 5,
     "metadata": {},
     "output_type": "execute_result"
    },
    {
     "data": {
      "image/png": "[encoded data removed]",
      "text/plain": [
       "<Figure size 432x288 with 1 Axes>"
      ]
     },
     "metadata": {
      "needs_background": "light"
     },
     "output_type": "display_data"
    }
   ],
   "source": [
    "plt.plot(X_train,Y_train,'ko')\n",
    "plt.fill_between(X.reshape((X.shape[0],)),mu_s-stdev,mu_s+stdev,alpha=0.25)\n",
    "plt.plot(X,mu_s,'k')\n",
    "\n",
    "plt.plot(X,samples[0,:],'r')\n",
    "plt.plot(X,samples[1,:],'b')\n",
    "plt.plot(X,samples[2,:],'g')\n",
    "plt.legend(('Control points','Mean','Sample - 1','Sample - 2','Sample - 3','One standard deviation bounds',))\n"
   ]
  },
  {
   "cell_type": "markdown",
   "metadata": {},
   "source": [
    "### Prediction from noisy training data\n",
    "\n",
    "If some noise is included in the model, training points are only approximated and the variance at the training points is non-zero."
   ]
  },
  {
   "cell_type": "code",
   "execution_count": null,
   "metadata": {},
   "outputs": [],
   "source": [
    "noise = 0.4\n",
    "\n",
    "# Noisy training data\n",
    "X_train = np.arange(-3, 4, 1).reshape(-1, 1)\n",
    "Y_train = np.sin(X_train) + noise * np.random.randn(*X_train.shape)\n",
    "\n",
    "# Compute mean and covariance of the posterior predictive distribution\n",
    "mu_s, cov_s = posterior_predictive(X, X_train, Y_train, sigma_y=noise)\n",
    "samples = np.random.multivariate_normal(mu_s.ravel(), cov_s, 3)\n",
    "stdev=np.diag(cov_s)\n",
    "mu_s=mu_s.reshape((mu_s.shape[0],))"
   ]
  },
  {
   "cell_type": "code",
   "execution_count": null,
   "metadata": {},
   "outputs": [],
   "source": [
    "plt.plot(X_train,Y_train,'ko')\n",
    "plt.fill_between(X.reshape((X.shape[0],)),mu_s-stdev,mu_s+stdev,alpha=0.25)\n",
    "plt.plot(X,mu_s,'k')\n",
    "\n",
    "plt.plot(X,samples[0,:],'r')\n",
    "plt.plot(X,samples[1,:],'b')\n",
    "plt.plot(X,samples[2,:],'g')\n",
    "plt.legend(('Control points','Mean','Sample - 1','Sample - 2','Sample - 3','One standard deviation bounds',))"
   ]
  },
  {
   "cell_type": "markdown",
   "metadata": {},
   "source": [
    "### Effect of kernel parameters and noise parameter\n",
    "\n",
    "The following example shows the effect of kernel parameters $l$ and $\\sigma_f$ as well as the noise parameter $\\sigma_y$. Higher $l$ values lead to smoother functions and therefore to coarser approximations of the training data. Lower $l$ values make functions more wiggly with wide confidence intervals between training data points. $\\sigma_f$ controls the vertical variation of functions drawn from the GP. This can be seen by the wide confidence intervals outside the training data region in the right figure of the second row. $\\sigma_y$ represents the amount of noise in the training data. Higher $\\sigma_y$ values make more coarse approximations which avoids overfitting to noisy data."
   ]
  },
  {
   "cell_type": "code",
   "execution_count": null,
   "metadata": {},
   "outputs": [],
   "source": [
    "import matplotlib.pyplot as plt\n",
    "\n",
    "params = [\n",
    "    (0.3, 1.0, 0.2),\n",
    "    (3.0, 1.0, 0.2),\n",
    "    (1.0, 0.3, 0.2),\n",
    "    (1.0, 3.0, 0.2),\n",
    "    (1.0, 1.0, 0.05),\n",
    "    (1.0, 1.0, 1.5),\n",
    "]\n",
    "\n",
    "plt.figure(figsize=(20, 8))\n",
    "\n",
    "for i, (l, sigma_f, sigma_y) in enumerate(params):\n",
    "    mu_s, cov_s = posterior_predictive(X, X_train, Y_train, l=l, \n",
    "                                       sigma_f=sigma_f, \n",
    "                                       sigma_y=sigma_y)\n",
    "    stdev=np.diag(cov_s)\n",
    "    mu_s=mu_s.reshape((mu_s.shape[0],))\n",
    "    plt.subplot(3, 2, i + 1)\n",
    "    plt.subplots_adjust(top=2)\n",
    "    plt.title(f'l = {l}, sigma_f = {sigma_f}, sigma_y = {sigma_y}')\n",
    "    plt.plot(X_train,Y_train,'ko')\n",
    "    plt.fill_between(X.reshape((X.shape[0],)),mu_s-3*stdev,mu_s+3*stdev,alpha=0.25)\n",
    "    plt.plot(X,mu_s,'k')\n",
    "\n",
    "    plt.plot(X,samples[0,:],'r')\n",
    "    plt.plot(X,samples[1,:],'b')\n",
    "    plt.plot(X,samples[2,:],'g')\n",
    "    plt.legend(('Control points','Mean','Sample - 1','Sample - 2','Sample - 3','One standard deviation bounds',))"
   ]
  },
  {
   "cell_type": "markdown",
   "metadata": {},
   "source": [
    "## Bayesian estimation of GP parameters\n",
    "* Once the kernel function that generates the entries of the covariance matrix is chosen, the estimation of the hyper-parameters within it need to be determined. We will denote the set of hyper-paramaters as $\\Theta = \\{\\mu,\\sigma^2,\\beta_k|_{i=1}^p\\}$ or just $\\Theta = \\{\\sigma_f^2,l\\}$\n",
    "* For that purpose, we will calculate the posterior distribution of the hyper-parameters for the given data points by marginalizing the log-likelihood w.r.t the prior assumptions we have about the hyperparameters. The above statement can be expressed mathematically as\n",
    "\\begin{align}\n",
    "p(\\Theta|\\mathbf{y}) = \\int p(\\mathbf{y}|\\mathbf{X},\\Theta)p(\\Theta)d\\Theta\n",
    "\\end{align}\n",
    "* The conjugate-prior for sampling the GP posterior distribution for the hyperparameters is usually taken as $inv-\\Gamma$ or  inverse-Gamma distribution. This represents the GP generative process in a full Bayesian setup\n",
    "* However, the analytical integral is typically intractable, therefore in a full-Bayesian formulation, one must resort to MCMC samplers to estimate the posterior PDFs of the hyperparameters. \n",
    "\n",
    "## MLE estimation\n",
    "* In most cases, the hyperparameters do not have strong priors (or equivalently, $p(\\Theta) \\propto 1$), therefore estimating the posterior of the hyperparameters is the same as maximizing the $p(\\mathbf{y}|\\mathbf{X},\\Theta)$, which is also called the likelihood function. \n",
    "* The Maximum Likelihood Estimate (MLE) is obtained by maximizing the following function\n",
    "\n",
    "\\begin{align}\n",
    "\\log{p(\\mathbf{y})}=\\dfrac{n}{2}\\log{(\\pi)} -1/2\\log{|K|} - \\dfrac{(\\mathbf{y}-\\mu\\mathbf{1})^TK^{-1}(\\mathbf{y}-\\mu\\mathbf{1})}{2}\n",
    "\\end{align}\n",
    "\n",
    "* Or equivalently, minimizing the following function,\n",
    "\\begin{align}\n",
    "\\mathcal{L} = -2\\log{p(\\mathbf{y})}=\\log{|K|} + (\\mathbf{y}-\\mu\\mathbf{1})^TK^{-1}(\\mathbf{y}-\\mu\\mathbf{1})\n",
    "\\end{align}"
   ]
  },
  {
   "cell_type": "code",
   "execution_count": null,
   "metadata": {},
   "outputs": [],
   "source": [
    "from numpy.linalg import cholesky, det, lstsq\n",
    "from scipy.optimize import minimize\n",
    "X_train = np.arange(-3, 4, 1).reshape(-1, 1)\n",
    "Y_train = np.sin(X_train) \n",
    "noise=1e-2\n",
    "\n",
    "def nll_fn(X_train, Y_train, noise, naive=True):\n",
    "    '''\n",
    "    Returns a function that computes the negative marginal log-\n",
    "    likelihood for training data X_train and Y_train and given \n",
    "    noise level.\n",
    "    \n",
    "    Args:\n",
    "        X_train: training locations (m x d).\n",
    "        Y_train: training targets (m x 1).\n",
    "        noise: known noise level of Y_train.\n",
    "        naive: if True use a naive implementation of Eq. (7), if \n",
    "               False use a numerically more stable implementation. \n",
    "        \n",
    "    Returns:\n",
    "        Minimization objective.\n",
    "    '''\n",
    "    def nll_naive(theta):\n",
    "        # Naive implementation of Eq. (7). Works well for the examples \n",
    "        # in this article but is numerically less stable compared to \n",
    "        # the implementation in nll_stable below.\n",
    "        K = kernel(X_train, X_train, l=theta[0], sigma_f=theta[1]) + \\\n",
    "            noise**2 * np.eye(len(X_train))\n",
    "        return 0.5 * np.log(det(K)) + \\\n",
    "               0.5 * Y_train.T.dot(inv(K).dot(Y_train)) + \\\n",
    "               0.5 * len(X_train) * np.log(2*np.pi)\n",
    "\n",
    "    def nll_stable(theta):\n",
    "        # Numerically more stable implementation of Eq. (7) as described\n",
    "        # in http://www.gaussianprocess.org/gpml/chapters/RW2.pdf, Section\n",
    "        # 2.2, Algorithm 2.1.\n",
    "        K = kernel(X_train, X_train, l=theta[0], sigma_f=theta[1]) + \\\n",
    "            noise**2 * np.eye(len(X_train))\n",
    "        L = cholesky(K)\n",
    "        return np.sum(np.log(np.diagonal(L))) + \\\n",
    "               0.5 * Y_train.T.dot(lstsq(L.T, lstsq(L, Y_train)[0])[0]) + \\\n",
    "               0.5 * len(X_train) * np.log(2*np.pi)\n",
    "    \n",
    "    if naive:\n",
    "        return nll_naive\n",
    "    else:\n",
    "        return nll_stable\n",
    "\n",
    "# Minimize the negative log-likelihood w.r.t. parameters l and sigma_f.\n",
    "# We should actually run the minimization several times with different\n",
    "# initializations to avoid local minima but this is skipped here for\n",
    "# simplicity.\n",
    "res = minimize(nll_fn(X_train, Y_train, noise), [1, 1], \n",
    "               bounds=((1e-5, None), (1e-5, None)),\n",
    "               method='L-BFGS-B')\n",
    "\n",
    "# Store the optimization results in global variables so that we can\n",
    "# compare it later with the results from other implementations.\n",
    "l_opt, sigma_f_opt = res.x\n",
    "l_opt, sigma_f_opt\n",
    "\n",
    "# Compute the prosterior predictive statistics with optimized kernel parameters and plot the results\n",
    "mu_s, cov_s = posterior_predictive(X, X_train, Y_train, l=l_opt, sigma_f=sigma_f_opt, sigma_y=noise)"
   ]
  },
  {
   "cell_type": "code",
   "execution_count": null,
   "metadata": {},
   "outputs": [],
   "source": [
    "samples = np.random.multivariate_normal(mu_s.ravel(), cov_s, 3)\n",
    "stdev=np.diag(cov_s)\n",
    "mu_s=mu_s.reshape((mu_s.shape[0],))\n",
    "plt.plot(X_train,Y_train,'ko')\n",
    "plt.fill_between(X.reshape((X.shape[0],)),mu_s-3*stdev,mu_s+3*stdev,alpha=0.25)\n",
    "plt.plot(X,mu_s,'k')\n",
    "\n",
    "plt.plot(X,samples[0,:],'r')\n",
    "plt.plot(X,samples[1,:],'b')\n",
    "plt.plot(X,samples[2,:],'g')\n",
    "plt.legend(('Control points','Mean','Sample - 1','Sample - 2','Sample - 3','One standard deviation bounds',))"
   ]
  },
  {
   "cell_type": "markdown",
   "metadata": {},
   "source": [
    "* For the ARD kernel, the entries in the covariance matrix is defined as follows:\n",
    "\\begin{align}\n",
    "K(i,j)=\\sigma^2\\exp(-\\sum_{k=1}^p \\beta_k (X^i_k-X^j_k)^2) = \\sigma^2 R(i,j)\n",
    "\\end{align}\n",
    "\n",
    "* The MLE estimate of the mean for a constant mean GP is calculated by setting $\\dfrac{\\partial \\mathcal{L}}{\\partial \\mu}=0$\n",
    "\\begin{align}\n",
    "\\hat{\\mu} = \\dfrac{\\mathbf{1}^TR^{-1}\\mathbf{y}}{\\mathbf{1}^TR^{-1}\\mathbf{1}}\n",
    "\\end{align}\n",
    "\n",
    "* The MLE estimate of the precision for a constant mean GP is calculated by setting $\\dfrac{\\partial \\mathcal{L}}{\\partial \\sigma^2}=0$ and using the mean value from the previous equation\n",
    "\\begin{align}\n",
    "\\hat{\\sigma^2} = \\dfrac{1}{n}( (\\mathbf{y}-\\mu\\mathbf{1})^TR^{-1}(\\mathbf{y}-\\mu\\mathbf{1}))\n",
    "\\end{align}\n",
    "\n",
    "* The negative Log-likelihood can therefore be equivalently expressed (after ignoring the constant terms) as\n",
    "\\begin{align}\n",
    "\\mathcal{L}=n\\log{\\hat{\\sigma^2}}+\\log{|R|} + \\dfrac{(\\mathbf{y}-\\mu\\mathbf{1})^TR^{-1}(\\mathbf{y}-\\mu\\mathbf{1})}{\\hat{\\sigma^2}}\n",
    "\\end{align}\n",
    "* Using the MLE of $\\sigma^2=\\hat{\\sigma^2}$, we can see that the  last  term  also  becomes  $\\it{constant}$. Note that in the above two equations, the MLE estimates are $\\it{functions}$ of the correlation parameters $\\beta_k|_{i=1}^p$. Therefore, the optimization procedure needs to be done with only the correlation parameters. "
   ]
  },
  {
   "cell_type": "markdown",
   "metadata": {},
   "source": [
    "### CODE REQUIREMENTS\n",
    "The code requires the following packages to be installed (all of which can be done from *pip* as well as the official conda-forge channel)\n",
    "1. pymc3\n",
    "2. theano\n",
    "3. libpython (note that if you're running from linux, you *probably* don't need this - theano data-structures (so-called tensors) are only compatible with 32-bit GNU C++ and not MinGW-64/CYGWin-x86-64 architectures . To use native python C++-BLAS libraries instead, we install libpython. It is *slightly* slower than bare-bones C++ implementation\n",
    "4. GPy\n",
    "5. pandas - already available from conda installation, if you're using conda"
   ]
  },
  {
   "cell_type": "code",
   "execution_count": null,
   "metadata": {},
   "outputs": [],
   "source": [
    "import numpy as np\n",
    "from scipy import optimize\n",
    "import matplotlib.pyplot as plt\n",
    "import math\n"
   ]
  },
  {
   "cell_type": "markdown",
   "metadata": {},
   "source": [
    "## Creating a class object that can perform GP regression\n",
    "* The class object is called \"GProcess\" and it doesn't have an init module so variable assignment within the object must be done after instantiation\n",
    "* The $1^{st}$ module (\"set_training_data\") requries inputs: $\\mathbf{X}$, $\\mathbf{y}$, and optionally, initial values of the correlation parameters. Note that this can handle both univariate as well as multi-variate regression\n",
    "* The $2^{nd}$ module (\"get_dist_matrix\") is the ARD_SE/anisotropic rbf-basis generator for the input matrix $\\mathbf{X}$. It can optionally also calculate a generally non-symmetric rbf-basis *between* two matrices (say train and test) through optional argument $\\mathbf{X_2}$ (default $\\mathbb{None}$)\n",
    "* The $3^{rd}$ module (\"log_likelihood\") calculates the negative log likelihood in order to be supplied to *scipy.optimize.minimize*. The expression doesn't consider the constant terms\n",
    "* The $4^{th}$ module calculates the gradient of the log-likelihood function w.r.t $\\Theta=\\{\\beta_k,\\mu,\\sigma^2\\}$\n",
    "* The $5^{th}$ (\"optimizer_GP\")module optimizes the hyperparameters $\\beta_k|_{i=1}^p$ and subsequently calculates $\\hat{\\mu}\\, and\\, \\hat{\\sigma^2}$ and stores them as object *self* variables. \n",
    "* The $6^{th}$ (\"optimized_GP\")module assigns the object variables to values obtained when evaluated *at* the optimal hyperparameter values. Specifically, it assigns the rbf-basis matrix  and objective minimum of marginal log-likelihood\n",
    "* The $7^{th}$ (\"predict_GP\") module is for predicting responses for test-set data points"
   ]
  },
  {
   "cell_type": "code",
   "execution_count": null,
   "metadata": {},
   "outputs": [],
   "source": [
    "import sys\n",
    "sys.version\n"
   ]
  },
  {
   "cell_type": "code",
   "execution_count": null,
   "metadata": {},
   "outputs": [],
   "source": [
    "# In[18]:\n",
    "class GProcess():\n",
    "    X=[]\n",
    "    y=[]\n",
    "    n=[]\n",
    "    mu=[]\n",
    "    sigma2=[]\n",
    "    beta=[]\n",
    "    Rmat=[]\n",
    "    Rinv=[]\n",
    "    dev=[]\n",
    "    model=[]\n",
    "    logl=[]\n",
    "    nfeat=[]\n",
    "    nugget=[]\n",
    "    mahalanobis=[]\n",
    "    def set_training_data(self,X,y,beta_i=None,nugget=None):\n",
    "        if(X.ndim==2):\n",
    "            self.X=np.copy(X)\n",
    "            pass\n",
    "        else:\n",
    "            self.X=np.zeros((len(X),1))\n",
    "            self.X[:,0]=X        \n",
    "        self.y=y.reshape((len(y),1))\n",
    "        self.n=self.X.shape[0]\n",
    "        self.nfeat=self.X.shape[1]\n",
    "        if(beta_i is None):\n",
    "            self.beta=np.ones((self.nfeat,))*1.0\n",
    "        else:\n",
    "            self.beta=beta_i\n",
    "        #Initial values of mu and sigma2\n",
    "        self.mu=np.average(y)\n",
    "        self.sigma2=(np.std(y))**2\n",
    "        #Nuggets stabilize the cholesky-decomposition of the \"rmat\" matrix requried for inverse calculation\n",
    "        self.nugget=nugget or 1e-10\n",
    "    def get_dist_matrix(self,X,beta,X2=None,return_dmat=False):\n",
    "        if(X2 is None):\n",
    "            X2=np.copy(X)\n",
    "        rmat=np.zeros((X.shape[0],X2.shape[0]))\n",
    "        dmat=np.zeros((X.shape[0],X2.shape[0]))\n",
    "        \n",
    "        for i in range(X.shape[0]):\n",
    "            for j in range(X2.shape[0]):\n",
    "                if(hasattr(beta, \"__len__\")):#Checking if it is univariate or multivariate regression\n",
    "                    for k in range(len(beta)):\n",
    "                        rmat[i,j]=rmat[i,j]-beta[k]*(X[i,k]-X2[j,k])**2\n",
    "                        dmat[i,j]=dmat[i,j]+(X[i,k]-X2[j,k])**2\n",
    "                else:\n",
    "                    rmat[i,j]=rmat[i,j]-beta*(X[i]-X2[j])**2\n",
    "                    dmat[i,j]=dmat[i,j]+(X[i]-X2[j])**2\n",
    "        rmat=np.exp(rmat)\n",
    "        if(return_dmat):\n",
    "            return(rmat,dmat)\n",
    "        else:\n",
    "            return(rmat)\n",
    "    def log_likelihood(self,beta):\n",
    "        lenb=len(beta)\n",
    "        onen=np.ones((self.n,1))\n",
    "        rmat=self.get_dist_matrix(self.X,beta)\n",
    "        rinv=np.linalg.inv(rmat+self.nugget*np.eye(self.n))\n",
    "        rinv=1/2*(rinv+rinv.T)\n",
    "        det_rmat=abs(np.linalg.det(rmat+self.nugget*np.eye(self.n)))\n",
    "        mu=(np.dot(np.matmul(onen.T,rinv),self.y))/(np.dot(np.matmul(onen.T,rinv),onen))\n",
    "        dev=self.y-mu*onen\n",
    "        sigma2=1/self.n*(np.dot(np.matmul(dev.T,rinv),dev))\n",
    "        logl=self.n*np.log(abs(sigma2))+np.log(det_rmat)\n",
    "        return(logl)\n",
    "    def log_likelihood_grad(self,beta):\n",
    "        lenb=len(beta)\n",
    "        onen=np.ones((self.n,1))\n",
    "        rmat=self.get_dist_matrix(self.X,beta)\n",
    "        rinv=np.linalg.inv(rmat+self.nugget*np.eye(self.n))\n",
    "        rinv=1/2*(rinv+rinv.T)\n",
    "        onen=np.ones((self.n,1))\n",
    "        mu=(np.dot(np.matmul(onen.T,rinv),self.y))/(np.dot(np.matmul(onen.T,rinv),onen))\n",
    "        dev=self.y-mu*onen\n",
    "        sigma2=1/self.n*(np.dot(np.matmul(dev.T,rinv),dev))\n",
    "        Mvec=np.matmul(rinv,dev)    \n",
    "        \n",
    "        grad_logl=np.zeros((lenb,))\n",
    "        for k in range(lenb):\n",
    "            rmat_k,dmat_k=self.get_dist_matrix(self.X[:,k],beta[k], return_dmat=True)\n",
    "            KDmat=np.multiply(rmat,dmat_k)\n",
    "            gbk1=-np.trace(np.matmul(rinv,KDmat))\n",
    "            gbk2=1/sigma2*np.dot(np.matmul(Mvec.T,KDmat),Mvec)\n",
    "            grad_logl[k]=gbk1+gbk2\n",
    "        return grad_logl\n",
    "        \n",
    "    def optimize_GP(self,n_restarts=6):\n",
    "        func0=self.log_likelihood\n",
    "        grad0=self.log_likelihood_grad\n",
    "        optvar=np.zeros((self.nfeat,))#nfeat for correlation parameters,1 for precision,1 for mean\n",
    "        bounds=[]\n",
    "        for ii in range(self.nfeat):\n",
    "            bounds.append((1e-8,1e8))\n",
    "\n",
    "        bounds=tuple(bounds)#The minimize function requires bounds in the form of a tuple\n",
    "        print(bounds)#TO check the bounds: mu can be anything, sigma2>0 and beta[:]>0\n",
    "        \n",
    "        print(\"optimization run starting - Initial beta:%s\"%(self.beta))\n",
    "        res_points=np.arange(-n_restarts//2+1,n_restarts//2+1)\n",
    "        logl=np.zeros(n_restarts)\n",
    "        beta=np.zeros((n_restarts,self.nfeat))\n",
    "        indx=[]\n",
    "        for i in range(n_restarts):\n",
    "            count=0\n",
    "            optvar=self.beta*(10.0**(res_points[i]))\n",
    "            #'jac' option can be toggled with grad0 or None if you wanna try out using inbuilt numerical jacobian\n",
    "            optObj=optimize.minimize(func0,optvar,method='L-BFGS-B',bounds=bounds ,jac=grad0,\\\n",
    "                                 options={'disp': None, 'maxcor': 25, 'ftol': 2.220446049250313e-06, \\\n",
    "                                          'gtol': 1e-03, 'eps': 1e-06, 'maxfun': 50, 'maxiter': 50,\\\n",
    "                                          'iprint': -1, 'maxls': 40})\n",
    "            \n",
    "            logl[i]=optObj.fun\n",
    "            beta[i,:]=optObj.x\n",
    "            if(math.isinf(logl[i])):\n",
    "                pass\n",
    "            else:\n",
    "                indx.append(i)\n",
    "            \n",
    "            print(optObj.message)\n",
    "            print(optObj.success)\n",
    "        logl=logl[indx]\n",
    "        beta=beta[indx,:]\n",
    "            \n",
    "        self.beta=np.copy(beta[np.argmin(logl),:])\n",
    "        print(\"optimization run ended - Optimized value of beta:%s\"%(self.beta))\n",
    "        self.optimized_GP()\n",
    "    def optimized_GP(self):\n",
    "        self.Rmat=self.get_dist_matrix(self.X,self.beta)\n",
    "        self.Rinv=np.linalg.inv(self.Rmat+self.nugget*np.eye(self.n))\n",
    "        self.Rinv=1/2*(self.Rinv+self.Rinv.T)\n",
    "        onen=np.ones((self.n,1))\n",
    "        self.mu=(np.dot(np.matmul(onen.T,self.Rinv),self.y))/(np.dot(np.matmul(onen.T,self.Rinv),onen))\n",
    "        self.dev=self.y-self.mu*onen\n",
    "        self.sigma2=1/self.n*(np.dot(np.matmul(self.dev.T,self.Rinv),self.dev))\n",
    "        self.model=np.matmul(self.Rinv,self.dev)\n",
    "        self.mahalanobis=np.dot(np.matmul(self.dev.T,self.sigma2*self.Rinv),self.dev)\n",
    "        self.logl=self.n*np.log(abs(self.sigma2))+ np.log(abs(np.linalg.det(self.Rmat+self.nugget*np.eye(self.n))))\n",
    "    def predict_GP(self,Xt0,return_std=False):\n",
    "        if(Xt0.ndim==2):\n",
    "            Xt=np.copy(Xt0)\n",
    "            pass\n",
    "        else:\n",
    "            Xt=Xt0.reshape((len(Xt0),1))\n",
    "        rxt=self.get_dist_matrix(Xt,self.beta,self.X)\n",
    "        onen=np.ones((self.n,1))\n",
    "        meanxt=np.zeros((Xt.shape[0],1))\n",
    "        varxt=np.zeros((Xt.shape[0],1))\n",
    "        for i in range(Xt.shape[0]):\n",
    "            rxi=rxt[i,:].T\n",
    "            meanxt[i]=(self.mu+np.matmul(rxi.T,self.model))\n",
    "            varxt[i]=self.sigma2*(1-np.dot(np.matmul(rxi.T,self.Rinv),rxi))#+ \\\n",
    "        if(return_std):\n",
    "            return meanxt,varxt\n",
    "        else:\n",
    "            return meanxt\n",
    "\n"
   ]
  },
  {
   "cell_type": "markdown",
   "metadata": {},
   "source": [
    "## Testing out the GP process for multivariate regression with Franke's function\n",
    "\n",
    "* The Franke's function is a standard performance benchmark for 2-d surrogate models. It is given as \n",
    "\\begin{align}\n",
    "f(\\mathbf{x})=\\dfrac{3}{4}\\exp{(-\\dfrac{1}{4}(9x_1-2)^2-\\dfrac{1}{4}(9x_2-2)^2)}+\\\\ \\dfrac{3}{4}\\exp{(-\\dfrac{1}{49}(9x_1+1)^2-\\dfrac{1}{10}(9x_2+1)^2)}+\\\\ \\dfrac{1}{2}\\exp{(-\\dfrac{1}{4}(9x_1-7)^2-\\dfrac{1}{4}(9x_2-3)^2)}-   \\\\        \\dfrac{1}{5}\\exp{(-\\dfrac{1}{4}(9x_1-4)^2-\\dfrac{1}{4}(9x_2-7)^2)}\n",
    "\\end{align}\n",
    "\n",
    "* The training set is a random 2-D matrix from $(0,1) \\times (0,1)$. The output is calibrated using the following variables: $\\{\\beta_1,\\beta_2,\\mu,\\sigma^2\\}$. \n",
    "* The training and test results are shown below:"
   ]
  },
  {
   "cell_type": "code",
   "execution_count": null,
   "metadata": {},
   "outputs": [],
   "source": [
    "def testfuncgp():\n",
    "    sin=np.sin\n",
    "    cos=np.cos\n",
    "\n",
    "    def f(X):\n",
    "        out=[]\n",
    "        X=list(X)\n",
    "        for x in X:\n",
    "            out.append((sin(30*(x-0.9)**4))*cos(2*(x-0.9))+(x-0.9)/2)\n",
    "        out=np.array(out).reshape((len(out),1))\n",
    "        return(out)\n",
    "    def f2d(X):\n",
    "        out=np.zeros(X.shape[0],)\n",
    "        for i in range(X.shape[0]):\n",
    "            x1=X[i,0]\n",
    "            x2=X[i,1]\n",
    "            out[i]=3/4*np.exp(-1/4*(9*x1-2)**2-1/4*(9*x2-2)**2)+3/4*np.exp(-1/49*(9*x1+1)**2-1/10*(9*x2+1)**2)+\\\n",
    "            2/4*np.exp(-1/4*(9*x1-7)**2-1/4*(9*x2-3)**2)-1/5*np.exp(-1/1*(9*x1-4)**2-1/1*(9*x2-7)**2)\n",
    "        return(out)\n",
    "    return(f2d)\n",
    "    \n"
   ]
  },
  {
   "cell_type": "code",
   "execution_count": null,
   "metadata": {},
   "outputs": [],
   "source": [
    "gen_data=testfuncgp()\n",
    "np.random.seed(4567)\n",
    "from pyDOE import *\n",
    "X=lhs(n=2,samples=100,criterion='corr')\n",
    "X.shape\n",
    "\n"
   ]
  },
  {
   "cell_type": "code",
   "execution_count": null,
   "metadata": {},
   "outputs": [],
   "source": [
    "y=gen_data(X)"
   ]
  },
  {
   "cell_type": "code",
   "execution_count": null,
   "metadata": {},
   "outputs": [],
   "source": [
    "gp=GProcess()\n",
    "gp.set_training_data(X=X,y=y,nugget=1e-6)"
   ]
  },
  {
   "cell_type": "code",
   "execution_count": null,
   "metadata": {},
   "outputs": [],
   "source": [
    "gp.optimize_GP()\n",
    "gp.logl"
   ]
  },
  {
   "cell_type": "markdown",
   "metadata": {},
   "source": [
    "## Optimized GP hyperparameters\n",
    "* The correlation parameters $\\beta_1,\\beta_2$, the mean $\\hat{\\mu}$ and precision $\\sigma_2$ are shown below. \n",
    "* A higher $\\sigma^2$ indicates that the uncertainty predictions are higher ( generally)\n",
    "* The correlation parameters indicate the first feature is more important than the second one"
   ]
  },
  {
   "cell_type": "code",
   "execution_count": null,
   "metadata": {},
   "outputs": [],
   "source": [
    "print(\"Correlation parameters:\")\n",
    "print(gp.beta)\n",
    "print(\"\\n\")\n",
    "\n",
    "print(\"Mean:\")\n",
    "print(gp.mu)\n",
    "print(\"\\n\")\n",
    "\n",
    "print(\"Precision:\")\n",
    "print(gp.sigma2)\n",
    "print(\"\\n\")\n",
    "\n",
    "#print(gp1.beta)\n",
    "\n"
   ]
  },
  {
   "cell_type": "markdown",
   "metadata": {},
   "source": [
    "## GP predictive response\n",
    "* A contour plot is generated for a 2-D region: $(0,1) \\times (0,1)$. Apart from some outlier points in the corners of this region, we can see that the GP predicts the Franke's function benchmark pretty well"
   ]
  },
  {
   "cell_type": "code",
   "execution_count": null,
   "metadata": {
    "scrolled": true
   },
   "outputs": [],
   "source": [
    "from mpl_toolkits.axes_grid1 import ImageGrid\n",
    "Xt=np.column_stack([np.linspace(0,1,50).T,np.linspace(0,1,50).T])\n",
    "x1t,x2t=np.meshgrid(Xt[:,0],Xt[:,1])\n",
    "y_2dt=np.zeros((Xt.shape[0],Xt.shape[0]))\n",
    "for i in range(Xt.shape[0]):\n",
    "    for j in range(Xt.shape[0]):\n",
    "        y_2dt[i,j]=gen_data(np.array([x1t[i,j],x2t[i,j]]).reshape((1,2)))\n",
    "\n",
    "x1t,x2t=np.meshgrid(Xt[:,0],Xt[:,1])\n",
    "y_2dp=np.zeros((Xt.shape[0],Xt.shape[0]))\n",
    "y_2ds=np.zeros((Xt.shape[0],Xt.shape[0]))\n",
    "\n",
    "for i in range(Xt.shape[0]):\n",
    "    for j in range(Xt.shape[0]):\n",
    "        y_2dp[i,j],y_2ds[i,j]=gp.predict_GP(np.array([x1t[i,j],x2t[i,j]]).reshape((1,2)),return_std=True)       \n",
    "\n",
    "\n",
    "fig, ((ax1,ax2)) = plt.subplots(1,2,figsize=(20,5))\n",
    "\n",
    "axlist = [ax1,ax2]\n",
    "ax1.set_title('Ground truth')\n",
    "ax2.set_title('GP prediction')\n",
    "\n",
    "\n",
    "fig1 = ax1.contourf(x1t,x2t,y_2dt, vmin=-0.2, vmax=1.2)\n",
    "fig2 = ax2.contourf(x1t,x2t,y_2dp, vmin=-0.2, vmax=1.2)\n",
    "\n",
    "\n",
    "fig.colorbar(fig1, ax=axlist)\n",
    "plt.scatter(X[:,0],X[:,1],color='k')\n",
    "#plt.tight_layout()    # Works, but may still require rect paramater to keep colorbar labels visible\n",
    "plt.show()"
   ]
  },
  {
   "cell_type": "markdown",
   "metadata": {},
   "source": [
    "### USING GPy TO CALIBRATE THE FRANKE'S FUNCTION MODEL:\n",
    "* The code GPy is maintained by Sheffield University and is available from conda-forge\n",
    "* The structure of GPy is very similar to the GP seen above; you can choose a kernel from a SE,ARD-SE,Matern32,Matern52,WhiteNoise or any mixture (sum/product) of the above.\n",
    "* Note that this package considers length-scales instead of correlation parameters. The kernels are of the form\n",
    "\\begin{align}\n",
    "K(x_i,x_j) = \\exp(-\\dfrac{1}{2}\\sum_{k=1}^p(\\dfrac{x_{ik}-x_{jk}}{l_k})^2)\n",
    "\\end{align}\n",
    "* You need to provide the *input_dims*, initial value of the GP precision (called \"variance\" in this package) and a flag ARD to indicate if you want individual  \n",
    "* You can then setup the training data and optimize the GP; allowing the GPy module to show you the optimization steps will help you visualize the convergence"
   ]
  },
  {
   "cell_type": "code",
   "execution_count": null,
   "metadata": {},
   "outputs": [],
   "source": [
    "import GPy\n",
    "kernfranke=GPy.kern.RBF(input_dim=2,ARD=True)\n",
    "gpf=GPy.models.GPRegression(X,y.reshape((len(y),1)),kernfranke)#Requires 2-D arrays for outputs as well;\n",
    "#allows it to handle multiple-output GP regression\n",
    "display(gpf)"
   ]
  },
  {
   "cell_type": "code",
   "execution_count": null,
   "metadata": {},
   "outputs": [],
   "source": [
    "gpf.optimize(messages=True)"
   ]
  },
  {
   "cell_type": "markdown",
   "metadata": {},
   "source": [
    "* From the above display, it is clear that the optimizer has converged within 30 seconds with an objective function value of -238.4 and gradient of 1.14E-08. We can check the RHS table to see the variance of the GP as well as the noise term added for stabilization.\n",
    "* The lengthscale parameters can be visualized as\n",
    "\n"
   ]
  },
  {
   "cell_type": "code",
   "execution_count": null,
   "metadata": {},
   "outputs": [],
   "source": [
    "gpf.kern.lengthscale"
   ]
  },
  {
   "cell_type": "markdown",
   "metadata": {},
   "source": [
    "### VALIDATING THE GPy MODEL WITH FRANKE'S FUNCTION"
   ]
  },
  {
   "cell_type": "code",
   "execution_count": null,
   "metadata": {},
   "outputs": [],
   "source": [
    "y_2dpf=np.zeros((Xt.shape[0],Xt.shape[0]))\n",
    "y_2dsf=np.zeros((Xt.shape[0],Xt.shape[0]))\n",
    "\n",
    "for i in range(Xt.shape[0]):\n",
    "    for j in range(Xt.shape[0]):\n",
    "        y_2dpf[i,j],y_2dsf[i,j]=gpf.predict(np.array([x1t[i,j],x2t[i,j]]).reshape((1,2)))       \n",
    "\n",
    "\n",
    "fig, ((ax1,ax2)) = plt.subplots(1,2,figsize=(20,5))\n",
    "\n",
    "axlist = [ax1,ax2]\n",
    "ax1.set_title('Ground truth')\n",
    "ax2.set_title('GP prediction')\n",
    "\n",
    "\n",
    "fig1 = ax1.contourf(x1t,x2t,y_2dt, vmin=-0.2, vmax=1.2)\n",
    "fig2 = ax2.contourf(x1t,x2t,y_2dpf, vmin=-0.2, vmax=1.2)\n",
    "\n",
    "\n",
    "fig.colorbar(fig1, ax=axlist)\n",
    "plt.scatter(X[:,0],X[:,1],color='k')\n",
    "#plt.tight_layout()    # Works, but may still require rect paramater to keep colorbar labels visible\n",
    "plt.show()"
   ]
  },
  {
   "cell_type": "markdown",
   "metadata": {},
   "source": [
    "### Appendix - 1 Analytical Jacobian for the ARD-SE kernel\n",
    "* The usage of analytical Jacobian speeds up optimization significantly. The gradient of the Log-likelihood w.r.t $\\beta_k|_{i=1}^p$ is\n",
    "\n",
    "\\begin{align}\n",
    "\\dfrac{\\partial \\mathcal{L}}{\\partial \\beta_k}=\\frac{n}{\\hat{\\sigma^2}}\\dfrac{\\partial \\hat{\\sigma^2} }{\\partial \\beta_k}+\\dfrac{\\partial \\log{|R|}}{\\partial \\beta_k}\n",
    "\\end{align}\n",
    "\n",
    "* The first term is computed as\n",
    "\\begin{align}\n",
    "\\frac{n}{\\hat{\\sigma^2}} \\dfrac{\\partial \\hat{\\sigma^2} }{\\partial \\beta_k} = \\frac{n}{\\hat{\\sigma^2}} \\dfrac{\\partial (\\dfrac{1}{n}( (\\mathbf{y}-\\mu\\mathbf{1})^TR^{-1}(\\mathbf{y}-\\mu\\mathbf{1})))}{\\partial \\beta_k} =\\dfrac{1}{\\hat{\\sigma^2}} \\dfrac{\\partial }{\\partial \\beta_k}((\\mathbf{y}-\\mu\\mathbf{1})^TR^{-1}(\\mathbf{y}-\\mu\\mathbf{1}))=\\\\\n",
    "\\dfrac{1}{\\hat{\\sigma^2}}\\dfrac{\\partial }{\\partial \\beta_k}(\\mathbf{y}^TR^{-1}\\mathbf{y}-2\\mu\\mathbf{1}^TR^{-1}\\mathbf{y}+\\mu^2\\mathbf{1}^TR^{-1}\\mathbf{1})=\\\\\n",
    "\\dfrac{1}{\\hat{\\sigma^2}}\\dfrac{\\partial }{\\partial \\beta_k}(\\mathbf{y}^TR^{-1}\\mathbf{y}-\\dfrac{(\\mathbf{1}^TR^{-1}\\mathbf{y})^2}{\\mathbf{1}^TR^{-1}\\mathbf{1})})=\\\\\n",
    "\\dfrac{1}{\\hat{\\sigma^2}}(\\mathbf{y}^T\\dfrac{\\partial R^{-1}}{\\partial \\beta_k}\\mathbf{y} - \\dfrac{\\partial }{\\partial \\beta_k} (\\dfrac{(\\mathbf{1}^TR^{-1}\\mathbf{y})^2}{\\mathbf{1}^TR^{-1}\\mathbf{1})}))=\\\\\n",
    "\\dfrac{1}{\\hat{\\sigma^2}}(\\mathbf{y}-\\mu\\mathbf{1})^T \\dfrac{\\partial R^{-1}}{\\partial \\beta_k}(\\mathbf{y}-\\mu\\mathbf{1})\n",
    "\\end{align}\n",
    "* The term $\\dfrac{\\partial R^{-1}}{\\partial \\beta_k}$ in the above expression can be simplified into\n",
    "\n",
    "\\begin{align}\n",
    "\\dfrac{\\partial R^{-1}}{\\partial \\beta_k} = -R^{-1} \\dfrac{\\partial R}{\\partial \\beta_k} R^{-1}\n",
    "\\end{align}\n",
    "\n",
    "* The second term is computed as\n",
    "\\begin{align}\n",
    "\\dfrac{\\partial \\log{|R|}}{\\partial \\beta_k} = tr(R^{-1}\\dfrac{\\partial R}{\\partial \\beta_k})\n",
    "\\end{align}\n",
    "\n",
    "* For the ARD kernel, since $R(i,j) = \\exp(-\\sum_{k=1}^p \\beta_k (X^i_k-X^j_k)^2)$, we can estimate $\\dfrac{\\partial R}{\\partial \\beta_k}$ as \n",
    "\n",
    "\\begin{align}\n",
    "\\dfrac{\\partial R}{\\partial \\beta_k}_{,ij} = - R(i,j) (X^i_k-X^j_k)^2 =- R \\odot D_K^2 \n",
    "\\end{align}\n",
    "\n",
    "* The term $D_K^2$ is the distance matrix of *only* the k-th feature and the term $R \\odot D_K^2$ is called the $\\it{Hadamard}$ product (element-wise matrix multiplication) and is easily available in most matrix computation packages. For instance, in numpy it is *numpy.multiply*. Note that the Hadamard product is not associative\n",
    "* The overall gradient of the negative log-likelihood w.r.t the correlation parameters is therefore expressed as\n",
    "\\begin{align}\n",
    "\\dfrac{\\partial \\mathcal{L}}{\\partial \\beta_k}=-\\dfrac{1}{\\hat{\\sigma^2}}(\\mathbf{y}-\\mu\\mathbf{1})^T R^{-1}\\dfrac{\\partial R}{\\partial \\beta_k}R^{-1}(\\mathbf{y}-\\mu\\mathbf{1})+tr(R^{-1}\\dfrac{\\partial R}{\\partial \\beta_k})=\\\\\n",
    "\\dfrac{1}{\\hat{\\sigma^2}}(\\mathbf{y}-\\mu\\mathbf{1})^T R^{-1}( R \\odot D_K^2) R^{-1}(\\mathbf{y}-\\mu\\mathbf{1})-tr(R^{-1} (R \\odot D_K^2) )\n",
    "\\end{align}"
   ]
  }
 ],
 "metadata": {
  "kernelspec": {
   "display_name": "Python 3",
   "language": "python",
   "name": "python3"
  },
  "language_info": {
   "codemirror_mode": {
    "name": "ipython",
    "version": 3
   },
   "file_extension": ".py",
   "mimetype": "text/x-python",
   "name": "python",
   "nbconvert_exporter": "python",
   "pygments_lexer": "ipython3",
   "version": "3.7.6"
  },
  "widgets": {
   "application/vnd.jupyter.widget-state+json": {
    "state": {
     "00ba4b306a7b4a1f9aecf5739b6810c9": {
      "model_module": "@jupyter-widgets/base",
      "model_module_version": "1.2.0",
      "model_name": "LayoutModel",
      "state": {}
     },
     "0191ef584374454594e118e96f179528": {
      "model_module": "@jupyter-widgets/controls",
      "model_module_version": "1.5.0",
      "model_name": "BoxModel",
      "state": {
       "children": [
        "IPY_MODEL_ee5e25a947f04618855b32d301c1e488"
       ],
       "layout": "IPY_MODEL_b0ff2222c9e64fbb842624ef16fde3ed"
      }
     },
     "021cacc62b244a3791c7cf81979a7c44": {
      "model_module": "@jupyter-widgets/base",
      "model_module_version": "1.2.0",
      "model_name": "LayoutModel",
      "state": {}
     },
     "025b757f0480497995ba05374b08d97f": {
      "model_module": "@jupyter-widgets/controls",
      "model_module_version": "1.5.0",
      "model_name": "DescriptionStyleModel",
      "state": {
       "description_width": ""
      }
     },
     "0263fbdf09c24d99a762a9a852544f47": {
      "model_module": "@jupyter-widgets/controls",
      "model_module_version": "1.5.0",
      "model_name": "DescriptionStyleModel",
      "state": {
       "description_width": ""
      }
     },
     "02c58f462d8b402289876020a2551747": {
      "model_module": "@jupyter-widgets/controls",
      "model_module_version": "1.5.0",
      "model_name": "HTMLModel",
      "state": {
       "layout": "IPY_MODEL_269006bbf43443d5a4d53bca89463762",
       "style": "IPY_MODEL_7c3fab0b506a4be281483d3c48dff956",
       "value": "<style type=\"text/css\">\n    .tg-opt  {font-family:\"Courier New\", Courier, monospace !important;padding:2px 3px;word-break:normal;border-collapse:collapse;border-spacing:0;border-color:#DCDCDC;margin:0px auto;width:100%;}\n    .tg-opt td{font-family:\"Courier New\", Courier, monospace !important;font-weight:bold;color:#444;background-color:#F7FDFA;border-style:solid;border-width:1px;overflow:hidden;word-break:normal;border-color:#DCDCDC;}\n    .tg-opt th{font-family:\"Courier New\", Courier, monospace !important;font-weight:normal;color:#fff;background-color:#26ADE4;border-style:solid;border-width:1px;overflow:hidden;word-break:normal;border-color:#DCDCDC;}\n    .tg-opt .tg-left{font-family:\"Courier New\", Courier, monospace !important;font-weight:normal;text-align:left;}\n    .tg-opt .tg-right{font-family:\"Courier New\", Courier, monospace !important;font-weight:normal;text-align:right;}\n    </style>\n    <table class=\"tg-opt\"><tr><td class='tg-left'>optimizer</td><td class='tg-right'>L-BFGS-B (Scipy implementation)</td></tr><tr><td class='tg-left'>runtime</td><td class='tg-right'>00s30</td></tr><tr><td class='tg-left'>evaluation</td><td class='tg-right'>0048</td></tr><tr><td class='tg-left'>objective</td><td class='tg-right'>   9.188E+01</td></tr><tr><td class='tg-left'>||gradient||</td><td class='tg-right'>  +2.091E-07</td></tr><tr><td class='tg-left'>status</td><td class='tg-right'>Converged</td></tr></table>"
      }
     },
     "02d542a0ea8844c7b78fa691f4b32021": {
      "model_module": "@jupyter-widgets/base",
      "model_module_version": "1.2.0",
      "model_name": "LayoutModel",
      "state": {}
     },
     "03d151b88ce04021a507cb4b6d5d274e": {
      "model_module": "@jupyter-widgets/controls",
      "model_module_version": "1.5.0",
      "model_name": "HTMLModel",
      "state": {
       "layout": "IPY_MODEL_d6e421caebed4d3ca60318cd89299a17",
       "style": "IPY_MODEL_29a7b6b159b04943863a66af63dfce91",
       "value": "<style type=\"text/css\">\n    .tg-opt  {font-family:\"Courier New\", Courier, monospace !important;padding:2px 3px;word-break:normal;border-collapse:collapse;border-spacing:0;border-color:#DCDCDC;margin:0px auto;width:100%;}\n    .tg-opt td{font-family:\"Courier New\", Courier, monospace !important;font-weight:bold;color:#444;background-color:#F7FDFA;border-style:solid;border-width:1px;overflow:hidden;word-break:normal;border-color:#DCDCDC;}\n    .tg-opt th{font-family:\"Courier New\", Courier, monospace !important;font-weight:normal;color:#fff;background-color:#26ADE4;border-style:solid;border-width:1px;overflow:hidden;word-break:normal;border-color:#DCDCDC;}\n    .tg-opt .tg-left{font-family:\"Courier New\", Courier, monospace !important;font-weight:normal;text-align:left;}\n    .tg-opt .tg-right{font-family:\"Courier New\", Courier, monospace !important;font-weight:normal;text-align:right;}\n    </style>\n    <table class=\"tg-opt\"><tr><td class='tg-left'>optimizer</td><td class='tg-right'>L-BFGS-B (Scipy implementation)</td></tr><tr><td class='tg-left'>runtime</td><td class='tg-right'>00s31</td></tr><tr><td class='tg-left'>evaluation</td><td class='tg-right'>0048</td></tr><tr><td class='tg-left'>objective</td><td class='tg-right'>   9.281E+01</td></tr><tr><td class='tg-left'>||gradient||</td><td class='tg-right'>  +1.102E-07</td></tr><tr><td class='tg-left'>status</td><td class='tg-right'>Converged</td></tr></table>"
      }
     },
     "049e554b30a24d96b986eac1529e227c": {
      "model_module": "@jupyter-widgets/base",
      "model_module_version": "1.2.0",
      "model_name": "LayoutModel",
      "state": {}
     },
     "054b4bd7c13645cbbafc27eb4cd0a2d8": {
      "model_module": "@jupyter-widgets/controls",
      "model_module_version": "1.5.0",
      "model_name": "HTMLModel",
      "state": {
       "layout": "IPY_MODEL_a3933c0b4aaf408fa047ee91cf77d732",
       "style": "IPY_MODEL_025b757f0480497995ba05374b08d97f",
       "value": "<style type=\"text/css\">\n.pd{\n    font-family: \"Courier New\", Courier, monospace !important;\n    width: 100%;\n    padding: 3px;\n}\n</style>\n\n<p class=pd>\n<b>Model</b>: GP regression<br>\n<b>Objective</b>: 93.33036644099724<br>\n<b>Number of Parameters</b>: 12<br>\n<b>Number of Optimization Parameters</b>: 12<br>\n<b>Updates</b>: True<br>\n</p>\n<style type=\"text/css\">\n.tg  {font-family:\"Courier New\", Courier, monospace !important;padding:2px 3px;word-break:normal;border-collapse:collapse;border-spacing:0;border-color:#DCDCDC;margin:0px auto;width:100%;}\n.tg td{font-family:\"Courier New\", Courier, monospace !important;font-weight:bold;color:#444;background-color:#F7FDFA;border-style:solid;border-width:1px;overflow:hidden;word-break:normal;border-color:#DCDCDC;}\n.tg th{font-family:\"Courier New\", Courier, monospace !important;font-weight:normal;color:#fff;background-color:#26ADE4;border-style:solid;border-width:1px;overflow:hidden;word-break:normal;border-color:#DCDCDC;}\n.tg .tg-left{font-family:\"Courier New\", Courier, monospace !important;font-weight:normal;text-align:left;}\n.tg .tg-center{font-family:\"Courier New\", Courier, monospace !important;font-weight:normal;text-align:center;}\n.tg .tg-right{font-family:\"Courier New\", Courier, monospace !important;font-weight:normal;text-align:right;}\n</style>\n<table class=\"tg\"><tr><th><b>  GP_regression.         </b></th><th><b>              value</b></th><th><b>constraints</b></th><th><b>priors</b></th></tr>\n<tr><td class=tg-left>  constmap.C             </td><td class=tg-right>  5.025576971451206</td><td class=tg-center>           </td><td class=tg-center>      </td></tr>\n<tr><td class=tg-left>  rbf.variance           </td><td class=tg-right> 14.895937042842952</td><td class=tg-center>    +ve    </td><td class=tg-center>      </td></tr>\n<tr><td class=tg-left>  rbf.lengthscale        </td><td class=tg-right>               (9,)</td><td class=tg-center>    +ve    </td><td class=tg-center>      </td></tr>\n<tr><td class=tg-left>  Gaussian_noise.variance</td><td class=tg-right>0.16807681937886665</td><td class=tg-center>    +ve    </td><td class=tg-center>      </td></tr>\n</table>"
      }
     },
     "055b589f6e024c0fb45ad4de68ff55d6": {
      "model_module": "@jupyter-widgets/base",
      "model_module_version": "1.2.0",
      "model_name": "LayoutModel",
      "state": {}
     },
     "05be0715ce684fb295497419b261a05f": {
      "model_module": "@jupyter-widgets/base",
      "model_module_version": "1.2.0",
      "model_name": "LayoutModel",
      "state": {}
     },
     "05c0b3d04389450da0def6cb21b068f0": {
      "model_module": "@jupyter-widgets/base",
      "model_module_version": "1.2.0",
      "model_name": "LayoutModel",
      "state": {}
     },
     "05c7743140774fe5be55e33b18af6e87": {
      "model_module": "@jupyter-widgets/base",
      "model_module_version": "1.2.0",
      "model_name": "LayoutModel",
      "state": {}
     },
     "063ebcd777a64d66ac777971cf384db0": {
      "model_module": "@jupyter-widgets/controls",
      "model_module_version": "1.5.0",
      "model_name": "IntProgressModel",
      "state": {
       "bar_style": "success",
       "layout": "IPY_MODEL_30199d41cc2e4d1386302c4a83df9800",
       "max": 1000,
       "style": "IPY_MODEL_5dad8c0a2c394250b63c709e362c3e50",
       "value": 34
      }
     },
     "06836b913a5d4fbd8dd9ba2bc1f355b4": {
      "model_module": "@jupyter-widgets/controls",
      "model_module_version": "1.5.0",
      "model_name": "HBoxModel",
      "state": {
       "children": [
        "IPY_MODEL_8a878ad2ded4485294f3dd0568b9a3a9",
        "IPY_MODEL_601f0820fc354b65ac39c1765e0a8fcb"
       ],
       "layout": "IPY_MODEL_02d542a0ea8844c7b78fa691f4b32021"
      }
     },
     "07237d952a8d466bbf2bebf75d3c5509": {
      "model_module": "@jupyter-widgets/controls",
      "model_module_version": "1.5.0",
      "model_name": "BoxModel",
      "state": {
       "children": [
        "IPY_MODEL_e778b25137b149cc8c557c21f0a93323"
       ],
       "layout": "IPY_MODEL_b6d6a0a749b64f0cab541ce26b2d55dc"
      }
     },
     "0758b59106634b74a84595a72db00951": {
      "model_module": "@jupyter-widgets/base",
      "model_module_version": "1.2.0",
      "model_name": "LayoutModel",
      "state": {}
     },
     "07796cd4d0a54b98aabea913640c15f4": {
      "model_module": "@jupyter-widgets/base",
      "model_module_version": "1.2.0",
      "model_name": "LayoutModel",
      "state": {}
     },
     "077c0034a7eb46aca2252e5178e48aee": {
      "model_module": "@jupyter-widgets/controls",
      "model_module_version": "1.5.0",
      "model_name": "VBoxModel",
      "state": {
       "children": [
        "IPY_MODEL_6c09a703c8fa49f28f03f59d0f39366d",
        "IPY_MODEL_44876e4f1cdc4d7289d16b55f952a80a"
       ],
       "layout": "IPY_MODEL_ca6cc080c8984494971ebb4ebf087c33"
      }
     },
     "07d511e1bcf94d05b5cbfe5d549133c3": {
      "model_module": "@jupyter-widgets/controls",
      "model_module_version": "1.5.0",
      "model_name": "ProgressStyleModel",
      "state": {
       "description_width": ""
      }
     },
     "0845a52f5416439ca11f698f29e10e06": {
      "model_module": "@jupyter-widgets/controls",
      "model_module_version": "1.5.0",
      "model_name": "DescriptionStyleModel",
      "state": {
       "description_width": ""
      }
     },
     "087240d12e64483e815dce37c04a00cc": {
      "model_module": "@jupyter-widgets/base",
      "model_module_version": "1.2.0",
      "model_name": "LayoutModel",
      "state": {}
     },
     "08a5b25f16f14bd9b101e96535255931": {
      "model_module": "@jupyter-widgets/base",
      "model_module_version": "1.2.0",
      "model_name": "LayoutModel",
      "state": {}
     },
     "08e5708037034bb7b6cbf8ee5deaf372": {
      "model_module": "@jupyter-widgets/controls",
      "model_module_version": "1.5.0",
      "model_name": "HTMLModel",
      "state": {
       "layout": "IPY_MODEL_1a2f11b285594111a109d03ae93a1493",
       "style": "IPY_MODEL_3c622e9b090d4a33976d8e580751b215",
       "value": "<style type=\"text/css\">\n    .tg-opt  {font-family:\"Courier New\", Courier, monospace !important;padding:2px 3px;word-break:normal;border-collapse:collapse;border-spacing:0;border-color:#DCDCDC;margin:0px auto;width:100%;}\n    .tg-opt td{font-family:\"Courier New\", Courier, monospace !important;font-weight:bold;color:#444;background-color:#F7FDFA;border-style:solid;border-width:1px;overflow:hidden;word-break:normal;border-color:#DCDCDC;}\n    .tg-opt th{font-family:\"Courier New\", Courier, monospace !important;font-weight:normal;color:#fff;background-color:#26ADE4;border-style:solid;border-width:1px;overflow:hidden;word-break:normal;border-color:#DCDCDC;}\n    .tg-opt .tg-left{font-family:\"Courier New\", Courier, monospace !important;font-weight:normal;text-align:left;}\n    .tg-opt .tg-right{font-family:\"Courier New\", Courier, monospace !important;font-weight:normal;text-align:right;}\n    </style>\n    <table class=\"tg-opt\"><tr><td class='tg-left'>optimizer</td><td class='tg-right'>L-BFGS-B (Scipy implementation)</td></tr><tr><td class='tg-left'>runtime</td><td class='tg-right'>00s25</td></tr><tr><td class='tg-left'>evaluation</td><td class='tg-right'>0033</td></tr><tr><td class='tg-left'>objective</td><td class='tg-right'>   9.128E+01</td></tr><tr><td class='tg-left'>||gradient||</td><td class='tg-right'>  +2.677E-07</td></tr><tr><td class='tg-left'>status</td><td class='tg-right'>Converged</td></tr></table>"
      }
     },
     "091891ce4a4746fa9601e68556387b54": {
      "model_module": "@jupyter-widgets/base",
      "model_module_version": "1.2.0",
      "model_name": "LayoutModel",
      "state": {}
     },
     "0944dc0f2a92474c9d0daad45fc53e6e": {
      "model_module": "@jupyter-widgets/base",
      "model_module_version": "1.2.0",
      "model_name": "LayoutModel",
      "state": {}
     },
     "09a3c174e2e44fec99b3eb9b1ce7309c": {
      "model_module": "@jupyter-widgets/base",
      "model_module_version": "1.2.0",
      "model_name": "LayoutModel",
      "state": {}
     },
     "09c771c99200486783f9057b0ea7ec2b": {
      "model_module": "@jupyter-widgets/base",
      "model_module_version": "1.2.0",
      "model_name": "LayoutModel",
      "state": {}
     },
     "09d4c13a0e584c968ce8d163f4ebb314": {
      "model_module": "@jupyter-widgets/controls",
      "model_module_version": "1.5.0",
      "model_name": "ProgressStyleModel",
      "state": {
       "description_width": ""
      }
     },
     "0add5e09a0094ebda70f6aca91cd7b3d": {
      "model_module": "@jupyter-widgets/controls",
      "model_module_version": "1.5.0",
      "model_name": "DescriptionStyleModel",
      "state": {
       "description_width": ""
      }
     },
     "0adfcd2a411e4943aa61765d48b5f1c3": {
      "model_module": "@jupyter-widgets/controls",
      "model_module_version": "1.5.0",
      "model_name": "DescriptionStyleModel",
      "state": {
       "description_width": ""
      }
     },
     "0aeb561bb9bf44f389d842b089eff558": {
      "model_module": "@jupyter-widgets/controls",
      "model_module_version": "1.5.0",
      "model_name": "HTMLModel",
      "state": {
       "layout": "IPY_MODEL_8c7513e6f7f544cc844a0b5a50f58227",
       "style": "IPY_MODEL_1701e53642f44a7585986302d97b19ed",
       "value": "<style type=\"text/css\">\n.pd{\n    font-family: \"Courier New\", Courier, monospace !important;\n    width: 100%;\n    padding: 3px;\n}\n</style>\n\n<p class=pd>\n<b>Model</b>: GP regression<br>\n<b>Objective</b>: 91.27618633718969<br>\n<b>Number of Parameters</b>: 12<br>\n<b>Number of Optimization Parameters</b>: 12<br>\n<b>Updates</b>: True<br>\n</p>\n<style type=\"text/css\">\n.tg  {font-family:\"Courier New\", Courier, monospace !important;padding:2px 3px;word-break:normal;border-collapse:collapse;border-spacing:0;border-color:#DCDCDC;margin:0px auto;width:100%;}\n.tg td{font-family:\"Courier New\", Courier, monospace !important;font-weight:bold;color:#444;background-color:#F7FDFA;border-style:solid;border-width:1px;overflow:hidden;word-break:normal;border-color:#DCDCDC;}\n.tg th{font-family:\"Courier New\", Courier, monospace !important;font-weight:normal;color:#fff;background-color:#26ADE4;border-style:solid;border-width:1px;overflow:hidden;word-break:normal;border-color:#DCDCDC;}\n.tg .tg-left{font-family:\"Courier New\", Courier, monospace !important;font-weight:normal;text-align:left;}\n.tg .tg-center{font-family:\"Courier New\", Courier, monospace !important;font-weight:normal;text-align:center;}\n.tg .tg-right{font-family:\"Courier New\", Courier, monospace !important;font-weight:normal;text-align:right;}\n</style>\n<table class=\"tg\"><tr><th><b>  GP_regression.         </b></th><th><b>              value</b></th><th><b>constraints</b></th><th><b>priors</b></th></tr>\n<tr><td class=tg-left>  constmap.C             </td><td class=tg-right>  5.322885287724907</td><td class=tg-center>           </td><td class=tg-center>      </td></tr>\n<tr><td class=tg-left>  rbf.variance           </td><td class=tg-right> 14.560594305426234</td><td class=tg-center>    +ve    </td><td class=tg-center>      </td></tr>\n<tr><td class=tg-left>  rbf.lengthscale        </td><td class=tg-right>               (9,)</td><td class=tg-center>    +ve    </td><td class=tg-center>      </td></tr>\n<tr><td class=tg-left>  Gaussian_noise.variance</td><td class=tg-right>0.16909802810479319</td><td class=tg-center>    +ve    </td><td class=tg-center>      </td></tr>\n</table>"
      }
     },
     "0b181bb2d6454d6f928913e1182df084": {
      "model_module": "@jupyter-widgets/base",
      "model_module_version": "1.2.0",
      "model_name": "LayoutModel",
      "state": {}
     },
     "0b644b366d15499a8aab04132b2e1c00": {
      "model_module": "@jupyter-widgets/base",
      "model_module_version": "1.2.0",
      "model_name": "LayoutModel",
      "state": {}
     },
     "0bdb287df24c418e94c16ea27ce9409c": {
      "model_module": "@jupyter-widgets/base",
      "model_module_version": "1.2.0",
      "model_name": "LayoutModel",
      "state": {}
     },
     "0c08b6bd1ebc44b0a891d462a0ef6e3d": {
      "model_module": "@jupyter-widgets/controls",
      "model_module_version": "1.5.0",
      "model_name": "DescriptionStyleModel",
      "state": {
       "description_width": ""
      }
     },
     "0cb87d0d3b3744c9af87e116027af4ee": {
      "model_module": "@jupyter-widgets/base",
      "model_module_version": "1.2.0",
      "model_name": "LayoutModel",
      "state": {}
     },
     "0d01cb7ee4494a30a276c14e18535c0c": {
      "model_module": "@jupyter-widgets/controls",
      "model_module_version": "1.5.0",
      "model_name": "BoxModel",
      "state": {
       "children": [
        "IPY_MODEL_a70fe3f656204f1e9e5bc8e0529be3cb"
       ],
       "layout": "IPY_MODEL_70d5c09931bd47558717000c6ab5ad91"
      }
     },
     "0d983b1c823646c3a59baa3b3eabccc5": {
      "model_module": "@jupyter-widgets/base",
      "model_module_version": "1.2.0",
      "model_name": "LayoutModel",
      "state": {}
     },
     "0da9d4ff856e472ea169db4cc39b98ed": {
      "model_module": "@jupyter-widgets/controls",
      "model_module_version": "1.5.0",
      "model_name": "DescriptionStyleModel",
      "state": {
       "description_width": ""
      }
     },
     "0e2e03256c11488d9b736e633b32bab4": {
      "model_module": "@jupyter-widgets/base",
      "model_module_version": "1.2.0",
      "model_name": "LayoutModel",
      "state": {}
     },
     "0e523d7920b24531a2af678384a2d4be": {
      "model_module": "@jupyter-widgets/controls",
      "model_module_version": "1.5.0",
      "model_name": "ProgressStyleModel",
      "state": {
       "description_width": ""
      }
     },
     "0e8891f20cdf48f1bfe506146082931a": {
      "model_module": "@jupyter-widgets/controls",
      "model_module_version": "1.5.0",
      "model_name": "ProgressStyleModel",
      "state": {
       "description_width": ""
      }
     },
     "0f6a881dfcf741e0aa8a9310a1b19b7e": {
      "model_module": "@jupyter-widgets/base",
      "model_module_version": "1.2.0",
      "model_name": "LayoutModel",
      "state": {}
     },
     "0f806a58bd7a4ec2a9fc01745e75c652": {
      "model_module": "@jupyter-widgets/controls",
      "model_module_version": "1.5.0",
      "model_name": "DescriptionStyleModel",
      "state": {
       "description_width": ""
      }
     },
     "0fa7e19228294fd2ab0802c94530b3f9": {
      "model_module": "@jupyter-widgets/controls",
      "model_module_version": "1.5.0",
      "model_name": "VBoxModel",
      "state": {
       "children": [
        "IPY_MODEL_6f9a582691734566a3aeed5f5eba42a5",
        "IPY_MODEL_d23cf0794fbd48ecb6063fc44ba743c4"
       ],
       "layout": "IPY_MODEL_b8fda88557cb436bb72f4fa5140a8995"
      }
     },
     "0fd226a24ef64430a3763cbaeef51421": {
      "model_module": "@jupyter-widgets/base",
      "model_module_version": "1.2.0",
      "model_name": "LayoutModel",
      "state": {}
     },
     "10983b3d292c40d686580c9a112d191a": {
      "model_module": "@jupyter-widgets/base",
      "model_module_version": "1.2.0",
      "model_name": "LayoutModel",
      "state": {}
     },
     "10df15ce939a447bba5a02ee1a515e6f": {
      "model_module": "@jupyter-widgets/controls",
      "model_module_version": "1.5.0",
      "model_name": "VBoxModel",
      "state": {
       "children": [
        "IPY_MODEL_370e9b17f8ec4bf0bb896dc3e02091ad",
        "IPY_MODEL_a04330a2f45742f99165313d70570b8e"
       ],
       "layout": "IPY_MODEL_2ef9c97c3f6b452aa3ec5638eec62a0f"
      }
     },
     "10fbdd23b016422aba1da1e4aea4f1da": {
      "model_module": "@jupyter-widgets/base",
      "model_module_version": "1.2.0",
      "model_name": "LayoutModel",
      "state": {}
     },
     "1158f293c10f44bc8c44fc2de9c311d9": {
      "model_module": "@jupyter-widgets/controls",
      "model_module_version": "1.5.0",
      "model_name": "DescriptionStyleModel",
      "state": {
       "description_width": ""
      }
     },
     "117a63bb0e9c48459f94a8c2e4afdbc2": {
      "model_module": "@jupyter-widgets/base",
      "model_module_version": "1.2.0",
      "model_name": "LayoutModel",
      "state": {}
     },
     "11a080775c3c4af6add344263970664f": {
      "model_module": "@jupyter-widgets/controls",
      "model_module_version": "1.5.0",
      "model_name": "DescriptionStyleModel",
      "state": {
       "description_width": ""
      }
     },
     "11a7dc523f8a447bbdeae7198f8d79b0": {
      "model_module": "@jupyter-widgets/controls",
      "model_module_version": "1.5.0",
      "model_name": "DescriptionStyleModel",
      "state": {
       "description_width": ""
      }
     },
     "11b4d04cb9344a18beb46bfee3f34482": {
      "model_module": "@jupyter-widgets/controls",
      "model_module_version": "1.5.0",
      "model_name": "DescriptionStyleModel",
      "state": {
       "description_width": ""
      }
     },
     "1240de0e022f4f49a5fc5bf73c2ea63c": {
      "model_module": "@jupyter-widgets/controls",
      "model_module_version": "1.5.0",
      "model_name": "IntProgressModel",
      "state": {
       "bar_style": "success",
       "layout": "IPY_MODEL_701c117b2be64329b8f4e52cd0c03b15",
       "max": 1000,
       "style": "IPY_MODEL_87981d25a3e2434b8cbc256157658547",
       "value": 53
      }
     },
     "12631d3e28be4d4eb075c597ea04d1d8": {
      "model_module": "@jupyter-widgets/controls",
      "model_module_version": "1.5.0",
      "model_name": "DescriptionStyleModel",
      "state": {
       "description_width": ""
      }
     },
     "127e7af9cc5e49d9a05554de06db6d4c": {
      "model_module": "@jupyter-widgets/controls",
      "model_module_version": "1.5.0",
      "model_name": "IntProgressModel",
      "state": {
       "bar_style": "success",
       "layout": "IPY_MODEL_475b6689075b43dda38b4b27ea8b2f45",
       "max": 1000,
       "style": "IPY_MODEL_84c210c8cfcf483080c1a3d4d7d80462",
       "value": 49
      }
     },
     "132811fff3ee450aaa33b160ac9329be": {
      "model_module": "@jupyter-widgets/controls",
      "model_module_version": "1.5.0",
      "model_name": "BoxModel",
      "state": {
       "children": [
        "IPY_MODEL_97b28a8b02674f8daeabe96360e3557f"
       ],
       "layout": "IPY_MODEL_ad5e7a9f80ae40cc9f996ec27dfc030e"
      }
     },
     "13597ca5e0d14b4a916abec25b4b3ded": {
      "model_module": "@jupyter-widgets/controls",
      "model_module_version": "1.5.0",
      "model_name": "HTMLModel",
      "state": {
       "layout": "IPY_MODEL_17e3166c4bfa4e9086a71599ec830cfe",
       "style": "IPY_MODEL_ddad81a6594a4e2f8cd778e648e22983",
       "value": "<style type=\"text/css\">\n.pd{\n    font-family: \"Courier New\", Courier, monospace !important;\n    width: 100%;\n    padding: 3px;\n}\n</style>\n\n<p class=pd>\n<b>Model</b>: GP regression<br>\n<b>Objective</b>: 90.18492153478388<br>\n<b>Number of Parameters</b>: 12<br>\n<b>Number of Optimization Parameters</b>: 12<br>\n<b>Updates</b>: True<br>\n</p>\n<style type=\"text/css\">\n.tg  {font-family:\"Courier New\", Courier, monospace !important;padding:2px 3px;word-break:normal;border-collapse:collapse;border-spacing:0;border-color:#DCDCDC;margin:0px auto;width:100%;}\n.tg td{font-family:\"Courier New\", Courier, monospace !important;font-weight:bold;color:#444;background-color:#F7FDFA;border-style:solid;border-width:1px;overflow:hidden;word-break:normal;border-color:#DCDCDC;}\n.tg th{font-family:\"Courier New\", Courier, monospace !important;font-weight:normal;color:#fff;background-color:#26ADE4;border-style:solid;border-width:1px;overflow:hidden;word-break:normal;border-color:#DCDCDC;}\n.tg .tg-left{font-family:\"Courier New\", Courier, monospace !important;font-weight:normal;text-align:left;}\n.tg .tg-center{font-family:\"Courier New\", Courier, monospace !important;font-weight:normal;text-align:center;}\n.tg .tg-right{font-family:\"Courier New\", Courier, monospace !important;font-weight:normal;text-align:right;}\n</style>\n<table class=\"tg\"><tr><th><b>  GP_regression.         </b></th><th><b>              value</b></th><th><b>constraints</b></th><th><b>priors</b></th></tr>\n<tr><td class=tg-left>  constmap.C             </td><td class=tg-right>  6.166082750314358</td><td class=tg-center>           </td><td class=tg-center>      </td></tr>\n<tr><td class=tg-left>  rbf.variance           </td><td class=tg-right> 13.354881297224127</td><td class=tg-center>    +ve    </td><td class=tg-center>      </td></tr>\n<tr><td class=tg-left>  rbf.lengthscale        </td><td class=tg-right>               (9,)</td><td class=tg-center>    +ve    </td><td class=tg-center>      </td></tr>\n<tr><td class=tg-left>  Gaussian_noise.variance</td><td class=tg-right>0.16636292909798628</td><td class=tg-center>    +ve    </td><td class=tg-center>      </td></tr>\n</table>"
      }
     },
     "1366db26fc0f4e23bd4e936aa8d5c429": {
      "model_module": "@jupyter-widgets/base",
      "model_module_version": "1.2.0",
      "model_name": "LayoutModel",
      "state": {}
     },
     "13f3ee1d92e34c02a78386761b094082": {
      "model_module": "@jupyter-widgets/controls",
      "model_module_version": "1.5.0",
      "model_name": "HBoxModel",
      "state": {
       "children": [
        "IPY_MODEL_659095a75a6b43978d1a8a585fd27f49",
        "IPY_MODEL_d491b72aac814a5d9ebeed203e7b81f9"
       ],
       "layout": "IPY_MODEL_2b9f83b6284f4f2aae8eba1ae027dd6f"
      }
     },
     "145b3c773c5e4c008d6dc1ecca002c66": {
      "model_module": "@jupyter-widgets/base",
      "model_module_version": "1.2.0",
      "model_name": "LayoutModel",
      "state": {}
     },
     "14b0844e7ce244a09862b7750402521a": {
      "model_module": "@jupyter-widgets/base",
      "model_module_version": "1.2.0",
      "model_name": "LayoutModel",
      "state": {}
     },
     "1540018a7d454610845fe73433868982": {
      "model_module": "@jupyter-widgets/controls",
      "model_module_version": "1.5.0",
      "model_name": "DescriptionStyleModel",
      "state": {
       "description_width": ""
      }
     },
     "155cca5e4e604d5d946881e1705af83a": {
      "model_module": "@jupyter-widgets/base",
      "model_module_version": "1.2.0",
      "model_name": "LayoutModel",
      "state": {}
     },
     "1569f99058fa451ea20addb424aa9e5a": {
      "model_module": "@jupyter-widgets/controls",
      "model_module_version": "1.5.0",
      "model_name": "IntProgressModel",
      "state": {
       "bar_style": "success",
       "layout": "IPY_MODEL_5bcbc057276f434fbae2156197ff01a5",
       "max": 1000,
       "style": "IPY_MODEL_40707a146b6948db8891501844ef2ce0",
       "value": 52
      }
     },
     "1579a002041a4636a651b2255da22a2b": {
      "model_module": "@jupyter-widgets/base",
      "model_module_version": "1.2.0",
      "model_name": "LayoutModel",
      "state": {}
     },
     "168f3177198d438ea12ff807875d6063": {
      "model_module": "@jupyter-widgets/controls",
      "model_module_version": "1.5.0",
      "model_name": "HBoxModel",
      "state": {
       "children": [
        "IPY_MODEL_d2b5e2f665924d669f5f801f17c04eae",
        "IPY_MODEL_3d5b80362676416093f02b59d58d3a2b"
       ],
       "layout": "IPY_MODEL_c92d6abed0d94775b3dcd5d86a987fe0"
      }
     },
     "169c2ec3dd5e4b109e1b00ef609a42d8": {
      "model_module": "@jupyter-widgets/controls",
      "model_module_version": "1.5.0",
      "model_name": "DescriptionStyleModel",
      "state": {
       "description_width": ""
      }
     },
     "1701e53642f44a7585986302d97b19ed": {
      "model_module": "@jupyter-widgets/controls",
      "model_module_version": "1.5.0",
      "model_name": "DescriptionStyleModel",
      "state": {
       "description_width": ""
      }
     },
     "171d3707ee5149a09b1b6776defbb865": {
      "model_module": "@jupyter-widgets/base",
      "model_module_version": "1.2.0",
      "model_name": "LayoutModel",
      "state": {}
     },
     "174e62a151d34a839a5725fca323a0f0": {
      "model_module": "@jupyter-widgets/controls",
      "model_module_version": "1.5.0",
      "model_name": "ProgressStyleModel",
      "state": {
       "description_width": ""
      }
     },
     "17e3166c4bfa4e9086a71599ec830cfe": {
      "model_module": "@jupyter-widgets/base",
      "model_module_version": "1.2.0",
      "model_name": "LayoutModel",
      "state": {}
     },
     "1860454dbf22437abb1651ed11aa615d": {
      "model_module": "@jupyter-widgets/controls",
      "model_module_version": "1.5.0",
      "model_name": "HTMLModel",
      "state": {
       "layout": "IPY_MODEL_d0b89fdbbd45484e829ebca76b51a6fd",
       "style": "IPY_MODEL_e6937c98035541bb9ea10e28c610d438",
       "value": "<style type=\"text/css\">\n    .tg-opt  {font-family:\"Courier New\", Courier, monospace !important;padding:2px 3px;word-break:normal;border-collapse:collapse;border-spacing:0;border-color:#DCDCDC;margin:0px auto;width:100%;}\n    .tg-opt td{font-family:\"Courier New\", Courier, monospace !important;font-weight:bold;color:#444;background-color:#F7FDFA;border-style:solid;border-width:1px;overflow:hidden;word-break:normal;border-color:#DCDCDC;}\n    .tg-opt th{font-family:\"Courier New\", Courier, monospace !important;font-weight:normal;color:#fff;background-color:#26ADE4;border-style:solid;border-width:1px;overflow:hidden;word-break:normal;border-color:#DCDCDC;}\n    .tg-opt .tg-left{font-family:\"Courier New\", Courier, monospace !important;font-weight:normal;text-align:left;}\n    .tg-opt .tg-right{font-family:\"Courier New\", Courier, monospace !important;font-weight:normal;text-align:right;}\n    </style>\n    <table class=\"tg-opt\"><tr><td class='tg-left'>optimizer</td><td class='tg-right'>L-BFGS-B (Scipy implementation)</td></tr><tr><td class='tg-left'>runtime</td><td class='tg-right'>00s30</td></tr><tr><td class='tg-left'>evaluation</td><td class='tg-right'>0046</td></tr><tr><td class='tg-left'>objective</td><td class='tg-right'>   8.863E+01</td></tr><tr><td class='tg-left'>||gradient||</td><td class='tg-right'>  +8.697E-07</td></tr><tr><td class='tg-left'>status</td><td class='tg-right'>Converged</td></tr></table>"
      }
     },
     "190cabfbfeab4e7884b8b9d9765b6cba": {
      "model_module": "@jupyter-widgets/base",
      "model_module_version": "1.2.0",
      "model_name": "LayoutModel",
      "state": {}
     },
     "19a633e69ca0428bae2ec57d7c78e28d": {
      "model_module": "@jupyter-widgets/base",
      "model_module_version": "1.2.0",
      "model_name": "LayoutModel",
      "state": {}
     },
     "19de636a7da544d5835de8f613969c13": {
      "model_module": "@jupyter-widgets/controls",
      "model_module_version": "1.5.0",
      "model_name": "HTMLModel",
      "state": {
       "layout": "IPY_MODEL_a3497bcb6ab04fdf8a096f94dacc6739",
       "style": "IPY_MODEL_3ea3e9bcd4114e72b7da31023436f6c5",
       "value": "<style type=\"text/css\">\n    .tg-opt  {font-family:\"Courier New\", Courier, monospace !important;padding:2px 3px;word-break:normal;border-collapse:collapse;border-spacing:0;border-color:#DCDCDC;margin:0px auto;width:100%;}\n    .tg-opt td{font-family:\"Courier New\", Courier, monospace !important;font-weight:bold;color:#444;background-color:#F7FDFA;border-style:solid;border-width:1px;overflow:hidden;word-break:normal;border-color:#DCDCDC;}\n    .tg-opt th{font-family:\"Courier New\", Courier, monospace !important;font-weight:normal;color:#fff;background-color:#26ADE4;border-style:solid;border-width:1px;overflow:hidden;word-break:normal;border-color:#DCDCDC;}\n    .tg-opt .tg-left{font-family:\"Courier New\", Courier, monospace !important;font-weight:normal;text-align:left;}\n    .tg-opt .tg-right{font-family:\"Courier New\", Courier, monospace !important;font-weight:normal;text-align:right;}\n    </style>\n    <table class=\"tg-opt\"><tr><td class='tg-left'>optimizer</td><td class='tg-right'>L-BFGS-B (Scipy implementation)</td></tr><tr><td class='tg-left'>runtime</td><td class='tg-right'>00s28</td></tr><tr><td class='tg-left'>evaluation</td><td class='tg-right'>0041</td></tr><tr><td class='tg-left'>objective</td><td class='tg-right'>   9.139E+01</td></tr><tr><td class='tg-left'>||gradient||</td><td class='tg-right'>  +4.835E-07</td></tr><tr><td class='tg-left'>status</td><td class='tg-right'>Converged</td></tr></table>"
      }
     },
     "19dfe71441f34ae0a5be33d5836adb8a": {
      "model_module": "@jupyter-widgets/base",
      "model_module_version": "1.2.0",
      "model_name": "LayoutModel",
      "state": {}
     },
     "19ece037b21c470ab82c6c451b825274": {
      "model_module": "@jupyter-widgets/base",
      "model_module_version": "1.2.0",
      "model_name": "LayoutModel",
      "state": {}
     },
     "1a2f11b285594111a109d03ae93a1493": {
      "model_module": "@jupyter-widgets/base",
      "model_module_version": "1.2.0",
      "model_name": "LayoutModel",
      "state": {}
     },
     "1a31e950062746f9a6b61b57e1294e96": {
      "model_module": "@jupyter-widgets/base",
      "model_module_version": "1.2.0",
      "model_name": "LayoutModel",
      "state": {}
     },
     "1a6c31187d45425499445ed3b4687084": {
      "model_module": "@jupyter-widgets/controls",
      "model_module_version": "1.5.0",
      "model_name": "DescriptionStyleModel",
      "state": {
       "description_width": ""
      }
     },
     "1a802f19e95e4f7caf9d1b3f3de3baa1": {
      "model_module": "@jupyter-widgets/base",
      "model_module_version": "1.2.0",
      "model_name": "LayoutModel",
      "state": {}
     },
     "1a848c033ac6479784682bb860fe2dc3": {
      "model_module": "@jupyter-widgets/controls",
      "model_module_version": "1.5.0",
      "model_name": "HTMLModel",
      "state": {
       "layout": "IPY_MODEL_9c6805a176e14203b58dbe742fa505e8",
       "style": "IPY_MODEL_0845a52f5416439ca11f698f29e10e06",
       "value": "<style type=\"text/css\">\n    .tg-opt  {font-family:\"Courier New\", Courier, monospace !important;padding:2px 3px;word-break:normal;border-collapse:collapse;border-spacing:0;border-color:#DCDCDC;margin:0px auto;width:100%;}\n    .tg-opt td{font-family:\"Courier New\", Courier, monospace !important;font-weight:bold;color:#444;background-color:#F7FDFA;border-style:solid;border-width:1px;overflow:hidden;word-break:normal;border-color:#DCDCDC;}\n    .tg-opt th{font-family:\"Courier New\", Courier, monospace !important;font-weight:normal;color:#fff;background-color:#26ADE4;border-style:solid;border-width:1px;overflow:hidden;word-break:normal;border-color:#DCDCDC;}\n    .tg-opt .tg-left{font-family:\"Courier New\", Courier, monospace !important;font-weight:normal;text-align:left;}\n    .tg-opt .tg-right{font-family:\"Courier New\", Courier, monospace !important;font-weight:normal;text-align:right;}\n    </style>\n    <table class=\"tg-opt\"><tr><td class='tg-left'>optimizer</td><td class='tg-right'>L-BFGS-B (Scipy implementation)</td></tr><tr><td class='tg-left'>runtime</td><td class='tg-right'>00s34</td></tr><tr><td class='tg-left'>evaluation</td><td class='tg-right'>0051</td></tr><tr><td class='tg-left'>objective</td><td class='tg-right'>   8.886E+01</td></tr><tr><td class='tg-left'>||gradient||</td><td class='tg-right'>  +1.701E-07</td></tr><tr><td class='tg-left'>status</td><td class='tg-right'>Converged</td></tr></table>"
      }
     },
     "1ab1c07747d54297b39b39c70bc0cc78": {
      "model_module": "@jupyter-widgets/controls",
      "model_module_version": "1.5.0",
      "model_name": "VBoxModel",
      "state": {
       "children": [
        "IPY_MODEL_936d2573cf1343d3998adfba12597f42",
        "IPY_MODEL_5e65feab4bd64a008627c3063449e1ff"
       ],
       "layout": "IPY_MODEL_bfe2bf7537014e058b370b2a3e38b854"
      }
     },
     "1ad548dbaca24fc3a2c211c6a1ccf6c3": {
      "model_module": "@jupyter-widgets/controls",
      "model_module_version": "1.5.0",
      "model_name": "VBoxModel",
      "state": {
       "children": [
        "IPY_MODEL_7eb070cbf6cd42a493a2a71ca2ff011a",
        "IPY_MODEL_8a324708fef34483906b1c7bfe6eb54f"
       ],
       "layout": "IPY_MODEL_b72b5434befd4dfb90a2f7fa11378845"
      }
     },
     "1ba4a19999144a80885668994550c002": {
      "model_module": "@jupyter-widgets/controls",
      "model_module_version": "1.5.0",
      "model_name": "VBoxModel",
      "state": {
       "children": [
        "IPY_MODEL_b84e3ec20bc54bb58545c08b08ab17f5",
        "IPY_MODEL_bf0980dd59ff4016b426f06ea4e53d23"
       ],
       "layout": "IPY_MODEL_1579a002041a4636a651b2255da22a2b"
      }
     },
     "1c66fa8be3e844099a966906c20e693a": {
      "model_module": "@jupyter-widgets/controls",
      "model_module_version": "1.5.0",
      "model_name": "VBoxModel",
      "state": {
       "children": [
        "IPY_MODEL_2852fb61adfa4bd49fd1767c9e69b7ac",
        "IPY_MODEL_08e5708037034bb7b6cbf8ee5deaf372"
       ],
       "layout": "IPY_MODEL_e488958f6d2a46f4984079a43b4f55da"
      }
     },
     "1c8360a59a9a4165b1ec7416b26bd673": {
      "model_module": "@jupyter-widgets/base",
      "model_module_version": "1.2.0",
      "model_name": "LayoutModel",
      "state": {}
     },
     "1d1fb96526d94eeba73b855df53d56cf": {
      "model_module": "@jupyter-widgets/controls",
      "model_module_version": "1.5.0",
      "model_name": "DescriptionStyleModel",
      "state": {
       "description_width": ""
      }
     },
     "1d3e53e5d0fe4cee9a0fc63a4a6696b4": {
      "model_module": "@jupyter-widgets/controls",
      "model_module_version": "1.5.0",
      "model_name": "VBoxModel",
      "state": {
       "children": [
        "IPY_MODEL_c51af35bd32e4abd959fa48b45bb12c2",
        "IPY_MODEL_6d80718f2eef402ca3c5b71d70e8b73a"
       ],
       "layout": "IPY_MODEL_fe83e8938d984ad9ac1e2c4cacc81fa0"
      }
     },
     "1d6fa69aaadc4f2b95b893b31d88b0b0": {
      "model_module": "@jupyter-widgets/base",
      "model_module_version": "1.2.0",
      "model_name": "LayoutModel",
      "state": {}
     },
     "1d7021cd791c43dc8e152dc2b6fee2d6": {
      "model_module": "@jupyter-widgets/base",
      "model_module_version": "1.2.0",
      "model_name": "LayoutModel",
      "state": {}
     },
     "1d724e367e264ad182863113362e3e5c": {
      "model_module": "@jupyter-widgets/controls",
      "model_module_version": "1.5.0",
      "model_name": "BoxModel",
      "state": {
       "children": [
        "IPY_MODEL_a612d07e61114433a8f2ce9338514a54"
       ],
       "layout": "IPY_MODEL_cdfd4fcce0814711bea64956623d9e34"
      }
     },
     "1ddaf702e82444059ab03793e924fba2": {
      "model_module": "@jupyter-widgets/controls",
      "model_module_version": "1.5.0",
      "model_name": "HTMLModel",
      "state": {
       "layout": "IPY_MODEL_b472643b11fd48129d67b5ecc1f48af8",
       "style": "IPY_MODEL_bc9815cafd804936b151d662bbca4e8f",
       "value": "<style type=\"text/css\">\n.pd{\n    font-family: \"Courier New\", Courier, monospace !important;\n    width: 100%;\n    padding: 3px;\n}\n</style>\n\n<p class=pd>\n<b>Model</b>: GP regression<br>\n<b>Objective</b>: 91.5446942062263<br>\n<b>Number of Parameters</b>: 12<br>\n<b>Number of Optimization Parameters</b>: 12<br>\n<b>Updates</b>: True<br>\n</p>\n<style type=\"text/css\">\n.tg  {font-family:\"Courier New\", Courier, monospace !important;padding:2px 3px;word-break:normal;border-collapse:collapse;border-spacing:0;border-color:#DCDCDC;margin:0px auto;width:100%;}\n.tg td{font-family:\"Courier New\", Courier, monospace !important;font-weight:bold;color:#444;background-color:#F7FDFA;border-style:solid;border-width:1px;overflow:hidden;word-break:normal;border-color:#DCDCDC;}\n.tg th{font-family:\"Courier New\", Courier, monospace !important;font-weight:normal;color:#fff;background-color:#26ADE4;border-style:solid;border-width:1px;overflow:hidden;word-break:normal;border-color:#DCDCDC;}\n.tg .tg-left{font-family:\"Courier New\", Courier, monospace !important;font-weight:normal;text-align:left;}\n.tg .tg-center{font-family:\"Courier New\", Courier, monospace !important;font-weight:normal;text-align:center;}\n.tg .tg-right{font-family:\"Courier New\", Courier, monospace !important;font-weight:normal;text-align:right;}\n</style>\n<table class=\"tg\"><tr><th><b>  GP_regression.         </b></th><th><b>             value</b></th><th><b>constraints</b></th><th><b>priors</b></th></tr>\n<tr><td class=tg-left>  constmap.C             </td><td class=tg-right>  4.92656096662176</td><td class=tg-center>           </td><td class=tg-center>      </td></tr>\n<tr><td class=tg-left>  rbf.variance           </td><td class=tg-right>14.175337807952284</td><td class=tg-center>    +ve    </td><td class=tg-center>      </td></tr>\n<tr><td class=tg-left>  rbf.lengthscale        </td><td class=tg-right>              (9,)</td><td class=tg-center>    +ve    </td><td class=tg-center>      </td></tr>\n<tr><td class=tg-left>  Gaussian_noise.variance</td><td class=tg-right>0.1627240783535033</td><td class=tg-center>    +ve    </td><td class=tg-center>      </td></tr>\n</table>"
      }
     },
     "1e51b92640284da5ab8faae0a32f4772": {
      "model_module": "@jupyter-widgets/base",
      "model_module_version": "1.2.0",
      "model_name": "LayoutModel",
      "state": {}
     },
     "1e56671416a84b9ba181aa2e4c8122f4": {
      "model_module": "@jupyter-widgets/controls",
      "model_module_version": "1.5.0",
      "model_name": "DescriptionStyleModel",
      "state": {
       "description_width": ""
      }
     },
     "1e6ae6b533dd47e3a654cd3679315125": {
      "model_module": "@jupyter-widgets/controls",
      "model_module_version": "1.5.0",
      "model_name": "VBoxModel",
      "state": {
       "children": [
        "IPY_MODEL_3d00a1a897c042aeabf988c9a53f0d8a",
        "IPY_MODEL_1a848c033ac6479784682bb860fe2dc3"
       ],
       "layout": "IPY_MODEL_0758b59106634b74a84595a72db00951"
      }
     },
     "1f54e807c9424f3f878132cdc77d670b": {
      "model_module": "@jupyter-widgets/controls",
      "model_module_version": "1.5.0",
      "model_name": "HTMLModel",
      "state": {
       "layout": "IPY_MODEL_5fb8e0bdd79347dc9c1d3c23357c0070",
       "style": "IPY_MODEL_581bf71b4db740669250c2b728543523",
       "value": "<style type=\"text/css\">\n    .tg-opt  {font-family:\"Courier New\", Courier, monospace !important;padding:2px 3px;word-break:normal;border-collapse:collapse;border-spacing:0;border-color:#DCDCDC;margin:0px auto;width:100%;}\n    .tg-opt td{font-family:\"Courier New\", Courier, monospace !important;font-weight:bold;color:#444;background-color:#F7FDFA;border-style:solid;border-width:1px;overflow:hidden;word-break:normal;border-color:#DCDCDC;}\n    .tg-opt th{font-family:\"Courier New\", Courier, monospace !important;font-weight:normal;color:#fff;background-color:#26ADE4;border-style:solid;border-width:1px;overflow:hidden;word-break:normal;border-color:#DCDCDC;}\n    .tg-opt .tg-left{font-family:\"Courier New\", Courier, monospace !important;font-weight:normal;text-align:left;}\n    .tg-opt .tg-right{font-family:\"Courier New\", Courier, monospace !important;font-weight:normal;text-align:right;}\n    </style>\n    <table class=\"tg-opt\"><tr><td class='tg-left'>optimizer</td><td class='tg-right'>L-BFGS-B (Scipy implementation)</td></tr><tr><td class='tg-left'>runtime</td><td class='tg-right'>00s88</td></tr><tr><td class='tg-left'>evaluation</td><td class='tg-right'>0167</td></tr><tr><td class='tg-left'>objective</td><td class='tg-right'>   1.037E+02</td></tr><tr><td class='tg-left'>||gradient||</td><td class='tg-right'>  +1.290E-05</td></tr><tr><td class='tg-left'>status</td><td class='tg-right'>Converged</td></tr></table>"
      }
     },
     "2126e6bbddde4444a41a56fa35ef4608": {
      "model_module": "@jupyter-widgets/controls",
      "model_module_version": "1.5.0",
      "model_name": "DescriptionStyleModel",
      "state": {
       "description_width": ""
      }
     },
     "21c76ee202a9412a982aea310ba7be56": {
      "model_module": "@jupyter-widgets/controls",
      "model_module_version": "1.5.0",
      "model_name": "DescriptionStyleModel",
      "state": {
       "description_width": ""
      }
     },
     "2365c0de73194926bdf3aeee0f0e1abf": {
      "model_module": "@jupyter-widgets/controls",
      "model_module_version": "1.5.0",
      "model_name": "DescriptionStyleModel",
      "state": {
       "description_width": ""
      }
     },
     "23b69493ce97444693f8fb87e2ca5b53": {
      "model_module": "@jupyter-widgets/controls",
      "model_module_version": "1.5.0",
      "model_name": "VBoxModel",
      "state": {
       "children": [
        "IPY_MODEL_b4d424afc6f649a0a1848a59e059eee2",
        "IPY_MODEL_1860454dbf22437abb1651ed11aa615d"
       ],
       "layout": "IPY_MODEL_6f57ac3b13e2442083abbd5d8ec06b00"
      }
     },
     "24691827d6f2416da2ec1b7d7a426ace": {
      "model_module": "@jupyter-widgets/controls",
      "model_module_version": "1.5.0",
      "model_name": "HTMLModel",
      "state": {
       "layout": "IPY_MODEL_3036d0bc520540b1b16a6378642c98e4",
       "style": "IPY_MODEL_bc705eaf220545bc89d1a4c5a637ad60",
       "value": "<style type=\"text/css\">\n.pd{\n    font-family: \"Courier New\", Courier, monospace !important;\n    width: 100%;\n    padding: 3px;\n}\n</style>\n\n<p class=pd>\n<b>Model</b>: GP regression<br>\n<b>Objective</b>: 88.1727928491663<br>\n<b>Number of Parameters</b>: 12<br>\n<b>Number of Optimization Parameters</b>: 12<br>\n<b>Updates</b>: True<br>\n</p>\n<style type=\"text/css\">\n.tg  {font-family:\"Courier New\", Courier, monospace !important;padding:2px 3px;word-break:normal;border-collapse:collapse;border-spacing:0;border-color:#DCDCDC;margin:0px auto;width:100%;}\n.tg td{font-family:\"Courier New\", Courier, monospace !important;font-weight:bold;color:#444;background-color:#F7FDFA;border-style:solid;border-width:1px;overflow:hidden;word-break:normal;border-color:#DCDCDC;}\n.tg th{font-family:\"Courier New\", Courier, monospace !important;font-weight:normal;color:#fff;background-color:#26ADE4;border-style:solid;border-width:1px;overflow:hidden;word-break:normal;border-color:#DCDCDC;}\n.tg .tg-left{font-family:\"Courier New\", Courier, monospace !important;font-weight:normal;text-align:left;}\n.tg .tg-center{font-family:\"Courier New\", Courier, monospace !important;font-weight:normal;text-align:center;}\n.tg .tg-right{font-family:\"Courier New\", Courier, monospace !important;font-weight:normal;text-align:right;}\n</style>\n<table class=\"tg\"><tr><th><b>  GP_regression.         </b></th><th><b>              value</b></th><th><b>constraints</b></th><th><b>priors</b></th></tr>\n<tr><td class=tg-left>  constmap.C             </td><td class=tg-right>  6.417823183522247</td><td class=tg-center>           </td><td class=tg-center>      </td></tr>\n<tr><td class=tg-left>  rbf.variance           </td><td class=tg-right> 11.018269915550754</td><td class=tg-center>    +ve    </td><td class=tg-center>      </td></tr>\n<tr><td class=tg-left>  rbf.lengthscale        </td><td class=tg-right>               (9,)</td><td class=tg-center>    +ve    </td><td class=tg-center>      </td></tr>\n<tr><td class=tg-left>  Gaussian_noise.variance</td><td class=tg-right>0.14148898270540927</td><td class=tg-center>    +ve    </td><td class=tg-center>      </td></tr>\n</table>"
      }
     },
     "246bf86e81664b64a8eac7c835d97f3d": {
      "model_module": "@jupyter-widgets/controls",
      "model_module_version": "1.5.0",
      "model_name": "BoxModel",
      "state": {
       "children": [
        "IPY_MODEL_e255dd8aa94b42678793227704bcaa56"
       ],
       "layout": "IPY_MODEL_b6af065aec0240c187e30a7261628120"
      }
     },
     "24a0de9c7376495e91a5fda5c0fb70bc": {
      "model_module": "@jupyter-widgets/controls",
      "model_module_version": "1.5.0",
      "model_name": "HBoxModel",
      "state": {
       "children": [
        "IPY_MODEL_b26a2ab2967f4d929b53d3784fd8de83",
        "IPY_MODEL_b08b37daa9b54feaa4846822c083b395"
       ],
       "layout": "IPY_MODEL_86adf0a33b7c4814a8d2e3fd095ddb8d"
      }
     },
     "24f54034b5534c0eb16ddf1596488a7a": {
      "model_module": "@jupyter-widgets/base",
      "model_module_version": "1.2.0",
      "model_name": "LayoutModel",
      "state": {}
     },
     "25e27f8ca32d424f91fccaf0fc08f159": {
      "model_module": "@jupyter-widgets/controls",
      "model_module_version": "1.5.0",
      "model_name": "HBoxModel",
      "state": {
       "children": [
        "IPY_MODEL_1ad548dbaca24fc3a2c211c6a1ccf6c3",
        "IPY_MODEL_fb52e2e12f3044768da11ce9b4aa1074"
       ],
       "layout": "IPY_MODEL_59de9807583142cf851781900a211300"
      }
     },
     "269006bbf43443d5a4d53bca89463762": {
      "model_module": "@jupyter-widgets/base",
      "model_module_version": "1.2.0",
      "model_name": "LayoutModel",
      "state": {}
     },
     "26b39cf8c3a342d39e81227f2dae9c72": {
      "model_module": "@jupyter-widgets/controls",
      "model_module_version": "1.5.0",
      "model_name": "DescriptionStyleModel",
      "state": {
       "description_width": ""
      }
     },
     "2711c1d6b7ec4789b0817e8b81129ff7": {
      "model_module": "@jupyter-widgets/controls",
      "model_module_version": "1.5.0",
      "model_name": "DescriptionStyleModel",
      "state": {
       "description_width": ""
      }
     },
     "2786ebabfd4c49ef9ef1959194f6260c": {
      "model_module": "@jupyter-widgets/controls",
      "model_module_version": "1.5.0",
      "model_name": "DescriptionStyleModel",
      "state": {
       "description_width": ""
      }
     },
     "27ecceade96e4f44aa45c43b9f5d275f": {
      "model_module": "@jupyter-widgets/controls",
      "model_module_version": "1.5.0",
      "model_name": "ProgressStyleModel",
      "state": {
       "description_width": ""
      }
     },
     "27f78be9d7464683b194161e5ccabfd6": {
      "model_module": "@jupyter-widgets/controls",
      "model_module_version": "1.5.0",
      "model_name": "VBoxModel",
      "state": {
       "children": [
        "IPY_MODEL_f142a5bdca33448d84691861d1e8d394",
        "IPY_MODEL_87c09c044144442189ff663b67c0e7f9"
       ],
       "layout": "IPY_MODEL_9dd14a9051a74bd2950c41ab634418dc"
      }
     },
     "2810ec616eb74cbcba35b5e38e57ec81": {
      "model_module": "@jupyter-widgets/controls",
      "model_module_version": "1.5.0",
      "model_name": "HTMLModel",
      "state": {
       "layout": "IPY_MODEL_71ab25e29997468e9cfc6dd72acbfcb0",
       "style": "IPY_MODEL_8ea3e279fa5a422e9b08d79c6bedbc88",
       "value": "<style type=\"text/css\">\n.pd{\n    font-family: \"Courier New\", Courier, monospace !important;\n    width: 100%;\n    padding: 3px;\n}\n</style>\n\n<p class=pd>\n<b>Model</b>: GP regression<br>\n<b>Objective</b>: 90.11263421135439<br>\n<b>Number of Parameters</b>: 12<br>\n<b>Number of Optimization Parameters</b>: 12<br>\n<b>Updates</b>: True<br>\n</p>\n<style type=\"text/css\">\n.tg  {font-family:\"Courier New\", Courier, monospace !important;padding:2px 3px;word-break:normal;border-collapse:collapse;border-spacing:0;border-color:#DCDCDC;margin:0px auto;width:100%;}\n.tg td{font-family:\"Courier New\", Courier, monospace !important;font-weight:bold;color:#444;background-color:#F7FDFA;border-style:solid;border-width:1px;overflow:hidden;word-break:normal;border-color:#DCDCDC;}\n.tg th{font-family:\"Courier New\", Courier, monospace !important;font-weight:normal;color:#fff;background-color:#26ADE4;border-style:solid;border-width:1px;overflow:hidden;word-break:normal;border-color:#DCDCDC;}\n.tg .tg-left{font-family:\"Courier New\", Courier, monospace !important;font-weight:normal;text-align:left;}\n.tg .tg-center{font-family:\"Courier New\", Courier, monospace !important;font-weight:normal;text-align:center;}\n.tg .tg-right{font-family:\"Courier New\", Courier, monospace !important;font-weight:normal;text-align:right;}\n</style>\n<table class=\"tg\"><tr><th><b>  GP_regression.         </b></th><th><b>              value</b></th><th><b>constraints</b></th><th><b>priors</b></th></tr>\n<tr><td class=tg-left>  constmap.C             </td><td class=tg-right>  5.116154789242469</td><td class=tg-center>           </td><td class=tg-center>      </td></tr>\n<tr><td class=tg-left>  rbf.variance           </td><td class=tg-right>  14.29294456910085</td><td class=tg-center>    +ve    </td><td class=tg-center>      </td></tr>\n<tr><td class=tg-left>  rbf.lengthscale        </td><td class=tg-right>               (9,)</td><td class=tg-center>    +ve    </td><td class=tg-center>      </td></tr>\n<tr><td class=tg-left>  Gaussian_noise.variance</td><td class=tg-right>0.15624655559093834</td><td class=tg-center>    +ve    </td><td class=tg-center>      </td></tr>\n</table>"
      }
     },
     "284d6c5f39d84252862524b820606e13": {
      "model_module": "@jupyter-widgets/controls",
      "model_module_version": "1.5.0",
      "model_name": "DescriptionStyleModel",
      "state": {
       "description_width": ""
      }
     },
     "2852fb61adfa4bd49fd1767c9e69b7ac": {
      "model_module": "@jupyter-widgets/controls",
      "model_module_version": "1.5.0",
      "model_name": "IntProgressModel",
      "state": {
       "bar_style": "success",
       "layout": "IPY_MODEL_05c7743140774fe5be55e33b18af6e87",
       "max": 1000,
       "style": "IPY_MODEL_3d1a00a5c205438fbbf8fe7bcc820a3d",
       "value": 34
      }
     },
     "2864d164e69b488bb815c1b332442d4b": {
      "model_module": "@jupyter-widgets/controls",
      "model_module_version": "1.5.0",
      "model_name": "HBoxModel",
      "state": {
       "children": [
        "IPY_MODEL_782263c49569412ab273c8eac87480bf",
        "IPY_MODEL_3d81fc06b18943638e77a626d7d3a808"
       ],
       "layout": "IPY_MODEL_19a633e69ca0428bae2ec57d7c78e28d"
      }
     },
     "2880390fc97b45e68509ce4191d1e617": {
      "model_module": "@jupyter-widgets/controls",
      "model_module_version": "1.5.0",
      "model_name": "HBoxModel",
      "state": {
       "children": [
        "IPY_MODEL_27f78be9d7464683b194161e5ccabfd6",
        "IPY_MODEL_a2435d5bacdd4ae8990c7dd28ef99fed"
       ],
       "layout": "IPY_MODEL_4ed291c5d89f4856a4ce55f6a5abb84d"
      }
     },
     "28924bfb94cb4ab883a0908b43e9b95c": {
      "model_module": "@jupyter-widgets/base",
      "model_module_version": "1.2.0",
      "model_name": "LayoutModel",
      "state": {}
     },
     "28c77015e42143b8971d326420bb5280": {
      "model_module": "@jupyter-widgets/base",
      "model_module_version": "1.2.0",
      "model_name": "LayoutModel",
      "state": {}
     },
     "28fa0babe13f47b581c5b6e574a57f7d": {
      "model_module": "@jupyter-widgets/controls",
      "model_module_version": "1.5.0",
      "model_name": "DescriptionStyleModel",
      "state": {
       "description_width": ""
      }
     },
     "29722e2ce0944518b685cbf526306b76": {
      "model_module": "@jupyter-widgets/controls",
      "model_module_version": "1.5.0",
      "model_name": "HBoxModel",
      "state": {
       "children": [
        "IPY_MODEL_8595e63f4141456fbd5e20cd0a37f99f",
        "IPY_MODEL_9567d2ffd18e4686bd1d005c3299b131"
       ],
       "layout": "IPY_MODEL_00ba4b306a7b4a1f9aecf5739b6810c9"
      }
     },
     "29a7b6b159b04943863a66af63dfce91": {
      "model_module": "@jupyter-widgets/controls",
      "model_module_version": "1.5.0",
      "model_name": "DescriptionStyleModel",
      "state": {
       "description_width": ""
      }
     },
     "29ea71c9d5534e2188975fbd645e1236": {
      "model_module": "@jupyter-widgets/controls",
      "model_module_version": "1.5.0",
      "model_name": "HTMLModel",
      "state": {
       "layout": "IPY_MODEL_580dd36b089f46038c380b90ef6751d8",
       "style": "IPY_MODEL_2126e6bbddde4444a41a56fa35ef4608",
       "value": "<style type=\"text/css\">\n    .tg-opt  {font-family:\"Courier New\", Courier, monospace !important;padding:2px 3px;word-break:normal;border-collapse:collapse;border-spacing:0;border-color:#DCDCDC;margin:0px auto;width:100%;}\n    .tg-opt td{font-family:\"Courier New\", Courier, monospace !important;font-weight:bold;color:#444;background-color:#F7FDFA;border-style:solid;border-width:1px;overflow:hidden;word-break:normal;border-color:#DCDCDC;}\n    .tg-opt th{font-family:\"Courier New\", Courier, monospace !important;font-weight:normal;color:#fff;background-color:#26ADE4;border-style:solid;border-width:1px;overflow:hidden;word-break:normal;border-color:#DCDCDC;}\n    .tg-opt .tg-left{font-family:\"Courier New\", Courier, monospace !important;font-weight:normal;text-align:left;}\n    .tg-opt .tg-right{font-family:\"Courier New\", Courier, monospace !important;font-weight:normal;text-align:right;}\n    </style>\n    <table class=\"tg-opt\"><tr><td class='tg-left'>optimizer</td><td class='tg-right'>L-BFGS-B (Scipy implementation)</td></tr><tr><td class='tg-left'>runtime</td><td class='tg-right'>00s28</td></tr><tr><td class='tg-left'>evaluation</td><td class='tg-right'>0041</td></tr><tr><td class='tg-left'>objective</td><td class='tg-right'>   9.281E+01</td></tr><tr><td class='tg-left'>||gradient||</td><td class='tg-right'>  +3.468E-07</td></tr><tr><td class='tg-left'>status</td><td class='tg-right'>Converged</td></tr></table>"
      }
     },
     "2ae56af52653454fad8e2301b9e7ff05": {
      "model_module": "@jupyter-widgets/controls",
      "model_module_version": "1.5.0",
      "model_name": "HTMLModel",
      "state": {
       "layout": "IPY_MODEL_2de33589ef8c4f7ea310c1ec6c978c07",
       "style": "IPY_MODEL_8ac0a4ada15c4a6abbfd0c8d3d713f79",
       "value": "<style type=\"text/css\">\n.pd{\n    font-family: \"Courier New\", Courier, monospace !important;\n    width: 100%;\n    padding: 3px;\n}\n</style>\n\n<p class=pd>\n<b>Model</b>: GP regression<br>\n<b>Objective</b>: 89.44195926467174<br>\n<b>Number of Parameters</b>: 12<br>\n<b>Number of Optimization Parameters</b>: 12<br>\n<b>Updates</b>: True<br>\n</p>\n<style type=\"text/css\">\n.tg  {font-family:\"Courier New\", Courier, monospace !important;padding:2px 3px;word-break:normal;border-collapse:collapse;border-spacing:0;border-color:#DCDCDC;margin:0px auto;width:100%;}\n.tg td{font-family:\"Courier New\", Courier, monospace !important;font-weight:bold;color:#444;background-color:#F7FDFA;border-style:solid;border-width:1px;overflow:hidden;word-break:normal;border-color:#DCDCDC;}\n.tg th{font-family:\"Courier New\", Courier, monospace !important;font-weight:normal;color:#fff;background-color:#26ADE4;border-style:solid;border-width:1px;overflow:hidden;word-break:normal;border-color:#DCDCDC;}\n.tg .tg-left{font-family:\"Courier New\", Courier, monospace !important;font-weight:normal;text-align:left;}\n.tg .tg-center{font-family:\"Courier New\", Courier, monospace !important;font-weight:normal;text-align:center;}\n.tg .tg-right{font-family:\"Courier New\", Courier, monospace !important;font-weight:normal;text-align:right;}\n</style>\n<table class=\"tg\"><tr><th><b>  GP_regression.         </b></th><th><b>              value</b></th><th><b>constraints</b></th><th><b>priors</b></th></tr>\n<tr><td class=tg-left>  constmap.C             </td><td class=tg-right>  5.112242974949573</td><td class=tg-center>           </td><td class=tg-center>      </td></tr>\n<tr><td class=tg-left>  rbf.variance           </td><td class=tg-right> 14.670911996164772</td><td class=tg-center>    +ve    </td><td class=tg-center>      </td></tr>\n<tr><td class=tg-left>  rbf.lengthscale        </td><td class=tg-right>               (9,)</td><td class=tg-center>    +ve    </td><td class=tg-center>      </td></tr>\n<tr><td class=tg-left>  Gaussian_noise.variance</td><td class=tg-right>0.15450220641507645</td><td class=tg-center>    +ve    </td><td class=tg-center>      </td></tr>\n</table>"
      }
     },
     "2aebcc9561b64dfcbf79908e4b366c41": {
      "model_module": "@jupyter-widgets/base",
      "model_module_version": "1.2.0",
      "model_name": "LayoutModel",
      "state": {}
     },
     "2b9f83b6284f4f2aae8eba1ae027dd6f": {
      "model_module": "@jupyter-widgets/base",
      "model_module_version": "1.2.0",
      "model_name": "LayoutModel",
      "state": {}
     },
     "2c897e3610c5483d9c99606b8605d620": {
      "model_module": "@jupyter-widgets/base",
      "model_module_version": "1.2.0",
      "model_name": "LayoutModel",
      "state": {}
     },
     "2cf50c00212d4b9081a5240d5aa802ba": {
      "model_module": "@jupyter-widgets/base",
      "model_module_version": "1.2.0",
      "model_name": "LayoutModel",
      "state": {}
     },
     "2de33589ef8c4f7ea310c1ec6c978c07": {
      "model_module": "@jupyter-widgets/base",
      "model_module_version": "1.2.0",
      "model_name": "LayoutModel",
      "state": {}
     },
     "2e0ade36c537423db2c13af284c60a8d": {
      "model_module": "@jupyter-widgets/base",
      "model_module_version": "1.2.0",
      "model_name": "LayoutModel",
      "state": {}
     },
     "2e353368a5434f98bbdbb3e1fb48b43f": {
      "model_module": "@jupyter-widgets/controls",
      "model_module_version": "1.5.0",
      "model_name": "HBoxModel",
      "state": {
       "children": [
        "IPY_MODEL_549a64217a964a65ac1ce57c0f8b49ea",
        "IPY_MODEL_3608d01756964d2487ac0671cbd9ab13"
       ],
       "layout": "IPY_MODEL_1a802f19e95e4f7caf9d1b3f3de3baa1"
      }
     },
     "2ed8a7f793e148f5a307c3b079a84d24": {
      "model_module": "@jupyter-widgets/controls",
      "model_module_version": "1.5.0",
      "model_name": "ProgressStyleModel",
      "state": {
       "description_width": ""
      }
     },
     "2ef9c97c3f6b452aa3ec5638eec62a0f": {
      "model_module": "@jupyter-widgets/base",
      "model_module_version": "1.2.0",
      "model_name": "LayoutModel",
      "state": {}
     },
     "2f57d7b45c274c6f98ec3779eca135e7": {
      "model_module": "@jupyter-widgets/base",
      "model_module_version": "1.2.0",
      "model_name": "LayoutModel",
      "state": {}
     },
     "2f77b9bbeed64df2b7cc766288e5bbac": {
      "model_module": "@jupyter-widgets/controls",
      "model_module_version": "1.5.0",
      "model_name": "DescriptionStyleModel",
      "state": {
       "description_width": ""
      }
     },
     "2f7a740fbf4b435c825d7062a08ca866": {
      "model_module": "@jupyter-widgets/base",
      "model_module_version": "1.2.0",
      "model_name": "LayoutModel",
      "state": {}
     },
     "30199d41cc2e4d1386302c4a83df9800": {
      "model_module": "@jupyter-widgets/base",
      "model_module_version": "1.2.0",
      "model_name": "LayoutModel",
      "state": {}
     },
     "3036d0bc520540b1b16a6378642c98e4": {
      "model_module": "@jupyter-widgets/base",
      "model_module_version": "1.2.0",
      "model_name": "LayoutModel",
      "state": {}
     },
     "308a665d2d4047a482c4bf9f610905d4": {
      "model_module": "@jupyter-widgets/controls",
      "model_module_version": "1.5.0",
      "model_name": "BoxModel",
      "state": {
       "children": [
        "IPY_MODEL_f50f6550d577426d98c9f2bc985d1f0d"
       ],
       "layout": "IPY_MODEL_50c849d42553454fb149ca11bab4022f"
      }
     },
     "309d4e0b495e4d52aa7ec79cb0db91c2": {
      "model_module": "@jupyter-widgets/controls",
      "model_module_version": "1.5.0",
      "model_name": "BoxModel",
      "state": {
       "children": [
        "IPY_MODEL_e15ae9b7c81d47adb31cfa61101be172"
       ],
       "layout": "IPY_MODEL_1c8360a59a9a4165b1ec7416b26bd673"
      }
     },
     "30c1cfd17e7749bfb00cbfc3818ca624": {
      "model_module": "@jupyter-widgets/base",
      "model_module_version": "1.2.0",
      "model_name": "LayoutModel",
      "state": {}
     },
     "31001d59cd2545d7ae16668c606b9a2e": {
      "model_module": "@jupyter-widgets/base",
      "model_module_version": "1.2.0",
      "model_name": "LayoutModel",
      "state": {}
     },
     "3176786836a24b5d9b9556fb41e14f93": {
      "model_module": "@jupyter-widgets/controls",
      "model_module_version": "1.5.0",
      "model_name": "DescriptionStyleModel",
      "state": {
       "description_width": ""
      }
     },
     "31cd272588484552bb7df3929d60accd": {
      "model_module": "@jupyter-widgets/controls",
      "model_module_version": "1.5.0",
      "model_name": "DescriptionStyleModel",
      "state": {
       "description_width": ""
      }
     },
     "327c86c19d86458fb2b612dcafe185ef": {
      "model_module": "@jupyter-widgets/controls",
      "model_module_version": "1.5.0",
      "model_name": "HBoxModel",
      "state": {
       "children": [
        "IPY_MODEL_9a51ac7af0284932b9d7dd38c9f14bb7",
        "IPY_MODEL_79cda5e178e34f1e97e55fce125e9023"
       ],
       "layout": "IPY_MODEL_ba21f02f1bbc4c0aa510ba7592e12c0e"
      }
     },
     "331103a5921b4245a7a8c032630a262b": {
      "model_module": "@jupyter-widgets/base",
      "model_module_version": "1.2.0",
      "model_name": "LayoutModel",
      "state": {}
     },
     "3335c61e2f4f47188f6c7a52aa6732f2": {
      "model_module": "@jupyter-widgets/controls",
      "model_module_version": "1.5.0",
      "model_name": "HBoxModel",
      "state": {
       "children": [
        "IPY_MODEL_daad317db4c54e7eab7d820483c46401",
        "IPY_MODEL_418d4848fc294fa09ad77c2b9dc67ea0"
       ],
       "layout": "IPY_MODEL_021cacc62b244a3791c7cf81979a7c44"
      }
     },
     "33579cbfd22946dfa2df61b893b2fdc8": {
      "model_module": "@jupyter-widgets/base",
      "model_module_version": "1.2.0",
      "model_name": "LayoutModel",
      "state": {}
     },
     "3382820e9c004deebb153bf10555d712": {
      "model_module": "@jupyter-widgets/base",
      "model_module_version": "1.2.0",
      "model_name": "LayoutModel",
      "state": {}
     },
     "33914f48ca5c44b89042d63ce0fdbf31": {
      "model_module": "@jupyter-widgets/controls",
      "model_module_version": "1.5.0",
      "model_name": "HBoxModel",
      "state": {
       "children": [
        "IPY_MODEL_10df15ce939a447bba5a02ee1a515e6f",
        "IPY_MODEL_e2b2139e6ee0457ca3f93ea078d62990"
       ],
       "layout": "IPY_MODEL_965b7424abdc4d93b73d40e53af1be08"
      }
     },
     "33ab563f246f4dcf83863b5ea32a4c2a": {
      "model_module": "@jupyter-widgets/base",
      "model_module_version": "1.2.0",
      "model_name": "LayoutModel",
      "state": {}
     },
     "33ff2806f6bf4a1f96e7e099c3d30263": {
      "model_module": "@jupyter-widgets/base",
      "model_module_version": "1.2.0",
      "model_name": "LayoutModel",
      "state": {}
     },
     "3407d4a9aef44f44bc2df30645122ea4": {
      "model_module": "@jupyter-widgets/controls",
      "model_module_version": "1.5.0",
      "model_name": "HTMLModel",
      "state": {
       "layout": "IPY_MODEL_e0c3e283417241ddbd8ad5e125b029a5",
       "style": "IPY_MODEL_26b39cf8c3a342d39e81227f2dae9c72",
       "value": "<style type=\"text/css\">\n.pd{\n    font-family: \"Courier New\", Courier, monospace !important;\n    width: 100%;\n    padding: 3px;\n}\n</style>\n\n<p class=pd>\n<b>Model</b>: GP regression<br>\n<b>Objective</b>: 90.19349674242068<br>\n<b>Number of Parameters</b>: 12<br>\n<b>Number of Optimization Parameters</b>: 12<br>\n<b>Updates</b>: True<br>\n</p>\n<style type=\"text/css\">\n.tg  {font-family:\"Courier New\", Courier, monospace !important;padding:2px 3px;word-break:normal;border-collapse:collapse;border-spacing:0;border-color:#DCDCDC;margin:0px auto;width:100%;}\n.tg td{font-family:\"Courier New\", Courier, monospace !important;font-weight:bold;color:#444;background-color:#F7FDFA;border-style:solid;border-width:1px;overflow:hidden;word-break:normal;border-color:#DCDCDC;}\n.tg th{font-family:\"Courier New\", Courier, monospace !important;font-weight:normal;color:#fff;background-color:#26ADE4;border-style:solid;border-width:1px;overflow:hidden;word-break:normal;border-color:#DCDCDC;}\n.tg .tg-left{font-family:\"Courier New\", Courier, monospace !important;font-weight:normal;text-align:left;}\n.tg .tg-center{font-family:\"Courier New\", Courier, monospace !important;font-weight:normal;text-align:center;}\n.tg .tg-right{font-family:\"Courier New\", Courier, monospace !important;font-weight:normal;text-align:right;}\n</style>\n<table class=\"tg\"><tr><th><b>  GP_regression.         </b></th><th><b>             value</b></th><th><b>constraints</b></th><th><b>priors</b></th></tr>\n<tr><td class=tg-left>  constmap.C             </td><td class=tg-right> 4.328350828321262</td><td class=tg-center>           </td><td class=tg-center>      </td></tr>\n<tr><td class=tg-left>  rbf.variance           </td><td class=tg-right>17.575721492704524</td><td class=tg-center>    +ve    </td><td class=tg-center>      </td></tr>\n<tr><td class=tg-left>  rbf.lengthscale        </td><td class=tg-right>              (9,)</td><td class=tg-center>    +ve    </td><td class=tg-center>      </td></tr>\n<tr><td class=tg-left>  Gaussian_noise.variance</td><td class=tg-right>0.1637437109429366</td><td class=tg-center>    +ve    </td><td class=tg-center>      </td></tr>\n</table>"
      }
     },
     "348f1ebb2d4c4abc9ff5ca2328a1a9d8": {
      "model_module": "@jupyter-widgets/base",
      "model_module_version": "1.2.0",
      "model_name": "LayoutModel",
      "state": {}
     },
     "34a82fd9293748efbc9e693cd728a93b": {
      "model_module": "@jupyter-widgets/base",
      "model_module_version": "1.2.0",
      "model_name": "LayoutModel",
      "state": {}
     },
     "35211ee5d5864a85a0025fb62b4f5fb7": {
      "model_module": "@jupyter-widgets/controls",
      "model_module_version": "1.5.0",
      "model_name": "IntProgressModel",
      "state": {
       "bar_style": "success",
       "layout": "IPY_MODEL_477364af03b44738a4ba145525ca8ed9",
       "max": 1000,
       "style": "IPY_MODEL_dd49199cf5ed4b339e3812af542501dc",
       "value": 48
      }
     },
     "3549c5b3673948fd98ede35767efa0ec": {
      "model_module": "@jupyter-widgets/base",
      "model_module_version": "1.2.0",
      "model_name": "LayoutModel",
      "state": {}
     },
     "3558694943624c05a75275fbe1ecbdb1": {
      "model_module": "@jupyter-widgets/controls",
      "model_module_version": "1.5.0",
      "model_name": "HTMLModel",
      "state": {
       "layout": "IPY_MODEL_2f7a740fbf4b435c825d7062a08ca866",
       "style": "IPY_MODEL_6c0528ff2d74480f907f1c53fc5876bc",
       "value": "<style type=\"text/css\">\n    .tg-opt  {font-family:\"Courier New\", Courier, monospace !important;padding:2px 3px;word-break:normal;border-collapse:collapse;border-spacing:0;border-color:#DCDCDC;margin:0px auto;width:100%;}\n    .tg-opt td{font-family:\"Courier New\", Courier, monospace !important;font-weight:bold;color:#444;background-color:#F7FDFA;border-style:solid;border-width:1px;overflow:hidden;word-break:normal;border-color:#DCDCDC;}\n    .tg-opt th{font-family:\"Courier New\", Courier, monospace !important;font-weight:normal;color:#fff;background-color:#26ADE4;border-style:solid;border-width:1px;overflow:hidden;word-break:normal;border-color:#DCDCDC;}\n    .tg-opt .tg-left{font-family:\"Courier New\", Courier, monospace !important;font-weight:normal;text-align:left;}\n    .tg-opt .tg-right{font-family:\"Courier New\", Courier, monospace !important;font-weight:normal;text-align:right;}\n    </style>\n    <table class=\"tg-opt\"><tr><td class='tg-left'>optimizer</td><td class='tg-right'>L-BFGS-B (Scipy implementation)</td></tr><tr><td class='tg-left'>runtime</td><td class='tg-right'>00s30</td></tr><tr><td class='tg-left'>evaluation</td><td class='tg-right'>0045</td></tr><tr><td class='tg-left'>objective</td><td class='tg-right'>   9.154E+01</td></tr><tr><td class='tg-left'>||gradient||</td><td class='tg-right'>  +5.626E-07</td></tr><tr><td class='tg-left'>status</td><td class='tg-right'>Converged</td></tr></table>"
      }
     },
     "35b820a8d647468b816f2be33087cae9": {
      "model_module": "@jupyter-widgets/controls",
      "model_module_version": "1.5.0",
      "model_name": "HBoxModel",
      "state": {
       "children": [
        "IPY_MODEL_6c0f72be94754d04ad09721a0e4b27db",
        "IPY_MODEL_308a665d2d4047a482c4bf9f610905d4"
       ],
       "layout": "IPY_MODEL_190cabfbfeab4e7884b8b9d9765b6cba"
      }
     },
     "3608d01756964d2487ac0671cbd9ab13": {
      "model_module": "@jupyter-widgets/controls",
      "model_module_version": "1.5.0",
      "model_name": "BoxModel",
      "state": {
       "children": [
        "IPY_MODEL_63ff44a14909407bb92a05650100bc37"
       ],
       "layout": "IPY_MODEL_33579cbfd22946dfa2df61b893b2fdc8"
      }
     },
     "36e812395e4a444abdba37d8e55780f7": {
      "model_module": "@jupyter-widgets/base",
      "model_module_version": "1.2.0",
      "model_name": "LayoutModel",
      "state": {}
     },
     "3700d9e61af34aef846cf7a928be418f": {
      "model_module": "@jupyter-widgets/base",
      "model_module_version": "1.2.0",
      "model_name": "LayoutModel",
      "state": {}
     },
     "370e9b17f8ec4bf0bb896dc3e02091ad": {
      "model_module": "@jupyter-widgets/controls",
      "model_module_version": "1.5.0",
      "model_name": "IntProgressModel",
      "state": {
       "bar_style": "success",
       "layout": "IPY_MODEL_9f09b7da7d954b0c96da236759426caa",
       "max": 1000,
       "style": "IPY_MODEL_703dc2b079de4b768d919eda33e8b3f0",
       "value": 45
      }
     },
     "37b55073b08d4d53902213f665722e10": {
      "model_module": "@jupyter-widgets/base",
      "model_module_version": "1.2.0",
      "model_name": "LayoutModel",
      "state": {}
     },
     "37cf28a772c6484da50daff5cf83df04": {
      "model_module": "@jupyter-widgets/base",
      "model_module_version": "1.2.0",
      "model_name": "LayoutModel",
      "state": {}
     },
     "37fd0aab672a48ef98eced04a2a94caf": {
      "model_module": "@jupyter-widgets/controls",
      "model_module_version": "1.5.0",
      "model_name": "BoxModel",
      "state": {
       "children": [
        "IPY_MODEL_b010c80e235b49d4a0b90f8e80d76458"
       ],
       "layout": "IPY_MODEL_a54ad1ae18c249f6863ffd62e602f751"
      }
     },
     "3831081aba1f44a8ba49e667ad59acca": {
      "model_module": "@jupyter-widgets/controls",
      "model_module_version": "1.5.0",
      "model_name": "HTMLModel",
      "state": {
       "layout": "IPY_MODEL_c5106d18b3e74c35a1ac45ee1fabafcf",
       "style": "IPY_MODEL_669daa1e12d2414ba57d77c9961a43a6",
       "value": "<style type=\"text/css\">\n.pd{\n    font-family: \"Courier New\", Courier, monospace !important;\n    width: 100%;\n    padding: 3px;\n}\n</style>\n\n<p class=pd>\n<b>Model</b>: GP regression<br>\n<b>Objective</b>: 92.62459636773801<br>\n<b>Number of Parameters</b>: 12<br>\n<b>Number of Optimization Parameters</b>: 12<br>\n<b>Updates</b>: True<br>\n</p>\n<style type=\"text/css\">\n.tg  {font-family:\"Courier New\", Courier, monospace !important;padding:2px 3px;word-break:normal;border-collapse:collapse;border-spacing:0;border-color:#DCDCDC;margin:0px auto;width:100%;}\n.tg td{font-family:\"Courier New\", Courier, monospace !important;font-weight:bold;color:#444;background-color:#F7FDFA;border-style:solid;border-width:1px;overflow:hidden;word-break:normal;border-color:#DCDCDC;}\n.tg th{font-family:\"Courier New\", Courier, monospace !important;font-weight:normal;color:#fff;background-color:#26ADE4;border-style:solid;border-width:1px;overflow:hidden;word-break:normal;border-color:#DCDCDC;}\n.tg .tg-left{font-family:\"Courier New\", Courier, monospace !important;font-weight:normal;text-align:left;}\n.tg .tg-center{font-family:\"Courier New\", Courier, monospace !important;font-weight:normal;text-align:center;}\n.tg .tg-right{font-family:\"Courier New\", Courier, monospace !important;font-weight:normal;text-align:right;}\n</style>\n<table class=\"tg\"><tr><th><b>  GP_regression.         </b></th><th><b>             value</b></th><th><b>constraints</b></th><th><b>priors</b></th></tr>\n<tr><td class=tg-left>  constmap.C             </td><td class=tg-right> 4.990905362334761</td><td class=tg-center>           </td><td class=tg-center>      </td></tr>\n<tr><td class=tg-left>  rbf.variance           </td><td class=tg-right>15.164808204116767</td><td class=tg-center>    +ve    </td><td class=tg-center>      </td></tr>\n<tr><td class=tg-left>  rbf.lengthscale        </td><td class=tg-right>              (9,)</td><td class=tg-center>    +ve    </td><td class=tg-center>      </td></tr>\n<tr><td class=tg-left>  Gaussian_noise.variance</td><td class=tg-right>0.1734994363493239</td><td class=tg-center>    +ve    </td><td class=tg-center>      </td></tr>\n</table>"
      }
     },
     "3a46d05d375f4ff98279f821807565fd": {
      "model_module": "@jupyter-widgets/base",
      "model_module_version": "1.2.0",
      "model_name": "LayoutModel",
      "state": {}
     },
     "3a4d0aebcb264ed58bc29935f298279a": {
      "model_module": "@jupyter-widgets/controls",
      "model_module_version": "1.5.0",
      "model_name": "BoxModel",
      "state": {
       "children": [
        "IPY_MODEL_b92c453b735141eba14ec183d6998d60"
       ],
       "layout": "IPY_MODEL_ae2cdc36ae374cbe95563c5439134c02"
      }
     },
     "3a50a374a0fb498091ac7f848e5ea5db": {
      "model_module": "@jupyter-widgets/controls",
      "model_module_version": "1.5.0",
      "model_name": "ProgressStyleModel",
      "state": {
       "description_width": ""
      }
     },
     "3aa2a7ab59cc495a9b057a02ebe8d4ba": {
      "model_module": "@jupyter-widgets/controls",
      "model_module_version": "1.5.0",
      "model_name": "HBoxModel",
      "state": {
       "children": [
        "IPY_MODEL_d8b00c3194ca455fae7a02e3b69c2bf7",
        "IPY_MODEL_bdfaaa4f415c4e53882590ca8ef8241e"
       ],
       "layout": "IPY_MODEL_d47f84f6fcad4065be8c043324255412"
      }
     },
     "3ab54f8cde1d49d6928b517ed7741075": {
      "model_module": "@jupyter-widgets/base",
      "model_module_version": "1.2.0",
      "model_name": "LayoutModel",
      "state": {}
     },
     "3b04008b72c145e3aedc333ec4920bb5": {
      "model_module": "@jupyter-widgets/controls",
      "model_module_version": "1.5.0",
      "model_name": "ProgressStyleModel",
      "state": {
       "description_width": ""
      }
     },
     "3b584c6f74284a32befe05d7c290b4d1": {
      "model_module": "@jupyter-widgets/controls",
      "model_module_version": "1.5.0",
      "model_name": "HBoxModel",
      "state": {
       "children": [
        "IPY_MODEL_720a329860b848aaaf42489b861d9c29",
        "IPY_MODEL_be112a54351c4196af1b1d3cc4c64152"
       ],
       "layout": "IPY_MODEL_4d22b746f5d7405893ab19ef1ecff968"
      }
     },
     "3b6a57ab501c4c59a4e6fe205520657a": {
      "model_module": "@jupyter-widgets/controls",
      "model_module_version": "1.5.0",
      "model_name": "IntProgressModel",
      "state": {
       "bar_style": "success",
       "layout": "IPY_MODEL_7dae1ad995ea41b087ba408b8a394eaf",
       "max": 1000,
       "style": "IPY_MODEL_2ed8a7f793e148f5a307c3b079a84d24",
       "value": 52
      }
     },
     "3c622e9b090d4a33976d8e580751b215": {
      "model_module": "@jupyter-widgets/controls",
      "model_module_version": "1.5.0",
      "model_name": "DescriptionStyleModel",
      "state": {
       "description_width": ""
      }
     },
     "3d00a1a897c042aeabf988c9a53f0d8a": {
      "model_module": "@jupyter-widgets/controls",
      "model_module_version": "1.5.0",
      "model_name": "IntProgressModel",
      "state": {
       "bar_style": "success",
       "layout": "IPY_MODEL_dccb6bacbfd546a3bb5c962b505c006e",
       "max": 1000,
       "style": "IPY_MODEL_e70d11d83bc945f5adabab8836792271",
       "value": 52
      }
     },
     "3d1a00a5c205438fbbf8fe7bcc820a3d": {
      "model_module": "@jupyter-widgets/controls",
      "model_module_version": "1.5.0",
      "model_name": "ProgressStyleModel",
      "state": {
       "description_width": ""
      }
     },
     "3d5b80362676416093f02b59d58d3a2b": {
      "model_module": "@jupyter-widgets/controls",
      "model_module_version": "1.5.0",
      "model_name": "BoxModel",
      "state": {
       "children": [
        "IPY_MODEL_503513ce7bb546dc998d17a094d895c1"
       ],
       "layout": "IPY_MODEL_db802033885c45a091f5dad111795c47"
      }
     },
     "3d81fc06b18943638e77a626d7d3a808": {
      "model_module": "@jupyter-widgets/controls",
      "model_module_version": "1.5.0",
      "model_name": "BoxModel",
      "state": {
       "children": [
        "IPY_MODEL_55ccace5505c4f379d701bb54aed24ba"
       ],
       "layout": "IPY_MODEL_3ab54f8cde1d49d6928b517ed7741075"
      }
     },
     "3da2972288c247f39de294107f31f8b1": {
      "model_module": "@jupyter-widgets/controls",
      "model_module_version": "1.5.0",
      "model_name": "HTMLModel",
      "state": {
       "layout": "IPY_MODEL_70ca8f3f57f0425983bdb892de0dbe2c",
       "style": "IPY_MODEL_284d6c5f39d84252862524b820606e13",
       "value": "<style type=\"text/css\">\n    .tg-opt  {font-family:\"Courier New\", Courier, monospace !important;padding:2px 3px;word-break:normal;border-collapse:collapse;border-spacing:0;border-color:#DCDCDC;margin:0px auto;width:100%;}\n    .tg-opt td{font-family:\"Courier New\", Courier, monospace !important;font-weight:bold;color:#444;background-color:#F7FDFA;border-style:solid;border-width:1px;overflow:hidden;word-break:normal;border-color:#DCDCDC;}\n    .tg-opt th{font-family:\"Courier New\", Courier, monospace !important;font-weight:normal;color:#fff;background-color:#26ADE4;border-style:solid;border-width:1px;overflow:hidden;word-break:normal;border-color:#DCDCDC;}\n    .tg-opt .tg-left{font-family:\"Courier New\", Courier, monospace !important;font-weight:normal;text-align:left;}\n    .tg-opt .tg-right{font-family:\"Courier New\", Courier, monospace !important;font-weight:normal;text-align:right;}\n    </style>\n    <table class=\"tg-opt\"><tr><td class='tg-left'>optimizer</td><td class='tg-right'>L-BFGS-B (Scipy implementation)</td></tr><tr><td class='tg-left'>runtime</td><td class='tg-right'>00s27</td></tr><tr><td class='tg-left'>evaluation</td><td class='tg-right'>0040</td></tr><tr><td class='tg-left'>objective</td><td class='tg-right'>  -2.384E+02</td></tr><tr><td class='tg-left'>||gradient||</td><td class='tg-right'>  +1.140E-08</td></tr><tr><td class='tg-left'>status</td><td class='tg-right'>Converged</td></tr></table>"
      }
     },
     "3e94659437694cfa93b029b1c88502b5": {
      "model_module": "@jupyter-widgets/controls",
      "model_module_version": "1.5.0",
      "model_name": "DescriptionStyleModel",
      "state": {
       "description_width": ""
      }
     },
     "3ea3e9bcd4114e72b7da31023436f6c5": {
      "model_module": "@jupyter-widgets/controls",
      "model_module_version": "1.5.0",
      "model_name": "DescriptionStyleModel",
      "state": {
       "description_width": ""
      }
     },
     "3f264bf1b8be479bae66b960a3b6abe5": {
      "model_module": "@jupyter-widgets/controls",
      "model_module_version": "1.5.0",
      "model_name": "VBoxModel",
      "state": {
       "children": [
        "IPY_MODEL_127e7af9cc5e49d9a05554de06db6d4c",
        "IPY_MODEL_f5fda0927bae40d981abf510ace0f982"
       ],
       "layout": "IPY_MODEL_2aebcc9561b64dfcbf79908e4b366c41"
      }
     },
     "3fbcc20f12f042f08a505954458459cc": {
      "model_module": "@jupyter-widgets/controls",
      "model_module_version": "1.5.0",
      "model_name": "ProgressStyleModel",
      "state": {
       "description_width": ""
      }
     },
     "3fd236cfe0ba48908db0ca5e13bea2f4": {
      "model_module": "@jupyter-widgets/controls",
      "model_module_version": "1.5.0",
      "model_name": "ProgressStyleModel",
      "state": {
       "description_width": ""
      }
     },
     "405ed792db2f4284b65a173d62f13865": {
      "model_module": "@jupyter-widgets/base",
      "model_module_version": "1.2.0",
      "model_name": "LayoutModel",
      "state": {}
     },
     "40707a146b6948db8891501844ef2ce0": {
      "model_module": "@jupyter-widgets/controls",
      "model_module_version": "1.5.0",
      "model_name": "ProgressStyleModel",
      "state": {
       "description_width": ""
      }
     },
     "40bd5c64535a496081e7f0a98fbaf4e0": {
      "model_module": "@jupyter-widgets/controls",
      "model_module_version": "1.5.0",
      "model_name": "HTMLModel",
      "state": {
       "layout": "IPY_MODEL_ea8c0712b19442b3bbc4a5de53d5f196",
       "style": "IPY_MODEL_cfdfec76e03e47139d0acc5397c8e74e",
       "value": "<style type=\"text/css\">\n.pd{\n    font-family: \"Courier New\", Courier, monospace !important;\n    width: 100%;\n    padding: 3px;\n}\n</style>\n\n<p class=pd>\n<b>Model</b>: GP regression<br>\n<b>Objective</b>: 90.18492152797978<br>\n<b>Number of Parameters</b>: 12<br>\n<b>Number of Optimization Parameters</b>: 12<br>\n<b>Updates</b>: True<br>\n</p>\n<style type=\"text/css\">\n.tg  {font-family:\"Courier New\", Courier, monospace !important;padding:2px 3px;word-break:normal;border-collapse:collapse;border-spacing:0;border-color:#DCDCDC;margin:0px auto;width:100%;}\n.tg td{font-family:\"Courier New\", Courier, monospace !important;font-weight:bold;color:#444;background-color:#F7FDFA;border-style:solid;border-width:1px;overflow:hidden;word-break:normal;border-color:#DCDCDC;}\n.tg th{font-family:\"Courier New\", Courier, monospace !important;font-weight:normal;color:#fff;background-color:#26ADE4;border-style:solid;border-width:1px;overflow:hidden;word-break:normal;border-color:#DCDCDC;}\n.tg .tg-left{font-family:\"Courier New\", Courier, monospace !important;font-weight:normal;text-align:left;}\n.tg .tg-center{font-family:\"Courier New\", Courier, monospace !important;font-weight:normal;text-align:center;}\n.tg .tg-right{font-family:\"Courier New\", Courier, monospace !important;font-weight:normal;text-align:right;}\n</style>\n<table class=\"tg\"><tr><th><b>  GP_regression.         </b></th><th><b>              value</b></th><th><b>constraints</b></th><th><b>priors</b></th></tr>\n<tr><td class=tg-left>  constmap.C             </td><td class=tg-right>   6.16512637491808</td><td class=tg-center>           </td><td class=tg-center>      </td></tr>\n<tr><td class=tg-left>  rbf.variance           </td><td class=tg-right> 13.356564349296088</td><td class=tg-center>    +ve    </td><td class=tg-center>      </td></tr>\n<tr><td class=tg-left>  rbf.lengthscale        </td><td class=tg-right>               (9,)</td><td class=tg-center>    +ve    </td><td class=tg-center>      </td></tr>\n<tr><td class=tg-left>  Gaussian_noise.variance</td><td class=tg-right>0.16637301368374174</td><td class=tg-center>    +ve    </td><td class=tg-center>      </td></tr>\n</table>"
      }
     },
     "40da11ab2a0d445ab474bc1421572abe": {
      "model_module": "@jupyter-widgets/controls",
      "model_module_version": "1.5.0",
      "model_name": "DescriptionStyleModel",
      "state": {
       "description_width": ""
      }
     },
     "418d4848fc294fa09ad77c2b9dc67ea0": {
      "model_module": "@jupyter-widgets/controls",
      "model_module_version": "1.5.0",
      "model_name": "BoxModel",
      "state": {
       "children": [
        "IPY_MODEL_2ae56af52653454fad8e2301b9e7ff05"
       ],
       "layout": "IPY_MODEL_b54b96b8ca804acdb8c32c0dbebb9fdc"
      }
     },
     "422d3dc33e5245f6b6d9015bc4682120": {
      "model_module": "@jupyter-widgets/base",
      "model_module_version": "1.2.0",
      "model_name": "LayoutModel",
      "state": {}
     },
     "4276be52f1fd44d7aad37ecdc43353e1": {
      "model_module": "@jupyter-widgets/base",
      "model_module_version": "1.2.0",
      "model_name": "LayoutModel",
      "state": {}
     },
     "4295cb6aeaaa49de94c548a29782975d": {
      "model_module": "@jupyter-widgets/controls",
      "model_module_version": "1.5.0",
      "model_name": "ProgressStyleModel",
      "state": {
       "description_width": ""
      }
     },
     "429952dd70db4ac5ad9978468528dddc": {
      "model_module": "@jupyter-widgets/controls",
      "model_module_version": "1.5.0",
      "model_name": "HTMLModel",
      "state": {
       "layout": "IPY_MODEL_8e7fd3fd2eb9455e905fb1ade6df777c",
       "style": "IPY_MODEL_21c76ee202a9412a982aea310ba7be56",
       "value": "<style type=\"text/css\">\n    .tg-opt  {font-family:\"Courier New\", Courier, monospace !important;padding:2px 3px;word-break:normal;border-collapse:collapse;border-spacing:0;border-color:#DCDCDC;margin:0px auto;width:100%;}\n    .tg-opt td{font-family:\"Courier New\", Courier, monospace !important;font-weight:bold;color:#444;background-color:#F7FDFA;border-style:solid;border-width:1px;overflow:hidden;word-break:normal;border-color:#DCDCDC;}\n    .tg-opt th{font-family:\"Courier New\", Courier, monospace !important;font-weight:normal;color:#fff;background-color:#26ADE4;border-style:solid;border-width:1px;overflow:hidden;word-break:normal;border-color:#DCDCDC;}\n    .tg-opt .tg-left{font-family:\"Courier New\", Courier, monospace !important;font-weight:normal;text-align:left;}\n    .tg-opt .tg-right{font-family:\"Courier New\", Courier, monospace !important;font-weight:normal;text-align:right;}\n    </style>\n    <table class=\"tg-opt\"><tr><td class='tg-left'>optimizer</td><td class='tg-right'>L-BFGS-B (Scipy implementation)</td></tr><tr><td class='tg-left'>runtime</td><td class='tg-right'>00s26</td></tr><tr><td class='tg-left'>evaluation</td><td class='tg-right'>0038</td></tr><tr><td class='tg-left'>objective</td><td class='tg-right'>   9.389E+01</td></tr><tr><td class='tg-left'>||gradient||</td><td class='tg-right'>  +3.179E-07</td></tr><tr><td class='tg-left'>status</td><td class='tg-right'>Converged</td></tr></table>"
      }
     },
     "42dfd0ea60fd4c678ce4a3a82248e018": {
      "model_module": "@jupyter-widgets/controls",
      "model_module_version": "1.5.0",
      "model_name": "HTMLModel",
      "state": {
       "layout": "IPY_MODEL_36e812395e4a444abdba37d8e55780f7",
       "style": "IPY_MODEL_cf2cb918150f49d3977ebb1358a52c52",
       "value": "<style type=\"text/css\">\n.pd{\n    font-family: \"Courier New\", Courier, monospace !important;\n    width: 100%;\n    padding: 3px;\n}\n</style>\n\n<p class=pd>\n<b>Model</b>: GP regression<br>\n<b>Objective</b>: 91.87754043736128<br>\n<b>Number of Parameters</b>: 12<br>\n<b>Number of Optimization Parameters</b>: 12<br>\n<b>Updates</b>: True<br>\n</p>\n<style type=\"text/css\">\n.tg  {font-family:\"Courier New\", Courier, monospace !important;padding:2px 3px;word-break:normal;border-collapse:collapse;border-spacing:0;border-color:#DCDCDC;margin:0px auto;width:100%;}\n.tg td{font-family:\"Courier New\", Courier, monospace !important;font-weight:bold;color:#444;background-color:#F7FDFA;border-style:solid;border-width:1px;overflow:hidden;word-break:normal;border-color:#DCDCDC;}\n.tg th{font-family:\"Courier New\", Courier, monospace !important;font-weight:normal;color:#fff;background-color:#26ADE4;border-style:solid;border-width:1px;overflow:hidden;word-break:normal;border-color:#DCDCDC;}\n.tg .tg-left{font-family:\"Courier New\", Courier, monospace !important;font-weight:normal;text-align:left;}\n.tg .tg-center{font-family:\"Courier New\", Courier, monospace !important;font-weight:normal;text-align:center;}\n.tg .tg-right{font-family:\"Courier New\", Courier, monospace !important;font-weight:normal;text-align:right;}\n</style>\n<table class=\"tg\"><tr><th><b>  GP_regression.         </b></th><th><b>             value</b></th><th><b>constraints</b></th><th><b>priors</b></th></tr>\n<tr><td class=tg-left>  constmap.C             </td><td class=tg-right>4.4890560491304035</td><td class=tg-center>           </td><td class=tg-center>      </td></tr>\n<tr><td class=tg-left>  rbf.variance           </td><td class=tg-right>16.444225563545395</td><td class=tg-center>    +ve    </td><td class=tg-center>      </td></tr>\n<tr><td class=tg-left>  rbf.lengthscale        </td><td class=tg-right>              (9,)</td><td class=tg-center>    +ve    </td><td class=tg-center>      </td></tr>\n<tr><td class=tg-left>  Gaussian_noise.variance</td><td class=tg-right>0.1686352037407116</td><td class=tg-center>    +ve    </td><td class=tg-center>      </td></tr>\n</table>"
      }
     },
     "4322059c40074f3e8ec581d3acf2d9f1": {
      "model_module": "@jupyter-widgets/controls",
      "model_module_version": "1.5.0",
      "model_name": "DescriptionStyleModel",
      "state": {
       "description_width": ""
      }
     },
     "43280b89ed7349efb3a5f77fb7e8953d": {
      "model_module": "@jupyter-widgets/controls",
      "model_module_version": "1.5.0",
      "model_name": "DescriptionStyleModel",
      "state": {
       "description_width": ""
      }
     },
     "436757f854614421b3b7a17a6eb489d6": {
      "model_module": "@jupyter-widgets/controls",
      "model_module_version": "1.5.0",
      "model_name": "HTMLModel",
      "state": {
       "layout": "IPY_MODEL_c63a1ff9ce5346b5831f6f33bdbdde44",
       "style": "IPY_MODEL_5a8788bfb6aa440197027872762e4422",
       "value": "<style type=\"text/css\">\n    .tg-opt  {font-family:\"Courier New\", Courier, monospace !important;padding:2px 3px;word-break:normal;border-collapse:collapse;border-spacing:0;border-color:#DCDCDC;margin:0px auto;width:100%;}\n    .tg-opt td{font-family:\"Courier New\", Courier, monospace !important;font-weight:bold;color:#444;background-color:#F7FDFA;border-style:solid;border-width:1px;overflow:hidden;word-break:normal;border-color:#DCDCDC;}\n    .tg-opt th{font-family:\"Courier New\", Courier, monospace !important;font-weight:normal;color:#fff;background-color:#26ADE4;border-style:solid;border-width:1px;overflow:hidden;word-break:normal;border-color:#DCDCDC;}\n    .tg-opt .tg-left{font-family:\"Courier New\", Courier, monospace !important;font-weight:normal;text-align:left;}\n    .tg-opt .tg-right{font-family:\"Courier New\", Courier, monospace !important;font-weight:normal;text-align:right;}\n    </style>\n    <table class=\"tg-opt\"><tr><td class='tg-left'>optimizer</td><td class='tg-right'>L-BFGS-B (Scipy implementation)</td></tr><tr><td class='tg-left'>runtime</td><td class='tg-right'>00s32</td></tr><tr><td class='tg-left'>evaluation</td><td class='tg-right'>0051</td></tr><tr><td class='tg-left'>objective</td><td class='tg-right'>   8.685E+01</td></tr><tr><td class='tg-left'>||gradient||</td><td class='tg-right'>  +3.455E-06</td></tr><tr><td class='tg-left'>status</td><td class='tg-right'>Converged</td></tr></table>"
      }
     },
     "4387cbfa96a0409893e5281da2c86e49": {
      "model_module": "@jupyter-widgets/controls",
      "model_module_version": "1.5.0",
      "model_name": "ProgressStyleModel",
      "state": {
       "description_width": ""
      }
     },
     "44876e4f1cdc4d7289d16b55f952a80a": {
      "model_module": "@jupyter-widgets/controls",
      "model_module_version": "1.5.0",
      "model_name": "HTMLModel",
      "state": {
       "layout": "IPY_MODEL_e780e30bd36942dd8e12d316bfbd56be",
       "style": "IPY_MODEL_0adfcd2a411e4943aa61765d48b5f1c3",
       "value": "<style type=\"text/css\">\n    .tg-opt  {font-family:\"Courier New\", Courier, monospace !important;padding:2px 3px;word-break:normal;border-collapse:collapse;border-spacing:0;border-color:#DCDCDC;margin:0px auto;width:100%;}\n    .tg-opt td{font-family:\"Courier New\", Courier, monospace !important;font-weight:bold;color:#444;background-color:#F7FDFA;border-style:solid;border-width:1px;overflow:hidden;word-break:normal;border-color:#DCDCDC;}\n    .tg-opt th{font-family:\"Courier New\", Courier, monospace !important;font-weight:normal;color:#fff;background-color:#26ADE4;border-style:solid;border-width:1px;overflow:hidden;word-break:normal;border-color:#DCDCDC;}\n    .tg-opt .tg-left{font-family:\"Courier New\", Courier, monospace !important;font-weight:normal;text-align:left;}\n    .tg-opt .tg-right{font-family:\"Courier New\", Courier, monospace !important;font-weight:normal;text-align:right;}\n    </style>\n    <table class=\"tg-opt\"><tr><td class='tg-left'>optimizer</td><td class='tg-right'>L-BFGS-B (Scipy implementation)</td></tr><tr><td class='tg-left'>runtime</td><td class='tg-right'>00s24</td></tr><tr><td class='tg-left'>evaluation</td><td class='tg-right'>0031</td></tr><tr><td class='tg-left'>objective</td><td class='tg-right'>   9.218E+01</td></tr><tr><td class='tg-left'>||gradient||</td><td class='tg-right'>  +2.013E-06</td></tr><tr><td class='tg-left'>status</td><td class='tg-right'>Converged</td></tr></table>"
      }
     },
     "4508e32bd8124e8b8369fecd7ec37d6d": {
      "model_module": "@jupyter-widgets/controls",
      "model_module_version": "1.5.0",
      "model_name": "ProgressStyleModel",
      "state": {
       "description_width": ""
      }
     },
     "45b8f7c0a89a49fb9de3515c40bb13af": {
      "model_module": "@jupyter-widgets/controls",
      "model_module_version": "1.5.0",
      "model_name": "HBoxModel",
      "state": {
       "children": [
        "IPY_MODEL_75f7792eb70f468387a2efea0feebf47",
        "IPY_MODEL_ad40466f744d46e192b906a29431b90c"
       ],
       "layout": "IPY_MODEL_a8c3fa69be3340fe96917cc5ff5e0120"
      }
     },
     "47012875a477432fb83cd60e03903b06": {
      "model_module": "@jupyter-widgets/controls",
      "model_module_version": "1.5.0",
      "model_name": "IntProgressModel",
      "state": {
       "bar_style": "success",
       "layout": "IPY_MODEL_33ab563f246f4dcf83863b5ea32a4c2a",
       "max": 1000,
       "style": "IPY_MODEL_07d511e1bcf94d05b5cbfe5d549133c3",
       "value": 43
      }
     },
     "474c136a831b4e60b93cda393e809850": {
      "model_module": "@jupyter-widgets/controls",
      "model_module_version": "1.5.0",
      "model_name": "HBoxModel",
      "state": {
       "children": [
        "IPY_MODEL_c40ac9246a5a43d1ac13967f73654dce",
        "IPY_MODEL_6001ebe6c9e34c219f4c1914422d351b"
       ],
       "layout": "IPY_MODEL_606e1ccc82194c33ab9c1b23598793a3"
      }
     },
     "475b6689075b43dda38b4b27ea8b2f45": {
      "model_module": "@jupyter-widgets/base",
      "model_module_version": "1.2.0",
      "model_name": "LayoutModel",
      "state": {}
     },
     "477364af03b44738a4ba145525ca8ed9": {
      "model_module": "@jupyter-widgets/base",
      "model_module_version": "1.2.0",
      "model_name": "LayoutModel",
      "state": {}
     },
     "47e4d2008f7b4c259a7b92f6c5d757de": {
      "model_module": "@jupyter-widgets/controls",
      "model_module_version": "1.5.0",
      "model_name": "HBoxModel",
      "state": {
       "children": [
        "IPY_MODEL_1c66fa8be3e844099a966906c20e693a",
        "IPY_MODEL_d5e65430aafb476b878af7d463def21e"
       ],
       "layout": "IPY_MODEL_fb18032e782f48a48d4ef85e53a18ff6"
      }
     },
     "483de9ac76ab4e4eae29423a3a2126da": {
      "model_module": "@jupyter-widgets/base",
      "model_module_version": "1.2.0",
      "model_name": "LayoutModel",
      "state": {}
     },
     "487013fff93849cfb54e0ba75392e6bb": {
      "model_module": "@jupyter-widgets/base",
      "model_module_version": "1.2.0",
      "model_name": "LayoutModel",
      "state": {}
     },
     "48ceaca97c8646f9a27028f1903a798b": {
      "model_module": "@jupyter-widgets/controls",
      "model_module_version": "1.5.0",
      "model_name": "DescriptionStyleModel",
      "state": {
       "description_width": ""
      }
     },
     "4912abb1fbe44a45a16e8d891b829e3f": {
      "model_module": "@jupyter-widgets/controls",
      "model_module_version": "1.5.0",
      "model_name": "DescriptionStyleModel",
      "state": {
       "description_width": ""
      }
     },
     "493ce46619ad4b3db99a99763baf8020": {
      "model_module": "@jupyter-widgets/controls",
      "model_module_version": "1.5.0",
      "model_name": "DescriptionStyleModel",
      "state": {
       "description_width": ""
      }
     },
     "493f1edaf22e44c891e0a7c1dc729cd0": {
      "model_module": "@jupyter-widgets/controls",
      "model_module_version": "1.5.0",
      "model_name": "HTMLModel",
      "state": {
       "layout": "IPY_MODEL_955202042dea40b4981848f910a59a09",
       "style": "IPY_MODEL_73d921a9b77f43b6a15d29599d8ada4e",
       "value": "<style type=\"text/css\">\n.pd{\n    font-family: \"Courier New\", Courier, monospace !important;\n    width: 100%;\n    padding: 3px;\n}\n</style>\n\n<p class=pd>\n<b>Model</b>: GP regression<br>\n<b>Objective</b>: 91.97243894799887<br>\n<b>Number of Parameters</b>: 12<br>\n<b>Number of Optimization Parameters</b>: 12<br>\n<b>Updates</b>: True<br>\n</p>\n<style type=\"text/css\">\n.tg  {font-family:\"Courier New\", Courier, monospace !important;padding:2px 3px;word-break:normal;border-collapse:collapse;border-spacing:0;border-color:#DCDCDC;margin:0px auto;width:100%;}\n.tg td{font-family:\"Courier New\", Courier, monospace !important;font-weight:bold;color:#444;background-color:#F7FDFA;border-style:solid;border-width:1px;overflow:hidden;word-break:normal;border-color:#DCDCDC;}\n.tg th{font-family:\"Courier New\", Courier, monospace !important;font-weight:normal;color:#fff;background-color:#26ADE4;border-style:solid;border-width:1px;overflow:hidden;word-break:normal;border-color:#DCDCDC;}\n.tg .tg-left{font-family:\"Courier New\", Courier, monospace !important;font-weight:normal;text-align:left;}\n.tg .tg-center{font-family:\"Courier New\", Courier, monospace !important;font-weight:normal;text-align:center;}\n.tg .tg-right{font-family:\"Courier New\", Courier, monospace !important;font-weight:normal;text-align:right;}\n</style>\n<table class=\"tg\"><tr><th><b>  GP_regression.         </b></th><th><b>             value</b></th><th><b>constraints</b></th><th><b>priors</b></th></tr>\n<tr><td class=tg-left>  constmap.C             </td><td class=tg-right>  4.76140711773701</td><td class=tg-center>           </td><td class=tg-center>      </td></tr>\n<tr><td class=tg-left>  rbf.variance           </td><td class=tg-right>15.677513303155447</td><td class=tg-center>    +ve    </td><td class=tg-center>      </td></tr>\n<tr><td class=tg-left>  rbf.lengthscale        </td><td class=tg-right>              (9,)</td><td class=tg-center>    +ve    </td><td class=tg-center>      </td></tr>\n<tr><td class=tg-left>  Gaussian_noise.variance</td><td class=tg-right>0.1647024776484899</td><td class=tg-center>    +ve    </td><td class=tg-center>      </td></tr>\n</table>"
      }
     },
     "497dd290734b45ecaaaced4a73716dbb": {
      "model_module": "@jupyter-widgets/controls",
      "model_module_version": "1.5.0",
      "model_name": "HTMLModel",
      "state": {
       "layout": "IPY_MODEL_700aa8a628eb4ae193054d51bec12fb6",
       "style": "IPY_MODEL_1a6c31187d45425499445ed3b4687084",
       "value": "<style type=\"text/css\">\n.pd{\n    font-family: \"Courier New\", Courier, monospace !important;\n    width: 100%;\n    padding: 3px;\n}\n</style>\n\n<p class=pd>\n<b>Model</b>: GP regression<br>\n<b>Objective</b>: 92.17869742528171<br>\n<b>Number of Parameters</b>: 12<br>\n<b>Number of Optimization Parameters</b>: 12<br>\n<b>Updates</b>: True<br>\n</p>\n<style type=\"text/css\">\n.tg  {font-family:\"Courier New\", Courier, monospace !important;padding:2px 3px;word-break:normal;border-collapse:collapse;border-spacing:0;border-color:#DCDCDC;margin:0px auto;width:100%;}\n.tg td{font-family:\"Courier New\", Courier, monospace !important;font-weight:bold;color:#444;background-color:#F7FDFA;border-style:solid;border-width:1px;overflow:hidden;word-break:normal;border-color:#DCDCDC;}\n.tg th{font-family:\"Courier New\", Courier, monospace !important;font-weight:normal;color:#fff;background-color:#26ADE4;border-style:solid;border-width:1px;overflow:hidden;word-break:normal;border-color:#DCDCDC;}\n.tg .tg-left{font-family:\"Courier New\", Courier, monospace !important;font-weight:normal;text-align:left;}\n.tg .tg-center{font-family:\"Courier New\", Courier, monospace !important;font-weight:normal;text-align:center;}\n.tg .tg-right{font-family:\"Courier New\", Courier, monospace !important;font-weight:normal;text-align:right;}\n</style>\n<table class=\"tg\"><tr><th><b>  GP_regression.         </b></th><th><b>              value</b></th><th><b>constraints</b></th><th><b>priors</b></th></tr>\n<tr><td class=tg-left>  constmap.C             </td><td class=tg-right>  5.078235905879571</td><td class=tg-center>           </td><td class=tg-center>      </td></tr>\n<tr><td class=tg-left>  rbf.variance           </td><td class=tg-right> 14.940428785341776</td><td class=tg-center>    +ve    </td><td class=tg-center>      </td></tr>\n<tr><td class=tg-left>  rbf.lengthscale        </td><td class=tg-right>               (9,)</td><td class=tg-center>    +ve    </td><td class=tg-center>      </td></tr>\n<tr><td class=tg-left>  Gaussian_noise.variance</td><td class=tg-right>0.16940838877930192</td><td class=tg-center>    +ve    </td><td class=tg-center>      </td></tr>\n</table>"
      }
     },
     "49aaf38e229447d599872671ac90f7cd": {
      "model_module": "@jupyter-widgets/controls",
      "model_module_version": "1.5.0",
      "model_name": "HBoxModel",
      "state": {
       "children": [
        "IPY_MODEL_f6897dbd52eb49a5ba37a0182aa6fcbf",
        "IPY_MODEL_5a76b095758443ebb1adb754fd96d6ff"
       ],
       "layout": "IPY_MODEL_81ca3f59653d434482a983e95aaba636"
      }
     },
     "4a2c4eb0a5ac43289cc67739831e11ec": {
      "model_module": "@jupyter-widgets/base",
      "model_module_version": "1.2.0",
      "model_name": "LayoutModel",
      "state": {}
     },
     "4a5cfc2fbb0c40e6bbf1ca3429be8917": {
      "model_module": "@jupyter-widgets/base",
      "model_module_version": "1.2.0",
      "model_name": "LayoutModel",
      "state": {}
     },
     "4a6422ec29074d64b8b4b2ac29132979": {
      "model_module": "@jupyter-widgets/base",
      "model_module_version": "1.2.0",
      "model_name": "LayoutModel",
      "state": {}
     },
     "4ade21effba74188b73dd171cf2057c3": {
      "model_module": "@jupyter-widgets/controls",
      "model_module_version": "1.5.0",
      "model_name": "DescriptionStyleModel",
      "state": {
       "description_width": ""
      }
     },
     "4afff91728fe4a21951a39eca2f1abf5": {
      "model_module": "@jupyter-widgets/base",
      "model_module_version": "1.2.0",
      "model_name": "LayoutModel",
      "state": {}
     },
     "4b6632f8db1146d3a89ed0da4747cedc": {
      "model_module": "@jupyter-widgets/controls",
      "model_module_version": "1.5.0",
      "model_name": "DescriptionStyleModel",
      "state": {
       "description_width": ""
      }
     },
     "4b673ba4545c4fdcb7aa8cc39f822bc5": {
      "model_module": "@jupyter-widgets/controls",
      "model_module_version": "1.5.0",
      "model_name": "HBoxModel",
      "state": {
       "children": [
        "IPY_MODEL_df823b6603c442679c49b265eb6c6bed",
        "IPY_MODEL_940e26df11d04ea7bd1bd018934b7164"
       ],
       "layout": "IPY_MODEL_b3a2681c6e6747f9a2b42ab32e563f04"
      }
     },
     "4bfe06c99f1145b1a69fea96c01bdf03": {
      "model_module": "@jupyter-widgets/controls",
      "model_module_version": "1.5.0",
      "model_name": "DescriptionStyleModel",
      "state": {
       "description_width": ""
      }
     },
     "4ccfae733ff6464ab21828ab724fb9ff": {
      "model_module": "@jupyter-widgets/controls",
      "model_module_version": "1.5.0",
      "model_name": "VBoxModel",
      "state": {
       "children": [
        "IPY_MODEL_c3ce8bcaa28440208d144c2741dc1e62",
        "IPY_MODEL_f596317506e344c8b2379b9935fef66b"
       ],
       "layout": "IPY_MODEL_52498226b3014719b46775b72be7c6af"
      }
     },
     "4cd9ee5a4c0c483f903ce974ef4c4911": {
      "model_module": "@jupyter-widgets/controls",
      "model_module_version": "1.5.0",
      "model_name": "IntProgressModel",
      "state": {
       "bar_style": "success",
       "layout": "IPY_MODEL_649d9d99a8c34d0e9047e643ec264665",
       "max": 1000,
       "style": "IPY_MODEL_3fd236cfe0ba48908db0ca5e13bea2f4",
       "value": 45
      }
     },
     "4d22b746f5d7405893ab19ef1ecff968": {
      "model_module": "@jupyter-widgets/base",
      "model_module_version": "1.2.0",
      "model_name": "LayoutModel",
      "state": {}
     },
     "4d778f815e1749c28b10f05b550e954a": {
      "model_module": "@jupyter-widgets/base",
      "model_module_version": "1.2.0",
      "model_name": "LayoutModel",
      "state": {}
     },
     "4e49d468fe9f447d935cb81a2e1f31b8": {
      "model_module": "@jupyter-widgets/base",
      "model_module_version": "1.2.0",
      "model_name": "LayoutModel",
      "state": {}
     },
     "4e6666308f5f4ec1ad45cb08b3e37999": {
      "model_module": "@jupyter-widgets/base",
      "model_module_version": "1.2.0",
      "model_name": "LayoutModel",
      "state": {}
     },
     "4ed291c5d89f4856a4ce55f6a5abb84d": {
      "model_module": "@jupyter-widgets/base",
      "model_module_version": "1.2.0",
      "model_name": "LayoutModel",
      "state": {}
     },
     "4eeafa311c9042bbbe318e4bdbb88df1": {
      "model_module": "@jupyter-widgets/base",
      "model_module_version": "1.2.0",
      "model_name": "LayoutModel",
      "state": {}
     },
     "4f0169e5251a472da3c6a39ac91b3dc2": {
      "model_module": "@jupyter-widgets/base",
      "model_module_version": "1.2.0",
      "model_name": "LayoutModel",
      "state": {}
     },
     "503513ce7bb546dc998d17a094d895c1": {
      "model_module": "@jupyter-widgets/controls",
      "model_module_version": "1.5.0",
      "model_name": "HTMLModel",
      "state": {
       "layout": "IPY_MODEL_1d7021cd791c43dc8e152dc2b6fee2d6",
       "style": "IPY_MODEL_e249f3391cb248bd9d07e2610c24d1a1",
       "value": "<style type=\"text/css\">\n.pd{\n    font-family: \"Courier New\", Courier, monospace !important;\n    width: 100%;\n    padding: 3px;\n}\n</style>\n\n<p class=pd>\n<b>Model</b>: GP regression<br>\n<b>Objective</b>: 91.54469413219618<br>\n<b>Number of Parameters</b>: 12<br>\n<b>Number of Optimization Parameters</b>: 12<br>\n<b>Updates</b>: True<br>\n</p>\n<style type=\"text/css\">\n.tg  {font-family:\"Courier New\", Courier, monospace !important;padding:2px 3px;word-break:normal;border-collapse:collapse;border-spacing:0;border-color:#DCDCDC;margin:0px auto;width:100%;}\n.tg td{font-family:\"Courier New\", Courier, monospace !important;font-weight:bold;color:#444;background-color:#F7FDFA;border-style:solid;border-width:1px;overflow:hidden;word-break:normal;border-color:#DCDCDC;}\n.tg th{font-family:\"Courier New\", Courier, monospace !important;font-weight:normal;color:#fff;background-color:#26ADE4;border-style:solid;border-width:1px;overflow:hidden;word-break:normal;border-color:#DCDCDC;}\n.tg .tg-left{font-family:\"Courier New\", Courier, monospace !important;font-weight:normal;text-align:left;}\n.tg .tg-center{font-family:\"Courier New\", Courier, monospace !important;font-weight:normal;text-align:center;}\n.tg .tg-right{font-family:\"Courier New\", Courier, monospace !important;font-weight:normal;text-align:right;}\n</style>\n<table class=\"tg\"><tr><th><b>  GP_regression.         </b></th><th><b>              value</b></th><th><b>constraints</b></th><th><b>priors</b></th></tr>\n<tr><td class=tg-left>  constmap.C             </td><td class=tg-right>  4.926283259062018</td><td class=tg-center>           </td><td class=tg-center>      </td></tr>\n<tr><td class=tg-left>  rbf.variance           </td><td class=tg-right> 14.176904516830495</td><td class=tg-center>    +ve    </td><td class=tg-center>      </td></tr>\n<tr><td class=tg-left>  rbf.lengthscale        </td><td class=tg-right>               (9,)</td><td class=tg-center>    +ve    </td><td class=tg-center>      </td></tr>\n<tr><td class=tg-left>  Gaussian_noise.variance</td><td class=tg-right>0.16273298159201946</td><td class=tg-center>    +ve    </td><td class=tg-center>      </td></tr>\n</table>"
      }
     },
     "50c849d42553454fb149ca11bab4022f": {
      "model_module": "@jupyter-widgets/base",
      "model_module_version": "1.2.0",
      "model_name": "LayoutModel",
      "state": {}
     },
     "50e69dc89fe848f385e5408162cfc913": {
      "model_module": "@jupyter-widgets/controls",
      "model_module_version": "1.5.0",
      "model_name": "IntProgressModel",
      "state": {
       "bar_style": "success",
       "layout": "IPY_MODEL_e284e84ad32b4b3599f8e663eeaf7163",
       "max": 1000,
       "style": "IPY_MODEL_b28e7f239ef94865a5cacd1b98ee72c3",
       "value": 39
      }
     },
     "50f8e67081cc41978cc8328910cdec6d": {
      "model_module": "@jupyter-widgets/base",
      "model_module_version": "1.2.0",
      "model_name": "LayoutModel",
      "state": {}
     },
     "513ff95460734c429e1e3bbe9998006c": {
      "model_module": "@jupyter-widgets/controls",
      "model_module_version": "1.5.0",
      "model_name": "ProgressStyleModel",
      "state": {
       "description_width": ""
      }
     },
     "5186cf2a1eb14d5d95c6b2635c4c48e0": {
      "model_module": "@jupyter-widgets/controls",
      "model_module_version": "1.5.0",
      "model_name": "ProgressStyleModel",
      "state": {
       "description_width": ""
      }
     },
     "51933d3fdb1346828168ab5794c27233": {
      "model_module": "@jupyter-widgets/base",
      "model_module_version": "1.2.0",
      "model_name": "LayoutModel",
      "state": {}
     },
     "5233d0e6769e4ba0a383bd4a25d6a000": {
      "model_module": "@jupyter-widgets/controls",
      "model_module_version": "1.5.0",
      "model_name": "BoxModel",
      "state": {
       "children": [
        "IPY_MODEL_fb941938202b45bb9c9746f706f4084a"
       ],
       "layout": "IPY_MODEL_fe0f8fe6b71a4e98af3951be56f60264"
      }
     },
     "52498226b3014719b46775b72be7c6af": {
      "model_module": "@jupyter-widgets/base",
      "model_module_version": "1.2.0",
      "model_name": "LayoutModel",
      "state": {}
     },
     "53d2095b25cb47e69ec361354bf909f8": {
      "model_module": "@jupyter-widgets/base",
      "model_module_version": "1.2.0",
      "model_name": "LayoutModel",
      "state": {}
     },
     "54460d706fbb4d149af5b95c41793b89": {
      "model_module": "@jupyter-widgets/controls",
      "model_module_version": "1.5.0",
      "model_name": "BoxModel",
      "state": {
       "children": [
        "IPY_MODEL_40bd5c64535a496081e7f0a98fbaf4e0"
       ],
       "layout": "IPY_MODEL_854bc2c7abcb415ea72a03f4a8559d1f"
      }
     },
     "5479cb12a5d34613a6e8f1f1f11c5b3c": {
      "model_module": "@jupyter-widgets/controls",
      "model_module_version": "1.5.0",
      "model_name": "HTMLModel",
      "state": {
       "layout": "IPY_MODEL_348f1ebb2d4c4abc9ff5ca2328a1a9d8",
       "style": "IPY_MODEL_d247c1d925914005b0c2397e5393a8b3",
       "value": "<style type=\"text/css\">\n.pd{\n    font-family: \"Courier New\", Courier, monospace !important;\n    width: 100%;\n    padding: 3px;\n}\n</style>\n\n<p class=pd>\n<b>Model</b>: GP regression<br>\n<b>Objective</b>: 91.89997424312604<br>\n<b>Number of Parameters</b>: 12<br>\n<b>Number of Optimization Parameters</b>: 12<br>\n<b>Updates</b>: True<br>\n</p>\n<style type=\"text/css\">\n.tg  {font-family:\"Courier New\", Courier, monospace !important;padding:2px 3px;word-break:normal;border-collapse:collapse;border-spacing:0;border-color:#DCDCDC;margin:0px auto;width:100%;}\n.tg td{font-family:\"Courier New\", Courier, monospace !important;font-weight:bold;color:#444;background-color:#F7FDFA;border-style:solid;border-width:1px;overflow:hidden;word-break:normal;border-color:#DCDCDC;}\n.tg th{font-family:\"Courier New\", Courier, monospace !important;font-weight:normal;color:#fff;background-color:#26ADE4;border-style:solid;border-width:1px;overflow:hidden;word-break:normal;border-color:#DCDCDC;}\n.tg .tg-left{font-family:\"Courier New\", Courier, monospace !important;font-weight:normal;text-align:left;}\n.tg .tg-center{font-family:\"Courier New\", Courier, monospace !important;font-weight:normal;text-align:center;}\n.tg .tg-right{font-family:\"Courier New\", Courier, monospace !important;font-weight:normal;text-align:right;}\n</style>\n<table class=\"tg\"><tr><th><b>  GP_regression.         </b></th><th><b>              value</b></th><th><b>constraints</b></th><th><b>priors</b></th></tr>\n<tr><td class=tg-left>  constmap.C             </td><td class=tg-right>  5.137105691134558</td><td class=tg-center>           </td><td class=tg-center>      </td></tr>\n<tr><td class=tg-left>  rbf.variance           </td><td class=tg-right> 14.335841609611192</td><td class=tg-center>    +ve    </td><td class=tg-center>      </td></tr>\n<tr><td class=tg-left>  rbf.lengthscale        </td><td class=tg-right>               (9,)</td><td class=tg-center>    +ve    </td><td class=tg-center>      </td></tr>\n<tr><td class=tg-left>  Gaussian_noise.variance</td><td class=tg-right>0.16745392261824826</td><td class=tg-center>    +ve    </td><td class=tg-center>      </td></tr>\n</table>"
      }
     },
     "549a64217a964a65ac1ce57c0f8b49ea": {
      "model_module": "@jupyter-widgets/controls",
      "model_module_version": "1.5.0",
      "model_name": "VBoxModel",
      "state": {
       "children": [
        "IPY_MODEL_984a8925f4354fe4970bd48b7fda2750",
        "IPY_MODEL_8a5093e3671048b185a71e71c7953dee"
       ],
       "layout": "IPY_MODEL_b5e29de9aba34d27974a4949225f571f"
      }
     },
     "549b0a0535db4071aa18a936eb443857": {
      "model_module": "@jupyter-widgets/controls",
      "model_module_version": "1.5.0",
      "model_name": "DescriptionStyleModel",
      "state": {
       "description_width": ""
      }
     },
     "54b534c9b05e48b58759bddb2ccd51c6": {
      "model_module": "@jupyter-widgets/controls",
      "model_module_version": "1.5.0",
      "model_name": "ProgressStyleModel",
      "state": {
       "description_width": ""
      }
     },
     "550a3cf203184f45869c2460a13be43d": {
      "model_module": "@jupyter-widgets/base",
      "model_module_version": "1.2.0",
      "model_name": "LayoutModel",
      "state": {}
     },
     "55aaf0738f4b4e519e0b134c0e71faf7": {
      "model_module": "@jupyter-widgets/base",
      "model_module_version": "1.2.0",
      "model_name": "LayoutModel",
      "state": {}
     },
     "55ccace5505c4f379d701bb54aed24ba": {
      "model_module": "@jupyter-widgets/controls",
      "model_module_version": "1.5.0",
      "model_name": "HTMLModel",
      "state": {
       "layout": "IPY_MODEL_a646e31a03b54f0996d2518bd467dbf8",
       "style": "IPY_MODEL_e0ae876e3c8444fcb1782a222303ca74",
       "value": "<style type=\"text/css\">\n.pd{\n    font-family: \"Courier New\", Courier, monospace !important;\n    width: 100%;\n    padding: 3px;\n}\n</style>\n\n<p class=pd>\n<b>Model</b>: GP regression<br>\n<b>Objective</b>: 91.73208496228523<br>\n<b>Number of Parameters</b>: 12<br>\n<b>Number of Optimization Parameters</b>: 12<br>\n<b>Updates</b>: True<br>\n</p>\n<style type=\"text/css\">\n.tg  {font-family:\"Courier New\", Courier, monospace !important;padding:2px 3px;word-break:normal;border-collapse:collapse;border-spacing:0;border-color:#DCDCDC;margin:0px auto;width:100%;}\n.tg td{font-family:\"Courier New\", Courier, monospace !important;font-weight:bold;color:#444;background-color:#F7FDFA;border-style:solid;border-width:1px;overflow:hidden;word-break:normal;border-color:#DCDCDC;}\n.tg th{font-family:\"Courier New\", Courier, monospace !important;font-weight:normal;color:#fff;background-color:#26ADE4;border-style:solid;border-width:1px;overflow:hidden;word-break:normal;border-color:#DCDCDC;}\n.tg .tg-left{font-family:\"Courier New\", Courier, monospace !important;font-weight:normal;text-align:left;}\n.tg .tg-center{font-family:\"Courier New\", Courier, monospace !important;font-weight:normal;text-align:center;}\n.tg .tg-right{font-family:\"Courier New\", Courier, monospace !important;font-weight:normal;text-align:right;}\n</style>\n<table class=\"tg\"><tr><th><b>  GP_regression.         </b></th><th><b>              value</b></th><th><b>constraints</b></th><th><b>priors</b></th></tr>\n<tr><td class=tg-left>  constmap.C             </td><td class=tg-right>  5.344503758673902</td><td class=tg-center>           </td><td class=tg-center>      </td></tr>\n<tr><td class=tg-left>  rbf.variance           </td><td class=tg-right> 14.629889333216079</td><td class=tg-center>    +ve    </td><td class=tg-center>      </td></tr>\n<tr><td class=tg-left>  rbf.lengthscale        </td><td class=tg-right>               (9,)</td><td class=tg-center>    +ve    </td><td class=tg-center>      </td></tr>\n<tr><td class=tg-left>  Gaussian_noise.variance</td><td class=tg-right>0.16281168070989668</td><td class=tg-center>    +ve    </td><td class=tg-center>      </td></tr>\n</table>"
      }
     },
     "55f9ae611d984180b03533923ae6af2a": {
      "model_module": "@jupyter-widgets/base",
      "model_module_version": "1.2.0",
      "model_name": "LayoutModel",
      "state": {}
     },
     "57261162e7924cf593f30335aae1a21d": {
      "model_module": "@jupyter-widgets/controls",
      "model_module_version": "1.5.0",
      "model_name": "HTMLModel",
      "state": {
       "layout": "IPY_MODEL_c070627853344bf38012b4f79a20485c",
       "style": "IPY_MODEL_2786ebabfd4c49ef9ef1959194f6260c",
       "value": "<style type=\"text/css\">\n.pd{\n    font-family: \"Courier New\", Courier, monospace !important;\n    width: 100%;\n    padding: 3px;\n}\n</style>\n\n<p class=pd>\n<b>Model</b>: GP regression<br>\n<b>Objective</b>: 103.72317074721434<br>\n<b>Number of Parameters</b>: 12<br>\n<b>Number of Optimization Parameters</b>: 12<br>\n<b>Updates</b>: True<br>\n</p>\n<style type=\"text/css\">\n.tg  {font-family:\"Courier New\", Courier, monospace !important;padding:2px 3px;word-break:normal;border-collapse:collapse;border-spacing:0;border-color:#DCDCDC;margin:0px auto;width:100%;}\n.tg td{font-family:\"Courier New\", Courier, monospace !important;font-weight:bold;color:#444;background-color:#F7FDFA;border-style:solid;border-width:1px;overflow:hidden;word-break:normal;border-color:#DCDCDC;}\n.tg th{font-family:\"Courier New\", Courier, monospace !important;font-weight:normal;color:#fff;background-color:#26ADE4;border-style:solid;border-width:1px;overflow:hidden;word-break:normal;border-color:#DCDCDC;}\n.tg .tg-left{font-family:\"Courier New\", Courier, monospace !important;font-weight:normal;text-align:left;}\n.tg .tg-center{font-family:\"Courier New\", Courier, monospace !important;font-weight:normal;text-align:center;}\n.tg .tg-right{font-family:\"Courier New\", Courier, monospace !important;font-weight:normal;text-align:right;}\n</style>\n<table class=\"tg\"><tr><th><b>  GP_regression.         </b></th><th><b>              value</b></th><th><b>constraints</b></th><th><b>priors</b></th></tr>\n<tr><td class=tg-left>  constmap.C             </td><td class=tg-right>  5.741609706194557</td><td class=tg-center>           </td><td class=tg-center>      </td></tr>\n<tr><td class=tg-left>  rbf.variance           </td><td class=tg-right> 12.157229118359348</td><td class=tg-center>    +ve    </td><td class=tg-center>      </td></tr>\n<tr><td class=tg-left>  rbf.lengthscale        </td><td class=tg-right>               (9,)</td><td class=tg-center>    +ve    </td><td class=tg-center>      </td></tr>\n<tr><td class=tg-left>  Gaussian_noise.variance</td><td class=tg-right>0.18446048644550422</td><td class=tg-center>    +ve    </td><td class=tg-center>      </td></tr>\n</table>"
      }
     },
     "57e4b86c8d814d15a6084d85bdc4430f": {
      "model_module": "@jupyter-widgets/controls",
      "model_module_version": "1.5.0",
      "model_name": "IntProgressModel",
      "state": {
       "bar_style": "success",
       "layout": "IPY_MODEL_800e9f557e834b56a5a45ccfac720798",
       "max": 1000,
       "style": "IPY_MODEL_3fbcc20f12f042f08a505954458459cc",
       "value": 24
      }
     },
     "57e7d349bce248eaadea27ceb6bb140a": {
      "model_module": "@jupyter-widgets/controls",
      "model_module_version": "1.5.0",
      "model_name": "ProgressStyleModel",
      "state": {
       "description_width": ""
      }
     },
     "580dd36b089f46038c380b90ef6751d8": {
      "model_module": "@jupyter-widgets/base",
      "model_module_version": "1.2.0",
      "model_name": "LayoutModel",
      "state": {}
     },
     "581bf71b4db740669250c2b728543523": {
      "model_module": "@jupyter-widgets/controls",
      "model_module_version": "1.5.0",
      "model_name": "DescriptionStyleModel",
      "state": {
       "description_width": ""
      }
     },
     "58ead318ebdb43aeb6544d640d5f70b3": {
      "model_module": "@jupyter-widgets/base",
      "model_module_version": "1.2.0",
      "model_name": "LayoutModel",
      "state": {}
     },
     "598695366378411091b707e941367cf1": {
      "model_module": "@jupyter-widgets/base",
      "model_module_version": "1.2.0",
      "model_name": "LayoutModel",
      "state": {}
     },
     "59de9807583142cf851781900a211300": {
      "model_module": "@jupyter-widgets/base",
      "model_module_version": "1.2.0",
      "model_name": "LayoutModel",
      "state": {}
     },
     "5a005528b6d040199de3f2c40531e043": {
      "model_module": "@jupyter-widgets/controls",
      "model_module_version": "1.5.0",
      "model_name": "HTMLModel",
      "state": {
       "layout": "IPY_MODEL_3a46d05d375f4ff98279f821807565fd",
       "style": "IPY_MODEL_b93ff61c1668454e9a9e3a176803f201",
       "value": "<style type=\"text/css\">\n.pd{\n    font-family: \"Courier New\", Courier, monospace !important;\n    width: 100%;\n    padding: 3px;\n}\n</style>\n\n<p class=pd>\n<b>Model</b>: GP regression<br>\n<b>Objective</b>: 91.77873917829587<br>\n<b>Number of Parameters</b>: 12<br>\n<b>Number of Optimization Parameters</b>: 12<br>\n<b>Updates</b>: True<br>\n</p>\n<style type=\"text/css\">\n.tg  {font-family:\"Courier New\", Courier, monospace !important;padding:2px 3px;word-break:normal;border-collapse:collapse;border-spacing:0;border-color:#DCDCDC;margin:0px auto;width:100%;}\n.tg td{font-family:\"Courier New\", Courier, monospace !important;font-weight:bold;color:#444;background-color:#F7FDFA;border-style:solid;border-width:1px;overflow:hidden;word-break:normal;border-color:#DCDCDC;}\n.tg th{font-family:\"Courier New\", Courier, monospace !important;font-weight:normal;color:#fff;background-color:#26ADE4;border-style:solid;border-width:1px;overflow:hidden;word-break:normal;border-color:#DCDCDC;}\n.tg .tg-left{font-family:\"Courier New\", Courier, monospace !important;font-weight:normal;text-align:left;}\n.tg .tg-center{font-family:\"Courier New\", Courier, monospace !important;font-weight:normal;text-align:center;}\n.tg .tg-right{font-family:\"Courier New\", Courier, monospace !important;font-weight:normal;text-align:right;}\n</style>\n<table class=\"tg\"><tr><th><b>  GP_regression.         </b></th><th><b>              value</b></th><th><b>constraints</b></th><th><b>priors</b></th></tr>\n<tr><td class=tg-left>  constmap.C             </td><td class=tg-right> 4.6559286568453775</td><td class=tg-center>           </td><td class=tg-center>      </td></tr>\n<tr><td class=tg-left>  rbf.variance           </td><td class=tg-right> 15.069935273438787</td><td class=tg-center>    +ve    </td><td class=tg-center>      </td></tr>\n<tr><td class=tg-left>  rbf.lengthscale        </td><td class=tg-right>               (9,)</td><td class=tg-center>    +ve    </td><td class=tg-center>      </td></tr>\n<tr><td class=tg-left>  Gaussian_noise.variance</td><td class=tg-right>0.16254472620847282</td><td class=tg-center>    +ve    </td><td class=tg-center>      </td></tr>\n</table>"
      }
     },
     "5a009b1a6e2e4de9b41cc4c0531060b0": {
      "model_module": "@jupyter-widgets/controls",
      "model_module_version": "1.5.0",
      "model_name": "HTMLModel",
      "state": {
       "layout": "IPY_MODEL_145b3c773c5e4c008d6dc1ecca002c66",
       "style": "IPY_MODEL_12631d3e28be4d4eb075c597ea04d1d8",
       "value": "<style type=\"text/css\">\n.pd{\n    font-family: \"Courier New\", Courier, monospace !important;\n    width: 100%;\n    padding: 3px;\n}\n</style>\n\n<p class=pd>\n<b>Model</b>: GP regression<br>\n<b>Objective</b>: 93.88658009692136<br>\n<b>Number of Parameters</b>: 12<br>\n<b>Number of Optimization Parameters</b>: 12<br>\n<b>Updates</b>: True<br>\n</p>\n<style type=\"text/css\">\n.tg  {font-family:\"Courier New\", Courier, monospace !important;padding:2px 3px;word-break:normal;border-collapse:collapse;border-spacing:0;border-color:#DCDCDC;margin:0px auto;width:100%;}\n.tg td{font-family:\"Courier New\", Courier, monospace !important;font-weight:bold;color:#444;background-color:#F7FDFA;border-style:solid;border-width:1px;overflow:hidden;word-break:normal;border-color:#DCDCDC;}\n.tg th{font-family:\"Courier New\", Courier, monospace !important;font-weight:normal;color:#fff;background-color:#26ADE4;border-style:solid;border-width:1px;overflow:hidden;word-break:normal;border-color:#DCDCDC;}\n.tg .tg-left{font-family:\"Courier New\", Courier, monospace !important;font-weight:normal;text-align:left;}\n.tg .tg-center{font-family:\"Courier New\", Courier, monospace !important;font-weight:normal;text-align:center;}\n.tg .tg-right{font-family:\"Courier New\", Courier, monospace !important;font-weight:normal;text-align:right;}\n</style>\n<table class=\"tg\"><tr><th><b>  GP_regression.         </b></th><th><b>             value</b></th><th><b>constraints</b></th><th><b>priors</b></th></tr>\n<tr><td class=tg-left>  constmap.C             </td><td class=tg-right> 4.925412231839778</td><td class=tg-center>           </td><td class=tg-center>      </td></tr>\n<tr><td class=tg-left>  rbf.variance           </td><td class=tg-right>15.052047177749191</td><td class=tg-center>    +ve    </td><td class=tg-center>      </td></tr>\n<tr><td class=tg-left>  rbf.lengthscale        </td><td class=tg-right>              (9,)</td><td class=tg-center>    +ve    </td><td class=tg-center>      </td></tr>\n<tr><td class=tg-left>  Gaussian_noise.variance</td><td class=tg-right>0.1632407005095069</td><td class=tg-center>    +ve    </td><td class=tg-center>      </td></tr>\n</table>"
      }
     },
     "5a4dfc6832514d5aa8e9b643996848cb": {
      "model_module": "@jupyter-widgets/controls",
      "model_module_version": "1.5.0",
      "model_name": "DescriptionStyleModel",
      "state": {
       "description_width": ""
      }
     },
     "5a538338e7104c5288cf5699825d581c": {
      "model_module": "@jupyter-widgets/controls",
      "model_module_version": "1.5.0",
      "model_name": "DescriptionStyleModel",
      "state": {
       "description_width": ""
      }
     },
     "5a76b095758443ebb1adb754fd96d6ff": {
      "model_module": "@jupyter-widgets/controls",
      "model_module_version": "1.5.0",
      "model_name": "BoxModel",
      "state": {
       "children": [
        "IPY_MODEL_493f1edaf22e44c891e0a7c1dc729cd0"
       ],
       "layout": "IPY_MODEL_4a2c4eb0a5ac43289cc67739831e11ec"
      }
     },
     "5a8788bfb6aa440197027872762e4422": {
      "model_module": "@jupyter-widgets/controls",
      "model_module_version": "1.5.0",
      "model_name": "DescriptionStyleModel",
      "state": {
       "description_width": ""
      }
     },
     "5abbbce52a8244e88160ae99f4e13bad": {
      "model_module": "@jupyter-widgets/controls",
      "model_module_version": "1.5.0",
      "model_name": "HTMLModel",
      "state": {
       "layout": "IPY_MODEL_0fd226a24ef64430a3763cbaeef51421",
       "style": "IPY_MODEL_2365c0de73194926bdf3aeee0f0e1abf",
       "value": "<style type=\"text/css\">\n.pd{\n    font-family: \"Courier New\", Courier, monospace !important;\n    width: 100%;\n    padding: 3px;\n}\n</style>\n\n<p class=pd>\n<b>Model</b>: GP regression<br>\n<b>Objective</b>: 88.63426698072357<br>\n<b>Number of Parameters</b>: 12<br>\n<b>Number of Optimization Parameters</b>: 12<br>\n<b>Updates</b>: True<br>\n</p>\n<style type=\"text/css\">\n.tg  {font-family:\"Courier New\", Courier, monospace !important;padding:2px 3px;word-break:normal;border-collapse:collapse;border-spacing:0;border-color:#DCDCDC;margin:0px auto;width:100%;}\n.tg td{font-family:\"Courier New\", Courier, monospace !important;font-weight:bold;color:#444;background-color:#F7FDFA;border-style:solid;border-width:1px;overflow:hidden;word-break:normal;border-color:#DCDCDC;}\n.tg th{font-family:\"Courier New\", Courier, monospace !important;font-weight:normal;color:#fff;background-color:#26ADE4;border-style:solid;border-width:1px;overflow:hidden;word-break:normal;border-color:#DCDCDC;}\n.tg .tg-left{font-family:\"Courier New\", Courier, monospace !important;font-weight:normal;text-align:left;}\n.tg .tg-center{font-family:\"Courier New\", Courier, monospace !important;font-weight:normal;text-align:center;}\n.tg .tg-right{font-family:\"Courier New\", Courier, monospace !important;font-weight:normal;text-align:right;}\n</style>\n<table class=\"tg\"><tr><th><b>  GP_regression.         </b></th><th><b>             value</b></th><th><b>constraints</b></th><th><b>priors</b></th></tr>\n<tr><td class=tg-left>  constmap.C             </td><td class=tg-right> 4.728611296972076</td><td class=tg-center>           </td><td class=tg-center>      </td></tr>\n<tr><td class=tg-left>  rbf.variance           </td><td class=tg-right>15.764904488649954</td><td class=tg-center>    +ve    </td><td class=tg-center>      </td></tr>\n<tr><td class=tg-left>  rbf.lengthscale        </td><td class=tg-right>              (9,)</td><td class=tg-center>    +ve    </td><td class=tg-center>      </td></tr>\n<tr><td class=tg-left>  Gaussian_noise.variance</td><td class=tg-right>0.1474188867541906</td><td class=tg-center>    +ve    </td><td class=tg-center>      </td></tr>\n</table>"
      }
     },
     "5b4051f1c94545eca9ac22c2dab3b65d": {
      "model_module": "@jupyter-widgets/controls",
      "model_module_version": "1.5.0",
      "model_name": "HBoxModel",
      "state": {
       "children": [
        "IPY_MODEL_3f264bf1b8be479bae66b960a3b6abe5",
        "IPY_MODEL_3a4d0aebcb264ed58bc29935f298279a"
       ],
       "layout": "IPY_MODEL_a7b5130c6153440abd0743e669c862ac"
      }
     },
     "5bb826f33d98463cb54c2584e261ab24": {
      "model_module": "@jupyter-widgets/controls",
      "model_module_version": "1.5.0",
      "model_name": "VBoxModel",
      "state": {
       "children": [
        "IPY_MODEL_5d479ae578384297b47332c98f2f05f7",
        "IPY_MODEL_df9e4efc528b4450ae00dc660f18ec81"
       ],
       "layout": "IPY_MODEL_5eb1087903984893b82125de1fb2fc7c"
      }
     },
     "5bc36e1c059b4fe2818509dc9f3ef938": {
      "model_module": "@jupyter-widgets/controls",
      "model_module_version": "1.5.0",
      "model_name": "DescriptionStyleModel",
      "state": {
       "description_width": ""
      }
     },
     "5bcbc057276f434fbae2156197ff01a5": {
      "model_module": "@jupyter-widgets/base",
      "model_module_version": "1.2.0",
      "model_name": "LayoutModel",
      "state": {}
     },
     "5c0fddcf6ffc49f78c83a53be122d769": {
      "model_module": "@jupyter-widgets/controls",
      "model_module_version": "1.5.0",
      "model_name": "DescriptionStyleModel",
      "state": {
       "description_width": ""
      }
     },
     "5c1b817367a642828b91928201b958aa": {
      "model_module": "@jupyter-widgets/base",
      "model_module_version": "1.2.0",
      "model_name": "LayoutModel",
      "state": {}
     },
     "5cf151bd1bd44eb2a93f1638a12e6121": {
      "model_module": "@jupyter-widgets/controls",
      "model_module_version": "1.5.0",
      "model_name": "BoxModel",
      "state": {
       "children": [
        "IPY_MODEL_3407d4a9aef44f44bc2df30645122ea4"
       ],
       "layout": "IPY_MODEL_e69ae85939a249cd9140a60131783fea"
      }
     },
     "5cfbb522573c46609bf20e0c12aa90e6": {
      "model_module": "@jupyter-widgets/base",
      "model_module_version": "1.2.0",
      "model_name": "LayoutModel",
      "state": {}
     },
     "5d479ae578384297b47332c98f2f05f7": {
      "model_module": "@jupyter-widgets/controls",
      "model_module_version": "1.5.0",
      "model_name": "IntProgressModel",
      "state": {
       "bar_style": "success",
       "layout": "IPY_MODEL_c14d51a37a06416fb2b0a2f82bdc655a",
       "max": 1000,
       "style": "IPY_MODEL_6b6bbcf4498a4641a086b62353376249",
       "value": 47
      }
     },
     "5d97dcce3d064f7c97f3c587d4c5a89e": {
      "model_module": "@jupyter-widgets/controls",
      "model_module_version": "1.5.0",
      "model_name": "HTMLModel",
      "state": {
       "layout": "IPY_MODEL_37cf28a772c6484da50daff5cf83df04",
       "style": "IPY_MODEL_e764b45dedbf49bea99711b9686b3c43",
       "value": "<style type=\"text/css\">\n.pd{\n    font-family: \"Courier New\", Courier, monospace !important;\n    width: 100%;\n    padding: 3px;\n}\n</style>\n\n<p class=pd>\n<b>Model</b>: GP regression<br>\n<b>Objective</b>: 92.8140503566411<br>\n<b>Number of Parameters</b>: 12<br>\n<b>Number of Optimization Parameters</b>: 12<br>\n<b>Updates</b>: True<br>\n</p>\n<style type=\"text/css\">\n.tg  {font-family:\"Courier New\", Courier, monospace !important;padding:2px 3px;word-break:normal;border-collapse:collapse;border-spacing:0;border-color:#DCDCDC;margin:0px auto;width:100%;}\n.tg td{font-family:\"Courier New\", Courier, monospace !important;font-weight:bold;color:#444;background-color:#F7FDFA;border-style:solid;border-width:1px;overflow:hidden;word-break:normal;border-color:#DCDCDC;}\n.tg th{font-family:\"Courier New\", Courier, monospace !important;font-weight:normal;color:#fff;background-color:#26ADE4;border-style:solid;border-width:1px;overflow:hidden;word-break:normal;border-color:#DCDCDC;}\n.tg .tg-left{font-family:\"Courier New\", Courier, monospace !important;font-weight:normal;text-align:left;}\n.tg .tg-center{font-family:\"Courier New\", Courier, monospace !important;font-weight:normal;text-align:center;}\n.tg .tg-right{font-family:\"Courier New\", Courier, monospace !important;font-weight:normal;text-align:right;}\n</style>\n<table class=\"tg\"><tr><th><b>  GP_regression.         </b></th><th><b>             value</b></th><th><b>constraints</b></th><th><b>priors</b></th></tr>\n<tr><td class=tg-left>  constmap.C             </td><td class=tg-right> 5.035473582533682</td><td class=tg-center>           </td><td class=tg-center>      </td></tr>\n<tr><td class=tg-left>  rbf.variance           </td><td class=tg-right>14.693195132732688</td><td class=tg-center>    +ve    </td><td class=tg-center>      </td></tr>\n<tr><td class=tg-left>  rbf.lengthscale        </td><td class=tg-right>              (9,)</td><td class=tg-center>    +ve    </td><td class=tg-center>      </td></tr>\n<tr><td class=tg-left>  Gaussian_noise.variance</td><td class=tg-right>  0.17410737541915</td><td class=tg-center>    +ve    </td><td class=tg-center>      </td></tr>\n</table>"
      }
     },
     "5dad8c0a2c394250b63c709e362c3e50": {
      "model_module": "@jupyter-widgets/controls",
      "model_module_version": "1.5.0",
      "model_name": "ProgressStyleModel",
      "state": {
       "description_width": ""
      }
     },
     "5e1a14dd0dda4fbba919b670a16c7f38": {
      "model_module": "@jupyter-widgets/controls",
      "model_module_version": "1.5.0",
      "model_name": "IntProgressModel",
      "state": {
       "bar_style": "success",
       "layout": "IPY_MODEL_9c1e821776f64a0893914da0b29d27cc",
       "max": 1000,
       "style": "IPY_MODEL_d33755026df34bf3b2bb71117e0d8be9",
       "value": 46
      }
     },
     "5e41f67c53fe4a8cbe5aec538023cd8f": {
      "model_module": "@jupyter-widgets/base",
      "model_module_version": "1.2.0",
      "model_name": "LayoutModel",
      "state": {}
     },
     "5e65feab4bd64a008627c3063449e1ff": {
      "model_module": "@jupyter-widgets/controls",
      "model_module_version": "1.5.0",
      "model_name": "HTMLModel",
      "state": {
       "layout": "IPY_MODEL_85253d67a05d4ef7b8b329927a735849",
       "style": "IPY_MODEL_f1f0b2b447d04e05a391cb2e62265ab6",
       "value": "<style type=\"text/css\">\n    .tg-opt  {font-family:\"Courier New\", Courier, monospace !important;padding:2px 3px;word-break:normal;border-collapse:collapse;border-spacing:0;border-color:#DCDCDC;margin:0px auto;width:100%;}\n    .tg-opt td{font-family:\"Courier New\", Courier, monospace !important;font-weight:bold;color:#444;background-color:#F7FDFA;border-style:solid;border-width:1px;overflow:hidden;word-break:normal;border-color:#DCDCDC;}\n    .tg-opt th{font-family:\"Courier New\", Courier, monospace !important;font-weight:normal;color:#fff;background-color:#26ADE4;border-style:solid;border-width:1px;overflow:hidden;word-break:normal;border-color:#DCDCDC;}\n    .tg-opt .tg-left{font-family:\"Courier New\", Courier, monospace !important;font-weight:normal;text-align:left;}\n    .tg-opt .tg-right{font-family:\"Courier New\", Courier, monospace !important;font-weight:normal;text-align:right;}\n    </style>\n    <table class=\"tg-opt\"><tr><td class='tg-left'>optimizer</td><td class='tg-right'>L-BFGS-B (Scipy implementation)</td></tr><tr><td class='tg-left'>runtime</td><td class='tg-right'>00s29</td></tr><tr><td class='tg-left'>evaluation</td><td class='tg-right'>0043</td></tr><tr><td class='tg-left'>objective</td><td class='tg-right'>   9.011E+01</td></tr><tr><td class='tg-left'>||gradient||</td><td class='tg-right'>  +3.798E-08</td></tr><tr><td class='tg-left'>status</td><td class='tg-right'>Converged</td></tr></table>"
      }
     },
     "5eb1087903984893b82125de1fb2fc7c": {
      "model_module": "@jupyter-widgets/base",
      "model_module_version": "1.2.0",
      "model_name": "LayoutModel",
      "state": {}
     },
     "5ef21e8d4c994540b97fc084251e2483": {
      "model_module": "@jupyter-widgets/base",
      "model_module_version": "1.2.0",
      "model_name": "LayoutModel",
      "state": {}
     },
     "5f50b7591cc647e2a842cda2f3a18270": {
      "model_module": "@jupyter-widgets/controls",
      "model_module_version": "1.5.0",
      "model_name": "IntProgressModel",
      "state": {
       "bar_style": "success",
       "layout": "IPY_MODEL_817f443dc24846d684aa4ac3b2619220",
       "max": 1000,
       "style": "IPY_MODEL_54b534c9b05e48b58759bddb2ccd51c6",
       "value": 42
      }
     },
     "5f82e63929f441c38b5c61904d03c4fc": {
      "model_module": "@jupyter-widgets/controls",
      "model_module_version": "1.5.0",
      "model_name": "VBoxModel",
      "state": {
       "children": [
        "IPY_MODEL_a045b834a65348f68f910dd653a00e01",
        "IPY_MODEL_bba0de05e5a641188151e1ed9cb1a7bb"
       ],
       "layout": "IPY_MODEL_74b0a4d6812643e996d2362ca9488ed6"
      }
     },
     "5fa33949a62e4d90989bf60293795f2f": {
      "model_module": "@jupyter-widgets/controls",
      "model_module_version": "1.5.0",
      "model_name": "DescriptionStyleModel",
      "state": {
       "description_width": ""
      }
     },
     "5fa74f2e2c1d4b9d824d4dff02c07785": {
      "model_module": "@jupyter-widgets/base",
      "model_module_version": "1.2.0",
      "model_name": "LayoutModel",
      "state": {}
     },
     "5fb8e0bdd79347dc9c1d3c23357c0070": {
      "model_module": "@jupyter-widgets/base",
      "model_module_version": "1.2.0",
      "model_name": "LayoutModel",
      "state": {}
     },
     "5ff9cba0e93942a78944ef5001c1ef3b": {
      "model_module": "@jupyter-widgets/base",
      "model_module_version": "1.2.0",
      "model_name": "LayoutModel",
      "state": {}
     },
     "6001ebe6c9e34c219f4c1914422d351b": {
      "model_module": "@jupyter-widgets/controls",
      "model_module_version": "1.5.0",
      "model_name": "BoxModel",
      "state": {
       "children": [
        "IPY_MODEL_a938a52fc596404ca66f0243db60ff36"
       ],
       "layout": "IPY_MODEL_c0160fa8a1ba4997bee6807c26371b31"
      }
     },
     "6012afcdb8794dc7857e17eab2a964dc": {
      "model_module": "@jupyter-widgets/controls",
      "model_module_version": "1.5.0",
      "model_name": "BoxModel",
      "state": {
       "children": [
        "IPY_MODEL_ebad2fc535b44900af218ae3a03fb375"
       ],
       "layout": "IPY_MODEL_783a4939dd024f0dbbb50b8e6cbfb67d"
      }
     },
     "601f0820fc354b65ac39c1765e0a8fcb": {
      "model_module": "@jupyter-widgets/controls",
      "model_module_version": "1.5.0",
      "model_name": "BoxModel",
      "state": {
       "children": [
        "IPY_MODEL_57261162e7924cf593f30335aae1a21d"
       ],
       "layout": "IPY_MODEL_b4b269f1fcc84355b246055257a85899"
      }
     },
     "606e1ccc82194c33ab9c1b23598793a3": {
      "model_module": "@jupyter-widgets/base",
      "model_module_version": "1.2.0",
      "model_name": "LayoutModel",
      "state": {}
     },
     "60bb88c63652407992527732afca9960": {
      "model_module": "@jupyter-widgets/controls",
      "model_module_version": "1.5.0",
      "model_name": "HTMLModel",
      "state": {
       "layout": "IPY_MODEL_c960de2a89b745faa5be7ebb6c801047",
       "style": "IPY_MODEL_6f89a3df34f746b79220880ef37f495c",
       "value": "<style type=\"text/css\">\n    .tg-opt  {font-family:\"Courier New\", Courier, monospace !important;padding:2px 3px;word-break:normal;border-collapse:collapse;border-spacing:0;border-color:#DCDCDC;margin:0px auto;width:100%;}\n    .tg-opt td{font-family:\"Courier New\", Courier, monospace !important;font-weight:bold;color:#444;background-color:#F7FDFA;border-style:solid;border-width:1px;overflow:hidden;word-break:normal;border-color:#DCDCDC;}\n    .tg-opt th{font-family:\"Courier New\", Courier, monospace !important;font-weight:normal;color:#fff;background-color:#26ADE4;border-style:solid;border-width:1px;overflow:hidden;word-break:normal;border-color:#DCDCDC;}\n    .tg-opt .tg-left{font-family:\"Courier New\", Courier, monospace !important;font-weight:normal;text-align:left;}\n    .tg-opt .tg-right{font-family:\"Courier New\", Courier, monospace !important;font-weight:normal;text-align:right;}\n    </style>\n    <table class=\"tg-opt\"><tr><td class='tg-left'>optimizer</td><td class='tg-right'>L-BFGS-B (Scipy implementation)</td></tr><tr><td class='tg-left'>runtime</td><td class='tg-right'>00s32</td></tr><tr><td class='tg-left'>evaluation</td><td class='tg-right'>0047</td></tr><tr><td class='tg-left'>objective</td><td class='tg-right'>   9.018E+01</td></tr><tr><td class='tg-left'>||gradient||</td><td class='tg-right'>  +3.092E-06</td></tr><tr><td class='tg-left'>status</td><td class='tg-right'>Converged</td></tr></table>"
      }
     },
     "6124b884ab11401f9a83336b4f162fc2": {
      "model_module": "@jupyter-widgets/controls",
      "model_module_version": "1.5.0",
      "model_name": "IntProgressModel",
      "state": {
       "bar_style": "success",
       "layout": "IPY_MODEL_2cf50c00212d4b9081a5240d5aa802ba",
       "max": 1000,
       "style": "IPY_MODEL_57e7d349bce248eaadea27ceb6bb140a",
       "value": 49
      }
     },
     "61455f7938c6487793b609df44a57998": {
      "model_module": "@jupyter-widgets/base",
      "model_module_version": "1.2.0",
      "model_name": "LayoutModel",
      "state": {}
     },
     "61a1be92ea7341d6989fd6dfab129f91": {
      "model_module": "@jupyter-widgets/base",
      "model_module_version": "1.2.0",
      "model_name": "LayoutModel",
      "state": {}
     },
     "61f80b203a7449838b9973d7fe184e1f": {
      "model_module": "@jupyter-widgets/controls",
      "model_module_version": "1.5.0",
      "model_name": "DescriptionStyleModel",
      "state": {
       "description_width": ""
      }
     },
     "62d6b3e2068d4ca3bfbf764586d3dcb7": {
      "model_module": "@jupyter-widgets/controls",
      "model_module_version": "1.5.0",
      "model_name": "DescriptionStyleModel",
      "state": {
       "description_width": ""
      }
     },
     "63c9d4d7434e44e983922fc905bdb473": {
      "model_module": "@jupyter-widgets/controls",
      "model_module_version": "1.5.0",
      "model_name": "HBoxModel",
      "state": {
       "children": [
        "IPY_MODEL_23b69493ce97444693f8fb87e2ca5b53",
        "IPY_MODEL_c109d9df0ad64ef0824ed4f3470b1f03"
       ],
       "layout": "IPY_MODEL_2f57d7b45c274c6f98ec3779eca135e7"
      }
     },
     "63ff44a14909407bb92a05650100bc37": {
      "model_module": "@jupyter-widgets/controls",
      "model_module_version": "1.5.0",
      "model_name": "HTMLModel",
      "state": {
       "layout": "IPY_MODEL_73ad41638a0d46e5a58b748d7ad40afb",
       "style": "IPY_MODEL_ab69fb75f73c45fab0caffa885ca2484",
       "value": "<style type=\"text/css\">\n.pd{\n    font-family: \"Courier New\", Courier, monospace !important;\n    width: 100%;\n    padding: 3px;\n}\n</style>\n\n<p class=pd>\n<b>Model</b>: GP regression<br>\n<b>Objective</b>: 92.6245964281573<br>\n<b>Number of Parameters</b>: 12<br>\n<b>Number of Optimization Parameters</b>: 12<br>\n<b>Updates</b>: True<br>\n</p>\n<style type=\"text/css\">\n.tg  {font-family:\"Courier New\", Courier, monospace !important;padding:2px 3px;word-break:normal;border-collapse:collapse;border-spacing:0;border-color:#DCDCDC;margin:0px auto;width:100%;}\n.tg td{font-family:\"Courier New\", Courier, monospace !important;font-weight:bold;color:#444;background-color:#F7FDFA;border-style:solid;border-width:1px;overflow:hidden;word-break:normal;border-color:#DCDCDC;}\n.tg th{font-family:\"Courier New\", Courier, monospace !important;font-weight:normal;color:#fff;background-color:#26ADE4;border-style:solid;border-width:1px;overflow:hidden;word-break:normal;border-color:#DCDCDC;}\n.tg .tg-left{font-family:\"Courier New\", Courier, monospace !important;font-weight:normal;text-align:left;}\n.tg .tg-center{font-family:\"Courier New\", Courier, monospace !important;font-weight:normal;text-align:center;}\n.tg .tg-right{font-family:\"Courier New\", Courier, monospace !important;font-weight:normal;text-align:right;}\n</style>\n<table class=\"tg\"><tr><th><b>  GP_regression.         </b></th><th><b>              value</b></th><th><b>constraints</b></th><th><b>priors</b></th></tr>\n<tr><td class=tg-left>  constmap.C             </td><td class=tg-right>  4.987883140479174</td><td class=tg-center>           </td><td class=tg-center>      </td></tr>\n<tr><td class=tg-left>  rbf.variance           </td><td class=tg-right> 15.165717260229048</td><td class=tg-center>    +ve    </td><td class=tg-center>      </td></tr>\n<tr><td class=tg-left>  rbf.lengthscale        </td><td class=tg-right>               (9,)</td><td class=tg-center>    +ve    </td><td class=tg-center>      </td></tr>\n<tr><td class=tg-left>  Gaussian_noise.variance</td><td class=tg-right>0.17348970534072392</td><td class=tg-center>    +ve    </td><td class=tg-center>      </td></tr>\n</table>"
      }
     },
     "641f1967ff054458b53e2ccecbddaa73": {
      "model_module": "@jupyter-widgets/controls",
      "model_module_version": "1.5.0",
      "model_name": "DescriptionStyleModel",
      "state": {
       "description_width": ""
      }
     },
     "649d9d99a8c34d0e9047e643ec264665": {
      "model_module": "@jupyter-widgets/base",
      "model_module_version": "1.2.0",
      "model_name": "LayoutModel",
      "state": {}
     },
     "64e04b661ed0414fa46cea33a76b662d": {
      "model_module": "@jupyter-widgets/base",
      "model_module_version": "1.2.0",
      "model_name": "LayoutModel",
      "state": {}
     },
     "653128a8eed4485daf77908ff9a87cfc": {
      "model_module": "@jupyter-widgets/controls",
      "model_module_version": "1.5.0",
      "model_name": "VBoxModel",
      "state": {
       "children": [
        "IPY_MODEL_5f50b7591cc647e2a842cda2f3a18270",
        "IPY_MODEL_29ea71c9d5534e2188975fbd645e1236"
       ],
       "layout": "IPY_MODEL_487013fff93849cfb54e0ba75392e6bb"
      }
     },
     "659095a75a6b43978d1a8a585fd27f49": {
      "model_module": "@jupyter-widgets/controls",
      "model_module_version": "1.5.0",
      "model_name": "VBoxModel",
      "state": {
       "children": [
        "IPY_MODEL_b59ffe08233947f8a357979d7e606ad4",
        "IPY_MODEL_f9b3490af9a54778b03f393da4d19f7c"
       ],
       "layout": "IPY_MODEL_28924bfb94cb4ab883a0908b43e9b95c"
      }
     },
     "65e7ce5bad2c445c8947924675cc1153": {
      "model_module": "@jupyter-widgets/base",
      "model_module_version": "1.2.0",
      "model_name": "LayoutModel",
      "state": {}
     },
     "663a6c91733745dc8b3dfe22f143aee3": {
      "model_module": "@jupyter-widgets/controls",
      "model_module_version": "1.5.0",
      "model_name": "ProgressStyleModel",
      "state": {
       "description_width": ""
      }
     },
     "665b854025924d3a910c2ed1712b73e7": {
      "model_module": "@jupyter-widgets/base",
      "model_module_version": "1.2.0",
      "model_name": "LayoutModel",
      "state": {}
     },
     "669daa1e12d2414ba57d77c9961a43a6": {
      "model_module": "@jupyter-widgets/controls",
      "model_module_version": "1.5.0",
      "model_name": "DescriptionStyleModel",
      "state": {
       "description_width": ""
      }
     },
     "66fc28d8cefc4eb59193eeba76d72e55": {
      "model_module": "@jupyter-widgets/controls",
      "model_module_version": "1.5.0",
      "model_name": "BoxModel",
      "state": {
       "children": [
        "IPY_MODEL_e33d4b58e0a2463ea2815c659949618a"
       ],
       "layout": "IPY_MODEL_50f8e67081cc41978cc8328910cdec6d"
      }
     },
     "66fc834fb9dc40c4bb964ab5f4c6c65d": {
      "model_module": "@jupyter-widgets/controls",
      "model_module_version": "1.5.0",
      "model_name": "HTMLModel",
      "state": {
       "layout": "IPY_MODEL_e3115c60a176476195053e87cefbe981",
       "style": "IPY_MODEL_11a080775c3c4af6add344263970664f",
       "value": "<style type=\"text/css\">\n    .tg-opt  {font-family:\"Courier New\", Courier, monospace !important;padding:2px 3px;word-break:normal;border-collapse:collapse;border-spacing:0;border-color:#DCDCDC;margin:0px auto;width:100%;}\n    .tg-opt td{font-family:\"Courier New\", Courier, monospace !important;font-weight:bold;color:#444;background-color:#F7FDFA;border-style:solid;border-width:1px;overflow:hidden;word-break:normal;border-color:#DCDCDC;}\n    .tg-opt th{font-family:\"Courier New\", Courier, monospace !important;font-weight:normal;color:#fff;background-color:#26ADE4;border-style:solid;border-width:1px;overflow:hidden;word-break:normal;border-color:#DCDCDC;}\n    .tg-opt .tg-left{font-family:\"Courier New\", Courier, monospace !important;font-weight:normal;text-align:left;}\n    .tg-opt .tg-right{font-family:\"Courier New\", Courier, monospace !important;font-weight:normal;text-align:right;}\n    </style>\n    <table class=\"tg-opt\"><tr><td class='tg-left'>optimizer</td><td class='tg-right'>L-BFGS-B (Scipy implementation)</td></tr><tr><td class='tg-left'>runtime</td><td class='tg-right'>00s31</td></tr><tr><td class='tg-left'>evaluation</td><td class='tg-right'>0044</td></tr><tr><td class='tg-left'>objective</td><td class='tg-right'>   8.944E+01</td></tr><tr><td class='tg-left'>||gradient||</td><td class='tg-right'>  +3.219E-07</td></tr><tr><td class='tg-left'>status</td><td class='tg-right'>Converged</td></tr></table>"
      }
     },
     "673231a3a5a240e080eb1b22dc749087": {
      "model_module": "@jupyter-widgets/controls",
      "model_module_version": "1.5.0",
      "model_name": "BoxModel",
      "state": {
       "children": [
        "IPY_MODEL_42dfd0ea60fd4c678ce4a3a82248e018"
       ],
       "layout": "IPY_MODEL_f7d750882a9f411ea42d29eb4e2d07a6"
      }
     },
     "67d74a9d33dc4600b1c828021b0ccc6d": {
      "model_module": "@jupyter-widgets/base",
      "model_module_version": "1.2.0",
      "model_name": "LayoutModel",
      "state": {}
     },
     "680d038e671f45d880c1f18f88a1b8a3": {
      "model_module": "@jupyter-widgets/base",
      "model_module_version": "1.2.0",
      "model_name": "LayoutModel",
      "state": {}
     },
     "6827e600bfcc4830917cc1f0263774d1": {
      "model_module": "@jupyter-widgets/base",
      "model_module_version": "1.2.0",
      "model_name": "LayoutModel",
      "state": {}
     },
     "684e5cd055ef41b8a0e8d146f6aa716a": {
      "model_module": "@jupyter-widgets/controls",
      "model_module_version": "1.5.0",
      "model_name": "BoxModel",
      "state": {
       "children": [
        "IPY_MODEL_fed513c74ad748ee9cbb7b01a0c3ba0e"
       ],
       "layout": "IPY_MODEL_f04f0e7aea664c70bb0a82a17766997d"
      }
     },
     "688f6ff49d38489283c843a37a2b2c8f": {
      "model_module": "@jupyter-widgets/base",
      "model_module_version": "1.2.0",
      "model_name": "LayoutModel",
      "state": {}
     },
     "6895d86c84ff4c01a862d47afd736a51": {
      "model_module": "@jupyter-widgets/controls",
      "model_module_version": "1.5.0",
      "model_name": "HTMLModel",
      "state": {
       "layout": "IPY_MODEL_6ab7f30b99804e269d510159b08fcb94",
       "style": "IPY_MODEL_acc4982ea5734126a948381176f76274",
       "value": "<style type=\"text/css\">\n    .tg-opt  {font-family:\"Courier New\", Courier, monospace !important;padding:2px 3px;word-break:normal;border-collapse:collapse;border-spacing:0;border-color:#DCDCDC;margin:0px auto;width:100%;}\n    .tg-opt td{font-family:\"Courier New\", Courier, monospace !important;font-weight:bold;color:#444;background-color:#F7FDFA;border-style:solid;border-width:1px;overflow:hidden;word-break:normal;border-color:#DCDCDC;}\n    .tg-opt th{font-family:\"Courier New\", Courier, monospace !important;font-weight:normal;color:#fff;background-color:#26ADE4;border-style:solid;border-width:1px;overflow:hidden;word-break:normal;border-color:#DCDCDC;}\n    .tg-opt .tg-left{font-family:\"Courier New\", Courier, monospace !important;font-weight:normal;text-align:left;}\n    .tg-opt .tg-right{font-family:\"Courier New\", Courier, monospace !important;font-weight:normal;text-align:right;}\n    </style>\n    <table class=\"tg-opt\"><tr><td class='tg-left'>optimizer</td><td class='tg-right'>L-BFGS-B (Scipy implementation)</td></tr><tr><td class='tg-left'>runtime</td><td class='tg-right'>00s28</td></tr><tr><td class='tg-left'>evaluation</td><td class='tg-right'>0042</td></tr><tr><td class='tg-left'>objective</td><td class='tg-right'>   9.333E+01</td></tr><tr><td class='tg-left'>||gradient||</td><td class='tg-right'>  +3.151E-08</td></tr><tr><td class='tg-left'>status</td><td class='tg-right'>Converged</td></tr></table>"
      }
     },
     "6ab7f30b99804e269d510159b08fcb94": {
      "model_module": "@jupyter-widgets/base",
      "model_module_version": "1.2.0",
      "model_name": "LayoutModel",
      "state": {}
     },
     "6b45c29c39a848ab8b37f15267c09073": {
      "model_module": "@jupyter-widgets/controls",
      "model_module_version": "1.5.0",
      "model_name": "ProgressStyleModel",
      "state": {
       "description_width": ""
      }
     },
     "6b6bbcf4498a4641a086b62353376249": {
      "model_module": "@jupyter-widgets/controls",
      "model_module_version": "1.5.0",
      "model_name": "ProgressStyleModel",
      "state": {
       "description_width": ""
      }
     },
     "6beaf1fee76d46c58e86ea18e225a996": {
      "model_module": "@jupyter-widgets/controls",
      "model_module_version": "1.5.0",
      "model_name": "HBoxModel",
      "state": {
       "children": [
        "IPY_MODEL_f6953ae28244426da7b6bf34ab4e1877",
        "IPY_MODEL_e3640360b29e430babb9d342a0374d6c"
       ],
       "layout": "IPY_MODEL_4afff91728fe4a21951a39eca2f1abf5"
      }
     },
     "6c0528ff2d74480f907f1c53fc5876bc": {
      "model_module": "@jupyter-widgets/controls",
      "model_module_version": "1.5.0",
      "model_name": "DescriptionStyleModel",
      "state": {
       "description_width": ""
      }
     },
     "6c09a703c8fa49f28f03f59d0f39366d": {
      "model_module": "@jupyter-widgets/controls",
      "model_module_version": "1.5.0",
      "model_name": "IntProgressModel",
      "state": {
       "bar_style": "success",
       "layout": "IPY_MODEL_171d3707ee5149a09b1b6776defbb865",
       "max": 1000,
       "style": "IPY_MODEL_cee90c29f40f47baaaf5a7454c39b471",
       "value": 32
      }
     },
     "6c0f72be94754d04ad09721a0e4b27db": {
      "model_module": "@jupyter-widgets/controls",
      "model_module_version": "1.5.0",
      "model_name": "VBoxModel",
      "state": {
       "children": [
        "IPY_MODEL_a46807317ae44e8a9dbebbd4ce14e8eb",
        "IPY_MODEL_6895d86c84ff4c01a862d47afd736a51"
       ],
       "layout": "IPY_MODEL_f4ee0de2a5aa4d70ab1fe9caab60374b"
      }
     },
     "6c1c42ec7acc4672b84887dde9d2986b": {
      "model_module": "@jupyter-widgets/base",
      "model_module_version": "1.2.0",
      "model_name": "LayoutModel",
      "state": {}
     },
     "6c599055e4ec403080ef777fa2d978fa": {
      "model_module": "@jupyter-widgets/controls",
      "model_module_version": "1.5.0",
      "model_name": "VBoxModel",
      "state": {
       "children": [
        "IPY_MODEL_1240de0e022f4f49a5fc5bf73c2ea63c",
        "IPY_MODEL_7e5d1ed787434024b52ea9943bd16a3b"
       ],
       "layout": "IPY_MODEL_b46abaf825b4464d93cd543449a38e73"
      }
     },
     "6ce8939dbf904af187e1905acd9244fe": {
      "model_module": "@jupyter-widgets/controls",
      "model_module_version": "1.5.0",
      "model_name": "DescriptionStyleModel",
      "state": {
       "description_width": ""
      }
     },
     "6d80718f2eef402ca3c5b71d70e8b73a": {
      "model_module": "@jupyter-widgets/controls",
      "model_module_version": "1.5.0",
      "model_name": "HTMLModel",
      "state": {
       "layout": "IPY_MODEL_feb73f7a917f437ba4e2d485f2748bc9",
       "style": "IPY_MODEL_40da11ab2a0d445ab474bc1421572abe",
       "value": "<style type=\"text/css\">\n    .tg-opt  {font-family:\"Courier New\", Courier, monospace !important;padding:2px 3px;word-break:normal;border-collapse:collapse;border-spacing:0;border-color:#DCDCDC;margin:0px auto;width:100%;}\n    .tg-opt td{font-family:\"Courier New\", Courier, monospace !important;font-weight:bold;color:#444;background-color:#F7FDFA;border-style:solid;border-width:1px;overflow:hidden;word-break:normal;border-color:#DCDCDC;}\n    .tg-opt th{font-family:\"Courier New\", Courier, monospace !important;font-weight:normal;color:#fff;background-color:#26ADE4;border-style:solid;border-width:1px;overflow:hidden;word-break:normal;border-color:#DCDCDC;}\n    .tg-opt .tg-left{font-family:\"Courier New\", Courier, monospace !important;font-weight:normal;text-align:left;}\n    .tg-opt .tg-right{font-family:\"Courier New\", Courier, monospace !important;font-weight:normal;text-align:right;}\n    </style>\n    <table class=\"tg-opt\"><tr><td class='tg-left'>optimizer</td><td class='tg-right'>L-BFGS-B (Scipy implementation)</td></tr><tr><td class='tg-left'>runtime</td><td class='tg-right'>00s30</td></tr><tr><td class='tg-left'>evaluation</td><td class='tg-right'>0045</td></tr><tr><td class='tg-left'>objective</td><td class='tg-right'>   9.139E+01</td></tr><tr><td class='tg-left'>||gradient||</td><td class='tg-right'>  +1.296E-07</td></tr><tr><td class='tg-left'>status</td><td class='tg-right'>Converged</td></tr></table>"
      }
     },
     "6da553df98ca46babeb094c5faa58064": {
      "model_module": "@jupyter-widgets/base",
      "model_module_version": "1.2.0",
      "model_name": "LayoutModel",
      "state": {}
     },
     "6e029e84db1042ddaae6c8f1318b5bcd": {
      "model_module": "@jupyter-widgets/base",
      "model_module_version": "1.2.0",
      "model_name": "LayoutModel",
      "state": {}
     },
     "6e0e91bc78ae475fba5738ce6061d33a": {
      "model_module": "@jupyter-widgets/base",
      "model_module_version": "1.2.0",
      "model_name": "LayoutModel",
      "state": {}
     },
     "6e3c440cfece47b3b2af78c6e6ff29d4": {
      "model_module": "@jupyter-widgets/base",
      "model_module_version": "1.2.0",
      "model_name": "LayoutModel",
      "state": {}
     },
     "6eab9171014f43ec84ede9c96b663d39": {
      "model_module": "@jupyter-widgets/base",
      "model_module_version": "1.2.0",
      "model_name": "LayoutModel",
      "state": {}
     },
     "6f20bb5c50634cd88f1eb7fdba7e7f26": {
      "model_module": "@jupyter-widgets/base",
      "model_module_version": "1.2.0",
      "model_name": "LayoutModel",
      "state": {}
     },
     "6f57ac3b13e2442083abbd5d8ec06b00": {
      "model_module": "@jupyter-widgets/base",
      "model_module_version": "1.2.0",
      "model_name": "LayoutModel",
      "state": {}
     },
     "6f5f7886a88346bc815ed89a46dd66ff": {
      "model_module": "@jupyter-widgets/base",
      "model_module_version": "1.2.0",
      "model_name": "LayoutModel",
      "state": {}
     },
     "6f89a3df34f746b79220880ef37f495c": {
      "model_module": "@jupyter-widgets/controls",
      "model_module_version": "1.5.0",
      "model_name": "DescriptionStyleModel",
      "state": {
       "description_width": ""
      }
     },
     "6f9a582691734566a3aeed5f5eba42a5": {
      "model_module": "@jupyter-widgets/controls",
      "model_module_version": "1.5.0",
      "model_name": "IntProgressModel",
      "state": {
       "bar_style": "success",
       "layout": "IPY_MODEL_9b9c2f5862b542379931fdffe0c4e6e8",
       "max": 1000,
       "style": "IPY_MODEL_a4431d139f5d4a0ea40f9347ad55ab11",
       "value": 53
      }
     },
     "700aa8a628eb4ae193054d51bec12fb6": {
      "model_module": "@jupyter-widgets/base",
      "model_module_version": "1.2.0",
      "model_name": "LayoutModel",
      "state": {}
     },
     "701c117b2be64329b8f4e52cd0c03b15": {
      "model_module": "@jupyter-widgets/base",
      "model_module_version": "1.2.0",
      "model_name": "LayoutModel",
      "state": {}
     },
     "703dc2b079de4b768d919eda33e8b3f0": {
      "model_module": "@jupyter-widgets/controls",
      "model_module_version": "1.5.0",
      "model_name": "ProgressStyleModel",
      "state": {
       "description_width": ""
      }
     },
     "709e16b3841848c8ae85bb6447be385a": {
      "model_module": "@jupyter-widgets/controls",
      "model_module_version": "1.5.0",
      "model_name": "DescriptionStyleModel",
      "state": {
       "description_width": ""
      }
     },
     "70ca8f3f57f0425983bdb892de0dbe2c": {
      "model_module": "@jupyter-widgets/base",
      "model_module_version": "1.2.0",
      "model_name": "LayoutModel",
      "state": {}
     },
     "70d5c09931bd47558717000c6ab5ad91": {
      "model_module": "@jupyter-widgets/base",
      "model_module_version": "1.2.0",
      "model_name": "LayoutModel",
      "state": {}
     },
     "7152ad4bce6142e0b018370b3143b6cb": {
      "model_module": "@jupyter-widgets/controls",
      "model_module_version": "1.5.0",
      "model_name": "DescriptionStyleModel",
      "state": {
       "description_width": ""
      }
     },
     "71ab25e29997468e9cfc6dd72acbfcb0": {
      "model_module": "@jupyter-widgets/base",
      "model_module_version": "1.2.0",
      "model_name": "LayoutModel",
      "state": {}
     },
     "71cfe5bc0e2748a291b7978dcf714d7c": {
      "model_module": "@jupyter-widgets/controls",
      "model_module_version": "1.5.0",
      "model_name": "ProgressStyleModel",
      "state": {
       "description_width": ""
      }
     },
     "71f1b8229aa5445b92c6c8266087056d": {
      "model_module": "@jupyter-widgets/controls",
      "model_module_version": "1.5.0",
      "model_name": "VBoxModel",
      "state": {
       "children": [
        "IPY_MODEL_86ffd81934b246c287f49b6d54d56ba0",
        "IPY_MODEL_bc95b347ec0d401dae6c90a668680057"
       ],
       "layout": "IPY_MODEL_6827e600bfcc4830917cc1f0263774d1"
      }
     },
     "7204fd48c7e34363b6a9a70c26fd1c0a": {
      "model_module": "@jupyter-widgets/base",
      "model_module_version": "1.2.0",
      "model_name": "LayoutModel",
      "state": {}
     },
     "720a329860b848aaaf42489b861d9c29": {
      "model_module": "@jupyter-widgets/controls",
      "model_module_version": "1.5.0",
      "model_name": "VBoxModel",
      "state": {
       "children": [
        "IPY_MODEL_ae04641b64cd4f67a3934ebde49e3d27",
        "IPY_MODEL_adc89c5f308e44e0ae362694fc7c0973"
       ],
       "layout": "IPY_MODEL_dc0ac283948842de9ea82ae9aad64d30"
      }
     },
     "726ec032b3464decb94ca56e03514a39": {
      "model_module": "@jupyter-widgets/controls",
      "model_module_version": "1.5.0",
      "model_name": "HTMLModel",
      "state": {
       "layout": "IPY_MODEL_3700d9e61af34aef846cf7a928be418f",
       "style": "IPY_MODEL_82e5d14feeff4b2c8a02ce64050c7ed0",
       "value": "<style type=\"text/css\">\n.pd{\n    font-family: \"Courier New\", Courier, monospace !important;\n    width: 100%;\n    padding: 3px;\n}\n</style>\n\n<p class=pd>\n<b>Model</b>: GP regression<br>\n<b>Objective</b>: 86.84907874396308<br>\n<b>Number of Parameters</b>: 12<br>\n<b>Number of Optimization Parameters</b>: 12<br>\n<b>Updates</b>: True<br>\n</p>\n<style type=\"text/css\">\n.tg  {font-family:\"Courier New\", Courier, monospace !important;padding:2px 3px;word-break:normal;border-collapse:collapse;border-spacing:0;border-color:#DCDCDC;margin:0px auto;width:100%;}\n.tg td{font-family:\"Courier New\", Courier, monospace !important;font-weight:bold;color:#444;background-color:#F7FDFA;border-style:solid;border-width:1px;overflow:hidden;word-break:normal;border-color:#DCDCDC;}\n.tg th{font-family:\"Courier New\", Courier, monospace !important;font-weight:normal;color:#fff;background-color:#26ADE4;border-style:solid;border-width:1px;overflow:hidden;word-break:normal;border-color:#DCDCDC;}\n.tg .tg-left{font-family:\"Courier New\", Courier, monospace !important;font-weight:normal;text-align:left;}\n.tg .tg-center{font-family:\"Courier New\", Courier, monospace !important;font-weight:normal;text-align:center;}\n.tg .tg-right{font-family:\"Courier New\", Courier, monospace !important;font-weight:normal;text-align:right;}\n</style>\n<table class=\"tg\"><tr><th><b>  GP_regression.         </b></th><th><b>             value</b></th><th><b>constraints</b></th><th><b>priors</b></th></tr>\n<tr><td class=tg-left>  constmap.C             </td><td class=tg-right>  4.79727423035038</td><td class=tg-center>           </td><td class=tg-center>      </td></tr>\n<tr><td class=tg-left>  rbf.variance           </td><td class=tg-right> 16.22890607480316</td><td class=tg-center>    +ve    </td><td class=tg-center>      </td></tr>\n<tr><td class=tg-left>  rbf.lengthscale        </td><td class=tg-right>              (9,)</td><td class=tg-center>    +ve    </td><td class=tg-center>      </td></tr>\n<tr><td class=tg-left>  Gaussian_noise.variance</td><td class=tg-right>0.1519671222426705</td><td class=tg-center>    +ve    </td><td class=tg-center>      </td></tr>\n</table>"
      }
     },
     "730c91d6a3a54314a13f304d3fda3078": {
      "model_module": "@jupyter-widgets/base",
      "model_module_version": "1.2.0",
      "model_name": "LayoutModel",
      "state": {}
     },
     "73ad41638a0d46e5a58b748d7ad40afb": {
      "model_module": "@jupyter-widgets/base",
      "model_module_version": "1.2.0",
      "model_name": "LayoutModel",
      "state": {}
     },
     "73cd1cdb89f14ef6a667ac195d54576a": {
      "model_module": "@jupyter-widgets/controls",
      "model_module_version": "1.5.0",
      "model_name": "HBoxModel",
      "state": {
       "children": [
        "IPY_MODEL_ade97a2508e243b688185cdd79ea5cb7",
        "IPY_MODEL_fadb79f0ae244f6bb38d72af85779494"
       ],
       "layout": "IPY_MODEL_6f20bb5c50634cd88f1eb7fdba7e7f26"
      }
     },
     "73d921a9b77f43b6a15d29599d8ada4e": {
      "model_module": "@jupyter-widgets/controls",
      "model_module_version": "1.5.0",
      "model_name": "DescriptionStyleModel",
      "state": {
       "description_width": ""
      }
     },
     "74b0a4d6812643e996d2362ca9488ed6": {
      "model_module": "@jupyter-widgets/base",
      "model_module_version": "1.2.0",
      "model_name": "LayoutModel",
      "state": {}
     },
     "75a26076f1454ada97b2d189d046b138": {
      "model_module": "@jupyter-widgets/controls",
      "model_module_version": "1.5.0",
      "model_name": "VBoxModel",
      "state": {
       "children": [
        "IPY_MODEL_fc70053eb81f45cf8c236ec24daa6942",
        "IPY_MODEL_3da2972288c247f39de294107f31f8b1"
       ],
       "layout": "IPY_MODEL_a16c0d53bf8846728d2188f7a6c49c6f"
      }
     },
     "75bf43b1cadf464cafb896fe92a6cd14": {
      "model_module": "@jupyter-widgets/controls",
      "model_module_version": "1.5.0",
      "model_name": "HBoxModel",
      "state": {
       "children": [
        "IPY_MODEL_5f82e63929f441c38b5c61904d03c4fc",
        "IPY_MODEL_1d724e367e264ad182863113362e3e5c"
       ],
       "layout": "IPY_MODEL_f14fa96017314b03abd7aa295c890fe3"
      }
     },
     "75f7792eb70f468387a2efea0feebf47": {
      "model_module": "@jupyter-widgets/controls",
      "model_module_version": "1.5.0",
      "model_name": "VBoxModel",
      "state": {
       "children": [
        "IPY_MODEL_eb8109e435774b1aa3edb98173699c47",
        "IPY_MODEL_c7af8e2dc6314f8f9512e8b947911de5"
       ],
       "layout": "IPY_MODEL_7c13a30370ed4e0694415075bdf74627"
      }
     },
     "764cdcc5eee3438cb8dfc68683f55363": {
      "model_module": "@jupyter-widgets/controls",
      "model_module_version": "1.5.0",
      "model_name": "DescriptionStyleModel",
      "state": {
       "description_width": ""
      }
     },
     "7672fc7b6a004c53a8fadaeb9249d2b4": {
      "model_module": "@jupyter-widgets/base",
      "model_module_version": "1.2.0",
      "model_name": "LayoutModel",
      "state": {}
     },
     "782263c49569412ab273c8eac87480bf": {
      "model_module": "@jupyter-widgets/controls",
      "model_module_version": "1.5.0",
      "model_name": "VBoxModel",
      "state": {
       "children": [
        "IPY_MODEL_c698e3d57bdf4aebb88d920d3986a18e",
        "IPY_MODEL_7eb3051c7e0741fb9f8763235843bb0d"
       ],
       "layout": "IPY_MODEL_09a3c174e2e44fec99b3eb9b1ce7309c"
      }
     },
     "782b10fd764845138f5d83542abb2557": {
      "model_module": "@jupyter-widgets/base",
      "model_module_version": "1.2.0",
      "model_name": "LayoutModel",
      "state": {}
     },
     "783a4939dd024f0dbbb50b8e6cbfb67d": {
      "model_module": "@jupyter-widgets/base",
      "model_module_version": "1.2.0",
      "model_name": "LayoutModel",
      "state": {}
     },
     "7867657d1ef24a408a1b0eeaff2d20f4": {
      "model_module": "@jupyter-widgets/controls",
      "model_module_version": "1.5.0",
      "model_name": "HTMLModel",
      "state": {
       "layout": "IPY_MODEL_30c1cfd17e7749bfb00cbfc3818ca624",
       "style": "IPY_MODEL_1e56671416a84b9ba181aa2e4c8122f4",
       "value": "<style type=\"text/css\">\n    .tg-opt  {font-family:\"Courier New\", Courier, monospace !important;padding:2px 3px;word-break:normal;border-collapse:collapse;border-spacing:0;border-color:#DCDCDC;margin:0px auto;width:100%;}\n    .tg-opt td{font-family:\"Courier New\", Courier, monospace !important;font-weight:bold;color:#444;background-color:#F7FDFA;border-style:solid;border-width:1px;overflow:hidden;word-break:normal;border-color:#DCDCDC;}\n    .tg-opt th{font-family:\"Courier New\", Courier, monospace !important;font-weight:normal;color:#fff;background-color:#26ADE4;border-style:solid;border-width:1px;overflow:hidden;word-break:normal;border-color:#DCDCDC;}\n    .tg-opt .tg-left{font-family:\"Courier New\", Courier, monospace !important;font-weight:normal;text-align:left;}\n    .tg-opt .tg-right{font-family:\"Courier New\", Courier, monospace !important;font-weight:normal;text-align:right;}\n    </style>\n    <table class=\"tg-opt\"><tr><td class='tg-left'>optimizer</td><td class='tg-right'>L-BFGS-B (Scipy implementation)</td></tr><tr><td class='tg-left'>runtime</td><td class='tg-right'>00s27</td></tr><tr><td class='tg-left'>evaluation</td><td class='tg-right'>0040</td></tr><tr><td class='tg-left'>objective</td><td class='tg-right'>   9.197E+01</td></tr><tr><td class='tg-left'>||gradient||</td><td class='tg-right'>  +1.464E-07</td></tr><tr><td class='tg-left'>status</td><td class='tg-right'>Converged</td></tr></table>"
      }
     },
     "790831aa22e3478db638294f7726eb36": {
      "model_module": "@jupyter-widgets/controls",
      "model_module_version": "1.5.0",
      "model_name": "ProgressStyleModel",
      "state": {
       "description_width": ""
      }
     },
     "79cda5e178e34f1e97e55fce125e9023": {
      "model_module": "@jupyter-widgets/controls",
      "model_module_version": "1.5.0",
      "model_name": "BoxModel",
      "state": {
       "children": [
        "IPY_MODEL_96d80ec7e7eb47dc87fee770e81b45c6"
       ],
       "layout": "IPY_MODEL_a7978333f0f54d18b4e4becc6ab8ecba"
      }
     },
     "7a3c37a38ad24fd693b8dac5884687b1": {
      "model_module": "@jupyter-widgets/controls",
      "model_module_version": "1.5.0",
      "model_name": "HBoxModel",
      "state": {
       "children": [
        "IPY_MODEL_71f1b8229aa5445b92c6c8266087056d",
        "IPY_MODEL_5233d0e6769e4ba0a383bd4a25d6a000"
       ],
       "layout": "IPY_MODEL_c726caac382c43d2bb316c5b815db112"
      }
     },
     "7a520edc1af24bee9b3080d643ccb8c5": {
      "model_module": "@jupyter-widgets/base",
      "model_module_version": "1.2.0",
      "model_name": "LayoutModel",
      "state": {}
     },
     "7a6be03b8abb4e98a25129199415d28a": {
      "model_module": "@jupyter-widgets/controls",
      "model_module_version": "1.5.0",
      "model_name": "IntProgressModel",
      "state": {
       "bar_style": "success",
       "layout": "IPY_MODEL_efcc77ce078f4750abadb67ca6aaefc2",
       "max": 1000,
       "style": "IPY_MODEL_790831aa22e3478db638294f7726eb36",
       "value": 50
      }
     },
     "7a8007cfcbb3428d8b701007fd0a6226": {
      "model_module": "@jupyter-widgets/controls",
      "model_module_version": "1.5.0",
      "model_name": "HBoxModel",
      "state": {
       "children": [
        "IPY_MODEL_4ccfae733ff6464ab21828ab724fb9ff",
        "IPY_MODEL_684e5cd055ef41b8a0e8d146f6aa716a"
       ],
       "layout": "IPY_MODEL_155cca5e4e604d5d946881e1705af83a"
      }
     },
     "7b3d80345b6b404ea6cc88cdacdcfe6b": {
      "model_module": "@jupyter-widgets/controls",
      "model_module_version": "1.5.0",
      "model_name": "HBoxModel",
      "state": {
       "children": [
        "IPY_MODEL_1d3e53e5d0fe4cee9a0fc63a4a6696b4",
        "IPY_MODEL_37fd0aab672a48ef98eced04a2a94caf"
       ],
       "layout": "IPY_MODEL_ef8725035c12412eb4bf3a5910bc4701"
      }
     },
     "7b865069d3654341ace91fe93031fc48": {
      "model_module": "@jupyter-widgets/controls",
      "model_module_version": "1.5.0",
      "model_name": "BoxModel",
      "state": {
       "children": [
        "IPY_MODEL_bf44a35b4d0b4bf2b4759173b1ad176a"
       ],
       "layout": "IPY_MODEL_2c897e3610c5483d9c99606b8605d620"
      }
     },
     "7c0d1a2540c847748aab5d1010c0e3ab": {
      "model_module": "@jupyter-widgets/base",
      "model_module_version": "1.2.0",
      "model_name": "LayoutModel",
      "state": {}
     },
     "7c13a30370ed4e0694415075bdf74627": {
      "model_module": "@jupyter-widgets/base",
      "model_module_version": "1.2.0",
      "model_name": "LayoutModel",
      "state": {}
     },
     "7c3fab0b506a4be281483d3c48dff956": {
      "model_module": "@jupyter-widgets/controls",
      "model_module_version": "1.5.0",
      "model_name": "DescriptionStyleModel",
      "state": {
       "description_width": ""
      }
     },
     "7c931237a17e46b7af83e84f54794e20": {
      "model_module": "@jupyter-widgets/base",
      "model_module_version": "1.2.0",
      "model_name": "LayoutModel",
      "state": {}
     },
     "7d0bbbde4f2443e197b6ea3a5d653f81": {
      "model_module": "@jupyter-widgets/base",
      "model_module_version": "1.2.0",
      "model_name": "LayoutModel",
      "state": {}
     },
     "7dae1ad995ea41b087ba408b8a394eaf": {
      "model_module": "@jupyter-widgets/base",
      "model_module_version": "1.2.0",
      "model_name": "LayoutModel",
      "state": {}
     },
     "7e5d1ed787434024b52ea9943bd16a3b": {
      "model_module": "@jupyter-widgets/controls",
      "model_module_version": "1.5.0",
      "model_name": "HTMLModel",
      "state": {
       "layout": "IPY_MODEL_10983b3d292c40d686580c9a112d191a",
       "style": "IPY_MODEL_c05932377d9d4839be11ad4994e13d7b",
       "value": "<style type=\"text/css\">\n    .tg-opt  {font-family:\"Courier New\", Courier, monospace !important;padding:2px 3px;word-break:normal;border-collapse:collapse;border-spacing:0;border-color:#DCDCDC;margin:0px auto;width:100%;}\n    .tg-opt td{font-family:\"Courier New\", Courier, monospace !important;font-weight:bold;color:#444;background-color:#F7FDFA;border-style:solid;border-width:1px;overflow:hidden;word-break:normal;border-color:#DCDCDC;}\n    .tg-opt th{font-family:\"Courier New\", Courier, monospace !important;font-weight:normal;color:#fff;background-color:#26ADE4;border-style:solid;border-width:1px;overflow:hidden;word-break:normal;border-color:#DCDCDC;}\n    .tg-opt .tg-left{font-family:\"Courier New\", Courier, monospace !important;font-weight:normal;text-align:left;}\n    .tg-opt .tg-right{font-family:\"Courier New\", Courier, monospace !important;font-weight:normal;text-align:right;}\n    </style>\n    <table class=\"tg-opt\"><tr><td class='tg-left'>optimizer</td><td class='tg-right'>L-BFGS-B (Scipy implementation)</td></tr><tr><td class='tg-left'>runtime</td><td class='tg-right'>00s34</td></tr><tr><td class='tg-left'>evaluation</td><td class='tg-right'>0052</td></tr><tr><td class='tg-left'>objective</td><td class='tg-right'>   8.685E+01</td></tr><tr><td class='tg-left'>||gradient||</td><td class='tg-right'>  +2.051E-07</td></tr><tr><td class='tg-left'>status</td><td class='tg-right'>Converged</td></tr></table>"
      }
     },
     "7e78f39a8afd488bbc3b979cad55cb69": {
      "model_module": "@jupyter-widgets/base",
      "model_module_version": "1.2.0",
      "model_name": "LayoutModel",
      "state": {}
     },
     "7eb070cbf6cd42a493a2a71ca2ff011a": {
      "model_module": "@jupyter-widgets/controls",
      "model_module_version": "1.5.0",
      "model_name": "IntProgressModel",
      "state": {
       "bar_style": "success",
       "layout": "IPY_MODEL_ba54e3a1ae3048fdaf7bbb976763a003",
       "max": 1000,
       "style": "IPY_MODEL_3b04008b72c145e3aedc333ec4920bb5",
       "value": 46
      }
     },
     "7eb3051c7e0741fb9f8763235843bb0d": {
      "model_module": "@jupyter-widgets/controls",
      "model_module_version": "1.5.0",
      "model_name": "HTMLModel",
      "state": {
       "layout": "IPY_MODEL_2e0ade36c537423db2c13af284c60a8d",
       "style": "IPY_MODEL_5fa33949a62e4d90989bf60293795f2f",
       "value": "<style type=\"text/css\">\n    .tg-opt  {font-family:\"Courier New\", Courier, monospace !important;padding:2px 3px;word-break:normal;border-collapse:collapse;border-spacing:0;border-color:#DCDCDC;margin:0px auto;width:100%;}\n    .tg-opt td{font-family:\"Courier New\", Courier, monospace !important;font-weight:bold;color:#444;background-color:#F7FDFA;border-style:solid;border-width:1px;overflow:hidden;word-break:normal;border-color:#DCDCDC;}\n    .tg-opt th{font-family:\"Courier New\", Courier, monospace !important;font-weight:normal;color:#fff;background-color:#26ADE4;border-style:solid;border-width:1px;overflow:hidden;word-break:normal;border-color:#DCDCDC;}\n    .tg-opt .tg-left{font-family:\"Courier New\", Courier, monospace !important;font-weight:normal;text-align:left;}\n    .tg-opt .tg-right{font-family:\"Courier New\", Courier, monospace !important;font-weight:normal;text-align:right;}\n    </style>\n    <table class=\"tg-opt\"><tr><td class='tg-left'>optimizer</td><td class='tg-right'>L-BFGS-B (Scipy implementation)</td></tr><tr><td class='tg-left'>runtime</td><td class='tg-right'>00s30</td></tr><tr><td class='tg-left'>evaluation</td><td class='tg-right'>0045</td></tr><tr><td class='tg-left'>objective</td><td class='tg-right'>   9.173E+01</td></tr><tr><td class='tg-left'>||gradient||</td><td class='tg-right'>  +1.440E-08</td></tr><tr><td class='tg-left'>status</td><td class='tg-right'>Converged</td></tr></table>"
      }
     },
     "7f7d4719efcc4e03a24b123b0a4c5a41": {
      "model_module": "@jupyter-widgets/controls",
      "model_module_version": "1.5.0",
      "model_name": "IntProgressModel",
      "state": {
       "bar_style": "success",
       "layout": "IPY_MODEL_bf29a0c0054a41bb9e358cb78d98d79d",
       "max": 1000,
       "style": "IPY_MODEL_27ecceade96e4f44aa45c43b9f5d275f",
       "value": 51
      }
     },
     "800e9f557e834b56a5a45ccfac720798": {
      "model_module": "@jupyter-widgets/base",
      "model_module_version": "1.2.0",
      "model_name": "LayoutModel",
      "state": {}
     },
     "817f443dc24846d684aa4ac3b2619220": {
      "model_module": "@jupyter-widgets/base",
      "model_module_version": "1.2.0",
      "model_name": "LayoutModel",
      "state": {}
     },
     "81ca3f59653d434482a983e95aaba636": {
      "model_module": "@jupyter-widgets/base",
      "model_module_version": "1.2.0",
      "model_name": "LayoutModel",
      "state": {}
     },
     "82e5d14feeff4b2c8a02ce64050c7ed0": {
      "model_module": "@jupyter-widgets/controls",
      "model_module_version": "1.5.0",
      "model_name": "DescriptionStyleModel",
      "state": {
       "description_width": ""
      }
     },
     "830d3084367245ab8cd2e9402e51653e": {
      "model_module": "@jupyter-widgets/base",
      "model_module_version": "1.2.0",
      "model_name": "LayoutModel",
      "state": {}
     },
     "84438d7446d44fe0ad1eb416e6a708f0": {
      "model_module": "@jupyter-widgets/controls",
      "model_module_version": "1.5.0",
      "model_name": "IntProgressModel",
      "state": {
       "bar_style": "success",
       "layout": "IPY_MODEL_5cfbb522573c46609bf20e0c12aa90e6",
       "max": 1000,
       "style": "IPY_MODEL_71cfe5bc0e2748a291b7978dcf714d7c",
       "value": 48
      }
     },
     "84c210c8cfcf483080c1a3d4d7d80462": {
      "model_module": "@jupyter-widgets/controls",
      "model_module_version": "1.5.0",
      "model_name": "ProgressStyleModel",
      "state": {
       "description_width": ""
      }
     },
     "84e7dc32114b4097b087d62f3542f04c": {
      "model_module": "@jupyter-widgets/base",
      "model_module_version": "1.2.0",
      "model_name": "LayoutModel",
      "state": {}
     },
     "85253d67a05d4ef7b8b329927a735849": {
      "model_module": "@jupyter-widgets/base",
      "model_module_version": "1.2.0",
      "model_name": "LayoutModel",
      "state": {}
     },
     "854bc2c7abcb415ea72a03f4a8559d1f": {
      "model_module": "@jupyter-widgets/base",
      "model_module_version": "1.2.0",
      "model_name": "LayoutModel",
      "state": {}
     },
     "8595e63f4141456fbd5e20cd0a37f99f": {
      "model_module": "@jupyter-widgets/controls",
      "model_module_version": "1.5.0",
      "model_name": "VBoxModel",
      "state": {
       "children": [
        "IPY_MODEL_bf0b99e942fe4a27997b9a567e3abd74",
        "IPY_MODEL_03d151b88ce04021a507cb4b6d5d274e"
       ],
       "layout": "IPY_MODEL_6da553df98ca46babeb094c5faa58064"
      }
     },
     "85ee7c0abb504c1481312bf42102707f": {
      "model_module": "@jupyter-widgets/controls",
      "model_module_version": "1.5.0",
      "model_name": "ProgressStyleModel",
      "state": {
       "description_width": ""
      }
     },
     "86adf0a33b7c4814a8d2e3fd095ddb8d": {
      "model_module": "@jupyter-widgets/base",
      "model_module_version": "1.2.0",
      "model_name": "LayoutModel",
      "state": {}
     },
     "86ffd81934b246c287f49b6d54d56ba0": {
      "model_module": "@jupyter-widgets/controls",
      "model_module_version": "1.5.0",
      "model_name": "IntProgressModel",
      "state": {
       "bar_style": "success",
       "layout": "IPY_MODEL_c906b2223825406ca4986733c253c696",
       "max": 1000,
       "style": "IPY_MODEL_9412d1fe6ad149628141c559d72a8f5a",
       "value": 39
      }
     },
     "87981d25a3e2434b8cbc256157658547": {
      "model_module": "@jupyter-widgets/controls",
      "model_module_version": "1.5.0",
      "model_name": "ProgressStyleModel",
      "state": {
       "description_width": ""
      }
     },
     "87c09c044144442189ff663b67c0e7f9": {
      "model_module": "@jupyter-widgets/controls",
      "model_module_version": "1.5.0",
      "model_name": "HTMLModel",
      "state": {
       "layout": "IPY_MODEL_ceef8f6b10c647b29e4be573d920a826",
       "style": "IPY_MODEL_0da9d4ff856e472ea169db4cc39b98ed",
       "value": "<style type=\"text/css\">\n    .tg-opt  {font-family:\"Courier New\", Courier, monospace !important;padding:2px 3px;word-break:normal;border-collapse:collapse;border-spacing:0;border-color:#DCDCDC;margin:0px auto;width:100%;}\n    .tg-opt td{font-family:\"Courier New\", Courier, monospace !important;font-weight:bold;color:#444;background-color:#F7FDFA;border-style:solid;border-width:1px;overflow:hidden;word-break:normal;border-color:#DCDCDC;}\n    .tg-opt th{font-family:\"Courier New\", Courier, monospace !important;font-weight:normal;color:#fff;background-color:#26ADE4;border-style:solid;border-width:1px;overflow:hidden;word-break:normal;border-color:#DCDCDC;}\n    .tg-opt .tg-left{font-family:\"Courier New\", Courier, monospace !important;font-weight:normal;text-align:left;}\n    .tg-opt .tg-right{font-family:\"Courier New\", Courier, monospace !important;font-weight:normal;text-align:right;}\n    </style>\n    <table class=\"tg-opt\"><tr><td class='tg-left'>optimizer</td><td class='tg-right'>L-BFGS-B (Scipy implementation)</td></tr><tr><td class='tg-left'>runtime</td><td class='tg-right'>00s28</td></tr><tr><td class='tg-left'>evaluation</td><td class='tg-right'>0042</td></tr><tr><td class='tg-left'>objective</td><td class='tg-right'>   9.011E+01</td></tr><tr><td class='tg-left'>||gradient||</td><td class='tg-right'>  +9.973E-08</td></tr><tr><td class='tg-left'>status</td><td class='tg-right'>Converged</td></tr></table>"
      }
     },
     "87da9fcc605e4bd1b043d77ae30ed9b7": {
      "model_module": "@jupyter-widgets/base",
      "model_module_version": "1.2.0",
      "model_name": "LayoutModel",
      "state": {}
     },
     "8818484779b448ec9980ee09a743db81": {
      "model_module": "@jupyter-widgets/base",
      "model_module_version": "1.2.0",
      "model_name": "LayoutModel",
      "state": {}
     },
     "8950fd06705947d6b29e9255e8ed9b36": {
      "model_module": "@jupyter-widgets/base",
      "model_module_version": "1.2.0",
      "model_name": "LayoutModel",
      "state": {}
     },
     "89d7cb0fc7bd4729b8adb06a94cdf778": {
      "model_module": "@jupyter-widgets/controls",
      "model_module_version": "1.5.0",
      "model_name": "BoxModel",
      "state": {
       "children": [
        "IPY_MODEL_726ec032b3464decb94ca56e03514a39"
       ],
       "layout": "IPY_MODEL_0b644b366d15499a8aab04132b2e1c00"
      }
     },
     "8a324708fef34483906b1c7bfe6eb54f": {
      "model_module": "@jupyter-widgets/controls",
      "model_module_version": "1.5.0",
      "model_name": "HTMLModel",
      "state": {
       "layout": "IPY_MODEL_67d74a9d33dc4600b1c828021b0ccc6d",
       "style": "IPY_MODEL_641f1967ff054458b53e2ccecbddaa73",
       "value": "<style type=\"text/css\">\n    .tg-opt  {font-family:\"Courier New\", Courier, monospace !important;padding:2px 3px;word-break:normal;border-collapse:collapse;border-spacing:0;border-color:#DCDCDC;margin:0px auto;width:100%;}\n    .tg-opt td{font-family:\"Courier New\", Courier, monospace !important;font-weight:bold;color:#444;background-color:#F7FDFA;border-style:solid;border-width:1px;overflow:hidden;word-break:normal;border-color:#DCDCDC;}\n    .tg-opt th{font-family:\"Courier New\", Courier, monospace !important;font-weight:normal;color:#fff;background-color:#26ADE4;border-style:solid;border-width:1px;overflow:hidden;word-break:normal;border-color:#DCDCDC;}\n    .tg-opt .tg-left{font-family:\"Courier New\", Courier, monospace !important;font-weight:normal;text-align:left;}\n    .tg-opt .tg-right{font-family:\"Courier New\", Courier, monospace !important;font-weight:normal;text-align:right;}\n    </style>\n    <table class=\"tg-opt\"><tr><td class='tg-left'>optimizer</td><td class='tg-right'>L-BFGS-B (Scipy implementation)</td></tr><tr><td class='tg-left'>runtime</td><td class='tg-right'>00s30</td></tr><tr><td class='tg-left'>evaluation</td><td class='tg-right'>0045</td></tr><tr><td class='tg-left'>objective</td><td class='tg-right'>   9.068E+01</td></tr><tr><td class='tg-left'>||gradient||</td><td class='tg-right'>  +5.048E-07</td></tr><tr><td class='tg-left'>status</td><td class='tg-right'>Converged</td></tr></table>"
      }
     },
     "8a45a1d032264656a82e72ebb6b88ec0": {
      "model_module": "@jupyter-widgets/controls",
      "model_module_version": "1.5.0",
      "model_name": "IntProgressModel",
      "state": {
       "bar_style": "success",
       "layout": "IPY_MODEL_e1dad52738a449ebac9e435182824586",
       "max": 1000,
       "style": "IPY_MODEL_09d4c13a0e584c968ce8d163f4ebb314",
       "value": 42
      }
     },
     "8a5093e3671048b185a71e71c7953dee": {
      "model_module": "@jupyter-widgets/controls",
      "model_module_version": "1.5.0",
      "model_name": "HTMLModel",
      "state": {
       "layout": "IPY_MODEL_1d6fa69aaadc4f2b95b893b31d88b0b0",
       "style": "IPY_MODEL_764cdcc5eee3438cb8dfc68683f55363",
       "value": "<style type=\"text/css\">\n    .tg-opt  {font-family:\"Courier New\", Courier, monospace !important;padding:2px 3px;word-break:normal;border-collapse:collapse;border-spacing:0;border-color:#DCDCDC;margin:0px auto;width:100%;}\n    .tg-opt td{font-family:\"Courier New\", Courier, monospace !important;font-weight:bold;color:#444;background-color:#F7FDFA;border-style:solid;border-width:1px;overflow:hidden;word-break:normal;border-color:#DCDCDC;}\n    .tg-opt th{font-family:\"Courier New\", Courier, monospace !important;font-weight:normal;color:#fff;background-color:#26ADE4;border-style:solid;border-width:1px;overflow:hidden;word-break:normal;border-color:#DCDCDC;}\n    .tg-opt .tg-left{font-family:\"Courier New\", Courier, monospace !important;font-weight:normal;text-align:left;}\n    .tg-opt .tg-right{font-family:\"Courier New\", Courier, monospace !important;font-weight:normal;text-align:right;}\n    </style>\n    <table class=\"tg-opt\"><tr><td class='tg-left'>optimizer</td><td class='tg-right'>L-BFGS-B (Scipy implementation)</td></tr><tr><td class='tg-left'>runtime</td><td class='tg-right'>00s28</td></tr><tr><td class='tg-left'>evaluation</td><td class='tg-right'>0039</td></tr><tr><td class='tg-left'>objective</td><td class='tg-right'>   9.262E+01</td></tr><tr><td class='tg-left'>||gradient||</td><td class='tg-right'>  +1.602E-06</td></tr><tr><td class='tg-left'>status</td><td class='tg-right'>Converged</td></tr></table>"
      }
     },
     "8a878ad2ded4485294f3dd0568b9a3a9": {
      "model_module": "@jupyter-widgets/controls",
      "model_module_version": "1.5.0",
      "model_name": "VBoxModel",
      "state": {
       "children": [
        "IPY_MODEL_bc384f565756433a96173f4dd6d7fd1a",
        "IPY_MODEL_1f54e807c9424f3f878132cdc77d670b"
       ],
       "layout": "IPY_MODEL_61a1be92ea7341d6989fd6dfab129f91"
      }
     },
     "8ac0a4ada15c4a6abbfd0c8d3d713f79": {
      "model_module": "@jupyter-widgets/controls",
      "model_module_version": "1.5.0",
      "model_name": "DescriptionStyleModel",
      "state": {
       "description_width": ""
      }
     },
     "8bd14ac2669c47128ae2a61a7873d15f": {
      "model_module": "@jupyter-widgets/base",
      "model_module_version": "1.2.0",
      "model_name": "LayoutModel",
      "state": {}
     },
     "8be2d4c13e184d7f915cd190a815a050": {
      "model_module": "@jupyter-widgets/base",
      "model_module_version": "1.2.0",
      "model_name": "LayoutModel",
      "state": {}
     },
     "8c7513e6f7f544cc844a0b5a50f58227": {
      "model_module": "@jupyter-widgets/base",
      "model_module_version": "1.2.0",
      "model_name": "LayoutModel",
      "state": {}
     },
     "8ccc9daa3cdb4a19a41fe3d1ec258b19": {
      "model_module": "@jupyter-widgets/base",
      "model_module_version": "1.2.0",
      "model_name": "LayoutModel",
      "state": {}
     },
     "8cd52a6271ea46cc8bb7768bbb78c546": {
      "model_module": "@jupyter-widgets/controls",
      "model_module_version": "1.5.0",
      "model_name": "HBoxModel",
      "state": {
       "children": [
        "IPY_MODEL_a8293822d5bc4a9d9ed21d3f94a54e9b",
        "IPY_MODEL_246bf86e81664b64a8eac7c835d97f3d"
       ],
       "layout": "IPY_MODEL_10fbdd23b016422aba1da1e4aea4f1da"
      }
     },
     "8d0cd242d84d43dca7ddf908c3f449e6": {
      "model_module": "@jupyter-widgets/controls",
      "model_module_version": "1.5.0",
      "model_name": "HBoxModel",
      "state": {
       "children": [
        "IPY_MODEL_93558d61bc8245e5b0acb62fea5cde60",
        "IPY_MODEL_309d4e0b495e4d52aa7ec79cb0db91c2"
       ],
       "layout": "IPY_MODEL_7a520edc1af24bee9b3080d643ccb8c5"
      }
     },
     "8d87cf442b8344b18f8de332041c2020": {
      "model_module": "@jupyter-widgets/controls",
      "model_module_version": "1.5.0",
      "model_name": "ProgressStyleModel",
      "state": {
       "description_width": ""
      }
     },
     "8e7fd3fd2eb9455e905fb1ade6df777c": {
      "model_module": "@jupyter-widgets/base",
      "model_module_version": "1.2.0",
      "model_name": "LayoutModel",
      "state": {}
     },
     "8ea3e279fa5a422e9b08d79c6bedbc88": {
      "model_module": "@jupyter-widgets/controls",
      "model_module_version": "1.5.0",
      "model_name": "DescriptionStyleModel",
      "state": {
       "description_width": ""
      }
     },
     "8ec391039dcc47b185f03d17d9ee9aad": {
      "model_module": "@jupyter-widgets/base",
      "model_module_version": "1.2.0",
      "model_name": "LayoutModel",
      "state": {}
     },
     "8f7b8a35869b41dcac73e39ecfd12027": {
      "model_module": "@jupyter-widgets/base",
      "model_module_version": "1.2.0",
      "model_name": "LayoutModel",
      "state": {}
     },
     "8fd763c3cd604f8d94b59142b2e82cdb": {
      "model_module": "@jupyter-widgets/base",
      "model_module_version": "1.2.0",
      "model_name": "LayoutModel",
      "state": {}
     },
     "909bbbcf88eb4859944e34c801cb97e9": {
      "model_module": "@jupyter-widgets/controls",
      "model_module_version": "1.5.0",
      "model_name": "BoxModel",
      "state": {
       "children": [
        "IPY_MODEL_c5d3b77a81af49e4b1a8bb6e6f3b0c28"
       ],
       "layout": "IPY_MODEL_b24e2f76b1b2441cbce34d01918ed54d"
      }
     },
     "91b8a4c369f64f32a9da1bb3ce253869": {
      "model_module": "@jupyter-widgets/controls",
      "model_module_version": "1.5.0",
      "model_name": "DescriptionStyleModel",
      "state": {
       "description_width": ""
      }
     },
     "9252c0ae14ba41a1b3805bc90b52c4b7": {
      "model_module": "@jupyter-widgets/base",
      "model_module_version": "1.2.0",
      "model_name": "LayoutModel",
      "state": {}
     },
     "925af901f09d4568bc2bd6d2c0bab2a8": {
      "model_module": "@jupyter-widgets/controls",
      "model_module_version": "1.5.0",
      "model_name": "HTMLModel",
      "state": {
       "layout": "IPY_MODEL_d40db3660f714be9a47273ba2bbe47cc",
       "style": "IPY_MODEL_5c0fddcf6ffc49f78c83a53be122d769",
       "value": "<style type=\"text/css\">\n    .tg-opt  {font-family:\"Courier New\", Courier, monospace !important;padding:2px 3px;word-break:normal;border-collapse:collapse;border-spacing:0;border-color:#DCDCDC;margin:0px auto;width:100%;}\n    .tg-opt td{font-family:\"Courier New\", Courier, monospace !important;font-weight:bold;color:#444;background-color:#F7FDFA;border-style:solid;border-width:1px;overflow:hidden;word-break:normal;border-color:#DCDCDC;}\n    .tg-opt th{font-family:\"Courier New\", Courier, monospace !important;font-weight:normal;color:#fff;background-color:#26ADE4;border-style:solid;border-width:1px;overflow:hidden;word-break:normal;border-color:#DCDCDC;}\n    .tg-opt .tg-left{font-family:\"Courier New\", Courier, monospace !important;font-weight:normal;text-align:left;}\n    .tg-opt .tg-right{font-family:\"Courier New\", Courier, monospace !important;font-weight:normal;text-align:right;}\n    </style>\n    <table class=\"tg-opt\"><tr><td class='tg-left'>optimizer</td><td class='tg-right'>L-BFGS-B (Scipy implementation)</td></tr><tr><td class='tg-left'>runtime</td><td class='tg-right'>00s27</td></tr><tr><td class='tg-left'>evaluation</td><td class='tg-right'>0040</td></tr><tr><td class='tg-left'>objective</td><td class='tg-right'>   8.944E+01</td></tr><tr><td class='tg-left'>||gradient||</td><td class='tg-right'>  +1.705E-07</td></tr><tr><td class='tg-left'>status</td><td class='tg-right'>Converged</td></tr></table>"
      }
     },
     "926f8935a1e848a58650482de3314f44": {
      "model_module": "@jupyter-widgets/controls",
      "model_module_version": "1.5.0",
      "model_name": "DescriptionStyleModel",
      "state": {
       "description_width": ""
      }
     },
     "932ab9f399cb4bf681c3914f0d3f446b": {
      "model_module": "@jupyter-widgets/controls",
      "model_module_version": "1.5.0",
      "model_name": "IntProgressModel",
      "state": {
       "bar_style": "success",
       "layout": "IPY_MODEL_55f9ae611d984180b03533923ae6af2a",
       "max": 1000,
       "style": "IPY_MODEL_663a6c91733745dc8b3dfe22f143aee3",
       "value": 48
      }
     },
     "93558d61bc8245e5b0acb62fea5cde60": {
      "model_module": "@jupyter-widgets/controls",
      "model_module_version": "1.5.0",
      "model_name": "VBoxModel",
      "state": {
       "children": [
        "IPY_MODEL_e646aeeee7c740299353cd795b5bf43c",
        "IPY_MODEL_a28a9d12af0c4054b1e61590f21024ad"
       ],
       "layout": "IPY_MODEL_7d0bbbde4f2443e197b6ea3a5d653f81"
      }
     },
     "936d2573cf1343d3998adfba12597f42": {
      "model_module": "@jupyter-widgets/controls",
      "model_module_version": "1.5.0",
      "model_name": "IntProgressModel",
      "state": {
       "bar_style": "success",
       "layout": "IPY_MODEL_84e7dc32114b4097b087d62f3542f04c",
       "max": 1000,
       "style": "IPY_MODEL_4508e32bd8124e8b8369fecd7ec37d6d",
       "value": 44
      }
     },
     "940e26df11d04ea7bd1bd018934b7164": {
      "model_module": "@jupyter-widgets/controls",
      "model_module_version": "1.5.0",
      "model_name": "BoxModel",
      "state": {
       "children": [
        "IPY_MODEL_24691827d6f2416da2ec1b7d7a426ace"
       ],
       "layout": "IPY_MODEL_53d2095b25cb47e69ec361354bf909f8"
      }
     },
     "9412d1fe6ad149628141c559d72a8f5a": {
      "model_module": "@jupyter-widgets/controls",
      "model_module_version": "1.5.0",
      "model_name": "ProgressStyleModel",
      "state": {
       "description_width": ""
      }
     },
     "948f44f003ca496d974334a811a8e1a0": {
      "model_module": "@jupyter-widgets/controls",
      "model_module_version": "1.5.0",
      "model_name": "VBoxModel",
      "state": {
       "children": [
        "IPY_MODEL_50e69dc89fe848f385e5408162cfc913",
        "IPY_MODEL_d1db8ebf84b847b28d06a46cd7d98945"
       ],
       "layout": "IPY_MODEL_0d983b1c823646c3a59baa3b3eabccc5"
      }
     },
     "94b9ab1407fc471ab9d1a2a2257b65dd": {
      "model_module": "@jupyter-widgets/controls",
      "model_module_version": "1.5.0",
      "model_name": "ProgressStyleModel",
      "state": {
       "description_width": ""
      }
     },
     "94e11795399948cb99eace8a350c0993": {
      "model_module": "@jupyter-widgets/controls",
      "model_module_version": "1.5.0",
      "model_name": "HBoxModel",
      "state": {
       "children": [
        "IPY_MODEL_af085eec25a84714bd1566df58c0e356",
        "IPY_MODEL_f760297ebaba4176b8d87425b917f6a4"
       ],
       "layout": "IPY_MODEL_de3d6bd94d8e4ee89fe93cccf71e0ceb"
      }
     },
     "94e13c56162148de9b15a97feca21394": {
      "model_module": "@jupyter-widgets/base",
      "model_module_version": "1.2.0",
      "model_name": "LayoutModel",
      "state": {}
     },
     "952fcaef84214fde98d36b361e1a1c15": {
      "model_module": "@jupyter-widgets/controls",
      "model_module_version": "1.5.0",
      "model_name": "HTMLModel",
      "state": {
       "layout": "IPY_MODEL_f0c7cc372a28415db5a58d014429e146",
       "style": "IPY_MODEL_e796d35e1cae4287afc245fb3a55b467",
       "value": "<style type=\"text/css\">\n.pd{\n    font-family: \"Courier New\", Courier, monospace !important;\n    width: 100%;\n    padding: 3px;\n}\n</style>\n\n<p class=pd>\n<b>Model</b>: GP regression<br>\n<b>Objective</b>: 90.68315027913951<br>\n<b>Number of Parameters</b>: 12<br>\n<b>Number of Optimization Parameters</b>: 12<br>\n<b>Updates</b>: True<br>\n</p>\n<style type=\"text/css\">\n.tg  {font-family:\"Courier New\", Courier, monospace !important;padding:2px 3px;word-break:normal;border-collapse:collapse;border-spacing:0;border-color:#DCDCDC;margin:0px auto;width:100%;}\n.tg td{font-family:\"Courier New\", Courier, monospace !important;font-weight:bold;color:#444;background-color:#F7FDFA;border-style:solid;border-width:1px;overflow:hidden;word-break:normal;border-color:#DCDCDC;}\n.tg th{font-family:\"Courier New\", Courier, monospace !important;font-weight:normal;color:#fff;background-color:#26ADE4;border-style:solid;border-width:1px;overflow:hidden;word-break:normal;border-color:#DCDCDC;}\n.tg .tg-left{font-family:\"Courier New\", Courier, monospace !important;font-weight:normal;text-align:left;}\n.tg .tg-center{font-family:\"Courier New\", Courier, monospace !important;font-weight:normal;text-align:center;}\n.tg .tg-right{font-family:\"Courier New\", Courier, monospace !important;font-weight:normal;text-align:right;}\n</style>\n<table class=\"tg\"><tr><th><b>  GP_regression.         </b></th><th><b>              value</b></th><th><b>constraints</b></th><th><b>priors</b></th></tr>\n<tr><td class=tg-left>  constmap.C             </td><td class=tg-right>  5.188121551272507</td><td class=tg-center>           </td><td class=tg-center>      </td></tr>\n<tr><td class=tg-left>  rbf.variance           </td><td class=tg-right>  14.96075628094788</td><td class=tg-center>    +ve    </td><td class=tg-center>      </td></tr>\n<tr><td class=tg-left>  rbf.lengthscale        </td><td class=tg-right>               (9,)</td><td class=tg-center>    +ve    </td><td class=tg-center>      </td></tr>\n<tr><td class=tg-left>  Gaussian_noise.variance</td><td class=tg-right>0.16403744387251698</td><td class=tg-center>    +ve    </td><td class=tg-center>      </td></tr>\n</table>"
      }
     },
     "955202042dea40b4981848f910a59a09": {
      "model_module": "@jupyter-widgets/base",
      "model_module_version": "1.2.0",
      "model_name": "LayoutModel",
      "state": {}
     },
     "9567d2ffd18e4686bd1d005c3299b131": {
      "model_module": "@jupyter-widgets/controls",
      "model_module_version": "1.5.0",
      "model_name": "BoxModel",
      "state": {
       "children": [
        "IPY_MODEL_dce038217abb4384ab78f7eb1571f66b"
       ],
       "layout": "IPY_MODEL_5ef21e8d4c994540b97fc084251e2483"
      }
     },
     "95b724aacb424680b8657b1ef0fc9930": {
      "model_module": "@jupyter-widgets/controls",
      "model_module_version": "1.5.0",
      "model_name": "HTMLModel",
      "state": {
       "layout": "IPY_MODEL_9a43e3a6494a477589da189c937ce563",
       "style": "IPY_MODEL_11a7dc523f8a447bbdeae7198f8d79b0",
       "value": "<style type=\"text/css\">\n    .tg-opt  {font-family:\"Courier New\", Courier, monospace !important;padding:2px 3px;word-break:normal;border-collapse:collapse;border-spacing:0;border-color:#DCDCDC;margin:0px auto;width:100%;}\n    .tg-opt td{font-family:\"Courier New\", Courier, monospace !important;font-weight:bold;color:#444;background-color:#F7FDFA;border-style:solid;border-width:1px;overflow:hidden;word-break:normal;border-color:#DCDCDC;}\n    .tg-opt th{font-family:\"Courier New\", Courier, monospace !important;font-weight:normal;color:#fff;background-color:#26ADE4;border-style:solid;border-width:1px;overflow:hidden;word-break:normal;border-color:#DCDCDC;}\n    .tg-opt .tg-left{font-family:\"Courier New\", Courier, monospace !important;font-weight:normal;text-align:left;}\n    .tg-opt .tg-right{font-family:\"Courier New\", Courier, monospace !important;font-weight:normal;text-align:right;}\n    </style>\n    <table class=\"tg-opt\"><tr><td class='tg-left'>optimizer</td><td class='tg-right'>L-BFGS-B (Scipy implementation)</td></tr><tr><td class='tg-left'>runtime</td><td class='tg-right'>00s19</td></tr><tr><td class='tg-left'>evaluation</td><td class='tg-right'>0023</td></tr><tr><td class='tg-left'>objective</td><td class='tg-right'>   9.389E+01</td></tr><tr><td class='tg-left'>||gradient||</td><td class='tg-right'>  +2.695E-07</td></tr><tr><td class='tg-left'>status</td><td class='tg-right'>Converged</td></tr></table>"
      }
     },
     "965b7424abdc4d93b73d40e53af1be08": {
      "model_module": "@jupyter-widgets/base",
      "model_module_version": "1.2.0",
      "model_name": "LayoutModel",
      "state": {}
     },
     "96d80ec7e7eb47dc87fee770e81b45c6": {
      "model_module": "@jupyter-widgets/controls",
      "model_module_version": "1.5.0",
      "model_name": "HTMLModel",
      "state": {
       "layout": "IPY_MODEL_091891ce4a4746fa9601e68556387b54",
       "style": "IPY_MODEL_2711c1d6b7ec4789b0817e8b81129ff7",
       "value": "<style type=\"text/css\">\n.pd{\n    font-family: \"Courier New\", Courier, monospace !important;\n    width: 100%;\n    padding: 3px;\n}\n</style>\n\n<p class=pd>\n<b>Model</b>: GP regression<br>\n<b>Objective</b>: 91.38768669497907<br>\n<b>Number of Parameters</b>: 12<br>\n<b>Number of Optimization Parameters</b>: 12<br>\n<b>Updates</b>: True<br>\n</p>\n<style type=\"text/css\">\n.tg  {font-family:\"Courier New\", Courier, monospace !important;padding:2px 3px;word-break:normal;border-collapse:collapse;border-spacing:0;border-color:#DCDCDC;margin:0px auto;width:100%;}\n.tg td{font-family:\"Courier New\", Courier, monospace !important;font-weight:bold;color:#444;background-color:#F7FDFA;border-style:solid;border-width:1px;overflow:hidden;word-break:normal;border-color:#DCDCDC;}\n.tg th{font-family:\"Courier New\", Courier, monospace !important;font-weight:normal;color:#fff;background-color:#26ADE4;border-style:solid;border-width:1px;overflow:hidden;word-break:normal;border-color:#DCDCDC;}\n.tg .tg-left{font-family:\"Courier New\", Courier, monospace !important;font-weight:normal;text-align:left;}\n.tg .tg-center{font-family:\"Courier New\", Courier, monospace !important;font-weight:normal;text-align:center;}\n.tg .tg-right{font-family:\"Courier New\", Courier, monospace !important;font-weight:normal;text-align:right;}\n</style>\n<table class=\"tg\"><tr><th><b>  GP_regression.         </b></th><th><b>              value</b></th><th><b>constraints</b></th><th><b>priors</b></th></tr>\n<tr><td class=tg-left>  constmap.C             </td><td class=tg-right>  4.873831799892539</td><td class=tg-center>           </td><td class=tg-center>      </td></tr>\n<tr><td class=tg-left>  rbf.variance           </td><td class=tg-right> 15.441524825075032</td><td class=tg-center>    +ve    </td><td class=tg-center>      </td></tr>\n<tr><td class=tg-left>  rbf.lengthscale        </td><td class=tg-right>               (9,)</td><td class=tg-center>    +ve    </td><td class=tg-center>      </td></tr>\n<tr><td class=tg-left>  Gaussian_noise.variance</td><td class=tg-right>0.16541510821493757</td><td class=tg-center>    +ve    </td><td class=tg-center>      </td></tr>\n</table>"
      }
     },
     "9771f14ced2f450f95e3bc937c7485cc": {
      "model_module": "@jupyter-widgets/controls",
      "model_module_version": "1.5.0",
      "model_name": "IntProgressModel",
      "state": {
       "bar_style": "success",
       "layout": "IPY_MODEL_34a82fd9293748efbc9e693cd728a93b",
       "max": 1000,
       "style": "IPY_MODEL_85ee7c0abb504c1481312bf42102707f",
       "value": 33
      }
     },
     "97b28a8b02674f8daeabe96360e3557f": {
      "model_module": "@jupyter-widgets/controls",
      "model_module_version": "1.5.0",
      "model_name": "HTMLModel",
      "state": {
       "layout": "IPY_MODEL_f6b6e9d24b694a7db835e92027530635",
       "style": "IPY_MODEL_709e16b3841848c8ae85bb6447be385a",
       "value": "<style type=\"text/css\">\n.pd{\n    font-family: \"Courier New\", Courier, monospace !important;\n    width: 100%;\n    padding: 3px;\n}\n</style>\n\n<p class=pd>\n<b>Model</b>: GP regression<br>\n<b>Objective</b>: 91.87754038717291<br>\n<b>Number of Parameters</b>: 12<br>\n<b>Number of Optimization Parameters</b>: 12<br>\n<b>Updates</b>: True<br>\n</p>\n<style type=\"text/css\">\n.tg  {font-family:\"Courier New\", Courier, monospace !important;padding:2px 3px;word-break:normal;border-collapse:collapse;border-spacing:0;border-color:#DCDCDC;margin:0px auto;width:100%;}\n.tg td{font-family:\"Courier New\", Courier, monospace !important;font-weight:bold;color:#444;background-color:#F7FDFA;border-style:solid;border-width:1px;overflow:hidden;word-break:normal;border-color:#DCDCDC;}\n.tg th{font-family:\"Courier New\", Courier, monospace !important;font-weight:normal;color:#fff;background-color:#26ADE4;border-style:solid;border-width:1px;overflow:hidden;word-break:normal;border-color:#DCDCDC;}\n.tg .tg-left{font-family:\"Courier New\", Courier, monospace !important;font-weight:normal;text-align:left;}\n.tg .tg-center{font-family:\"Courier New\", Courier, monospace !important;font-weight:normal;text-align:center;}\n.tg .tg-right{font-family:\"Courier New\", Courier, monospace !important;font-weight:normal;text-align:right;}\n</style>\n<table class=\"tg\"><tr><th><b>  GP_regression.         </b></th><th><b>             value</b></th><th><b>constraints</b></th><th><b>priors</b></th></tr>\n<tr><td class=tg-left>  constmap.C             </td><td class=tg-right> 4.488986226457427</td><td class=tg-center>           </td><td class=tg-center>      </td></tr>\n<tr><td class=tg-left>  rbf.variance           </td><td class=tg-right>16.443362902308845</td><td class=tg-center>    +ve    </td><td class=tg-center>      </td></tr>\n<tr><td class=tg-left>  rbf.lengthscale        </td><td class=tg-right>              (9,)</td><td class=tg-center>    +ve    </td><td class=tg-center>      </td></tr>\n<tr><td class=tg-left>  Gaussian_noise.variance</td><td class=tg-right>0.1686344004023354</td><td class=tg-center>    +ve    </td><td class=tg-center>      </td></tr>\n</table>"
      }
     },
     "97efa8ee9ad549acb83f7293f4eae369": {
      "model_module": "@jupyter-widgets/controls",
      "model_module_version": "1.5.0",
      "model_name": "IntProgressModel",
      "state": {
       "bar_style": "success",
       "layout": "IPY_MODEL_14b0844e7ce244a09862b7750402521a",
       "max": 1000,
       "style": "IPY_MODEL_94b9ab1407fc471ab9d1a2a2257b65dd",
       "value": 41
      }
     },
     "984a8925f4354fe4970bd48b7fda2750": {
      "model_module": "@jupyter-widgets/controls",
      "model_module_version": "1.5.0",
      "model_name": "IntProgressModel",
      "state": {
       "bar_style": "success",
       "layout": "IPY_MODEL_a4bee67ebcf04a718d4386614a0945eb",
       "max": 1000,
       "style": "IPY_MODEL_a90d9447a40e413ca2804f97f0537c5c",
       "value": 40
      }
     },
     "98617051dc01475ca13aa616198c4a15": {
      "model_module": "@jupyter-widgets/controls",
      "model_module_version": "1.5.0",
      "model_name": "DescriptionStyleModel",
      "state": {
       "description_width": ""
      }
     },
     "98ddaacd15ba4ea78e32214567260de3": {
      "model_module": "@jupyter-widgets/controls",
      "model_module_version": "1.5.0",
      "model_name": "ProgressStyleModel",
      "state": {
       "description_width": ""
      }
     },
     "9908f4f541ea447e9fc732dec98b3561": {
      "model_module": "@jupyter-widgets/controls",
      "model_module_version": "1.5.0",
      "model_name": "IntProgressModel",
      "state": {
       "bar_style": "success",
       "layout": "IPY_MODEL_7204fd48c7e34363b6a9a70c26fd1c0a",
       "max": 1000,
       "style": "IPY_MODEL_c7eb1acbb6e944e28811261736951b75",
       "value": 39
      }
     },
     "9a43e3a6494a477589da189c937ce563": {
      "model_module": "@jupyter-widgets/base",
      "model_module_version": "1.2.0",
      "model_name": "LayoutModel",
      "state": {}
     },
     "9a51ac7af0284932b9d7dd38c9f14bb7": {
      "model_module": "@jupyter-widgets/controls",
      "model_module_version": "1.5.0",
      "model_name": "VBoxModel",
      "state": {
       "children": [
        "IPY_MODEL_8a45a1d032264656a82e72ebb6b88ec0",
        "IPY_MODEL_19de636a7da544d5835de8f613969c13"
       ],
       "layout": "IPY_MODEL_fb6ee60d645e486bba90ed0c38b70cdd"
      }
     },
     "9a6cf40ffd3944c98ad884d9ad8cb8c4": {
      "model_module": "@jupyter-widgets/controls",
      "model_module_version": "1.5.0",
      "model_name": "DescriptionStyleModel",
      "state": {
       "description_width": ""
      }
     },
     "9b521359788f44fbb1075e784e2073dc": {
      "model_module": "@jupyter-widgets/controls",
      "model_module_version": "1.5.0",
      "model_name": "VBoxModel",
      "state": {
       "children": [
        "IPY_MODEL_debf699dce634f2d8a8afae3415cd493",
        "IPY_MODEL_c5c9444f80dd421f86a7ef3523678a79"
       ],
       "layout": "IPY_MODEL_b0bd71e6406c4e63a32839785387b4e5"
      }
     },
     "9b9c2f5862b542379931fdffe0c4e6e8": {
      "model_module": "@jupyter-widgets/base",
      "model_module_version": "1.2.0",
      "model_name": "LayoutModel",
      "state": {}
     },
     "9c1e821776f64a0893914da0b29d27cc": {
      "model_module": "@jupyter-widgets/base",
      "model_module_version": "1.2.0",
      "model_name": "LayoutModel",
      "state": {}
     },
     "9c3c87efa38d4d59a74611787e08b0e0": {
      "model_module": "@jupyter-widgets/controls",
      "model_module_version": "1.5.0",
      "model_name": "HBoxModel",
      "state": {
       "children": [
        "IPY_MODEL_0fa7e19228294fd2ab0802c94530b3f9",
        "IPY_MODEL_c2b97be145a44465b1c5f378908d9d21"
       ],
       "layout": "IPY_MODEL_688f6ff49d38489283c843a37a2b2c8f"
      }
     },
     "9c6805a176e14203b58dbe742fa505e8": {
      "model_module": "@jupyter-widgets/base",
      "model_module_version": "1.2.0",
      "model_name": "LayoutModel",
      "state": {}
     },
     "9cc8d2be1b0f4e2e868121f8110a5b0f": {
      "model_module": "@jupyter-widgets/controls",
      "model_module_version": "1.5.0",
      "model_name": "DescriptionStyleModel",
      "state": {
       "description_width": ""
      }
     },
     "9ce7022c877349dcb51fcd1dd538a4c5": {
      "model_module": "@jupyter-widgets/base",
      "model_module_version": "1.2.0",
      "model_name": "LayoutModel",
      "state": {}
     },
     "9dd14a9051a74bd2950c41ab634418dc": {
      "model_module": "@jupyter-widgets/base",
      "model_module_version": "1.2.0",
      "model_name": "LayoutModel",
      "state": {}
     },
     "9ec6287a248a402fa826332cc190ff03": {
      "model_module": "@jupyter-widgets/controls",
      "model_module_version": "1.5.0",
      "model_name": "HBoxModel",
      "state": {
       "children": [
        "IPY_MODEL_1e6ae6b533dd47e3a654cd3679315125",
        "IPY_MODEL_cc469305bab145df9e0f1f9052bda79b"
       ],
       "layout": "IPY_MODEL_7e78f39a8afd488bbc3b979cad55cb69"
      }
     },
     "9eed57a714214b5fb6f813cf21968423": {
      "model_module": "@jupyter-widgets/controls",
      "model_module_version": "1.5.0",
      "model_name": "DescriptionStyleModel",
      "state": {
       "description_width": ""
      }
     },
     "9f09b7da7d954b0c96da236759426caa": {
      "model_module": "@jupyter-widgets/base",
      "model_module_version": "1.2.0",
      "model_name": "LayoutModel",
      "state": {}
     },
     "9f382e3adea741cea5c3fc385275da47": {
      "model_module": "@jupyter-widgets/controls",
      "model_module_version": "1.5.0",
      "model_name": "ProgressStyleModel",
      "state": {
       "description_width": ""
      }
     },
     "9ff5f98e722d4363b1631bb544c2510e": {
      "model_module": "@jupyter-widgets/base",
      "model_module_version": "1.2.0",
      "model_name": "LayoutModel",
      "state": {}
     },
     "a0233ebbb126493d8f485a15fbfcef38": {
      "model_module": "@jupyter-widgets/controls",
      "model_module_version": "1.5.0",
      "model_name": "HTMLModel",
      "state": {
       "layout": "IPY_MODEL_8818484779b448ec9980ee09a743db81",
       "style": "IPY_MODEL_a678a1e22fb8411b86879a49699091bc",
       "value": "<style type=\"text/css\">\n.pd{\n    font-family: \"Courier New\", Courier, monospace !important;\n    width: 100%;\n    padding: 3px;\n}\n</style>\n\n<p class=pd>\n<b>Model</b>: GP regression<br>\n<b>Objective</b>: 90.68314949711703<br>\n<b>Number of Parameters</b>: 12<br>\n<b>Number of Optimization Parameters</b>: 12<br>\n<b>Updates</b>: True<br>\n</p>\n<style type=\"text/css\">\n.tg  {font-family:\"Courier New\", Courier, monospace !important;padding:2px 3px;word-break:normal;border-collapse:collapse;border-spacing:0;border-color:#DCDCDC;margin:0px auto;width:100%;}\n.tg td{font-family:\"Courier New\", Courier, monospace !important;font-weight:bold;color:#444;background-color:#F7FDFA;border-style:solid;border-width:1px;overflow:hidden;word-break:normal;border-color:#DCDCDC;}\n.tg th{font-family:\"Courier New\", Courier, monospace !important;font-weight:normal;color:#fff;background-color:#26ADE4;border-style:solid;border-width:1px;overflow:hidden;word-break:normal;border-color:#DCDCDC;}\n.tg .tg-left{font-family:\"Courier New\", Courier, monospace !important;font-weight:normal;text-align:left;}\n.tg .tg-center{font-family:\"Courier New\", Courier, monospace !important;font-weight:normal;text-align:center;}\n.tg .tg-right{font-family:\"Courier New\", Courier, monospace !important;font-weight:normal;text-align:right;}\n</style>\n<table class=\"tg\"><tr><th><b>  GP_regression.         </b></th><th><b>              value</b></th><th><b>constraints</b></th><th><b>priors</b></th></tr>\n<tr><td class=tg-left>  constmap.C             </td><td class=tg-right>  5.186784301861697</td><td class=tg-center>           </td><td class=tg-center>      </td></tr>\n<tr><td class=tg-left>  rbf.variance           </td><td class=tg-right> 14.964262026493502</td><td class=tg-center>    +ve    </td><td class=tg-center>      </td></tr>\n<tr><td class=tg-left>  rbf.lengthscale        </td><td class=tg-right>               (9,)</td><td class=tg-center>    +ve    </td><td class=tg-center>      </td></tr>\n<tr><td class=tg-left>  Gaussian_noise.variance</td><td class=tg-right>0.16402796556175717</td><td class=tg-center>    +ve    </td><td class=tg-center>      </td></tr>\n</table>"
      }
     },
     "a04330a2f45742f99165313d70570b8e": {
      "model_module": "@jupyter-widgets/controls",
      "model_module_version": "1.5.0",
      "model_name": "HTMLModel",
      "state": {
       "layout": "IPY_MODEL_ee9f710bd3d64cbea312c50f6a8c2a65",
       "style": "IPY_MODEL_3e94659437694cfa93b029b1c88502b5",
       "value": "<style type=\"text/css\">\n    .tg-opt  {font-family:\"Courier New\", Courier, monospace !important;padding:2px 3px;word-break:normal;border-collapse:collapse;border-spacing:0;border-color:#DCDCDC;margin:0px auto;width:100%;}\n    .tg-opt td{font-family:\"Courier New\", Courier, monospace !important;font-weight:bold;color:#444;background-color:#F7FDFA;border-style:solid;border-width:1px;overflow:hidden;word-break:normal;border-color:#DCDCDC;}\n    .tg-opt th{font-family:\"Courier New\", Courier, monospace !important;font-weight:normal;color:#fff;background-color:#26ADE4;border-style:solid;border-width:1px;overflow:hidden;word-break:normal;border-color:#DCDCDC;}\n    .tg-opt .tg-left{font-family:\"Courier New\", Courier, monospace !important;font-weight:normal;text-align:left;}\n    .tg-opt .tg-right{font-family:\"Courier New\", Courier, monospace !important;font-weight:normal;text-align:right;}\n    </style>\n    <table class=\"tg-opt\"><tr><td class='tg-left'>optimizer</td><td class='tg-right'>L-BFGS-B (Scipy implementation)</td></tr><tr><td class='tg-left'>runtime</td><td class='tg-right'>00s30</td></tr><tr><td class='tg-left'>evaluation</td><td class='tg-right'>0044</td></tr><tr><td class='tg-left'>objective</td><td class='tg-right'>   9.178E+01</td></tr><tr><td class='tg-left'>||gradient||</td><td class='tg-right'>  +3.954E-07</td></tr><tr><td class='tg-left'>status</td><td class='tg-right'>Converged</td></tr></table>"
      }
     },
     "a045b834a65348f68f910dd653a00e01": {
      "model_module": "@jupyter-widgets/controls",
      "model_module_version": "1.5.0",
      "model_name": "IntProgressModel",
      "state": {
       "bar_style": "success",
       "layout": "IPY_MODEL_ec678cd4c12342949e5478a9a3a00868",
       "max": 1000,
       "style": "IPY_MODEL_ab6a621e334c494f9491791ec3364cfd",
       "value": 42
      }
     },
     "a16c0d53bf8846728d2188f7a6c49c6f": {
      "model_module": "@jupyter-widgets/base",
      "model_module_version": "1.2.0",
      "model_name": "LayoutModel",
      "state": {}
     },
     "a20eaf27c2c64a108fb2ae556911a005": {
      "model_module": "@jupyter-widgets/controls",
      "model_module_version": "1.5.0",
      "model_name": "ProgressStyleModel",
      "state": {
       "description_width": ""
      }
     },
     "a2435d5bacdd4ae8990c7dd28ef99fed": {
      "model_module": "@jupyter-widgets/controls",
      "model_module_version": "1.5.0",
      "model_name": "BoxModel",
      "state": {
       "children": [
        "IPY_MODEL_2810ec616eb74cbcba35b5e38e57ec81"
       ],
       "layout": "IPY_MODEL_e6696ef5524844c795a9f63551143f05"
      }
     },
     "a28a9d12af0c4054b1e61590f21024ad": {
      "model_module": "@jupyter-widgets/controls",
      "model_module_version": "1.5.0",
      "model_name": "HTMLModel",
      "state": {
       "layout": "IPY_MODEL_6f5f7886a88346bc815ed89a46dd66ff",
       "style": "IPY_MODEL_ff5a732e4261432abb44043892139c83",
       "value": "<style type=\"text/css\">\n    .tg-opt  {font-family:\"Courier New\", Courier, monospace !important;padding:2px 3px;word-break:normal;border-collapse:collapse;border-spacing:0;border-color:#DCDCDC;margin:0px auto;width:100%;}\n    .tg-opt td{font-family:\"Courier New\", Courier, monospace !important;font-weight:bold;color:#444;background-color:#F7FDFA;border-style:solid;border-width:1px;overflow:hidden;word-break:normal;border-color:#DCDCDC;}\n    .tg-opt th{font-family:\"Courier New\", Courier, monospace !important;font-weight:normal;color:#fff;background-color:#26ADE4;border-style:solid;border-width:1px;overflow:hidden;word-break:normal;border-color:#DCDCDC;}\n    .tg-opt .tg-left{font-family:\"Courier New\", Courier, monospace !important;font-weight:normal;text-align:left;}\n    .tg-opt .tg-right{font-family:\"Courier New\", Courier, monospace !important;font-weight:normal;text-align:right;}\n    </style>\n    <table class=\"tg-opt\"><tr><td class='tg-left'>optimizer</td><td class='tg-right'>L-BFGS-B (Scipy implementation)</td></tr><tr><td class='tg-left'>runtime</td><td class='tg-right'>00s31</td></tr><tr><td class='tg-left'>evaluation</td><td class='tg-right'>0047</td></tr><tr><td class='tg-left'>objective</td><td class='tg-right'>   9.160E+01</td></tr><tr><td class='tg-left'>||gradient||</td><td class='tg-right'>  +1.621E-07</td></tr><tr><td class='tg-left'>status</td><td class='tg-right'>Converged</td></tr></table>"
      }
     },
     "a3497bcb6ab04fdf8a096f94dacc6739": {
      "model_module": "@jupyter-widgets/base",
      "model_module_version": "1.2.0",
      "model_name": "LayoutModel",
      "state": {}
     },
     "a3933c0b4aaf408fa047ee91cf77d732": {
      "model_module": "@jupyter-widgets/base",
      "model_module_version": "1.2.0",
      "model_name": "LayoutModel",
      "state": {}
     },
     "a4431d139f5d4a0ea40f9347ad55ab11": {
      "model_module": "@jupyter-widgets/controls",
      "model_module_version": "1.5.0",
      "model_name": "ProgressStyleModel",
      "state": {
       "description_width": ""
      }
     },
     "a46807317ae44e8a9dbebbd4ce14e8eb": {
      "model_module": "@jupyter-widgets/controls",
      "model_module_version": "1.5.0",
      "model_name": "IntProgressModel",
      "state": {
       "bar_style": "success",
       "layout": "IPY_MODEL_049e554b30a24d96b986eac1529e227c",
       "max": 1000,
       "style": "IPY_MODEL_0e8891f20cdf48f1bfe506146082931a",
       "value": 43
      }
     },
     "a4a08315e883433a83a9343277e66666": {
      "model_module": "@jupyter-widgets/base",
      "model_module_version": "1.2.0",
      "model_name": "LayoutModel",
      "state": {}
     },
     "a4bee67ebcf04a718d4386614a0945eb": {
      "model_module": "@jupyter-widgets/base",
      "model_module_version": "1.2.0",
      "model_name": "LayoutModel",
      "state": {}
     },
     "a54ad1ae18c249f6863ffd62e602f751": {
      "model_module": "@jupyter-widgets/base",
      "model_module_version": "1.2.0",
      "model_name": "LayoutModel",
      "state": {}
     },
     "a607dd91e5634ae08a7f2140729b6c0a": {
      "model_module": "@jupyter-widgets/base",
      "model_module_version": "1.2.0",
      "model_name": "LayoutModel",
      "state": {}
     },
     "a60a2ad5243f4f52b878f9a01a221ac4": {
      "model_module": "@jupyter-widgets/controls",
      "model_module_version": "1.5.0",
      "model_name": "HTMLModel",
      "state": {
       "layout": "IPY_MODEL_55aaf0738f4b4e519e0b134c0e71faf7",
       "style": "IPY_MODEL_3176786836a24b5d9b9556fb41e14f93",
       "value": "<style type=\"text/css\">\n    .tg-opt  {font-family:\"Courier New\", Courier, monospace !important;padding:2px 3px;word-break:normal;border-collapse:collapse;border-spacing:0;border-color:#DCDCDC;margin:0px auto;width:100%;}\n    .tg-opt td{font-family:\"Courier New\", Courier, monospace !important;font-weight:bold;color:#444;background-color:#F7FDFA;border-style:solid;border-width:1px;overflow:hidden;word-break:normal;border-color:#DCDCDC;}\n    .tg-opt th{font-family:\"Courier New\", Courier, monospace !important;font-weight:normal;color:#fff;background-color:#26ADE4;border-style:solid;border-width:1px;overflow:hidden;word-break:normal;border-color:#DCDCDC;}\n    .tg-opt .tg-left{font-family:\"Courier New\", Courier, monospace !important;font-weight:normal;text-align:left;}\n    .tg-opt .tg-right{font-family:\"Courier New\", Courier, monospace !important;font-weight:normal;text-align:right;}\n    </style>\n    <table class=\"tg-opt\"><tr><td class='tg-left'>optimizer</td><td class='tg-right'>L-BFGS-B (Scipy implementation)</td></tr><tr><td class='tg-left'>runtime</td><td class='tg-right'>00s30</td></tr><tr><td class='tg-left'>evaluation</td><td class='tg-right'>0047</td></tr><tr><td class='tg-left'>objective</td><td class='tg-right'>   9.154E+01</td></tr><tr><td class='tg-left'>||gradient||</td><td class='tg-right'>  +4.184E-07</td></tr><tr><td class='tg-left'>status</td><td class='tg-right'>Converged</td></tr></table>"
      }
     },
     "a612d07e61114433a8f2ce9338514a54": {
      "model_module": "@jupyter-widgets/controls",
      "model_module_version": "1.5.0",
      "model_name": "HTMLModel",
      "state": {
       "layout": "IPY_MODEL_e3be84598aed4d3597e917882d190aa9",
       "style": "IPY_MODEL_cdf88d613770476c98816b4d2ab715e9",
       "value": "<style type=\"text/css\">\n.pd{\n    font-family: \"Courier New\", Courier, monospace !important;\n    width: 100%;\n    padding: 3px;\n}\n</style>\n\n<p class=pd>\n<b>Model</b>: GP regression<br>\n<b>Objective</b>: 93.88657939181164<br>\n<b>Number of Parameters</b>: 12<br>\n<b>Number of Optimization Parameters</b>: 12<br>\n<b>Updates</b>: True<br>\n</p>\n<style type=\"text/css\">\n.tg  {font-family:\"Courier New\", Courier, monospace !important;padding:2px 3px;word-break:normal;border-collapse:collapse;border-spacing:0;border-color:#DCDCDC;margin:0px auto;width:100%;}\n.tg td{font-family:\"Courier New\", Courier, monospace !important;font-weight:bold;color:#444;background-color:#F7FDFA;border-style:solid;border-width:1px;overflow:hidden;word-break:normal;border-color:#DCDCDC;}\n.tg th{font-family:\"Courier New\", Courier, monospace !important;font-weight:normal;color:#fff;background-color:#26ADE4;border-style:solid;border-width:1px;overflow:hidden;word-break:normal;border-color:#DCDCDC;}\n.tg .tg-left{font-family:\"Courier New\", Courier, monospace !important;font-weight:normal;text-align:left;}\n.tg .tg-center{font-family:\"Courier New\", Courier, monospace !important;font-weight:normal;text-align:center;}\n.tg .tg-right{font-family:\"Courier New\", Courier, monospace !important;font-weight:normal;text-align:right;}\n</style>\n<table class=\"tg\"><tr><th><b>  GP_regression.         </b></th><th><b>              value</b></th><th><b>constraints</b></th><th><b>priors</b></th></tr>\n<tr><td class=tg-left>  constmap.C             </td><td class=tg-right>  4.925373377422601</td><td class=tg-center>           </td><td class=tg-center>      </td></tr>\n<tr><td class=tg-left>  rbf.variance           </td><td class=tg-right> 15.054508417598472</td><td class=tg-center>    +ve    </td><td class=tg-center>      </td></tr>\n<tr><td class=tg-left>  rbf.lengthscale        </td><td class=tg-right>               (9,)</td><td class=tg-center>    +ve    </td><td class=tg-center>      </td></tr>\n<tr><td class=tg-left>  Gaussian_noise.variance</td><td class=tg-right>0.16320701937043072</td><td class=tg-center>    +ve    </td><td class=tg-center>      </td></tr>\n</table>"
      }
     },
     "a646e31a03b54f0996d2518bd467dbf8": {
      "model_module": "@jupyter-widgets/base",
      "model_module_version": "1.2.0",
      "model_name": "LayoutModel",
      "state": {}
     },
     "a678a1e22fb8411b86879a49699091bc": {
      "model_module": "@jupyter-widgets/controls",
      "model_module_version": "1.5.0",
      "model_name": "DescriptionStyleModel",
      "state": {
       "description_width": ""
      }
     },
     "a6bcb9569f274271b31db72366cd4d2d": {
      "model_module": "@jupyter-widgets/controls",
      "model_module_version": "1.5.0",
      "model_name": "HBoxModel",
      "state": {
       "children": [
        "IPY_MODEL_1ba4a19999144a80885668994550c002",
        "IPY_MODEL_0d01cb7ee4494a30a276c14e18535c0c"
       ],
       "layout": "IPY_MODEL_ed64090f343941ccb27b2ed2a3cf2d07"
      }
     },
     "a70fe3f656204f1e9e5bc8e0529be3cb": {
      "model_module": "@jupyter-widgets/controls",
      "model_module_version": "1.5.0",
      "model_name": "HTMLModel",
      "state": {
       "layout": "IPY_MODEL_5e41f67c53fe4a8cbe5aec538023cd8f",
       "style": "IPY_MODEL_cf93ce2cc09146f18957ab2b8ac56e12",
       "value": "<style type=\"text/css\">\n.pd{\n    font-family: \"Courier New\", Courier, monospace !important;\n    width: 100%;\n    padding: 3px;\n}\n</style>\n\n<p class=pd>\n<b>Model</b>: GP regression<br>\n<b>Objective</b>: 90.1934965058878<br>\n<b>Number of Parameters</b>: 12<br>\n<b>Number of Optimization Parameters</b>: 12<br>\n<b>Updates</b>: True<br>\n</p>\n<style type=\"text/css\">\n.tg  {font-family:\"Courier New\", Courier, monospace !important;padding:2px 3px;word-break:normal;border-collapse:collapse;border-spacing:0;border-color:#DCDCDC;margin:0px auto;width:100%;}\n.tg td{font-family:\"Courier New\", Courier, monospace !important;font-weight:bold;color:#444;background-color:#F7FDFA;border-style:solid;border-width:1px;overflow:hidden;word-break:normal;border-color:#DCDCDC;}\n.tg th{font-family:\"Courier New\", Courier, monospace !important;font-weight:normal;color:#fff;background-color:#26ADE4;border-style:solid;border-width:1px;overflow:hidden;word-break:normal;border-color:#DCDCDC;}\n.tg .tg-left{font-family:\"Courier New\", Courier, monospace !important;font-weight:normal;text-align:left;}\n.tg .tg-center{font-family:\"Courier New\", Courier, monospace !important;font-weight:normal;text-align:center;}\n.tg .tg-right{font-family:\"Courier New\", Courier, monospace !important;font-weight:normal;text-align:right;}\n</style>\n<table class=\"tg\"><tr><th><b>  GP_regression.         </b></th><th><b>              value</b></th><th><b>constraints</b></th><th><b>priors</b></th></tr>\n<tr><td class=tg-left>  constmap.C             </td><td class=tg-right>  4.328682021654692</td><td class=tg-center>           </td><td class=tg-center>      </td></tr>\n<tr><td class=tg-left>  rbf.variance           </td><td class=tg-right> 17.575243608853548</td><td class=tg-center>    +ve    </td><td class=tg-center>      </td></tr>\n<tr><td class=tg-left>  rbf.lengthscale        </td><td class=tg-right>               (9,)</td><td class=tg-center>    +ve    </td><td class=tg-center>      </td></tr>\n<tr><td class=tg-left>  Gaussian_noise.variance</td><td class=tg-right>0.16374582698970555</td><td class=tg-center>    +ve    </td><td class=tg-center>      </td></tr>\n</table>"
      }
     },
     "a7978333f0f54d18b4e4becc6ab8ecba": {
      "model_module": "@jupyter-widgets/base",
      "model_module_version": "1.2.0",
      "model_name": "LayoutModel",
      "state": {}
     },
     "a7b5130c6153440abd0743e669c862ac": {
      "model_module": "@jupyter-widgets/base",
      "model_module_version": "1.2.0",
      "model_name": "LayoutModel",
      "state": {}
     },
     "a8293822d5bc4a9d9ed21d3f94a54e9b": {
      "model_module": "@jupyter-widgets/controls",
      "model_module_version": "1.5.0",
      "model_name": "VBoxModel",
      "state": {
       "children": [
        "IPY_MODEL_063ebcd777a64d66ac777971cf384db0",
        "IPY_MODEL_d60647e215c24896aa626056e593ed44"
       ],
       "layout": "IPY_MODEL_d2fea8c1af5341c39324e27aa47c883b"
      }
     },
     "a8293e13d049422892488140264a0507": {
      "model_module": "@jupyter-widgets/controls",
      "model_module_version": "1.5.0",
      "model_name": "ProgressStyleModel",
      "state": {
       "description_width": ""
      }
     },
     "a855d69d8cb5460e86a734d6434cc64e": {
      "model_module": "@jupyter-widgets/base",
      "model_module_version": "1.2.0",
      "model_name": "LayoutModel",
      "state": {}
     },
     "a86739c0ddb3487ab33ee1535e10d4d8": {
      "model_module": "@jupyter-widgets/base",
      "model_module_version": "1.2.0",
      "model_name": "LayoutModel",
      "state": {}
     },
     "a8c3fa69be3340fe96917cc5ff5e0120": {
      "model_module": "@jupyter-widgets/base",
      "model_module_version": "1.2.0",
      "model_name": "LayoutModel",
      "state": {}
     },
     "a90d9447a40e413ca2804f97f0537c5c": {
      "model_module": "@jupyter-widgets/controls",
      "model_module_version": "1.5.0",
      "model_name": "ProgressStyleModel",
      "state": {
       "description_width": ""
      }
     },
     "a938a52fc596404ca66f0243db60ff36": {
      "model_module": "@jupyter-widgets/controls",
      "model_module_version": "1.5.0",
      "model_name": "HTMLModel",
      "state": {
       "layout": "IPY_MODEL_bf26af7c3dab4d90b782ec16f0e07847",
       "style": "IPY_MODEL_4912abb1fbe44a45a16e8d891b829e3f",
       "value": "<style type=\"text/css\">\n.pd{\n    font-family: \"Courier New\", Courier, monospace !important;\n    width: 100%;\n    padding: 3px;\n}\n</style>\n\n<p class=pd>\n<b>Model</b>: GP regression<br>\n<b>Objective</b>: 89.4419593975135<br>\n<b>Number of Parameters</b>: 12<br>\n<b>Number of Optimization Parameters</b>: 12<br>\n<b>Updates</b>: True<br>\n</p>\n<style type=\"text/css\">\n.tg  {font-family:\"Courier New\", Courier, monospace !important;padding:2px 3px;word-break:normal;border-collapse:collapse;border-spacing:0;border-color:#DCDCDC;margin:0px auto;width:100%;}\n.tg td{font-family:\"Courier New\", Courier, monospace !important;font-weight:bold;color:#444;background-color:#F7FDFA;border-style:solid;border-width:1px;overflow:hidden;word-break:normal;border-color:#DCDCDC;}\n.tg th{font-family:\"Courier New\", Courier, monospace !important;font-weight:normal;color:#fff;background-color:#26ADE4;border-style:solid;border-width:1px;overflow:hidden;word-break:normal;border-color:#DCDCDC;}\n.tg .tg-left{font-family:\"Courier New\", Courier, monospace !important;font-weight:normal;text-align:left;}\n.tg .tg-center{font-family:\"Courier New\", Courier, monospace !important;font-weight:normal;text-align:center;}\n.tg .tg-right{font-family:\"Courier New\", Courier, monospace !important;font-weight:normal;text-align:right;}\n</style>\n<table class=\"tg\"><tr><th><b>  GP_regression.         </b></th><th><b>              value</b></th><th><b>constraints</b></th><th><b>priors</b></th></tr>\n<tr><td class=tg-left>  constmap.C             </td><td class=tg-right>  5.113636385116812</td><td class=tg-center>           </td><td class=tg-center>      </td></tr>\n<tr><td class=tg-left>  rbf.variance           </td><td class=tg-right> 14.669095694999418</td><td class=tg-center>    +ve    </td><td class=tg-center>      </td></tr>\n<tr><td class=tg-left>  rbf.lengthscale        </td><td class=tg-right>               (9,)</td><td class=tg-center>    +ve    </td><td class=tg-center>      </td></tr>\n<tr><td class=tg-left>  Gaussian_noise.variance</td><td class=tg-right>0.15450854481312087</td><td class=tg-center>    +ve    </td><td class=tg-center>      </td></tr>\n</table>"
      }
     },
     "a95d01ba691e45049cfb6f804b60cb76": {
      "model_module": "@jupyter-widgets/controls",
      "model_module_version": "1.5.0",
      "model_name": "VBoxModel",
      "state": {
       "children": [
        "IPY_MODEL_6124b884ab11401f9a83336b4f162fc2",
        "IPY_MODEL_02c58f462d8b402289876020a2551747"
       ],
       "layout": "IPY_MODEL_37b55073b08d4d53902213f665722e10"
      }
     },
     "a9878e20166848c787ec17261efcb8bc": {
      "model_module": "@jupyter-widgets/base",
      "model_module_version": "1.2.0",
      "model_name": "LayoutModel",
      "state": {}
     },
     "ab69fb75f73c45fab0caffa885ca2484": {
      "model_module": "@jupyter-widgets/controls",
      "model_module_version": "1.5.0",
      "model_name": "DescriptionStyleModel",
      "state": {
       "description_width": ""
      }
     },
     "ab6a621e334c494f9491791ec3364cfd": {
      "model_module": "@jupyter-widgets/controls",
      "model_module_version": "1.5.0",
      "model_name": "ProgressStyleModel",
      "state": {
       "description_width": ""
      }
     },
     "abdc41018ff7405fb2304af4446072e3": {
      "model_module": "@jupyter-widgets/controls",
      "model_module_version": "1.5.0",
      "model_name": "HTMLModel",
      "state": {
       "layout": "IPY_MODEL_e00c8914a7d341e79bb668de048a533a",
       "style": "IPY_MODEL_169c2ec3dd5e4b109e1b00ef609a42d8",
       "value": "<style type=\"text/css\">\n    .tg-opt  {font-family:\"Courier New\", Courier, monospace !important;padding:2px 3px;word-break:normal;border-collapse:collapse;border-spacing:0;border-color:#DCDCDC;margin:0px auto;width:100%;}\n    .tg-opt td{font-family:\"Courier New\", Courier, monospace !important;font-weight:bold;color:#444;background-color:#F7FDFA;border-style:solid;border-width:1px;overflow:hidden;word-break:normal;border-color:#DCDCDC;}\n    .tg-opt th{font-family:\"Courier New\", Courier, monospace !important;font-weight:normal;color:#fff;background-color:#26ADE4;border-style:solid;border-width:1px;overflow:hidden;word-break:normal;border-color:#DCDCDC;}\n    .tg-opt .tg-left{font-family:\"Courier New\", Courier, monospace !important;font-weight:normal;text-align:left;}\n    .tg-opt .tg-right{font-family:\"Courier New\", Courier, monospace !important;font-weight:normal;text-align:right;}\n    </style>\n    <table class=\"tg-opt\"><tr><td class='tg-left'>optimizer</td><td class='tg-right'>L-BFGS-B (Scipy implementation)</td></tr><tr><td class='tg-left'>runtime</td><td class='tg-right'>00s29</td></tr><tr><td class='tg-left'>evaluation</td><td class='tg-right'>0045</td></tr><tr><td class='tg-left'>objective</td><td class='tg-right'>   9.173E+01</td></tr><tr><td class='tg-left'>||gradient||</td><td class='tg-right'>  +1.466E-07</td></tr><tr><td class='tg-left'>status</td><td class='tg-right'>Converged</td></tr></table>"
      }
     },
     "ac525c15dbff426f9d55b5ca5d0a036d": {
      "model_module": "@jupyter-widgets/controls",
      "model_module_version": "1.5.0",
      "model_name": "IntProgressModel",
      "state": {
       "bar_style": "success",
       "layout": "IPY_MODEL_1366db26fc0f4e23bd4e936aa8d5c429",
       "max": 1000,
       "style": "IPY_MODEL_be3fc45aec1d482a98ad6984d094dd76",
       "value": 49
      }
     },
     "ac7d28098ec84ef1914d043c94e8b9d3": {
      "model_module": "@jupyter-widgets/controls",
      "model_module_version": "1.5.0",
      "model_name": "BoxModel",
      "state": {
       "children": [
        "IPY_MODEL_497dd290734b45ecaaaced4a73716dbb"
       ],
       "layout": "IPY_MODEL_7c0d1a2540c847748aab5d1010c0e3ab"
      }
     },
     "acad565720e841f0af936f289a03c8af": {
      "model_module": "@jupyter-widgets/controls",
      "model_module_version": "1.5.0",
      "model_name": "HTMLModel",
      "state": {
       "layout": "IPY_MODEL_1a31e950062746f9a6b61b57e1294e96",
       "style": "IPY_MODEL_493ce46619ad4b3db99a99763baf8020",
       "value": "<style type=\"text/css\">\n    .tg-opt  {font-family:\"Courier New\", Courier, monospace !important;padding:2px 3px;word-break:normal;border-collapse:collapse;border-spacing:0;border-color:#DCDCDC;margin:0px auto;width:100%;}\n    .tg-opt td{font-family:\"Courier New\", Courier, monospace !important;font-weight:bold;color:#444;background-color:#F7FDFA;border-style:solid;border-width:1px;overflow:hidden;word-break:normal;border-color:#DCDCDC;}\n    .tg-opt th{font-family:\"Courier New\", Courier, monospace !important;font-weight:normal;color:#fff;background-color:#26ADE4;border-style:solid;border-width:1px;overflow:hidden;word-break:normal;border-color:#DCDCDC;}\n    .tg-opt .tg-left{font-family:\"Courier New\", Courier, monospace !important;font-weight:normal;text-align:left;}\n    .tg-opt .tg-right{font-family:\"Courier New\", Courier, monospace !important;font-weight:normal;text-align:right;}\n    </style>\n    <table class=\"tg-opt\"><tr><td class='tg-left'>optimizer</td><td class='tg-right'>L-BFGS-B (Scipy implementation)</td></tr><tr><td class='tg-left'>runtime</td><td class='tg-right'>00s30</td></tr><tr><td class='tg-left'>evaluation</td><td class='tg-right'>0047</td></tr><tr><td class='tg-left'>objective</td><td class='tg-right'>   9.134E+01</td></tr><tr><td class='tg-left'>||gradient||</td><td class='tg-right'>  +1.741E-07</td></tr><tr><td class='tg-left'>status</td><td class='tg-right'>Converged</td></tr></table>"
      }
     },
     "acc4982ea5734126a948381176f76274": {
      "model_module": "@jupyter-widgets/controls",
      "model_module_version": "1.5.0",
      "model_name": "DescriptionStyleModel",
      "state": {
       "description_width": ""
      }
     },
     "ad301532abd84e128d1764c08097eba4": {
      "model_module": "@jupyter-widgets/controls",
      "model_module_version": "1.5.0",
      "model_name": "HTMLModel",
      "state": {
       "layout": "IPY_MODEL_cd5efb0f14ed498aa1c41942ee80cbf7",
       "style": "IPY_MODEL_c1dfd488375748bab45bb669214d78d3",
       "value": "<style type=\"text/css\">\n.pd{\n    font-family: \"Courier New\", Courier, monospace !important;\n    width: 100%;\n    padding: 3px;\n}\n</style>\n\n<p class=pd>\n<b>Model</b>: GP regression<br>\n<b>Objective</b>: 88.8644069173018<br>\n<b>Number of Parameters</b>: 12<br>\n<b>Number of Optimization Parameters</b>: 12<br>\n<b>Updates</b>: True<br>\n</p>\n<style type=\"text/css\">\n.tg  {font-family:\"Courier New\", Courier, monospace !important;padding:2px 3px;word-break:normal;border-collapse:collapse;border-spacing:0;border-color:#DCDCDC;margin:0px auto;width:100%;}\n.tg td{font-family:\"Courier New\", Courier, monospace !important;font-weight:bold;color:#444;background-color:#F7FDFA;border-style:solid;border-width:1px;overflow:hidden;word-break:normal;border-color:#DCDCDC;}\n.tg th{font-family:\"Courier New\", Courier, monospace !important;font-weight:normal;color:#fff;background-color:#26ADE4;border-style:solid;border-width:1px;overflow:hidden;word-break:normal;border-color:#DCDCDC;}\n.tg .tg-left{font-family:\"Courier New\", Courier, monospace !important;font-weight:normal;text-align:left;}\n.tg .tg-center{font-family:\"Courier New\", Courier, monospace !important;font-weight:normal;text-align:center;}\n.tg .tg-right{font-family:\"Courier New\", Courier, monospace !important;font-weight:normal;text-align:right;}\n</style>\n<table class=\"tg\"><tr><th><b>  GP_regression.         </b></th><th><b>              value</b></th><th><b>constraints</b></th><th><b>priors</b></th></tr>\n<tr><td class=tg-left>  constmap.C             </td><td class=tg-right> 5.6024776724652385</td><td class=tg-center>           </td><td class=tg-center>      </td></tr>\n<tr><td class=tg-left>  rbf.variance           </td><td class=tg-right> 14.613825500566854</td><td class=tg-center>    +ve    </td><td class=tg-center>      </td></tr>\n<tr><td class=tg-left>  rbf.lengthscale        </td><td class=tg-right>               (9,)</td><td class=tg-center>    +ve    </td><td class=tg-center>      </td></tr>\n<tr><td class=tg-left>  Gaussian_noise.variance</td><td class=tg-right>0.14446441697780157</td><td class=tg-center>    +ve    </td><td class=tg-center>      </td></tr>\n</table>"
      }
     },
     "ad400e6de2284bd1a56fad92c0a5db8e": {
      "model_module": "@jupyter-widgets/base",
      "model_module_version": "1.2.0",
      "model_name": "LayoutModel",
      "state": {}
     },
     "ad40466f744d46e192b906a29431b90c": {
      "model_module": "@jupyter-widgets/controls",
      "model_module_version": "1.5.0",
      "model_name": "BoxModel",
      "state": {
       "children": [
        "IPY_MODEL_3831081aba1f44a8ba49e667ad59acca"
       ],
       "layout": "IPY_MODEL_61455f7938c6487793b609df44a57998"
      }
     },
     "ad5e7a9f80ae40cc9f996ec27dfc030e": {
      "model_module": "@jupyter-widgets/base",
      "model_module_version": "1.2.0",
      "model_name": "LayoutModel",
      "state": {}
     },
     "ad5fd65c7e5d457d95a961a490814eed": {
      "model_module": "@jupyter-widgets/base",
      "model_module_version": "1.2.0",
      "model_name": "LayoutModel",
      "state": {}
     },
     "adc89c5f308e44e0ae362694fc7c0973": {
      "model_module": "@jupyter-widgets/controls",
      "model_module_version": "1.5.0",
      "model_name": "HTMLModel",
      "state": {
       "layout": "IPY_MODEL_33ff2806f6bf4a1f96e7e099c3d30263",
       "style": "IPY_MODEL_28fa0babe13f47b581c5b6e574a57f7d",
       "value": "<style type=\"text/css\">\n    .tg-opt  {font-family:\"Courier New\", Courier, monospace !important;padding:2px 3px;word-break:normal;border-collapse:collapse;border-spacing:0;border-color:#DCDCDC;margin:0px auto;width:100%;}\n    .tg-opt td{font-family:\"Courier New\", Courier, monospace !important;font-weight:bold;color:#444;background-color:#F7FDFA;border-style:solid;border-width:1px;overflow:hidden;word-break:normal;border-color:#DCDCDC;}\n    .tg-opt th{font-family:\"Courier New\", Courier, monospace !important;font-weight:normal;color:#fff;background-color:#26ADE4;border-style:solid;border-width:1px;overflow:hidden;word-break:normal;border-color:#DCDCDC;}\n    .tg-opt .tg-left{font-family:\"Courier New\", Courier, monospace !important;font-weight:normal;text-align:left;}\n    .tg-opt .tg-right{font-family:\"Courier New\", Courier, monospace !important;font-weight:normal;text-align:right;}\n    </style>\n    <table class=\"tg-opt\"><tr><td class='tg-left'>optimizer</td><td class='tg-right'>L-BFGS-B (Scipy implementation)</td></tr><tr><td class='tg-left'>runtime</td><td class='tg-right'>00s18</td></tr><tr><td class='tg-left'>evaluation</td><td class='tg-right'>0021</td></tr><tr><td class='tg-left'>objective</td><td class='tg-right'>   9.389E+01</td></tr><tr><td class='tg-left'>||gradient||</td><td class='tg-right'>  +1.625E-05</td></tr><tr><td class='tg-left'>status</td><td class='tg-right'>Converged</td></tr></table>"
      }
     },
     "ade97a2508e243b688185cdd79ea5cb7": {
      "model_module": "@jupyter-widgets/controls",
      "model_module_version": "1.5.0",
      "model_name": "VBoxModel",
      "state": {
       "children": [
        "IPY_MODEL_35211ee5d5864a85a0025fb62b4f5fb7",
        "IPY_MODEL_a60a2ad5243f4f52b878f9a01a221ac4"
       ],
       "layout": "IPY_MODEL_4e6666308f5f4ec1ad45cb08b3e37999"
      }
     },
     "ae04641b64cd4f67a3934ebde49e3d27": {
      "model_module": "@jupyter-widgets/controls",
      "model_module_version": "1.5.0",
      "model_name": "IntProgressModel",
      "state": {
       "bar_style": "success",
       "layout": "IPY_MODEL_4eeafa311c9042bbbe318e4bdbb88df1",
       "max": 1000,
       "style": "IPY_MODEL_c909ad5be271465b9ea3ec2310cf03b0",
       "value": 22
      }
     },
     "ae2cdc36ae374cbe95563c5439134c02": {
      "model_module": "@jupyter-widgets/base",
      "model_module_version": "1.2.0",
      "model_name": "LayoutModel",
      "state": {}
     },
     "ae95f523488e4b7c8bf9d6831d465b31": {
      "model_module": "@jupyter-widgets/base",
      "model_module_version": "1.2.0",
      "model_name": "LayoutModel",
      "state": {}
     },
     "aea41c991c22411e9cb402cc973d7803": {
      "model_module": "@jupyter-widgets/base",
      "model_module_version": "1.2.0",
      "model_name": "LayoutModel",
      "state": {}
     },
     "aec7bd1af16c4a1db9b37662236f21f4": {
      "model_module": "@jupyter-widgets/controls",
      "model_module_version": "1.5.0",
      "model_name": "BoxModel",
      "state": {
       "children": [
        "IPY_MODEL_f96323f3db694e89966166e90362eb57"
       ],
       "layout": "IPY_MODEL_d83673b337e7463489b5d95076728e0b"
      }
     },
     "af085eec25a84714bd1566df58c0e356": {
      "model_module": "@jupyter-widgets/controls",
      "model_module_version": "1.5.0",
      "model_name": "VBoxModel",
      "state": {
       "children": [
        "IPY_MODEL_57e4b86c8d814d15a6084d85bdc4430f",
        "IPY_MODEL_95b724aacb424680b8657b1ef0fc9930"
       ],
       "layout": "IPY_MODEL_5ff9cba0e93942a78944ef5001c1ef3b"
      }
     },
     "af501044a4f04f2bafbc1af36d0f1d22": {
      "model_module": "@jupyter-widgets/controls",
      "model_module_version": "1.5.0",
      "model_name": "HTMLModel",
      "state": {
       "layout": "IPY_MODEL_0f6a881dfcf741e0aa8a9310a1b19b7e",
       "style": "IPY_MODEL_0c08b6bd1ebc44b0a891d462a0ef6e3d",
       "value": "<style type=\"text/css\">\n    .tg-opt  {font-family:\"Courier New\", Courier, monospace !important;padding:2px 3px;word-break:normal;border-collapse:collapse;border-spacing:0;border-color:#DCDCDC;margin:0px auto;width:100%;}\n    .tg-opt td{font-family:\"Courier New\", Courier, monospace !important;font-weight:bold;color:#444;background-color:#F7FDFA;border-style:solid;border-width:1px;overflow:hidden;word-break:normal;border-color:#DCDCDC;}\n    .tg-opt th{font-family:\"Courier New\", Courier, monospace !important;font-weight:normal;color:#fff;background-color:#26ADE4;border-style:solid;border-width:1px;overflow:hidden;word-break:normal;border-color:#DCDCDC;}\n    .tg-opt .tg-left{font-family:\"Courier New\", Courier, monospace !important;font-weight:normal;text-align:left;}\n    .tg-opt .tg-right{font-family:\"Courier New\", Courier, monospace !important;font-weight:normal;text-align:right;}\n    </style>\n    <table class=\"tg-opt\"><tr><td class='tg-left'>optimizer</td><td class='tg-right'>L-BFGS-B (Scipy implementation)</td></tr><tr><td class='tg-left'>runtime</td><td class='tg-right'>00s29</td></tr><tr><td class='tg-left'>evaluation</td><td class='tg-right'>0042</td></tr><tr><td class='tg-left'>objective</td><td class='tg-right'>   8.817E+01</td></tr><tr><td class='tg-left'>||gradient||</td><td class='tg-right'>  +4.573E-07</td></tr><tr><td class='tg-left'>status</td><td class='tg-right'>Converged</td></tr></table>"
      }
     },
     "af67e25e3fe846fb91ee2c13e362154d": {
      "model_module": "@jupyter-widgets/base",
      "model_module_version": "1.2.0",
      "model_name": "LayoutModel",
      "state": {}
     },
     "afae2178b9c1418db12d120a9ece24f4": {
      "model_module": "@jupyter-widgets/controls",
      "model_module_version": "1.5.0",
      "model_name": "DescriptionStyleModel",
      "state": {
       "description_width": ""
      }
     },
     "b010c80e235b49d4a0b90f8e80d76458": {
      "model_module": "@jupyter-widgets/controls",
      "model_module_version": "1.5.0",
      "model_name": "HTMLModel",
      "state": {
       "layout": "IPY_MODEL_4a5cfc2fbb0c40e6bbf1ca3429be8917",
       "style": "IPY_MODEL_9eed57a714214b5fb6f813cf21968423",
       "value": "<style type=\"text/css\">\n.pd{\n    font-family: \"Courier New\", Courier, monospace !important;\n    width: 100%;\n    padding: 3px;\n}\n</style>\n\n<p class=pd>\n<b>Model</b>: GP regression<br>\n<b>Objective</b>: 91.38768576483207<br>\n<b>Number of Parameters</b>: 12<br>\n<b>Number of Optimization Parameters</b>: 12<br>\n<b>Updates</b>: True<br>\n</p>\n<style type=\"text/css\">\n.tg  {font-family:\"Courier New\", Courier, monospace !important;padding:2px 3px;word-break:normal;border-collapse:collapse;border-spacing:0;border-color:#DCDCDC;margin:0px auto;width:100%;}\n.tg td{font-family:\"Courier New\", Courier, monospace !important;font-weight:bold;color:#444;background-color:#F7FDFA;border-style:solid;border-width:1px;overflow:hidden;word-break:normal;border-color:#DCDCDC;}\n.tg th{font-family:\"Courier New\", Courier, monospace !important;font-weight:normal;color:#fff;background-color:#26ADE4;border-style:solid;border-width:1px;overflow:hidden;word-break:normal;border-color:#DCDCDC;}\n.tg .tg-left{font-family:\"Courier New\", Courier, monospace !important;font-weight:normal;text-align:left;}\n.tg .tg-center{font-family:\"Courier New\", Courier, monospace !important;font-weight:normal;text-align:center;}\n.tg .tg-right{font-family:\"Courier New\", Courier, monospace !important;font-weight:normal;text-align:right;}\n</style>\n<table class=\"tg\"><tr><th><b>  GP_regression.         </b></th><th><b>              value</b></th><th><b>constraints</b></th><th><b>priors</b></th></tr>\n<tr><td class=tg-left>  constmap.C             </td><td class=tg-right>  4.874450524018514</td><td class=tg-center>           </td><td class=tg-center>      </td></tr>\n<tr><td class=tg-left>  rbf.variance           </td><td class=tg-right> 15.439827732453253</td><td class=tg-center>    +ve    </td><td class=tg-center>      </td></tr>\n<tr><td class=tg-left>  rbf.lengthscale        </td><td class=tg-right>               (9,)</td><td class=tg-center>    +ve    </td><td class=tg-center>      </td></tr>\n<tr><td class=tg-left>  Gaussian_noise.variance</td><td class=tg-right>0.16542184386372125</td><td class=tg-center>    +ve    </td><td class=tg-center>      </td></tr>\n</table>"
      }
     },
     "b08b37daa9b54feaa4846822c083b395": {
      "model_module": "@jupyter-widgets/controls",
      "model_module_version": "1.5.0",
      "model_name": "BoxModel",
      "state": {
       "children": [
        "IPY_MODEL_5479cb12a5d34613a6e8f1f1f11c5b3c"
       ],
       "layout": "IPY_MODEL_64e04b661ed0414fa46cea33a76b662d"
      }
     },
     "b0bd71e6406c4e63a32839785387b4e5": {
      "model_module": "@jupyter-widgets/base",
      "model_module_version": "1.2.0",
      "model_name": "LayoutModel",
      "state": {}
     },
     "b0ff2222c9e64fbb842624ef16fde3ed": {
      "model_module": "@jupyter-widgets/base",
      "model_module_version": "1.2.0",
      "model_name": "LayoutModel",
      "state": {}
     },
     "b20f9f4ecb714f38891c484a5ca7a057": {
      "model_module": "@jupyter-widgets/controls",
      "model_module_version": "1.5.0",
      "model_name": "HTMLModel",
      "state": {
       "layout": "IPY_MODEL_422d3dc33e5245f6b6d9015bc4682120",
       "style": "IPY_MODEL_5bc36e1c059b4fe2818509dc9f3ef938",
       "value": "<style type=\"text/css\">\n.pd{\n    font-family: \"Courier New\", Courier, monospace !important;\n    width: 100%;\n    padding: 3px;\n}\n</style>\n\n<p class=pd>\n<b>Model</b>: GP regression<br>\n<b>Objective</b>: 88.63426697591119<br>\n<b>Number of Parameters</b>: 12<br>\n<b>Number of Optimization Parameters</b>: 12<br>\n<b>Updates</b>: True<br>\n</p>\n<style type=\"text/css\">\n.tg  {font-family:\"Courier New\", Courier, monospace !important;padding:2px 3px;word-break:normal;border-collapse:collapse;border-spacing:0;border-color:#DCDCDC;margin:0px auto;width:100%;}\n.tg td{font-family:\"Courier New\", Courier, monospace !important;font-weight:bold;color:#444;background-color:#F7FDFA;border-style:solid;border-width:1px;overflow:hidden;word-break:normal;border-color:#DCDCDC;}\n.tg th{font-family:\"Courier New\", Courier, monospace !important;font-weight:normal;color:#fff;background-color:#26ADE4;border-style:solid;border-width:1px;overflow:hidden;word-break:normal;border-color:#DCDCDC;}\n.tg .tg-left{font-family:\"Courier New\", Courier, monospace !important;font-weight:normal;text-align:left;}\n.tg .tg-center{font-family:\"Courier New\", Courier, monospace !important;font-weight:normal;text-align:center;}\n.tg .tg-right{font-family:\"Courier New\", Courier, monospace !important;font-weight:normal;text-align:right;}\n</style>\n<table class=\"tg\"><tr><th><b>  GP_regression.         </b></th><th><b>              value</b></th><th><b>constraints</b></th><th><b>priors</b></th></tr>\n<tr><td class=tg-left>  constmap.C             </td><td class=tg-right>  4.728878753939351</td><td class=tg-center>           </td><td class=tg-center>      </td></tr>\n<tr><td class=tg-left>  rbf.variance           </td><td class=tg-right> 15.767414431545744</td><td class=tg-center>    +ve    </td><td class=tg-center>      </td></tr>\n<tr><td class=tg-left>  rbf.lengthscale        </td><td class=tg-right>               (9,)</td><td class=tg-center>    +ve    </td><td class=tg-center>      </td></tr>\n<tr><td class=tg-left>  Gaussian_noise.variance</td><td class=tg-right>0.14742614257276904</td><td class=tg-center>    +ve    </td><td class=tg-center>      </td></tr>\n</table>"
      }
     },
     "b24e2f76b1b2441cbce34d01918ed54d": {
      "model_module": "@jupyter-widgets/base",
      "model_module_version": "1.2.0",
      "model_name": "LayoutModel",
      "state": {}
     },
     "b26a2ab2967f4d929b53d3784fd8de83": {
      "model_module": "@jupyter-widgets/controls",
      "model_module_version": "1.5.0",
      "model_name": "VBoxModel",
      "state": {
       "children": [
        "IPY_MODEL_1569f99058fa451ea20addb424aa9e5a",
        "IPY_MODEL_f3da1384cf7d46e59740efee7a602d1b"
       ],
       "layout": "IPY_MODEL_c45d88ef4a73487485107e32c3304f39"
      }
     },
     "b28e7f239ef94865a5cacd1b98ee72c3": {
      "model_module": "@jupyter-widgets/controls",
      "model_module_version": "1.5.0",
      "model_name": "ProgressStyleModel",
      "state": {
       "description_width": ""
      }
     },
     "b3a2681c6e6747f9a2b42ab32e563f04": {
      "model_module": "@jupyter-widgets/base",
      "model_module_version": "1.2.0",
      "model_name": "LayoutModel",
      "state": {}
     },
     "b3feea69e6324f6eb57dbac5da95a663": {
      "model_module": "@jupyter-widgets/base",
      "model_module_version": "1.2.0",
      "model_name": "LayoutModel",
      "state": {}
     },
     "b46abaf825b4464d93cd543449a38e73": {
      "model_module": "@jupyter-widgets/base",
      "model_module_version": "1.2.0",
      "model_name": "LayoutModel",
      "state": {}
     },
     "b46fe201f1074808ac2bb35b11eb94ca": {
      "model_module": "@jupyter-widgets/controls",
      "model_module_version": "1.5.0",
      "model_name": "HTMLModel",
      "state": {
       "layout": "IPY_MODEL_9ff5f98e722d4363b1631bb544c2510e",
       "style": "IPY_MODEL_ec33c300c57444b49f7c316a024812ad",
       "value": "<style type=\"text/css\">\n.pd{\n    font-family: \"Courier New\", Courier, monospace !important;\n    width: 100%;\n    padding: 3px;\n}\n</style>\n\n<p class=pd>\n<b>Model</b>: GP regression<br>\n<b>Objective</b>: 91.89997439417984<br>\n<b>Number of Parameters</b>: 12<br>\n<b>Number of Optimization Parameters</b>: 12<br>\n<b>Updates</b>: True<br>\n</p>\n<style type=\"text/css\">\n.tg  {font-family:\"Courier New\", Courier, monospace !important;padding:2px 3px;word-break:normal;border-collapse:collapse;border-spacing:0;border-color:#DCDCDC;margin:0px auto;width:100%;}\n.tg td{font-family:\"Courier New\", Courier, monospace !important;font-weight:bold;color:#444;background-color:#F7FDFA;border-style:solid;border-width:1px;overflow:hidden;word-break:normal;border-color:#DCDCDC;}\n.tg th{font-family:\"Courier New\", Courier, monospace !important;font-weight:normal;color:#fff;background-color:#26ADE4;border-style:solid;border-width:1px;overflow:hidden;word-break:normal;border-color:#DCDCDC;}\n.tg .tg-left{font-family:\"Courier New\", Courier, monospace !important;font-weight:normal;text-align:left;}\n.tg .tg-center{font-family:\"Courier New\", Courier, monospace !important;font-weight:normal;text-align:center;}\n.tg .tg-right{font-family:\"Courier New\", Courier, monospace !important;font-weight:normal;text-align:right;}\n</style>\n<table class=\"tg\"><tr><th><b>  GP_regression.         </b></th><th><b>             value</b></th><th><b>constraints</b></th><th><b>priors</b></th></tr>\n<tr><td class=tg-left>  constmap.C             </td><td class=tg-right> 5.137946729526363</td><td class=tg-center>           </td><td class=tg-center>      </td></tr>\n<tr><td class=tg-left>  rbf.variance           </td><td class=tg-right>14.337625282435802</td><td class=tg-center>    +ve    </td><td class=tg-center>      </td></tr>\n<tr><td class=tg-left>  rbf.lengthscale        </td><td class=tg-right>              (9,)</td><td class=tg-center>    +ve    </td><td class=tg-center>      </td></tr>\n<tr><td class=tg-left>  Gaussian_noise.variance</td><td class=tg-right>0.1674520238385841</td><td class=tg-center>    +ve    </td><td class=tg-center>      </td></tr>\n</table>"
      }
     },
     "b472643b11fd48129d67b5ecc1f48af8": {
      "model_module": "@jupyter-widgets/base",
      "model_module_version": "1.2.0",
      "model_name": "LayoutModel",
      "state": {}
     },
     "b4b269f1fcc84355b246055257a85899": {
      "model_module": "@jupyter-widgets/base",
      "model_module_version": "1.2.0",
      "model_name": "LayoutModel",
      "state": {}
     },
     "b4d424afc6f649a0a1848a59e059eee2": {
      "model_module": "@jupyter-widgets/controls",
      "model_module_version": "1.5.0",
      "model_name": "IntProgressModel",
      "state": {
       "bar_style": "success",
       "layout": "IPY_MODEL_d64bbad9ae794f369a6ce77eb10a97c7",
       "max": 1000,
       "style": "IPY_MODEL_a8293e13d049422892488140264a0507",
       "value": 47
      }
     },
     "b54b96b8ca804acdb8c32c0dbebb9fdc": {
      "model_module": "@jupyter-widgets/base",
      "model_module_version": "1.2.0",
      "model_name": "LayoutModel",
      "state": {}
     },
     "b59ffe08233947f8a357979d7e606ad4": {
      "model_module": "@jupyter-widgets/controls",
      "model_module_version": "1.5.0",
      "model_name": "IntProgressModel",
      "state": {
       "bar_style": "success",
       "layout": "IPY_MODEL_6e029e84db1042ddaae6c8f1318b5bcd",
       "max": 1000,
       "style": "IPY_MODEL_0e523d7920b24531a2af678384a2d4be",
       "value": 47
      }
     },
     "b5e29de9aba34d27974a4949225f571f": {
      "model_module": "@jupyter-widgets/base",
      "model_module_version": "1.2.0",
      "model_name": "LayoutModel",
      "state": {}
     },
     "b6857097fbb9469f9b31805878707d29": {
      "model_module": "@jupyter-widgets/controls",
      "model_module_version": "1.5.0",
      "model_name": "BoxModel",
      "state": {
       "children": [
        "IPY_MODEL_fc39ce66ef824c1aa447d986df8e6dae"
       ],
       "layout": "IPY_MODEL_aea41c991c22411e9cb402cc973d7803"
      }
     },
     "b6af065aec0240c187e30a7261628120": {
      "model_module": "@jupyter-widgets/base",
      "model_module_version": "1.2.0",
      "model_name": "LayoutModel",
      "state": {}
     },
     "b6d6a0a749b64f0cab541ce26b2d55dc": {
      "model_module": "@jupyter-widgets/base",
      "model_module_version": "1.2.0",
      "model_name": "LayoutModel",
      "state": {}
     },
     "b72b5434befd4dfb90a2f7fa11378845": {
      "model_module": "@jupyter-widgets/base",
      "model_module_version": "1.2.0",
      "model_name": "LayoutModel",
      "state": {}
     },
     "b79d3f6414d8449a972a7731a4edf5b8": {
      "model_module": "@jupyter-widgets/base",
      "model_module_version": "1.2.0",
      "model_name": "LayoutModel",
      "state": {}
     },
     "b7b9d334acaa4167a02a246d194d50b9": {
      "model_module": "@jupyter-widgets/base",
      "model_module_version": "1.2.0",
      "model_name": "LayoutModel",
      "state": {}
     },
     "b84e3ec20bc54bb58545c08b08ab17f5": {
      "model_module": "@jupyter-widgets/controls",
      "model_module_version": "1.5.0",
      "model_name": "IntProgressModel",
      "state": {
       "bar_style": "success",
       "layout": "IPY_MODEL_d54fcf9e138348d59b5dceb92598b7a6",
       "max": 1000,
       "style": "IPY_MODEL_98ddaacd15ba4ea78e32214567260de3",
       "value": 42
      }
     },
     "b8fda88557cb436bb72f4fa5140a8995": {
      "model_module": "@jupyter-widgets/base",
      "model_module_version": "1.2.0",
      "model_name": "LayoutModel",
      "state": {}
     },
     "b92c453b735141eba14ec183d6998d60": {
      "model_module": "@jupyter-widgets/controls",
      "model_module_version": "1.5.0",
      "model_name": "HTMLModel",
      "state": {
       "layout": "IPY_MODEL_d1e04ed0b65047b1b87c86437249d2b8",
       "style": "IPY_MODEL_11b4d04cb9344a18beb46bfee3f34482",
       "value": "<style type=\"text/css\">\n.pd{\n    font-family: \"Courier New\", Courier, monospace !important;\n    width: 100%;\n    padding: 3px;\n}\n</style>\n\n<p class=pd>\n<b>Model</b>: GP regression<br>\n<b>Objective</b>: 91.33693562671556<br>\n<b>Number of Parameters</b>: 12<br>\n<b>Number of Optimization Parameters</b>: 12<br>\n<b>Updates</b>: True<br>\n</p>\n<style type=\"text/css\">\n.tg  {font-family:\"Courier New\", Courier, monospace !important;padding:2px 3px;word-break:normal;border-collapse:collapse;border-spacing:0;border-color:#DCDCDC;margin:0px auto;width:100%;}\n.tg td{font-family:\"Courier New\", Courier, monospace !important;font-weight:bold;color:#444;background-color:#F7FDFA;border-style:solid;border-width:1px;overflow:hidden;word-break:normal;border-color:#DCDCDC;}\n.tg th{font-family:\"Courier New\", Courier, monospace !important;font-weight:normal;color:#fff;background-color:#26ADE4;border-style:solid;border-width:1px;overflow:hidden;word-break:normal;border-color:#DCDCDC;}\n.tg .tg-left{font-family:\"Courier New\", Courier, monospace !important;font-weight:normal;text-align:left;}\n.tg .tg-center{font-family:\"Courier New\", Courier, monospace !important;font-weight:normal;text-align:center;}\n.tg .tg-right{font-family:\"Courier New\", Courier, monospace !important;font-weight:normal;text-align:right;}\n</style>\n<table class=\"tg\"><tr><th><b>  GP_regression.         </b></th><th><b>              value</b></th><th><b>constraints</b></th><th><b>priors</b></th></tr>\n<tr><td class=tg-left>  constmap.C             </td><td class=tg-right>  5.716364366751028</td><td class=tg-center>           </td><td class=tg-center>      </td></tr>\n<tr><td class=tg-left>  rbf.variance           </td><td class=tg-right> 14.073287255680233</td><td class=tg-center>    +ve    </td><td class=tg-center>      </td></tr>\n<tr><td class=tg-left>  rbf.lengthscale        </td><td class=tg-right>               (9,)</td><td class=tg-center>    +ve    </td><td class=tg-center>      </td></tr>\n<tr><td class=tg-left>  Gaussian_noise.variance</td><td class=tg-right>0.17264154808623064</td><td class=tg-center>    +ve    </td><td class=tg-center>      </td></tr>\n</table>"
      }
     },
     "b93ff61c1668454e9a9e3a176803f201": {
      "model_module": "@jupyter-widgets/controls",
      "model_module_version": "1.5.0",
      "model_name": "DescriptionStyleModel",
      "state": {
       "description_width": ""
      }
     },
     "ba11045ebcf145fdb727444a1cd5a7b8": {
      "model_module": "@jupyter-widgets/base",
      "model_module_version": "1.2.0",
      "model_name": "LayoutModel",
      "state": {}
     },
     "ba21f02f1bbc4c0aa510ba7592e12c0e": {
      "model_module": "@jupyter-widgets/base",
      "model_module_version": "1.2.0",
      "model_name": "LayoutModel",
      "state": {}
     },
     "ba54e3a1ae3048fdaf7bbb976763a003": {
      "model_module": "@jupyter-widgets/base",
      "model_module_version": "1.2.0",
      "model_name": "LayoutModel",
      "state": {}
     },
     "bb0ec7221a214ec09ba23debe7af82b2": {
      "model_module": "@jupyter-widgets/base",
      "model_module_version": "1.2.0",
      "model_name": "LayoutModel",
      "state": {}
     },
     "bba0de05e5a641188151e1ed9cb1a7bb": {
      "model_module": "@jupyter-widgets/controls",
      "model_module_version": "1.5.0",
      "model_name": "HTMLModel",
      "state": {
       "layout": "IPY_MODEL_a86739c0ddb3487ab33ee1535e10d4d8",
       "style": "IPY_MODEL_d00cb49e83934d2ab11bc6534e64fdad",
       "value": "<style type=\"text/css\">\n    .tg-opt  {font-family:\"Courier New\", Courier, monospace !important;padding:2px 3px;word-break:normal;border-collapse:collapse;border-spacing:0;border-color:#DCDCDC;margin:0px auto;width:100%;}\n    .tg-opt td{font-family:\"Courier New\", Courier, monospace !important;font-weight:bold;color:#444;background-color:#F7FDFA;border-style:solid;border-width:1px;overflow:hidden;word-break:normal;border-color:#DCDCDC;}\n    .tg-opt th{font-family:\"Courier New\", Courier, monospace !important;font-weight:normal;color:#fff;background-color:#26ADE4;border-style:solid;border-width:1px;overflow:hidden;word-break:normal;border-color:#DCDCDC;}\n    .tg-opt .tg-left{font-family:\"Courier New\", Courier, monospace !important;font-weight:normal;text-align:left;}\n    .tg-opt .tg-right{font-family:\"Courier New\", Courier, monospace !important;font-weight:normal;text-align:right;}\n    </style>\n    <table class=\"tg-opt\"><tr><td class='tg-left'>optimizer</td><td class='tg-right'>L-BFGS-B (Scipy implementation)</td></tr><tr><td class='tg-left'>runtime</td><td class='tg-right'>00s29</td></tr><tr><td class='tg-left'>evaluation</td><td class='tg-right'>0041</td></tr><tr><td class='tg-left'>objective</td><td class='tg-right'>   9.389E+01</td></tr><tr><td class='tg-left'>||gradient||</td><td class='tg-right'>  +9.352E-08</td></tr><tr><td class='tg-left'>status</td><td class='tg-right'>Converged</td></tr></table>"
      }
     },
     "bc384f565756433a96173f4dd6d7fd1a": {
      "model_module": "@jupyter-widgets/controls",
      "model_module_version": "1.5.0",
      "model_name": "IntProgressModel",
      "state": {
       "bar_style": "success",
       "layout": "IPY_MODEL_87da9fcc605e4bd1b043d77ae30ed9b7",
       "max": 1000,
       "style": "IPY_MODEL_ee50f2376f1043769c841c60c54e9865",
       "value": 168
      }
     },
     "bc42dd3ba9894fc0b483a6b2495fe774": {
      "model_module": "@jupyter-widgets/base",
      "model_module_version": "1.2.0",
      "model_name": "LayoutModel",
      "state": {}
     },
     "bc705eaf220545bc89d1a4c5a637ad60": {
      "model_module": "@jupyter-widgets/controls",
      "model_module_version": "1.5.0",
      "model_name": "DescriptionStyleModel",
      "state": {
       "description_width": ""
      }
     },
     "bc95b347ec0d401dae6c90a668680057": {
      "model_module": "@jupyter-widgets/controls",
      "model_module_version": "1.5.0",
      "model_name": "HTMLModel",
      "state": {
       "layout": "IPY_MODEL_bc42dd3ba9894fc0b483a6b2495fe774",
       "style": "IPY_MODEL_dacba6c67a804983bd153b9503effffb",
       "value": "<style type=\"text/css\">\n    .tg-opt  {font-family:\"Courier New\", Courier, monospace !important;padding:2px 3px;word-break:normal;border-collapse:collapse;border-spacing:0;border-color:#DCDCDC;margin:0px auto;width:100%;}\n    .tg-opt td{font-family:\"Courier New\", Courier, monospace !important;font-weight:bold;color:#444;background-color:#F7FDFA;border-style:solid;border-width:1px;overflow:hidden;word-break:normal;border-color:#DCDCDC;}\n    .tg-opt th{font-family:\"Courier New\", Courier, monospace !important;font-weight:normal;color:#fff;background-color:#26ADE4;border-style:solid;border-width:1px;overflow:hidden;word-break:normal;border-color:#DCDCDC;}\n    .tg-opt .tg-left{font-family:\"Courier New\", Courier, monospace !important;font-weight:normal;text-align:left;}\n    .tg-opt .tg-right{font-family:\"Courier New\", Courier, monospace !important;font-weight:normal;text-align:right;}\n    </style>\n    <table class=\"tg-opt\"><tr><td class='tg-left'>optimizer</td><td class='tg-right'>L-BFGS-B (Scipy implementation)</td></tr><tr><td class='tg-left'>runtime</td><td class='tg-right'>00s26</td></tr><tr><td class='tg-left'>evaluation</td><td class='tg-right'>0038</td></tr><tr><td class='tg-left'>objective</td><td class='tg-right'>   9.178E+01</td></tr><tr><td class='tg-left'>||gradient||</td><td class='tg-right'>  +1.630E-06</td></tr><tr><td class='tg-left'>status</td><td class='tg-right'>Converged</td></tr></table>"
      }
     },
     "bc9815cafd804936b151d662bbca4e8f": {
      "model_module": "@jupyter-widgets/controls",
      "model_module_version": "1.5.0",
      "model_name": "DescriptionStyleModel",
      "state": {
       "description_width": ""
      }
     },
     "bdfaaa4f415c4e53882590ca8ef8241e": {
      "model_module": "@jupyter-widgets/controls",
      "model_module_version": "1.5.0",
      "model_name": "BoxModel",
      "state": {
       "children": [
        "IPY_MODEL_b20f9f4ecb714f38891c484a5ca7a057"
       ],
       "layout": "IPY_MODEL_4d778f815e1749c28b10f05b550e954a"
      }
     },
     "be00f4d00a6940f1a31a4b6ce3901c39": {
      "model_module": "@jupyter-widgets/controls",
      "model_module_version": "1.5.0",
      "model_name": "VBoxModel",
      "state": {
       "children": [
        "IPY_MODEL_7a6be03b8abb4e98a25129199415d28a",
        "IPY_MODEL_ed802a588351464199d95650c8c48adc"
       ],
       "layout": "IPY_MODEL_a4a08315e883433a83a9343277e66666"
      }
     },
     "be112a54351c4196af1b1d3cc4c64152": {
      "model_module": "@jupyter-widgets/controls",
      "model_module_version": "1.5.0",
      "model_name": "BoxModel",
      "state": {
       "children": [
        "IPY_MODEL_5a009b1a6e2e4de9b41cc4c0531060b0"
       ],
       "layout": "IPY_MODEL_0e2e03256c11488d9b736e633b32bab4"
      }
     },
     "be366c9a153d44e6a84c9a7e41c76bb3": {
      "model_module": "@jupyter-widgets/controls",
      "model_module_version": "1.5.0",
      "model_name": "HBoxModel",
      "state": {
       "children": [
        "IPY_MODEL_c8cb8a5cb84341218189f5419ce8f74c",
        "IPY_MODEL_54460d706fbb4d149af5b95c41793b89"
       ],
       "layout": "IPY_MODEL_8ccc9daa3cdb4a19a41fe3d1ec258b19"
      }
     },
     "be3fc45aec1d482a98ad6984d094dd76": {
      "model_module": "@jupyter-widgets/controls",
      "model_module_version": "1.5.0",
      "model_name": "ProgressStyleModel",
      "state": {
       "description_width": ""
      }
     },
     "bf0980dd59ff4016b426f06ea4e53d23": {
      "model_module": "@jupyter-widgets/controls",
      "model_module_version": "1.5.0",
      "model_name": "HTMLModel",
      "state": {
       "layout": "IPY_MODEL_e1ac12ced5ab42bbbc7b38c189691447",
       "style": "IPY_MODEL_ca7ddb6b6e9847a2b1a243d46dcf7f3a",
       "value": "<style type=\"text/css\">\n    .tg-opt  {font-family:\"Courier New\", Courier, monospace !important;padding:2px 3px;word-break:normal;border-collapse:collapse;border-spacing:0;border-color:#DCDCDC;margin:0px auto;width:100%;}\n    .tg-opt td{font-family:\"Courier New\", Courier, monospace !important;font-weight:bold;color:#444;background-color:#F7FDFA;border-style:solid;border-width:1px;overflow:hidden;word-break:normal;border-color:#DCDCDC;}\n    .tg-opt th{font-family:\"Courier New\", Courier, monospace !important;font-weight:normal;color:#fff;background-color:#26ADE4;border-style:solid;border-width:1px;overflow:hidden;word-break:normal;border-color:#DCDCDC;}\n    .tg-opt .tg-left{font-family:\"Courier New\", Courier, monospace !important;font-weight:normal;text-align:left;}\n    .tg-opt .tg-right{font-family:\"Courier New\", Courier, monospace !important;font-weight:normal;text-align:right;}\n    </style>\n    <table class=\"tg-opt\"><tr><td class='tg-left'>optimizer</td><td class='tg-right'>L-BFGS-B (Scipy implementation)</td></tr><tr><td class='tg-left'>runtime</td><td class='tg-right'>00s27</td></tr><tr><td class='tg-left'>evaluation</td><td class='tg-right'>0041</td></tr><tr><td class='tg-left'>objective</td><td class='tg-right'>   9.019E+01</td></tr><tr><td class='tg-left'>||gradient||</td><td class='tg-right'>  +4.561E-08</td></tr><tr><td class='tg-left'>status</td><td class='tg-right'>Converged</td></tr></table>"
      }
     },
     "bf0b99e942fe4a27997b9a567e3abd74": {
      "model_module": "@jupyter-widgets/controls",
      "model_module_version": "1.5.0",
      "model_name": "IntProgressModel",
      "state": {
       "bar_style": "success",
       "layout": "IPY_MODEL_4e49d468fe9f447d935cb81a2e1f31b8",
       "max": 1000,
       "style": "IPY_MODEL_9f382e3adea741cea5c3fc385275da47",
       "value": 49
      }
     },
     "bf26af7c3dab4d90b782ec16f0e07847": {
      "model_module": "@jupyter-widgets/base",
      "model_module_version": "1.2.0",
      "model_name": "LayoutModel",
      "state": {}
     },
     "bf29a0c0054a41bb9e358cb78d98d79d": {
      "model_module": "@jupyter-widgets/base",
      "model_module_version": "1.2.0",
      "model_name": "LayoutModel",
      "state": {}
     },
     "bf44a35b4d0b4bf2b4759173b1ad176a": {
      "model_module": "@jupyter-widgets/controls",
      "model_module_version": "1.5.0",
      "model_name": "HTMLModel",
      "state": {
       "layout": "IPY_MODEL_7c931237a17e46b7af83e84f54794e20",
       "style": "IPY_MODEL_5a4dfc6832514d5aa8e9b643996848cb",
       "value": "<style type=\"text/css\">\n.pd{\n    font-family: \"Courier New\", Courier, monospace !important;\n    width: 100%;\n    padding: 3px;\n}\n</style>\n\n<p class=pd>\n<b>Model</b>: GP regression<br>\n<b>Objective</b>: 90.1126341816032<br>\n<b>Number of Parameters</b>: 12<br>\n<b>Number of Optimization Parameters</b>: 12<br>\n<b>Updates</b>: True<br>\n</p>\n<style type=\"text/css\">\n.tg  {font-family:\"Courier New\", Courier, monospace !important;padding:2px 3px;word-break:normal;border-collapse:collapse;border-spacing:0;border-color:#DCDCDC;margin:0px auto;width:100%;}\n.tg td{font-family:\"Courier New\", Courier, monospace !important;font-weight:bold;color:#444;background-color:#F7FDFA;border-style:solid;border-width:1px;overflow:hidden;word-break:normal;border-color:#DCDCDC;}\n.tg th{font-family:\"Courier New\", Courier, monospace !important;font-weight:normal;color:#fff;background-color:#26ADE4;border-style:solid;border-width:1px;overflow:hidden;word-break:normal;border-color:#DCDCDC;}\n.tg .tg-left{font-family:\"Courier New\", Courier, monospace !important;font-weight:normal;text-align:left;}\n.tg .tg-center{font-family:\"Courier New\", Courier, monospace !important;font-weight:normal;text-align:center;}\n.tg .tg-right{font-family:\"Courier New\", Courier, monospace !important;font-weight:normal;text-align:right;}\n</style>\n<table class=\"tg\"><tr><th><b>  GP_regression.         </b></th><th><b>             value</b></th><th><b>constraints</b></th><th><b>priors</b></th></tr>\n<tr><td class=tg-left>  constmap.C             </td><td class=tg-right> 5.116242783317152</td><td class=tg-center>           </td><td class=tg-center>      </td></tr>\n<tr><td class=tg-left>  rbf.variance           </td><td class=tg-right>14.293211546024944</td><td class=tg-center>    +ve    </td><td class=tg-center>      </td></tr>\n<tr><td class=tg-left>  rbf.lengthscale        </td><td class=tg-right>              (9,)</td><td class=tg-center>    +ve    </td><td class=tg-center>      </td></tr>\n<tr><td class=tg-left>  Gaussian_noise.variance</td><td class=tg-right>0.1562483877357645</td><td class=tg-center>    +ve    </td><td class=tg-center>      </td></tr>\n</table>"
      }
     },
     "bfe2bf7537014e058b370b2a3e38b854": {
      "model_module": "@jupyter-widgets/base",
      "model_module_version": "1.2.0",
      "model_name": "LayoutModel",
      "state": {}
     },
     "bff1a8035ad3466ab7c7a445b223dbda": {
      "model_module": "@jupyter-widgets/controls",
      "model_module_version": "1.5.0",
      "model_name": "BoxModel",
      "state": {
       "children": [
        "IPY_MODEL_ce31a270a45a4f36a5b06c749e294d1e"
       ],
       "layout": "IPY_MODEL_dcfcc0f8e6fd4b55b395a29e7c083047"
      }
     },
     "c0160fa8a1ba4997bee6807c26371b31": {
      "model_module": "@jupyter-widgets/base",
      "model_module_version": "1.2.0",
      "model_name": "LayoutModel",
      "state": {}
     },
     "c05932377d9d4839be11ad4994e13d7b": {
      "model_module": "@jupyter-widgets/controls",
      "model_module_version": "1.5.0",
      "model_name": "DescriptionStyleModel",
      "state": {
       "description_width": ""
      }
     },
     "c070627853344bf38012b4f79a20485c": {
      "model_module": "@jupyter-widgets/base",
      "model_module_version": "1.2.0",
      "model_name": "LayoutModel",
      "state": {}
     },
     "c0ef995292b249c1a14a6fa0bfea20fb": {
      "model_module": "@jupyter-widgets/base",
      "model_module_version": "1.2.0",
      "model_name": "LayoutModel",
      "state": {}
     },
     "c109d9df0ad64ef0824ed4f3470b1f03": {
      "model_module": "@jupyter-widgets/controls",
      "model_module_version": "1.5.0",
      "model_name": "BoxModel",
      "state": {
       "children": [
        "IPY_MODEL_5abbbce52a8244e88160ae99f4e13bad"
       ],
       "layout": "IPY_MODEL_f9c7c111c8f54043b43505e40b0b8a74"
      }
     },
     "c1102959ade6468dba28eb4e17b26ce8": {
      "model_module": "@jupyter-widgets/controls",
      "model_module_version": "1.5.0",
      "model_name": "VBoxModel",
      "state": {
       "children": [
        "IPY_MODEL_84438d7446d44fe0ad1eb416e6a708f0",
        "IPY_MODEL_acad565720e841f0af936f289a03c8af"
       ],
       "layout": "IPY_MODEL_6eab9171014f43ec84ede9c96b663d39"
      }
     },
     "c14d51a37a06416fb2b0a2f82bdc655a": {
      "model_module": "@jupyter-widgets/base",
      "model_module_version": "1.2.0",
      "model_name": "LayoutModel",
      "state": {}
     },
     "c1dfd488375748bab45bb669214d78d3": {
      "model_module": "@jupyter-widgets/controls",
      "model_module_version": "1.5.0",
      "model_name": "DescriptionStyleModel",
      "state": {
       "description_width": ""
      }
     },
     "c2b97be145a44465b1c5f378908d9d21": {
      "model_module": "@jupyter-widgets/controls",
      "model_module_version": "1.5.0",
      "model_name": "BoxModel",
      "state": {
       "children": [
        "IPY_MODEL_a0233ebbb126493d8f485a15fbfcef38"
       ],
       "layout": "IPY_MODEL_550a3cf203184f45869c2460a13be43d"
      }
     },
     "c2c9e0bffd3e47629e5dd41f6ceb5f34": {
      "model_module": "@jupyter-widgets/base",
      "model_module_version": "1.2.0",
      "model_name": "LayoutModel",
      "state": {}
     },
     "c35e060d85ee4ec38171094297337716": {
      "model_module": "@jupyter-widgets/controls",
      "model_module_version": "1.5.0",
      "model_name": "DescriptionStyleModel",
      "state": {
       "description_width": ""
      }
     },
     "c3ce8bcaa28440208d144c2741dc1e62": {
      "model_module": "@jupyter-widgets/controls",
      "model_module_version": "1.5.0",
      "model_name": "IntProgressModel",
      "state": {
       "bar_style": "success",
       "layout": "IPY_MODEL_483de9ac76ab4e4eae29423a3a2126da",
       "max": 1000,
       "style": "IPY_MODEL_d71c1bf8dee54212ad9d426ccd22bc28",
       "value": 47
      }
     },
     "c3eac6dda08d4393829011ef5495c400": {
      "model_module": "@jupyter-widgets/controls",
      "model_module_version": "1.5.0",
      "model_name": "HBoxModel",
      "state": {
       "children": [
        "IPY_MODEL_c1102959ade6468dba28eb4e17b26ce8",
        "IPY_MODEL_6012afcdb8794dc7857e17eab2a964dc"
       ],
       "layout": "IPY_MODEL_ed1ee249a0164a6ea5692a0092014dd2"
      }
     },
     "c40ac9246a5a43d1ac13967f73654dce": {
      "model_module": "@jupyter-widgets/controls",
      "model_module_version": "1.5.0",
      "model_name": "VBoxModel",
      "state": {
       "children": [
        "IPY_MODEL_f036e72762314114a2fc41744a1e1ef4",
        "IPY_MODEL_925af901f09d4568bc2bd6d2c0bab2a8"
       ],
       "layout": "IPY_MODEL_4276be52f1fd44d7aad37ecdc43353e1"
      }
     },
     "c45d88ef4a73487485107e32c3304f39": {
      "model_module": "@jupyter-widgets/base",
      "model_module_version": "1.2.0",
      "model_name": "LayoutModel",
      "state": {}
     },
     "c5106d18b3e74c35a1ac45ee1fabafcf": {
      "model_module": "@jupyter-widgets/base",
      "model_module_version": "1.2.0",
      "model_name": "LayoutModel",
      "state": {}
     },
     "c51af35bd32e4abd959fa48b45bb12c2": {
      "model_module": "@jupyter-widgets/controls",
      "model_module_version": "1.5.0",
      "model_name": "IntProgressModel",
      "state": {
       "bar_style": "success",
       "layout": "IPY_MODEL_a855d69d8cb5460e86a734d6434cc64e",
       "max": 1000,
       "style": "IPY_MODEL_4295cb6aeaaa49de94c548a29782975d",
       "value": 46
      }
     },
     "c56d7721befe47f8a352565326ff0715": {
      "model_module": "@jupyter-widgets/controls",
      "model_module_version": "1.5.0",
      "model_name": "HBoxModel",
      "state": {
       "children": [
        "IPY_MODEL_948f44f003ca496d974334a811a8e1a0",
        "IPY_MODEL_07237d952a8d466bbf2bebf75d3c5509"
       ],
       "layout": "IPY_MODEL_3382820e9c004deebb153bf10555d712"
      }
     },
     "c5c9444f80dd421f86a7ef3523678a79": {
      "model_module": "@jupyter-widgets/controls",
      "model_module_version": "1.5.0",
      "model_name": "HTMLModel",
      "state": {
       "layout": "IPY_MODEL_087240d12e64483e815dce37c04a00cc",
       "style": "IPY_MODEL_2f77b9bbeed64df2b7cc766288e5bbac",
       "value": "<style type=\"text/css\">\n    .tg-opt  {font-family:\"Courier New\", Courier, monospace !important;padding:2px 3px;word-break:normal;border-collapse:collapse;border-spacing:0;border-color:#DCDCDC;margin:0px auto;width:100%;}\n    .tg-opt td{font-family:\"Courier New\", Courier, monospace !important;font-weight:bold;color:#444;background-color:#F7FDFA;border-style:solid;border-width:1px;overflow:hidden;word-break:normal;border-color:#DCDCDC;}\n    .tg-opt th{font-family:\"Courier New\", Courier, monospace !important;font-weight:normal;color:#fff;background-color:#26ADE4;border-style:solid;border-width:1px;overflow:hidden;word-break:normal;border-color:#DCDCDC;}\n    .tg-opt .tg-left{font-family:\"Courier New\", Courier, monospace !important;font-weight:normal;text-align:left;}\n    .tg-opt .tg-right{font-family:\"Courier New\", Courier, monospace !important;font-weight:normal;text-align:right;}\n    </style>\n    <table class=\"tg-opt\"><tr><td class='tg-left'>optimizer</td><td class='tg-right'>L-BFGS-B (Scipy implementation)</td></tr><tr><td class='tg-left'>runtime</td><td class='tg-right'>00s27</td></tr><tr><td class='tg-left'>evaluation</td><td class='tg-right'>0041</td></tr><tr><td class='tg-left'>objective</td><td class='tg-right'>   9.019E+01</td></tr><tr><td class='tg-left'>||gradient||</td><td class='tg-right'>  +8.714E-07</td></tr><tr><td class='tg-left'>status</td><td class='tg-right'>Converged</td></tr></table>"
      }
     },
     "c5d3b77a81af49e4b1a8bb6e6f3b0c28": {
      "model_module": "@jupyter-widgets/controls",
      "model_module_version": "1.5.0",
      "model_name": "HTMLModel",
      "state": {
       "layout": "IPY_MODEL_598695366378411091b707e941367cf1",
       "style": "IPY_MODEL_f5d4e46c223a476da1844138ac7ceb84",
       "value": "<style type=\"text/css\">\n.pd{\n    font-family: \"Courier New\", Courier, monospace !important;\n    width: 100%;\n    padding: 3px;\n}\n</style>\n\n<p class=pd>\n<b>Model</b>: GP regression<br>\n<b>Objective</b>: 93.88657948628969<br>\n<b>Number of Parameters</b>: 12<br>\n<b>Number of Optimization Parameters</b>: 12<br>\n<b>Updates</b>: True<br>\n</p>\n<style type=\"text/css\">\n.tg  {font-family:\"Courier New\", Courier, monospace !important;padding:2px 3px;word-break:normal;border-collapse:collapse;border-spacing:0;border-color:#DCDCDC;margin:0px auto;width:100%;}\n.tg td{font-family:\"Courier New\", Courier, monospace !important;font-weight:bold;color:#444;background-color:#F7FDFA;border-style:solid;border-width:1px;overflow:hidden;word-break:normal;border-color:#DCDCDC;}\n.tg th{font-family:\"Courier New\", Courier, monospace !important;font-weight:normal;color:#fff;background-color:#26ADE4;border-style:solid;border-width:1px;overflow:hidden;word-break:normal;border-color:#DCDCDC;}\n.tg .tg-left{font-family:\"Courier New\", Courier, monospace !important;font-weight:normal;text-align:left;}\n.tg .tg-center{font-family:\"Courier New\", Courier, monospace !important;font-weight:normal;text-align:center;}\n.tg .tg-right{font-family:\"Courier New\", Courier, monospace !important;font-weight:normal;text-align:right;}\n</style>\n<table class=\"tg\"><tr><th><b>  GP_regression.         </b></th><th><b>             value</b></th><th><b>constraints</b></th><th><b>priors</b></th></tr>\n<tr><td class=tg-left>  constmap.C             </td><td class=tg-right> 4.925258106701061</td><td class=tg-center>           </td><td class=tg-center>      </td></tr>\n<tr><td class=tg-left>  rbf.variance           </td><td class=tg-right>15.054754427614615</td><td class=tg-center>    +ve    </td><td class=tg-center>      </td></tr>\n<tr><td class=tg-left>  rbf.lengthscale        </td><td class=tg-right>              (9,)</td><td class=tg-center>    +ve    </td><td class=tg-center>      </td></tr>\n<tr><td class=tg-left>  Gaussian_noise.variance</td><td class=tg-right>0.1632055722052718</td><td class=tg-center>    +ve    </td><td class=tg-center>      </td></tr>\n</table>"
      }
     },
     "c63a1ff9ce5346b5831f6f33bdbdde44": {
      "model_module": "@jupyter-widgets/base",
      "model_module_version": "1.2.0",
      "model_name": "LayoutModel",
      "state": {}
     },
     "c698e3d57bdf4aebb88d920d3986a18e": {
      "model_module": "@jupyter-widgets/controls",
      "model_module_version": "1.5.0",
      "model_name": "IntProgressModel",
      "state": {
       "bar_style": "success",
       "layout": "IPY_MODEL_6c1c42ec7acc4672b84887dde9d2986b",
       "max": 1000,
       "style": "IPY_MODEL_ed42e51b70c94c41b19d5228205378f1",
       "value": 46
      }
     },
     "c6b1ed87a5a84dda817130a3e070f2f3": {
      "model_module": "@jupyter-widgets/controls",
      "model_module_version": "1.5.0",
      "model_name": "HTMLModel",
      "state": {
       "layout": "IPY_MODEL_ae95f523488e4b7c8bf9d6831d465b31",
       "style": "IPY_MODEL_4322059c40074f3e8ec581d3acf2d9f1",
       "value": "<style type=\"text/css\">\n.pd{\n    font-family: \"Courier New\", Courier, monospace !important;\n    width: 100%;\n    padding: 3px;\n}\n</style>\n\n<p class=pd>\n<b>Model</b>: GP regression<br>\n<b>Objective</b>: 93.88657944707707<br>\n<b>Number of Parameters</b>: 12<br>\n<b>Number of Optimization Parameters</b>: 12<br>\n<b>Updates</b>: True<br>\n</p>\n<style type=\"text/css\">\n.tg  {font-family:\"Courier New\", Courier, monospace !important;padding:2px 3px;word-break:normal;border-collapse:collapse;border-spacing:0;border-color:#DCDCDC;margin:0px auto;width:100%;}\n.tg td{font-family:\"Courier New\", Courier, monospace !important;font-weight:bold;color:#444;background-color:#F7FDFA;border-style:solid;border-width:1px;overflow:hidden;word-break:normal;border-color:#DCDCDC;}\n.tg th{font-family:\"Courier New\", Courier, monospace !important;font-weight:normal;color:#fff;background-color:#26ADE4;border-style:solid;border-width:1px;overflow:hidden;word-break:normal;border-color:#DCDCDC;}\n.tg .tg-left{font-family:\"Courier New\", Courier, monospace !important;font-weight:normal;text-align:left;}\n.tg .tg-center{font-family:\"Courier New\", Courier, monospace !important;font-weight:normal;text-align:center;}\n.tg .tg-right{font-family:\"Courier New\", Courier, monospace !important;font-weight:normal;text-align:right;}\n</style>\n<table class=\"tg\"><tr><th><b>  GP_regression.         </b></th><th><b>              value</b></th><th><b>constraints</b></th><th><b>priors</b></th></tr>\n<tr><td class=tg-left>  constmap.C             </td><td class=tg-right>  4.925806184531551</td><td class=tg-center>           </td><td class=tg-center>      </td></tr>\n<tr><td class=tg-left>  rbf.variance           </td><td class=tg-right> 15.052504100819743</td><td class=tg-center>    +ve    </td><td class=tg-center>      </td></tr>\n<tr><td class=tg-left>  rbf.lengthscale        </td><td class=tg-right>               (9,)</td><td class=tg-center>    +ve    </td><td class=tg-center>      </td></tr>\n<tr><td class=tg-left>  Gaussian_noise.variance</td><td class=tg-right>0.16320793754029428</td><td class=tg-center>    +ve    </td><td class=tg-center>      </td></tr>\n</table>"
      }
     },
     "c726caac382c43d2bb316c5b815db112": {
      "model_module": "@jupyter-widgets/base",
      "model_module_version": "1.2.0",
      "model_name": "LayoutModel",
      "state": {}
     },
     "c76c233cb5a848cda38d1536d716f738": {
      "model_module": "@jupyter-widgets/controls",
      "model_module_version": "1.5.0",
      "model_name": "HBoxModel",
      "state": {
       "children": [
        "IPY_MODEL_5bb826f33d98463cb54c2584e261ab24",
        "IPY_MODEL_66fc28d8cefc4eb59193eeba76d72e55"
       ],
       "layout": "IPY_MODEL_1e51b92640284da5ab8faae0a32f4772"
      }
     },
     "c7af8e2dc6314f8f9512e8b947911de5": {
      "model_module": "@jupyter-widgets/controls",
      "model_module_version": "1.5.0",
      "model_name": "HTMLModel",
      "state": {
       "layout": "IPY_MODEL_28c77015e42143b8971d326420bb5280",
       "style": "IPY_MODEL_48ceaca97c8646f9a27028f1903a798b",
       "value": "<style type=\"text/css\">\n    .tg-opt  {font-family:\"Courier New\", Courier, monospace !important;padding:2px 3px;word-break:normal;border-collapse:collapse;border-spacing:0;border-color:#DCDCDC;margin:0px auto;width:100%;}\n    .tg-opt td{font-family:\"Courier New\", Courier, monospace !important;font-weight:bold;color:#444;background-color:#F7FDFA;border-style:solid;border-width:1px;overflow:hidden;word-break:normal;border-color:#DCDCDC;}\n    .tg-opt th{font-family:\"Courier New\", Courier, monospace !important;font-weight:normal;color:#fff;background-color:#26ADE4;border-style:solid;border-width:1px;overflow:hidden;word-break:normal;border-color:#DCDCDC;}\n    .tg-opt .tg-left{font-family:\"Courier New\", Courier, monospace !important;font-weight:normal;text-align:left;}\n    .tg-opt .tg-right{font-family:\"Courier New\", Courier, monospace !important;font-weight:normal;text-align:right;}\n    </style>\n    <table class=\"tg-opt\"><tr><td class='tg-left'>optimizer</td><td class='tg-right'>L-BFGS-B (Scipy implementation)</td></tr><tr><td class='tg-left'>runtime</td><td class='tg-right'>00s28</td></tr><tr><td class='tg-left'>evaluation</td><td class='tg-right'>0039</td></tr><tr><td class='tg-left'>objective</td><td class='tg-right'>   9.262E+01</td></tr><tr><td class='tg-left'>||gradient||</td><td class='tg-right'>  +4.003E-06</td></tr><tr><td class='tg-left'>status</td><td class='tg-right'>Converged</td></tr></table>"
      }
     },
     "c7eb1acbb6e944e28811261736951b75": {
      "model_module": "@jupyter-widgets/controls",
      "model_module_version": "1.5.0",
      "model_name": "ProgressStyleModel",
      "state": {
       "description_width": ""
      }
     },
     "c8074643c8ef43098372f1af3e9a7125": {
      "model_module": "@jupyter-widgets/controls",
      "model_module_version": "1.5.0",
      "model_name": "VBoxModel",
      "state": {
       "children": [
        "IPY_MODEL_ac525c15dbff426f9d55b5ca5d0a036d",
        "IPY_MODEL_dfdd36fd05474ddc998b953920e379f1"
       ],
       "layout": "IPY_MODEL_8fd763c3cd604f8d94b59142b2e82cdb"
      }
     },
     "c8241b040a414f989c5f5cbae2dc2444": {
      "model_module": "@jupyter-widgets/controls",
      "model_module_version": "1.5.0",
      "model_name": "HBoxModel",
      "state": {
       "children": [
        "IPY_MODEL_077c0034a7eb46aca2252e5178e48aee",
        "IPY_MODEL_ac7d28098ec84ef1914d043c94e8b9d3"
       ],
       "layout": "IPY_MODEL_c0ef995292b249c1a14a6fa0bfea20fb"
      }
     },
     "c87e8055bb9346c7aede2023d67b9abc": {
      "model_module": "@jupyter-widgets/controls",
      "model_module_version": "1.5.0",
      "model_name": "HBoxModel",
      "state": {
       "children": [
        "IPY_MODEL_c8074643c8ef43098372f1af3e9a7125",
        "IPY_MODEL_e692b8cc85644b84b4891a8f23375459"
       ],
       "layout": "IPY_MODEL_e0e84c1aea6744d09c0ac3607ef4c44c"
      }
     },
     "c8cb8a5cb84341218189f5419ce8f74c": {
      "model_module": "@jupyter-widgets/controls",
      "model_module_version": "1.5.0",
      "model_name": "VBoxModel",
      "state": {
       "children": [
        "IPY_MODEL_932ab9f399cb4bf681c3914f0d3f446b",
        "IPY_MODEL_60bb88c63652407992527732afca9960"
       ],
       "layout": "IPY_MODEL_dca996b535284fe5b8a14911194ffd97"
      }
     },
     "c8eb617bc6b5485cbeaac01522b4fbe9": {
      "model_module": "@jupyter-widgets/base",
      "model_module_version": "1.2.0",
      "model_name": "LayoutModel",
      "state": {}
     },
     "c906b2223825406ca4986733c253c696": {
      "model_module": "@jupyter-widgets/base",
      "model_module_version": "1.2.0",
      "model_name": "LayoutModel",
      "state": {}
     },
     "c909ad5be271465b9ea3ec2310cf03b0": {
      "model_module": "@jupyter-widgets/controls",
      "model_module_version": "1.5.0",
      "model_name": "ProgressStyleModel",
      "state": {
       "description_width": ""
      }
     },
     "c92d6abed0d94775b3dcd5d86a987fe0": {
      "model_module": "@jupyter-widgets/base",
      "model_module_version": "1.2.0",
      "model_name": "LayoutModel",
      "state": {}
     },
     "c960de2a89b745faa5be7ebb6c801047": {
      "model_module": "@jupyter-widgets/base",
      "model_module_version": "1.2.0",
      "model_name": "LayoutModel",
      "state": {}
     },
     "ca6cc080c8984494971ebb4ebf087c33": {
      "model_module": "@jupyter-widgets/base",
      "model_module_version": "1.2.0",
      "model_name": "LayoutModel",
      "state": {}
     },
     "ca7ddb6b6e9847a2b1a243d46dcf7f3a": {
      "model_module": "@jupyter-widgets/controls",
      "model_module_version": "1.5.0",
      "model_name": "DescriptionStyleModel",
      "state": {
       "description_width": ""
      }
     },
     "cc469305bab145df9e0f1f9052bda79b": {
      "model_module": "@jupyter-widgets/controls",
      "model_module_version": "1.5.0",
      "model_name": "BoxModel",
      "state": {
       "children": [
        "IPY_MODEL_ad301532abd84e128d1764c08097eba4"
       ],
       "layout": "IPY_MODEL_055b589f6e024c0fb45ad4de68ff55d6"
      }
     },
     "cc97186463f44c28bd8630bfecd671fa": {
      "model_module": "@jupyter-widgets/controls",
      "model_module_version": "1.5.0",
      "model_name": "HTMLModel",
      "state": {
       "layout": "IPY_MODEL_e89bd319a10b4a179ddf3ae29aab47a4",
       "style": "IPY_MODEL_43280b89ed7349efb3a5f77fb7e8953d",
       "value": "<style type=\"text/css\">\n    .tg-opt  {font-family:\"Courier New\", Courier, monospace !important;padding:2px 3px;word-break:normal;border-collapse:collapse;border-spacing:0;border-color:#DCDCDC;margin:0px auto;width:100%;}\n    .tg-opt td{font-family:\"Courier New\", Courier, monospace !important;font-weight:bold;color:#444;background-color:#F7FDFA;border-style:solid;border-width:1px;overflow:hidden;word-break:normal;border-color:#DCDCDC;}\n    .tg-opt th{font-family:\"Courier New\", Courier, monospace !important;font-weight:normal;color:#fff;background-color:#26ADE4;border-style:solid;border-width:1px;overflow:hidden;word-break:normal;border-color:#DCDCDC;}\n    .tg-opt .tg-left{font-family:\"Courier New\", Courier, monospace !important;font-weight:normal;text-align:left;}\n    .tg-opt .tg-right{font-family:\"Courier New\", Courier, monospace !important;font-weight:normal;text-align:right;}\n    </style>\n    <table class=\"tg-opt\"><tr><td class='tg-left'>optimizer</td><td class='tg-right'>L-BFGS-B (Scipy implementation)</td></tr><tr><td class='tg-left'>runtime</td><td class='tg-right'>00s24</td></tr><tr><td class='tg-left'>evaluation</td><td class='tg-right'>0032</td></tr><tr><td class='tg-left'>objective</td><td class='tg-right'>   9.218E+01</td></tr><tr><td class='tg-left'>||gradient||</td><td class='tg-right'>  +3.696E-07</td></tr><tr><td class='tg-left'>status</td><td class='tg-right'>Converged</td></tr></table>"
      }
     },
     "cc9db1ded6b443e4a6f4a76cea4780d0": {
      "model_module": "@jupyter-widgets/controls",
      "model_module_version": "1.5.0",
      "model_name": "DescriptionStyleModel",
      "state": {
       "description_width": ""
      }
     },
     "cd5efb0f14ed498aa1c41942ee80cbf7": {
      "model_module": "@jupyter-widgets/base",
      "model_module_version": "1.2.0",
      "model_name": "LayoutModel",
      "state": {}
     },
     "cd9e41d761ca40f2a360cb746b8bc7d8": {
      "model_module": "@jupyter-widgets/base",
      "model_module_version": "1.2.0",
      "model_name": "LayoutModel",
      "state": {}
     },
     "cdf88d613770476c98816b4d2ab715e9": {
      "model_module": "@jupyter-widgets/controls",
      "model_module_version": "1.5.0",
      "model_name": "DescriptionStyleModel",
      "state": {
       "description_width": ""
      }
     },
     "cdfd4fcce0814711bea64956623d9e34": {
      "model_module": "@jupyter-widgets/base",
      "model_module_version": "1.2.0",
      "model_name": "LayoutModel",
      "state": {}
     },
     "ce31a270a45a4f36a5b06c749e294d1e": {
      "model_module": "@jupyter-widgets/controls",
      "model_module_version": "1.5.0",
      "model_name": "HTMLModel",
      "state": {
       "layout": "IPY_MODEL_24f54034b5534c0eb16ddf1596488a7a",
       "style": "IPY_MODEL_d8a79f730a344abd96212e80298904e4",
       "value": "<style type=\"text/css\">\n.pd{\n    font-family: \"Courier New\", Courier, monospace !important;\n    width: 100%;\n    padding: 3px;\n}\n</style>\n\n<p class=pd>\n<b>Model</b>: GP regression<br>\n<b>Objective</b>: 91.60031692513374<br>\n<b>Number of Parameters</b>: 12<br>\n<b>Number of Optimization Parameters</b>: 12<br>\n<b>Updates</b>: True<br>\n</p>\n<style type=\"text/css\">\n.tg  {font-family:\"Courier New\", Courier, monospace !important;padding:2px 3px;word-break:normal;border-collapse:collapse;border-spacing:0;border-color:#DCDCDC;margin:0px auto;width:100%;}\n.tg td{font-family:\"Courier New\", Courier, monospace !important;font-weight:bold;color:#444;background-color:#F7FDFA;border-style:solid;border-width:1px;overflow:hidden;word-break:normal;border-color:#DCDCDC;}\n.tg th{font-family:\"Courier New\", Courier, monospace !important;font-weight:normal;color:#fff;background-color:#26ADE4;border-style:solid;border-width:1px;overflow:hidden;word-break:normal;border-color:#DCDCDC;}\n.tg .tg-left{font-family:\"Courier New\", Courier, monospace !important;font-weight:normal;text-align:left;}\n.tg .tg-center{font-family:\"Courier New\", Courier, monospace !important;font-weight:normal;text-align:center;}\n.tg .tg-right{font-family:\"Courier New\", Courier, monospace !important;font-weight:normal;text-align:right;}\n</style>\n<table class=\"tg\"><tr><th><b>  GP_regression.         </b></th><th><b>              value</b></th><th><b>constraints</b></th><th><b>priors</b></th></tr>\n<tr><td class=tg-left>  constmap.C             </td><td class=tg-right>  5.159426496242933</td><td class=tg-center>           </td><td class=tg-center>      </td></tr>\n<tr><td class=tg-left>  rbf.variance           </td><td class=tg-right> 14.395407427753783</td><td class=tg-center>    +ve    </td><td class=tg-center>      </td></tr>\n<tr><td class=tg-left>  rbf.lengthscale        </td><td class=tg-right>               (9,)</td><td class=tg-center>    +ve    </td><td class=tg-center>      </td></tr>\n<tr><td class=tg-left>  Gaussian_noise.variance</td><td class=tg-right>0.17155574205235263</td><td class=tg-center>    +ve    </td><td class=tg-center>      </td></tr>\n</table>"
      }
     },
     "cee90c29f40f47baaaf5a7454c39b471": {
      "model_module": "@jupyter-widgets/controls",
      "model_module_version": "1.5.0",
      "model_name": "ProgressStyleModel",
      "state": {
       "description_width": ""
      }
     },
     "ceef8f6b10c647b29e4be573d920a826": {
      "model_module": "@jupyter-widgets/base",
      "model_module_version": "1.2.0",
      "model_name": "LayoutModel",
      "state": {}
     },
     "cef05fb008fe42a68497641a54a37774": {
      "model_module": "@jupyter-widgets/controls",
      "model_module_version": "1.5.0",
      "model_name": "IntProgressModel",
      "state": {
       "bar_style": "success",
       "layout": "IPY_MODEL_cfc6e3c937b8477e837465e0795faa03",
       "max": 1000,
       "style": "IPY_MODEL_5186cf2a1eb14d5d95c6b2635c4c48e0",
       "value": 46
      }
     },
     "cf2cb918150f49d3977ebb1358a52c52": {
      "model_module": "@jupyter-widgets/controls",
      "model_module_version": "1.5.0",
      "model_name": "DescriptionStyleModel",
      "state": {
       "description_width": ""
      }
     },
     "cf93ce2cc09146f18957ab2b8ac56e12": {
      "model_module": "@jupyter-widgets/controls",
      "model_module_version": "1.5.0",
      "model_name": "DescriptionStyleModel",
      "state": {
       "description_width": ""
      }
     },
     "cfc6e3c937b8477e837465e0795faa03": {
      "model_module": "@jupyter-widgets/base",
      "model_module_version": "1.2.0",
      "model_name": "LayoutModel",
      "state": {}
     },
     "cfdfec76e03e47139d0acc5397c8e74e": {
      "model_module": "@jupyter-widgets/controls",
      "model_module_version": "1.5.0",
      "model_name": "DescriptionStyleModel",
      "state": {
       "description_width": ""
      }
     },
     "d00cb49e83934d2ab11bc6534e64fdad": {
      "model_module": "@jupyter-widgets/controls",
      "model_module_version": "1.5.0",
      "model_name": "DescriptionStyleModel",
      "state": {
       "description_width": ""
      }
     },
     "d074f1ee149c4e5abc1d5d765a264846": {
      "model_module": "@jupyter-widgets/controls",
      "model_module_version": "1.5.0",
      "model_name": "HTMLModel",
      "state": {
       "layout": "IPY_MODEL_65e7ce5bad2c445c8947924675cc1153",
       "style": "IPY_MODEL_cc9db1ded6b443e4a6f4a76cea4780d0",
       "value": "<style type=\"text/css\">\n    .tg-opt  {font-family:\"Courier New\", Courier, monospace !important;padding:2px 3px;word-break:normal;border-collapse:collapse;border-spacing:0;border-color:#DCDCDC;margin:0px auto;width:100%;}\n    .tg-opt td{font-family:\"Courier New\", Courier, monospace !important;font-weight:bold;color:#444;background-color:#F7FDFA;border-style:solid;border-width:1px;overflow:hidden;word-break:normal;border-color:#DCDCDC;}\n    .tg-opt th{font-family:\"Courier New\", Courier, monospace !important;font-weight:normal;color:#fff;background-color:#26ADE4;border-style:solid;border-width:1px;overflow:hidden;word-break:normal;border-color:#DCDCDC;}\n    .tg-opt .tg-left{font-family:\"Courier New\", Courier, monospace !important;font-weight:normal;text-align:left;}\n    .tg-opt .tg-right{font-family:\"Courier New\", Courier, monospace !important;font-weight:normal;text-align:right;}\n    </style>\n    <table class=\"tg-opt\"><tr><td class='tg-left'>optimizer</td><td class='tg-right'>L-BFGS-B (Scipy implementation)</td></tr><tr><td class='tg-left'>runtime</td><td class='tg-right'>00s32</td></tr><tr><td class='tg-left'>evaluation</td><td class='tg-right'>0050</td></tr><tr><td class='tg-left'>objective</td><td class='tg-right'>   9.018E+01</td></tr><tr><td class='tg-left'>||gradient||</td><td class='tg-right'>  +3.419E-07</td></tr><tr><td class='tg-left'>status</td><td class='tg-right'>Converged</td></tr></table>"
      }
     },
     "d0b89fdbbd45484e829ebca76b51a6fd": {
      "model_module": "@jupyter-widgets/base",
      "model_module_version": "1.2.0",
      "model_name": "LayoutModel",
      "state": {}
     },
     "d1db8ebf84b847b28d06a46cd7d98945": {
      "model_module": "@jupyter-widgets/controls",
      "model_module_version": "1.5.0",
      "model_name": "HTMLModel",
      "state": {
       "layout": "IPY_MODEL_6e3c440cfece47b3b2af78c6e6ff29d4",
       "style": "IPY_MODEL_62d6b3e2068d4ca3bfbf764586d3dcb7",
       "value": "<style type=\"text/css\">\n    .tg-opt  {font-family:\"Courier New\", Courier, monospace !important;padding:2px 3px;word-break:normal;border-collapse:collapse;border-spacing:0;border-color:#DCDCDC;margin:0px auto;width:100%;}\n    .tg-opt td{font-family:\"Courier New\", Courier, monospace !important;font-weight:bold;color:#444;background-color:#F7FDFA;border-style:solid;border-width:1px;overflow:hidden;word-break:normal;border-color:#DCDCDC;}\n    .tg-opt th{font-family:\"Courier New\", Courier, monospace !important;font-weight:normal;color:#fff;background-color:#26ADE4;border-style:solid;border-width:1px;overflow:hidden;word-break:normal;border-color:#DCDCDC;}\n    .tg-opt .tg-left{font-family:\"Courier New\", Courier, monospace !important;font-weight:normal;text-align:left;}\n    .tg-opt .tg-right{font-family:\"Courier New\", Courier, monospace !important;font-weight:normal;text-align:right;}\n    </style>\n    <table class=\"tg-opt\"><tr><td class='tg-left'>optimizer</td><td class='tg-right'>L-BFGS-B (Scipy implementation)</td></tr><tr><td class='tg-left'>runtime</td><td class='tg-right'>00s28</td></tr><tr><td class='tg-left'>evaluation</td><td class='tg-right'>0038</td></tr><tr><td class='tg-left'>objective</td><td class='tg-right'>   9.197E+01</td></tr><tr><td class='tg-left'>||gradient||</td><td class='tg-right'>  +2.845E-06</td></tr><tr><td class='tg-left'>status</td><td class='tg-right'>Converged</td></tr></table>"
      }
     },
     "d1e04ed0b65047b1b87c86437249d2b8": {
      "model_module": "@jupyter-widgets/base",
      "model_module_version": "1.2.0",
      "model_name": "LayoutModel",
      "state": {}
     },
     "d23cf0794fbd48ecb6063fc44ba743c4": {
      "model_module": "@jupyter-widgets/controls",
      "model_module_version": "1.5.0",
      "model_name": "HTMLModel",
      "state": {
       "layout": "IPY_MODEL_8f7b8a35869b41dcac73e39ecfd12027",
       "style": "IPY_MODEL_4ade21effba74188b73dd171cf2057c3",
       "value": "<style type=\"text/css\">\n    .tg-opt  {font-family:\"Courier New\", Courier, monospace !important;padding:2px 3px;word-break:normal;border-collapse:collapse;border-spacing:0;border-color:#DCDCDC;margin:0px auto;width:100%;}\n    .tg-opt td{font-family:\"Courier New\", Courier, monospace !important;font-weight:bold;color:#444;background-color:#F7FDFA;border-style:solid;border-width:1px;overflow:hidden;word-break:normal;border-color:#DCDCDC;}\n    .tg-opt th{font-family:\"Courier New\", Courier, monospace !important;font-weight:normal;color:#fff;background-color:#26ADE4;border-style:solid;border-width:1px;overflow:hidden;word-break:normal;border-color:#DCDCDC;}\n    .tg-opt .tg-left{font-family:\"Courier New\", Courier, monospace !important;font-weight:normal;text-align:left;}\n    .tg-opt .tg-right{font-family:\"Courier New\", Courier, monospace !important;font-weight:normal;text-align:right;}\n    </style>\n    <table class=\"tg-opt\"><tr><td class='tg-left'>optimizer</td><td class='tg-right'>L-BFGS-B (Scipy implementation)</td></tr><tr><td class='tg-left'>runtime</td><td class='tg-right'>00s33</td></tr><tr><td class='tg-left'>evaluation</td><td class='tg-right'>0052</td></tr><tr><td class='tg-left'>objective</td><td class='tg-right'>   9.068E+01</td></tr><tr><td class='tg-left'>||gradient||</td><td class='tg-right'>  +1.111E-06</td></tr><tr><td class='tg-left'>status</td><td class='tg-right'>Converged</td></tr></table>"
      }
     },
     "d247c1d925914005b0c2397e5393a8b3": {
      "model_module": "@jupyter-widgets/controls",
      "model_module_version": "1.5.0",
      "model_name": "DescriptionStyleModel",
      "state": {
       "description_width": ""
      }
     },
     "d2b5e2f665924d669f5f801f17c04eae": {
      "model_module": "@jupyter-widgets/controls",
      "model_module_version": "1.5.0",
      "model_name": "VBoxModel",
      "state": {
       "children": [
        "IPY_MODEL_5e1a14dd0dda4fbba919b670a16c7f38",
        "IPY_MODEL_3558694943624c05a75275fbe1ecbdb1"
       ],
       "layout": "IPY_MODEL_f65334542ce94085900a1f99642c5843"
      }
     },
     "d2fea8c1af5341c39324e27aa47c883b": {
      "model_module": "@jupyter-widgets/base",
      "model_module_version": "1.2.0",
      "model_name": "LayoutModel",
      "state": {}
     },
     "d33755026df34bf3b2bb71117e0d8be9": {
      "model_module": "@jupyter-widgets/controls",
      "model_module_version": "1.5.0",
      "model_name": "ProgressStyleModel",
      "state": {
       "description_width": ""
      }
     },
     "d40db3660f714be9a47273ba2bbe47cc": {
      "model_module": "@jupyter-widgets/base",
      "model_module_version": "1.2.0",
      "model_name": "LayoutModel",
      "state": {}
     },
     "d47f84f6fcad4065be8c043324255412": {
      "model_module": "@jupyter-widgets/base",
      "model_module_version": "1.2.0",
      "model_name": "LayoutModel",
      "state": {}
     },
     "d491b72aac814a5d9ebeed203e7b81f9": {
      "model_module": "@jupyter-widgets/controls",
      "model_module_version": "1.5.0",
      "model_name": "BoxModel",
      "state": {
       "children": [
        "IPY_MODEL_b46fe201f1074808ac2bb35b11eb94ca"
       ],
       "layout": "IPY_MODEL_6e0e91bc78ae475fba5738ce6061d33a"
      }
     },
     "d54fcf9e138348d59b5dceb92598b7a6": {
      "model_module": "@jupyter-widgets/base",
      "model_module_version": "1.2.0",
      "model_name": "LayoutModel",
      "state": {}
     },
     "d5e65430aafb476b878af7d463def21e": {
      "model_module": "@jupyter-widgets/controls",
      "model_module_version": "1.5.0",
      "model_name": "BoxModel",
      "state": {
       "children": [
        "IPY_MODEL_0aeb561bb9bf44f389d842b089eff558"
       ],
       "layout": "IPY_MODEL_09c771c99200486783f9057b0ea7ec2b"
      }
     },
     "d60647e215c24896aa626056e593ed44": {
      "model_module": "@jupyter-widgets/controls",
      "model_module_version": "1.5.0",
      "model_name": "HTMLModel",
      "state": {
       "layout": "IPY_MODEL_07796cd4d0a54b98aabea913640c15f4",
       "style": "IPY_MODEL_7152ad4bce6142e0b018370b3143b6cb",
       "value": "<style type=\"text/css\">\n    .tg-opt  {font-family:\"Courier New\", Courier, monospace !important;padding:2px 3px;word-break:normal;border-collapse:collapse;border-spacing:0;border-color:#DCDCDC;margin:0px auto;width:100%;}\n    .tg-opt td{font-family:\"Courier New\", Courier, monospace !important;font-weight:bold;color:#444;background-color:#F7FDFA;border-style:solid;border-width:1px;overflow:hidden;word-break:normal;border-color:#DCDCDC;}\n    .tg-opt th{font-family:\"Courier New\", Courier, monospace !important;font-weight:normal;color:#fff;background-color:#26ADE4;border-style:solid;border-width:1px;overflow:hidden;word-break:normal;border-color:#DCDCDC;}\n    .tg-opt .tg-left{font-family:\"Courier New\", Courier, monospace !important;font-weight:normal;text-align:left;}\n    .tg-opt .tg-right{font-family:\"Courier New\", Courier, monospace !important;font-weight:normal;text-align:right;}\n    </style>\n    <table class=\"tg-opt\"><tr><td class='tg-left'>optimizer</td><td class='tg-right'>L-BFGS-B (Scipy implementation)</td></tr><tr><td class='tg-left'>runtime</td><td class='tg-right'>00s24</td></tr><tr><td class='tg-left'>evaluation</td><td class='tg-right'>0033</td></tr><tr><td class='tg-left'>objective</td><td class='tg-right'>   9.128E+01</td></tr><tr><td class='tg-left'>||gradient||</td><td class='tg-right'>  +2.747E-07</td></tr><tr><td class='tg-left'>status</td><td class='tg-right'>Converged</td></tr></table>"
      }
     },
     "d64bbad9ae794f369a6ce77eb10a97c7": {
      "model_module": "@jupyter-widgets/base",
      "model_module_version": "1.2.0",
      "model_name": "LayoutModel",
      "state": {}
     },
     "d656e573ad994dbd93fa478d29736d93": {
      "model_module": "@jupyter-widgets/controls",
      "model_module_version": "1.5.0",
      "model_name": "HBoxModel",
      "state": {
       "children": [
        "IPY_MODEL_fa3e7fff8a1f48a1be8e5dada9d8d85a",
        "IPY_MODEL_b6857097fbb9469f9b31805878707d29"
       ],
       "layout": "IPY_MODEL_730c91d6a3a54314a13f304d3fda3078"
      }
     },
     "d6b3d3e5f14a4b82ab3ba9b06cca9507": {
      "model_module": "@jupyter-widgets/controls",
      "model_module_version": "1.5.0",
      "model_name": "DescriptionStyleModel",
      "state": {
       "description_width": ""
      }
     },
     "d6e421caebed4d3ca60318cd89299a17": {
      "model_module": "@jupyter-widgets/base",
      "model_module_version": "1.2.0",
      "model_name": "LayoutModel",
      "state": {}
     },
     "d71c1bf8dee54212ad9d426ccd22bc28": {
      "model_module": "@jupyter-widgets/controls",
      "model_module_version": "1.5.0",
      "model_name": "ProgressStyleModel",
      "state": {
       "description_width": ""
      }
     },
     "d83673b337e7463489b5d95076728e0b": {
      "model_module": "@jupyter-widgets/base",
      "model_module_version": "1.2.0",
      "model_name": "LayoutModel",
      "state": {}
     },
     "d8a79f730a344abd96212e80298904e4": {
      "model_module": "@jupyter-widgets/controls",
      "model_module_version": "1.5.0",
      "model_name": "DescriptionStyleModel",
      "state": {
       "description_width": ""
      }
     },
     "d8b00c3194ca455fae7a02e3b69c2bf7": {
      "model_module": "@jupyter-widgets/controls",
      "model_module_version": "1.5.0",
      "model_name": "VBoxModel",
      "state": {
       "children": [
        "IPY_MODEL_cef05fb008fe42a68497641a54a37774",
        "IPY_MODEL_de8eac49bbf14252a4c6b2294daaa67c"
       ],
       "layout": "IPY_MODEL_7672fc7b6a004c53a8fadaeb9249d2b4"
      }
     },
     "d8f81a4538104baab895ec3fe26a9084": {
      "model_module": "@jupyter-widgets/base",
      "model_module_version": "1.2.0",
      "model_name": "LayoutModel",
      "state": {}
     },
     "daad317db4c54e7eab7d820483c46401": {
      "model_module": "@jupyter-widgets/controls",
      "model_module_version": "1.5.0",
      "model_name": "VBoxModel",
      "state": {
       "children": [
        "IPY_MODEL_4cd9ee5a4c0c483f903ce974ef4c4911",
        "IPY_MODEL_66fc834fb9dc40c4bb964ab5f4c6c65d"
       ],
       "layout": "IPY_MODEL_782b10fd764845138f5d83542abb2557"
      }
     },
     "dacba6c67a804983bd153b9503effffb": {
      "model_module": "@jupyter-widgets/controls",
      "model_module_version": "1.5.0",
      "model_name": "DescriptionStyleModel",
      "state": {
       "description_width": ""
      }
     },
     "db05e6d3825e4d3f866216d77492edb9": {
      "model_module": "@jupyter-widgets/controls",
      "model_module_version": "1.5.0",
      "model_name": "HBoxModel",
      "state": {
       "children": [
        "IPY_MODEL_6c599055e4ec403080ef777fa2d978fa",
        "IPY_MODEL_89d7cb0fc7bd4729b8adb06a94cdf778"
       ],
       "layout": "IPY_MODEL_51933d3fdb1346828168ab5794c27233"
      }
     },
     "db51e4eb4e9a45dc93d545bc9a07ad20": {
      "model_module": "@jupyter-widgets/controls",
      "model_module_version": "1.5.0",
      "model_name": "HBoxModel",
      "state": {
       "children": [
        "IPY_MODEL_653128a8eed4485daf77908ff9a87cfc",
        "IPY_MODEL_eb52802afc6f4793b1ae3b5b9786df83"
       ],
       "layout": "IPY_MODEL_ad5fd65c7e5d457d95a961a490814eed"
      }
     },
     "db802033885c45a091f5dad111795c47": {
      "model_module": "@jupyter-widgets/base",
      "model_module_version": "1.2.0",
      "model_name": "LayoutModel",
      "state": {}
     },
     "dc0ac283948842de9ea82ae9aad64d30": {
      "model_module": "@jupyter-widgets/base",
      "model_module_version": "1.2.0",
      "model_name": "LayoutModel",
      "state": {}
     },
     "dca996b535284fe5b8a14911194ffd97": {
      "model_module": "@jupyter-widgets/base",
      "model_module_version": "1.2.0",
      "model_name": "LayoutModel",
      "state": {}
     },
     "dccb6bacbfd546a3bb5c962b505c006e": {
      "model_module": "@jupyter-widgets/base",
      "model_module_version": "1.2.0",
      "model_name": "LayoutModel",
      "state": {}
     },
     "dce038217abb4384ab78f7eb1571f66b": {
      "model_module": "@jupyter-widgets/controls",
      "model_module_version": "1.5.0",
      "model_name": "HTMLModel",
      "state": {
       "layout": "IPY_MODEL_a607dd91e5634ae08a7f2140729b6c0a",
       "style": "IPY_MODEL_61f80b203a7449838b9973d7fe184e1f",
       "value": "<style type=\"text/css\">\n.pd{\n    font-family: \"Courier New\", Courier, monospace !important;\n    width: 100%;\n    padding: 3px;\n}\n</style>\n\n<p class=pd>\n<b>Model</b>: GP regression<br>\n<b>Objective</b>: 92.81405040536771<br>\n<b>Number of Parameters</b>: 12<br>\n<b>Number of Optimization Parameters</b>: 12<br>\n<b>Updates</b>: True<br>\n</p>\n<style type=\"text/css\">\n.tg  {font-family:\"Courier New\", Courier, monospace !important;padding:2px 3px;word-break:normal;border-collapse:collapse;border-spacing:0;border-color:#DCDCDC;margin:0px auto;width:100%;}\n.tg td{font-family:\"Courier New\", Courier, monospace !important;font-weight:bold;color:#444;background-color:#F7FDFA;border-style:solid;border-width:1px;overflow:hidden;word-break:normal;border-color:#DCDCDC;}\n.tg th{font-family:\"Courier New\", Courier, monospace !important;font-weight:normal;color:#fff;background-color:#26ADE4;border-style:solid;border-width:1px;overflow:hidden;word-break:normal;border-color:#DCDCDC;}\n.tg .tg-left{font-family:\"Courier New\", Courier, monospace !important;font-weight:normal;text-align:left;}\n.tg .tg-center{font-family:\"Courier New\", Courier, monospace !important;font-weight:normal;text-align:center;}\n.tg .tg-right{font-family:\"Courier New\", Courier, monospace !important;font-weight:normal;text-align:right;}\n</style>\n<table class=\"tg\"><tr><th><b>  GP_regression.         </b></th><th><b>              value</b></th><th><b>constraints</b></th><th><b>priors</b></th></tr>\n<tr><td class=tg-left>  constmap.C             </td><td class=tg-right>  5.034644905852873</td><td class=tg-center>           </td><td class=tg-center>      </td></tr>\n<tr><td class=tg-left>  rbf.variance           </td><td class=tg-right> 14.693977235417542</td><td class=tg-center>    +ve    </td><td class=tg-center>      </td></tr>\n<tr><td class=tg-left>  rbf.lengthscale        </td><td class=tg-right>               (9,)</td><td class=tg-center>    +ve    </td><td class=tg-center>      </td></tr>\n<tr><td class=tg-left>  Gaussian_noise.variance</td><td class=tg-right>0.17410590233490694</td><td class=tg-center>    +ve    </td><td class=tg-center>      </td></tr>\n</table>"
      }
     },
     "dcfcc0f8e6fd4b55b395a29e7c083047": {
      "model_module": "@jupyter-widgets/base",
      "model_module_version": "1.2.0",
      "model_name": "LayoutModel",
      "state": {}
     },
     "dd49199cf5ed4b339e3812af542501dc": {
      "model_module": "@jupyter-widgets/controls",
      "model_module_version": "1.5.0",
      "model_name": "ProgressStyleModel",
      "state": {
       "description_width": ""
      }
     },
     "ddad81a6594a4e2f8cd778e648e22983": {
      "model_module": "@jupyter-widgets/controls",
      "model_module_version": "1.5.0",
      "model_name": "DescriptionStyleModel",
      "state": {
       "description_width": ""
      }
     },
     "de3d6bd94d8e4ee89fe93cccf71e0ceb": {
      "model_module": "@jupyter-widgets/base",
      "model_module_version": "1.2.0",
      "model_name": "LayoutModel",
      "state": {}
     },
     "de8eac49bbf14252a4c6b2294daaa67c": {
      "model_module": "@jupyter-widgets/controls",
      "model_module_version": "1.5.0",
      "model_name": "HTMLModel",
      "state": {
       "layout": "IPY_MODEL_a9878e20166848c787ec17261efcb8bc",
       "style": "IPY_MODEL_1d1fb96526d94eeba73b855df53d56cf",
       "value": "<style type=\"text/css\">\n    .tg-opt  {font-family:\"Courier New\", Courier, monospace !important;padding:2px 3px;word-break:normal;border-collapse:collapse;border-spacing:0;border-color:#DCDCDC;margin:0px auto;width:100%;}\n    .tg-opt td{font-family:\"Courier New\", Courier, monospace !important;font-weight:bold;color:#444;background-color:#F7FDFA;border-style:solid;border-width:1px;overflow:hidden;word-break:normal;border-color:#DCDCDC;}\n    .tg-opt th{font-family:\"Courier New\", Courier, monospace !important;font-weight:normal;color:#fff;background-color:#26ADE4;border-style:solid;border-width:1px;overflow:hidden;word-break:normal;border-color:#DCDCDC;}\n    .tg-opt .tg-left{font-family:\"Courier New\", Courier, monospace !important;font-weight:normal;text-align:left;}\n    .tg-opt .tg-right{font-family:\"Courier New\", Courier, monospace !important;font-weight:normal;text-align:right;}\n    </style>\n    <table class=\"tg-opt\"><tr><td class='tg-left'>optimizer</td><td class='tg-right'>L-BFGS-B (Scipy implementation)</td></tr><tr><td class='tg-left'>runtime</td><td class='tg-right'>00s31</td></tr><tr><td class='tg-left'>evaluation</td><td class='tg-right'>0045</td></tr><tr><td class='tg-left'>objective</td><td class='tg-right'>   8.863E+01</td></tr><tr><td class='tg-left'>||gradient||</td><td class='tg-right'>  +7.602E-07</td></tr><tr><td class='tg-left'>status</td><td class='tg-right'>Converged</td></tr></table>"
      }
     },
     "debf699dce634f2d8a8afae3415cd493": {
      "model_module": "@jupyter-widgets/controls",
      "model_module_version": "1.5.0",
      "model_name": "IntProgressModel",
      "state": {
       "bar_style": "success",
       "layout": "IPY_MODEL_e7e4bcd1e8104400898b25460ed881dc",
       "max": 1000,
       "style": "IPY_MODEL_513ff95460734c429e1e3bbe9998006c",
       "value": 42
      }
     },
     "df823b6603c442679c49b265eb6c6bed": {
      "model_module": "@jupyter-widgets/controls",
      "model_module_version": "1.5.0",
      "model_name": "VBoxModel",
      "state": {
       "children": [
        "IPY_MODEL_47012875a477432fb83cd60e03903b06",
        "IPY_MODEL_af501044a4f04f2bafbc1af36d0f1d22"
       ],
       "layout": "IPY_MODEL_ea7b567cbb10434fa211507475f44248"
      }
     },
     "df9e4efc528b4450ae00dc660f18ec81": {
      "model_module": "@jupyter-widgets/controls",
      "model_module_version": "1.5.0",
      "model_name": "HTMLModel",
      "state": {
       "layout": "IPY_MODEL_5c1b817367a642828b91928201b958aa",
       "style": "IPY_MODEL_4b6632f8db1146d3a89ed0da4747cedc",
       "value": "<style type=\"text/css\">\n    .tg-opt  {font-family:\"Courier New\", Courier, monospace !important;padding:2px 3px;word-break:normal;border-collapse:collapse;border-spacing:0;border-color:#DCDCDC;margin:0px auto;width:100%;}\n    .tg-opt td{font-family:\"Courier New\", Courier, monospace !important;font-weight:bold;color:#444;background-color:#F7FDFA;border-style:solid;border-width:1px;overflow:hidden;word-break:normal;border-color:#DCDCDC;}\n    .tg-opt th{font-family:\"Courier New\", Courier, monospace !important;font-weight:normal;color:#fff;background-color:#26ADE4;border-style:solid;border-width:1px;overflow:hidden;word-break:normal;border-color:#DCDCDC;}\n    .tg-opt .tg-left{font-family:\"Courier New\", Courier, monospace !important;font-weight:normal;text-align:left;}\n    .tg-opt .tg-right{font-family:\"Courier New\", Courier, monospace !important;font-weight:normal;text-align:right;}\n    </style>\n    <table class=\"tg-opt\"><tr><td class='tg-left'>optimizer</td><td class='tg-right'>L-BFGS-B (Scipy implementation)</td></tr><tr><td class='tg-left'>runtime</td><td class='tg-right'>00s30</td></tr><tr><td class='tg-left'>evaluation</td><td class='tg-right'>0046</td></tr><tr><td class='tg-left'>objective</td><td class='tg-right'>   8.886E+01</td></tr><tr><td class='tg-left'>||gradient||</td><td class='tg-right'>  +3.910E-07</td></tr><tr><td class='tg-left'>status</td><td class='tg-right'>Converged</td></tr></table>"
      }
     },
     "dfbc715b64b242a1a60c10358ee9714b": {
      "model_module": "@jupyter-widgets/controls",
      "model_module_version": "1.5.0",
      "model_name": "VBoxModel",
      "state": {
       "children": [
        "IPY_MODEL_e652d5b0ee9544fa9a7419c36174ec81",
        "IPY_MODEL_f32a09e5221b43fdab5313b52444e706"
       ],
       "layout": "IPY_MODEL_8950fd06705947d6b29e9255e8ed9b36"
      }
     },
     "dfdd36fd05474ddc998b953920e379f1": {
      "model_module": "@jupyter-widgets/controls",
      "model_module_version": "1.5.0",
      "model_name": "HTMLModel",
      "state": {
       "layout": "IPY_MODEL_b7b9d334acaa4167a02a246d194d50b9",
       "style": "IPY_MODEL_9a6cf40ffd3944c98ad884d9ad8cb8c4",
       "value": "<style type=\"text/css\">\n    .tg-opt  {font-family:\"Courier New\", Courier, monospace !important;padding:2px 3px;word-break:normal;border-collapse:collapse;border-spacing:0;border-color:#DCDCDC;margin:0px auto;width:100%;}\n    .tg-opt td{font-family:\"Courier New\", Courier, monospace !important;font-weight:bold;color:#444;background-color:#F7FDFA;border-style:solid;border-width:1px;overflow:hidden;word-break:normal;border-color:#DCDCDC;}\n    .tg-opt th{font-family:\"Courier New\", Courier, monospace !important;font-weight:normal;color:#fff;background-color:#26ADE4;border-style:solid;border-width:1px;overflow:hidden;word-break:normal;border-color:#DCDCDC;}\n    .tg-opt .tg-left{font-family:\"Courier New\", Courier, monospace !important;font-weight:normal;text-align:left;}\n    .tg-opt .tg-right{font-family:\"Courier New\", Courier, monospace !important;font-weight:normal;text-align:right;}\n    </style>\n    <table class=\"tg-opt\"><tr><td class='tg-left'>optimizer</td><td class='tg-right'>L-BFGS-B (Scipy implementation)</td></tr><tr><td class='tg-left'>runtime</td><td class='tg-right'>00s30</td></tr><tr><td class='tg-left'>evaluation</td><td class='tg-right'>0048</td></tr><tr><td class='tg-left'>objective</td><td class='tg-right'>   9.333E+01</td></tr><tr><td class='tg-left'>||gradient||</td><td class='tg-right'>  +8.966E-07</td></tr><tr><td class='tg-left'>status</td><td class='tg-right'>Converged</td></tr></table>"
      }
     },
     "dffc081683b34cf5be7f166acf354466": {
      "model_module": "@jupyter-widgets/base",
      "model_module_version": "1.2.0",
      "model_name": "LayoutModel",
      "state": {}
     },
     "e0081bbd6eb14d248954870b69ec4f27": {
      "model_module": "@jupyter-widgets/controls",
      "model_module_version": "1.5.0",
      "model_name": "HBoxModel",
      "state": {
       "children": [
        "IPY_MODEL_1ab1c07747d54297b39b39c70bc0cc78",
        "IPY_MODEL_7b865069d3654341ace91fe93031fc48"
       ],
       "layout": "IPY_MODEL_5fa74f2e2c1d4b9d824d4dff02c07785"
      }
     },
     "e00c8914a7d341e79bb668de048a533a": {
      "model_module": "@jupyter-widgets/base",
      "model_module_version": "1.2.0",
      "model_name": "LayoutModel",
      "state": {}
     },
     "e0ae876e3c8444fcb1782a222303ca74": {
      "model_module": "@jupyter-widgets/controls",
      "model_module_version": "1.5.0",
      "model_name": "DescriptionStyleModel",
      "state": {
       "description_width": ""
      }
     },
     "e0b4cdba50be468abd2f026d39f0ab86": {
      "model_module": "@jupyter-widgets/base",
      "model_module_version": "1.2.0",
      "model_name": "LayoutModel",
      "state": {}
     },
     "e0c3e283417241ddbd8ad5e125b029a5": {
      "model_module": "@jupyter-widgets/base",
      "model_module_version": "1.2.0",
      "model_name": "LayoutModel",
      "state": {}
     },
     "e0e84c1aea6744d09c0ac3607ef4c44c": {
      "model_module": "@jupyter-widgets/base",
      "model_module_version": "1.2.0",
      "model_name": "LayoutModel",
      "state": {}
     },
     "e15ae9b7c81d47adb31cfa61101be172": {
      "model_module": "@jupyter-widgets/controls",
      "model_module_version": "1.5.0",
      "model_name": "HTMLModel",
      "state": {
       "layout": "IPY_MODEL_405ed792db2f4284b65a173d62f13865",
       "style": "IPY_MODEL_549b0a0535db4071aa18a936eb443857",
       "value": "<style type=\"text/css\">\n.pd{\n    font-family: \"Courier New\", Courier, monospace !important;\n    width: 100%;\n    padding: 3px;\n}\n</style>\n\n<p class=pd>\n<b>Model</b>: GP regression<br>\n<b>Objective</b>: 91.6003167519371<br>\n<b>Number of Parameters</b>: 12<br>\n<b>Number of Optimization Parameters</b>: 12<br>\n<b>Updates</b>: True<br>\n</p>\n<style type=\"text/css\">\n.tg  {font-family:\"Courier New\", Courier, monospace !important;padding:2px 3px;word-break:normal;border-collapse:collapse;border-spacing:0;border-color:#DCDCDC;margin:0px auto;width:100%;}\n.tg td{font-family:\"Courier New\", Courier, monospace !important;font-weight:bold;color:#444;background-color:#F7FDFA;border-style:solid;border-width:1px;overflow:hidden;word-break:normal;border-color:#DCDCDC;}\n.tg th{font-family:\"Courier New\", Courier, monospace !important;font-weight:normal;color:#fff;background-color:#26ADE4;border-style:solid;border-width:1px;overflow:hidden;word-break:normal;border-color:#DCDCDC;}\n.tg .tg-left{font-family:\"Courier New\", Courier, monospace !important;font-weight:normal;text-align:left;}\n.tg .tg-center{font-family:\"Courier New\", Courier, monospace !important;font-weight:normal;text-align:center;}\n.tg .tg-right{font-family:\"Courier New\", Courier, monospace !important;font-weight:normal;text-align:right;}\n</style>\n<table class=\"tg\"><tr><th><b>  GP_regression.         </b></th><th><b>             value</b></th><th><b>constraints</b></th><th><b>priors</b></th></tr>\n<tr><td class=tg-left>  constmap.C             </td><td class=tg-right> 5.159066465705848</td><td class=tg-center>           </td><td class=tg-center>      </td></tr>\n<tr><td class=tg-left>  rbf.variance           </td><td class=tg-right>14.397263690155194</td><td class=tg-center>    +ve    </td><td class=tg-center>      </td></tr>\n<tr><td class=tg-left>  rbf.lengthscale        </td><td class=tg-right>              (9,)</td><td class=tg-center>    +ve    </td><td class=tg-center>      </td></tr>\n<tr><td class=tg-left>  Gaussian_noise.variance</td><td class=tg-right>0.1715529653683807</td><td class=tg-center>    +ve    </td><td class=tg-center>      </td></tr>\n</table>"
      }
     },
     "e1ac12ced5ab42bbbc7b38c189691447": {
      "model_module": "@jupyter-widgets/base",
      "model_module_version": "1.2.0",
      "model_name": "LayoutModel",
      "state": {}
     },
     "e1c2f8e168f54d289df0709201de6ee8": {
      "model_module": "@jupyter-widgets/controls",
      "model_module_version": "1.5.0",
      "model_name": "BoxModel",
      "state": {
       "children": [
        "IPY_MODEL_e62265b0be6f43d889c96651d77f54d1"
       ],
       "layout": "IPY_MODEL_bb0ec7221a214ec09ba23debe7af82b2"
      }
     },
     "e1dad52738a449ebac9e435182824586": {
      "model_module": "@jupyter-widgets/base",
      "model_module_version": "1.2.0",
      "model_name": "LayoutModel",
      "state": {}
     },
     "e249f3391cb248bd9d07e2610c24d1a1": {
      "model_module": "@jupyter-widgets/controls",
      "model_module_version": "1.5.0",
      "model_name": "DescriptionStyleModel",
      "state": {
       "description_width": ""
      }
     },
     "e24ff6a1b14b4dbdacbc2c733a5fc2a2": {
      "model_module": "@jupyter-widgets/controls",
      "model_module_version": "1.5.0",
      "model_name": "HBoxModel",
      "state": {
       "children": [
        "IPY_MODEL_75a26076f1454ada97b2d189d046b138",
        "IPY_MODEL_aec7bd1af16c4a1db9b37662236f21f4"
       ],
       "layout": "IPY_MODEL_fbffd9919d9748bc84f774825944fe6e"
      }
     },
     "e255dd8aa94b42678793227704bcaa56": {
      "model_module": "@jupyter-widgets/controls",
      "model_module_version": "1.5.0",
      "model_name": "HTMLModel",
      "state": {
       "layout": "IPY_MODEL_9ce7022c877349dcb51fcd1dd538a4c5",
       "style": "IPY_MODEL_31cd272588484552bb7df3929d60accd",
       "value": "<style type=\"text/css\">\n.pd{\n    font-family: \"Courier New\", Courier, monospace !important;\n    width: 100%;\n    padding: 3px;\n}\n</style>\n\n<p class=pd>\n<b>Model</b>: GP regression<br>\n<b>Objective</b>: 91.27618631316702<br>\n<b>Number of Parameters</b>: 12<br>\n<b>Number of Optimization Parameters</b>: 12<br>\n<b>Updates</b>: True<br>\n</p>\n<style type=\"text/css\">\n.tg  {font-family:\"Courier New\", Courier, monospace !important;padding:2px 3px;word-break:normal;border-collapse:collapse;border-spacing:0;border-color:#DCDCDC;margin:0px auto;width:100%;}\n.tg td{font-family:\"Courier New\", Courier, monospace !important;font-weight:bold;color:#444;background-color:#F7FDFA;border-style:solid;border-width:1px;overflow:hidden;word-break:normal;border-color:#DCDCDC;}\n.tg th{font-family:\"Courier New\", Courier, monospace !important;font-weight:normal;color:#fff;background-color:#26ADE4;border-style:solid;border-width:1px;overflow:hidden;word-break:normal;border-color:#DCDCDC;}\n.tg .tg-left{font-family:\"Courier New\", Courier, monospace !important;font-weight:normal;text-align:left;}\n.tg .tg-center{font-family:\"Courier New\", Courier, monospace !important;font-weight:normal;text-align:center;}\n.tg .tg-right{font-family:\"Courier New\", Courier, monospace !important;font-weight:normal;text-align:right;}\n</style>\n<table class=\"tg\"><tr><th><b>  GP_regression.         </b></th><th><b>             value</b></th><th><b>constraints</b></th><th><b>priors</b></th></tr>\n<tr><td class=tg-left>  constmap.C             </td><td class=tg-right> 5.322840714778322</td><td class=tg-center>           </td><td class=tg-center>      </td></tr>\n<tr><td class=tg-left>  rbf.variance           </td><td class=tg-right>14.560720967938975</td><td class=tg-center>    +ve    </td><td class=tg-center>      </td></tr>\n<tr><td class=tg-left>  rbf.lengthscale        </td><td class=tg-right>              (9,)</td><td class=tg-center>    +ve    </td><td class=tg-center>      </td></tr>\n<tr><td class=tg-left>  Gaussian_noise.variance</td><td class=tg-right>0.1690981580065958</td><td class=tg-center>    +ve    </td><td class=tg-center>      </td></tr>\n</table>"
      }
     },
     "e284e84ad32b4b3599f8e663eeaf7163": {
      "model_module": "@jupyter-widgets/base",
      "model_module_version": "1.2.0",
      "model_name": "LayoutModel",
      "state": {}
     },
     "e2b2139e6ee0457ca3f93ea078d62990": {
      "model_module": "@jupyter-widgets/controls",
      "model_module_version": "1.5.0",
      "model_name": "BoxModel",
      "state": {
       "children": [
        "IPY_MODEL_5a005528b6d040199de3f2c40531e043"
       ],
       "layout": "IPY_MODEL_680d038e671f45d880c1f18f88a1b8a3"
      }
     },
     "e3115c60a176476195053e87cefbe981": {
      "model_module": "@jupyter-widgets/base",
      "model_module_version": "1.2.0",
      "model_name": "LayoutModel",
      "state": {}
     },
     "e33d4b58e0a2463ea2815c659949618a": {
      "model_module": "@jupyter-widgets/controls",
      "model_module_version": "1.5.0",
      "model_name": "HTMLModel",
      "state": {
       "layout": "IPY_MODEL_0bdb287df24c418e94c16ea27ce9409c",
       "style": "IPY_MODEL_d6b3d3e5f14a4b82ab3ba9b06cca9507",
       "value": "<style type=\"text/css\">\n.pd{\n    font-family: \"Courier New\", Courier, monospace !important;\n    width: 100%;\n    padding: 3px;\n}\n</style>\n\n<p class=pd>\n<b>Model</b>: GP regression<br>\n<b>Objective</b>: 88.86440683117206<br>\n<b>Number of Parameters</b>: 12<br>\n<b>Number of Optimization Parameters</b>: 12<br>\n<b>Updates</b>: True<br>\n</p>\n<style type=\"text/css\">\n.tg  {font-family:\"Courier New\", Courier, monospace !important;padding:2px 3px;word-break:normal;border-collapse:collapse;border-spacing:0;border-color:#DCDCDC;margin:0px auto;width:100%;}\n.tg td{font-family:\"Courier New\", Courier, monospace !important;font-weight:bold;color:#444;background-color:#F7FDFA;border-style:solid;border-width:1px;overflow:hidden;word-break:normal;border-color:#DCDCDC;}\n.tg th{font-family:\"Courier New\", Courier, monospace !important;font-weight:normal;color:#fff;background-color:#26ADE4;border-style:solid;border-width:1px;overflow:hidden;word-break:normal;border-color:#DCDCDC;}\n.tg .tg-left{font-family:\"Courier New\", Courier, monospace !important;font-weight:normal;text-align:left;}\n.tg .tg-center{font-family:\"Courier New\", Courier, monospace !important;font-weight:normal;text-align:center;}\n.tg .tg-right{font-family:\"Courier New\", Courier, monospace !important;font-weight:normal;text-align:right;}\n</style>\n<table class=\"tg\"><tr><th><b>  GP_regression.         </b></th><th><b>              value</b></th><th><b>constraints</b></th><th><b>priors</b></th></tr>\n<tr><td class=tg-left>  constmap.C             </td><td class=tg-right>   5.60235264197052</td><td class=tg-center>           </td><td class=tg-center>      </td></tr>\n<tr><td class=tg-left>  rbf.variance           </td><td class=tg-right> 14.614174204596855</td><td class=tg-center>    +ve    </td><td class=tg-center>      </td></tr>\n<tr><td class=tg-left>  rbf.lengthscale        </td><td class=tg-right>               (9,)</td><td class=tg-center>    +ve    </td><td class=tg-center>      </td></tr>\n<tr><td class=tg-left>  Gaussian_noise.variance</td><td class=tg-right>0.14446389398882442</td><td class=tg-center>    +ve    </td><td class=tg-center>      </td></tr>\n</table>"
      }
     },
     "e3640360b29e430babb9d342a0374d6c": {
      "model_module": "@jupyter-widgets/controls",
      "model_module_version": "1.5.0",
      "model_name": "BoxModel",
      "state": {
       "children": [
        "IPY_MODEL_13597ca5e0d14b4a916abec25b4b3ded"
       ],
       "layout": "IPY_MODEL_cd9e41d761ca40f2a360cb746b8bc7d8"
      }
     },
     "e3be84598aed4d3597e917882d190aa9": {
      "model_module": "@jupyter-widgets/base",
      "model_module_version": "1.2.0",
      "model_name": "LayoutModel",
      "state": {}
     },
     "e408c42758c141b9b5e1d6156029b74b": {
      "model_module": "@jupyter-widgets/controls",
      "model_module_version": "1.5.0",
      "model_name": "HBoxModel",
      "state": {
       "children": [
        "IPY_MODEL_fb1826cb50f1461ca259ee8ff541d4cd",
        "IPY_MODEL_e1c2f8e168f54d289df0709201de6ee8"
       ],
       "layout": "IPY_MODEL_31001d59cd2545d7ae16668c606b9a2e"
      }
     },
     "e4824d113b9c442e999befaa3298c62f": {
      "model_module": "@jupyter-widgets/base",
      "model_module_version": "1.2.0",
      "model_name": "LayoutModel",
      "state": {}
     },
     "e488958f6d2a46f4984079a43b4f55da": {
      "model_module": "@jupyter-widgets/base",
      "model_module_version": "1.2.0",
      "model_name": "LayoutModel",
      "state": {}
     },
     "e609630a72734d1c9a370a7451af879f": {
      "model_module": "@jupyter-widgets/base",
      "model_module_version": "1.2.0",
      "model_name": "LayoutModel",
      "state": {}
     },
     "e62265b0be6f43d889c96651d77f54d1": {
      "model_module": "@jupyter-widgets/controls",
      "model_module_version": "1.5.0",
      "model_name": "HTMLModel",
      "state": {
       "layout": "IPY_MODEL_e4824d113b9c442e999befaa3298c62f",
       "style": "IPY_MODEL_91b8a4c369f64f32a9da1bb3ce253869",
       "value": "<style type=\"text/css\">\n.pd{\n    font-family: \"Courier New\", Courier, monospace !important;\n    width: 100%;\n    padding: 3px;\n}\n</style>\n\n<p class=pd>\n<b>Model</b>: GP regression<br>\n<b>Objective</b>: 91.7320849945393<br>\n<b>Number of Parameters</b>: 12<br>\n<b>Number of Optimization Parameters</b>: 12<br>\n<b>Updates</b>: True<br>\n</p>\n<style type=\"text/css\">\n.tg  {font-family:\"Courier New\", Courier, monospace !important;padding:2px 3px;word-break:normal;border-collapse:collapse;border-spacing:0;border-color:#DCDCDC;margin:0px auto;width:100%;}\n.tg td{font-family:\"Courier New\", Courier, monospace !important;font-weight:bold;color:#444;background-color:#F7FDFA;border-style:solid;border-width:1px;overflow:hidden;word-break:normal;border-color:#DCDCDC;}\n.tg th{font-family:\"Courier New\", Courier, monospace !important;font-weight:normal;color:#fff;background-color:#26ADE4;border-style:solid;border-width:1px;overflow:hidden;word-break:normal;border-color:#DCDCDC;}\n.tg .tg-left{font-family:\"Courier New\", Courier, monospace !important;font-weight:normal;text-align:left;}\n.tg .tg-center{font-family:\"Courier New\", Courier, monospace !important;font-weight:normal;text-align:center;}\n.tg .tg-right{font-family:\"Courier New\", Courier, monospace !important;font-weight:normal;text-align:right;}\n</style>\n<table class=\"tg\"><tr><th><b>  GP_regression.         </b></th><th><b>             value</b></th><th><b>constraints</b></th><th><b>priors</b></th></tr>\n<tr><td class=tg-left>  constmap.C             </td><td class=tg-right> 5.344248166452366</td><td class=tg-center>           </td><td class=tg-center>      </td></tr>\n<tr><td class=tg-left>  rbf.variance           </td><td class=tg-right>14.630055823397585</td><td class=tg-center>    +ve    </td><td class=tg-center>      </td></tr>\n<tr><td class=tg-left>  rbf.lengthscale        </td><td class=tg-right>              (9,)</td><td class=tg-center>    +ve    </td><td class=tg-center>      </td></tr>\n<tr><td class=tg-left>  Gaussian_noise.variance</td><td class=tg-right>0.1628085682836183</td><td class=tg-center>    +ve    </td><td class=tg-center>      </td></tr>\n</table>"
      }
     },
     "e646aeeee7c740299353cd795b5bf43c": {
      "model_module": "@jupyter-widgets/controls",
      "model_module_version": "1.5.0",
      "model_name": "IntProgressModel",
      "state": {
       "bar_style": "success",
       "layout": "IPY_MODEL_f4ec18020ac34cc4b3840e83c4270cf8",
       "max": 1000,
       "style": "IPY_MODEL_f64ec16a463b4c6abad19921895b0fd6",
       "value": 48
      }
     },
     "e652d5b0ee9544fa9a7419c36174ec81": {
      "model_module": "@jupyter-widgets/controls",
      "model_module_version": "1.5.0",
      "model_name": "IntProgressModel",
      "state": {
       "bar_style": "success",
       "layout": "IPY_MODEL_8ec391039dcc47b185f03d17d9ee9aad",
       "max": 1000,
       "style": "IPY_MODEL_6b45c29c39a848ab8b37f15267c09073",
       "value": 48
      }
     },
     "e6696ef5524844c795a9f63551143f05": {
      "model_module": "@jupyter-widgets/base",
      "model_module_version": "1.2.0",
      "model_name": "LayoutModel",
      "state": {}
     },
     "e692b8cc85644b84b4891a8f23375459": {
      "model_module": "@jupyter-widgets/controls",
      "model_module_version": "1.5.0",
      "model_name": "BoxModel",
      "state": {
       "children": [
        "IPY_MODEL_054b4bd7c13645cbbafc27eb4cd0a2d8"
       ],
       "layout": "IPY_MODEL_d8f81a4538104baab895ec3fe26a9084"
      }
     },
     "e6937c98035541bb9ea10e28c610d438": {
      "model_module": "@jupyter-widgets/controls",
      "model_module_version": "1.5.0",
      "model_name": "DescriptionStyleModel",
      "state": {
       "description_width": ""
      }
     },
     "e69ae85939a249cd9140a60131783fea": {
      "model_module": "@jupyter-widgets/base",
      "model_module_version": "1.2.0",
      "model_name": "LayoutModel",
      "state": {}
     },
     "e6fc02a72ff94005b25f1e80c78a9b39": {
      "model_module": "@jupyter-widgets/controls",
      "model_module_version": "1.5.0",
      "model_name": "HBoxModel",
      "state": {
       "children": [
        "IPY_MODEL_e987eb33055c426da5fcf298a6c0597c",
        "IPY_MODEL_0191ef584374454594e118e96f179528"
       ],
       "layout": "IPY_MODEL_f07632a405254bf494d5e927055ece7b"
      }
     },
     "e70d11d83bc945f5adabab8836792271": {
      "model_module": "@jupyter-widgets/controls",
      "model_module_version": "1.5.0",
      "model_name": "ProgressStyleModel",
      "state": {
       "description_width": ""
      }
     },
     "e764b45dedbf49bea99711b9686b3c43": {
      "model_module": "@jupyter-widgets/controls",
      "model_module_version": "1.5.0",
      "model_name": "DescriptionStyleModel",
      "state": {
       "description_width": ""
      }
     },
     "e778b25137b149cc8c557c21f0a93323": {
      "model_module": "@jupyter-widgets/controls",
      "model_module_version": "1.5.0",
      "model_name": "HTMLModel",
      "state": {
       "layout": "IPY_MODEL_58ead318ebdb43aeb6544d640d5f70b3",
       "style": "IPY_MODEL_926f8935a1e848a58650482de3314f44",
       "value": "<style type=\"text/css\">\n.pd{\n    font-family: \"Courier New\", Courier, monospace !important;\n    width: 100%;\n    padding: 3px;\n}\n</style>\n\n<p class=pd>\n<b>Model</b>: GP regression<br>\n<b>Objective</b>: 91.97243897240287<br>\n<b>Number of Parameters</b>: 12<br>\n<b>Number of Optimization Parameters</b>: 12<br>\n<b>Updates</b>: True<br>\n</p>\n<style type=\"text/css\">\n.tg  {font-family:\"Courier New\", Courier, monospace !important;padding:2px 3px;word-break:normal;border-collapse:collapse;border-spacing:0;border-color:#DCDCDC;margin:0px auto;width:100%;}\n.tg td{font-family:\"Courier New\", Courier, monospace !important;font-weight:bold;color:#444;background-color:#F7FDFA;border-style:solid;border-width:1px;overflow:hidden;word-break:normal;border-color:#DCDCDC;}\n.tg th{font-family:\"Courier New\", Courier, monospace !important;font-weight:normal;color:#fff;background-color:#26ADE4;border-style:solid;border-width:1px;overflow:hidden;word-break:normal;border-color:#DCDCDC;}\n.tg .tg-left{font-family:\"Courier New\", Courier, monospace !important;font-weight:normal;text-align:left;}\n.tg .tg-center{font-family:\"Courier New\", Courier, monospace !important;font-weight:normal;text-align:center;}\n.tg .tg-right{font-family:\"Courier New\", Courier, monospace !important;font-weight:normal;text-align:right;}\n</style>\n<table class=\"tg\"><tr><th><b>  GP_regression.         </b></th><th><b>              value</b></th><th><b>constraints</b></th><th><b>priors</b></th></tr>\n<tr><td class=tg-left>  constmap.C             </td><td class=tg-right>  4.760733985994896</td><td class=tg-center>           </td><td class=tg-center>      </td></tr>\n<tr><td class=tg-left>  rbf.variance           </td><td class=tg-right> 15.677489959719605</td><td class=tg-center>    +ve    </td><td class=tg-center>      </td></tr>\n<tr><td class=tg-left>  rbf.lengthscale        </td><td class=tg-right>               (9,)</td><td class=tg-center>    +ve    </td><td class=tg-center>      </td></tr>\n<tr><td class=tg-left>  Gaussian_noise.variance</td><td class=tg-right>0.16468344796476503</td><td class=tg-center>    +ve    </td><td class=tg-center>      </td></tr>\n</table>"
      }
     },
     "e780e30bd36942dd8e12d316bfbd56be": {
      "model_module": "@jupyter-widgets/base",
      "model_module_version": "1.2.0",
      "model_name": "LayoutModel",
      "state": {}
     },
     "e796d35e1cae4287afc245fb3a55b467": {
      "model_module": "@jupyter-widgets/controls",
      "model_module_version": "1.5.0",
      "model_name": "DescriptionStyleModel",
      "state": {
       "description_width": ""
      }
     },
     "e7e4bcd1e8104400898b25460ed881dc": {
      "model_module": "@jupyter-widgets/base",
      "model_module_version": "1.2.0",
      "model_name": "LayoutModel",
      "state": {}
     },
     "e89bd319a10b4a179ddf3ae29aab47a4": {
      "model_module": "@jupyter-widgets/base",
      "model_module_version": "1.2.0",
      "model_name": "LayoutModel",
      "state": {}
     },
     "e987eb33055c426da5fcf298a6c0597c": {
      "model_module": "@jupyter-widgets/controls",
      "model_module_version": "1.5.0",
      "model_name": "VBoxModel",
      "state": {
       "children": [
        "IPY_MODEL_3b6a57ab501c4c59a4e6fe205520657a",
        "IPY_MODEL_436757f854614421b3b7a17a6eb489d6"
       ],
       "layout": "IPY_MODEL_dffc081683b34cf5be7f166acf354466"
      }
     },
     "ea68c6e4217b44ab8ab196782807dd64": {
      "model_module": "@jupyter-widgets/controls",
      "model_module_version": "1.5.0",
      "model_name": "DescriptionStyleModel",
      "state": {
       "description_width": ""
      }
     },
     "ea7b567cbb10434fa211507475f44248": {
      "model_module": "@jupyter-widgets/base",
      "model_module_version": "1.2.0",
      "model_name": "LayoutModel",
      "state": {}
     },
     "ea8c0712b19442b3bbc4a5de53d5f196": {
      "model_module": "@jupyter-widgets/base",
      "model_module_version": "1.2.0",
      "model_name": "LayoutModel",
      "state": {}
     },
     "eb52802afc6f4793b1ae3b5b9786df83": {
      "model_module": "@jupyter-widgets/controls",
      "model_module_version": "1.5.0",
      "model_name": "BoxModel",
      "state": {
       "children": [
        "IPY_MODEL_5d97dcce3d064f7c97f3c587d4c5a89e"
       ],
       "layout": "IPY_MODEL_af67e25e3fe846fb91ee2c13e362154d"
      }
     },
     "eb8109e435774b1aa3edb98173699c47": {
      "model_module": "@jupyter-widgets/controls",
      "model_module_version": "1.5.0",
      "model_name": "IntProgressModel",
      "state": {
       "bar_style": "success",
       "layout": "IPY_MODEL_ba11045ebcf145fdb727444a1cd5a7b8",
       "max": 1000,
       "style": "IPY_MODEL_a20eaf27c2c64a108fb2ae556911a005",
       "value": 40
      }
     },
     "ebad2fc535b44900af218ae3a03fb375": {
      "model_module": "@jupyter-widgets/controls",
      "model_module_version": "1.5.0",
      "model_name": "HTMLModel",
      "state": {
       "layout": "IPY_MODEL_0cb87d0d3b3744c9af87e116027af4ee",
       "style": "IPY_MODEL_4bfe06c99f1145b1a69fea96c01bdf03",
       "value": "<style type=\"text/css\">\n.pd{\n    font-family: \"Courier New\", Courier, monospace !important;\n    width: 100%;\n    padding: 3px;\n}\n</style>\n\n<p class=pd>\n<b>Model</b>: GP regression<br>\n<b>Objective</b>: 91.3369356621873<br>\n<b>Number of Parameters</b>: 12<br>\n<b>Number of Optimization Parameters</b>: 12<br>\n<b>Updates</b>: True<br>\n</p>\n<style type=\"text/css\">\n.tg  {font-family:\"Courier New\", Courier, monospace !important;padding:2px 3px;word-break:normal;border-collapse:collapse;border-spacing:0;border-color:#DCDCDC;margin:0px auto;width:100%;}\n.tg td{font-family:\"Courier New\", Courier, monospace !important;font-weight:bold;color:#444;background-color:#F7FDFA;border-style:solid;border-width:1px;overflow:hidden;word-break:normal;border-color:#DCDCDC;}\n.tg th{font-family:\"Courier New\", Courier, monospace !important;font-weight:normal;color:#fff;background-color:#26ADE4;border-style:solid;border-width:1px;overflow:hidden;word-break:normal;border-color:#DCDCDC;}\n.tg .tg-left{font-family:\"Courier New\", Courier, monospace !important;font-weight:normal;text-align:left;}\n.tg .tg-center{font-family:\"Courier New\", Courier, monospace !important;font-weight:normal;text-align:center;}\n.tg .tg-right{font-family:\"Courier New\", Courier, monospace !important;font-weight:normal;text-align:right;}\n</style>\n<table class=\"tg\"><tr><th><b>  GP_regression.         </b></th><th><b>              value</b></th><th><b>constraints</b></th><th><b>priors</b></th></tr>\n<tr><td class=tg-left>  constmap.C             </td><td class=tg-right>  5.716340130499466</td><td class=tg-center>           </td><td class=tg-center>      </td></tr>\n<tr><td class=tg-left>  rbf.variance           </td><td class=tg-right> 14.073018196075349</td><td class=tg-center>    +ve    </td><td class=tg-center>      </td></tr>\n<tr><td class=tg-left>  rbf.lengthscale        </td><td class=tg-right>               (9,)</td><td class=tg-center>    +ve    </td><td class=tg-center>      </td></tr>\n<tr><td class=tg-left>  Gaussian_noise.variance</td><td class=tg-right>0.17264246849375983</td><td class=tg-center>    +ve    </td><td class=tg-center>      </td></tr>\n</table>"
      }
     },
     "ebe7c76fce0c4c758803578a561d3310": {
      "model_module": "@jupyter-widgets/controls",
      "model_module_version": "1.5.0",
      "model_name": "HBoxModel",
      "state": {
       "children": [
        "IPY_MODEL_dfbc715b64b242a1a60c10358ee9714b",
        "IPY_MODEL_bff1a8035ad3466ab7c7a445b223dbda"
       ],
       "layout": "IPY_MODEL_fb969b7ced5842fcaaa9e4616d6cd954"
      }
     },
     "ec33c300c57444b49f7c316a024812ad": {
      "model_module": "@jupyter-widgets/controls",
      "model_module_version": "1.5.0",
      "model_name": "DescriptionStyleModel",
      "state": {
       "description_width": ""
      }
     },
     "ec678cd4c12342949e5478a9a3a00868": {
      "model_module": "@jupyter-widgets/base",
      "model_module_version": "1.2.0",
      "model_name": "LayoutModel",
      "state": {}
     },
     "ed1ee249a0164a6ea5692a0092014dd2": {
      "model_module": "@jupyter-widgets/base",
      "model_module_version": "1.2.0",
      "model_name": "LayoutModel",
      "state": {}
     },
     "ed42e51b70c94c41b19d5228205378f1": {
      "model_module": "@jupyter-widgets/controls",
      "model_module_version": "1.5.0",
      "model_name": "ProgressStyleModel",
      "state": {
       "description_width": ""
      }
     },
     "ed64090f343941ccb27b2ed2a3cf2d07": {
      "model_module": "@jupyter-widgets/base",
      "model_module_version": "1.2.0",
      "model_name": "LayoutModel",
      "state": {}
     },
     "ed802a588351464199d95650c8c48adc": {
      "model_module": "@jupyter-widgets/controls",
      "model_module_version": "1.5.0",
      "model_name": "HTMLModel",
      "state": {
       "layout": "IPY_MODEL_eefac3dd80af4d9ead1bb438a8136ea8",
       "style": "IPY_MODEL_0263fbdf09c24d99a762a9a852544f47",
       "value": "<style type=\"text/css\">\n    .tg-opt  {font-family:\"Courier New\", Courier, monospace !important;padding:2px 3px;word-break:normal;border-collapse:collapse;border-spacing:0;border-color:#DCDCDC;margin:0px auto;width:100%;}\n    .tg-opt td{font-family:\"Courier New\", Courier, monospace !important;font-weight:bold;color:#444;background-color:#F7FDFA;border-style:solid;border-width:1px;overflow:hidden;word-break:normal;border-color:#DCDCDC;}\n    .tg-opt th{font-family:\"Courier New\", Courier, monospace !important;font-weight:normal;color:#fff;background-color:#26ADE4;border-style:solid;border-width:1px;overflow:hidden;word-break:normal;border-color:#DCDCDC;}\n    .tg-opt .tg-left{font-family:\"Courier New\", Courier, monospace !important;font-weight:normal;text-align:left;}\n    .tg-opt .tg-right{font-family:\"Courier New\", Courier, monospace !important;font-weight:normal;text-align:right;}\n    </style>\n    <table class=\"tg-opt\"><tr><td class='tg-left'>optimizer</td><td class='tg-right'>L-BFGS-B (Scipy implementation)</td></tr><tr><td class='tg-left'>runtime</td><td class='tg-right'>00s31</td></tr><tr><td class='tg-left'>evaluation</td><td class='tg-right'>0049</td></tr><tr><td class='tg-left'>objective</td><td class='tg-right'>   9.188E+01</td></tr><tr><td class='tg-left'>||gradient||</td><td class='tg-right'>  +2.076E-07</td></tr><tr><td class='tg-left'>status</td><td class='tg-right'>Converged</td></tr></table>"
      }
     },
     "ee50f2376f1043769c841c60c54e9865": {
      "model_module": "@jupyter-widgets/controls",
      "model_module_version": "1.5.0",
      "model_name": "ProgressStyleModel",
      "state": {
       "description_width": ""
      }
     },
     "ee5e25a947f04618855b32d301c1e488": {
      "model_module": "@jupyter-widgets/controls",
      "model_module_version": "1.5.0",
      "model_name": "HTMLModel",
      "state": {
       "layout": "IPY_MODEL_05be0715ce684fb295497419b261a05f",
       "style": "IPY_MODEL_98617051dc01475ca13aa616198c4a15",
       "value": "<style type=\"text/css\">\n.pd{\n    font-family: \"Courier New\", Courier, monospace !important;\n    width: 100%;\n    padding: 3px;\n}\n</style>\n\n<p class=pd>\n<b>Model</b>: GP regression<br>\n<b>Objective</b>: 86.84907892718869<br>\n<b>Number of Parameters</b>: 12<br>\n<b>Number of Optimization Parameters</b>: 12<br>\n<b>Updates</b>: True<br>\n</p>\n<style type=\"text/css\">\n.tg  {font-family:\"Courier New\", Courier, monospace !important;padding:2px 3px;word-break:normal;border-collapse:collapse;border-spacing:0;border-color:#DCDCDC;margin:0px auto;width:100%;}\n.tg td{font-family:\"Courier New\", Courier, monospace !important;font-weight:bold;color:#444;background-color:#F7FDFA;border-style:solid;border-width:1px;overflow:hidden;word-break:normal;border-color:#DCDCDC;}\n.tg th{font-family:\"Courier New\", Courier, monospace !important;font-weight:normal;color:#fff;background-color:#26ADE4;border-style:solid;border-width:1px;overflow:hidden;word-break:normal;border-color:#DCDCDC;}\n.tg .tg-left{font-family:\"Courier New\", Courier, monospace !important;font-weight:normal;text-align:left;}\n.tg .tg-center{font-family:\"Courier New\", Courier, monospace !important;font-weight:normal;text-align:center;}\n.tg .tg-right{font-family:\"Courier New\", Courier, monospace !important;font-weight:normal;text-align:right;}\n</style>\n<table class=\"tg\"><tr><th><b>  GP_regression.         </b></th><th><b>              value</b></th><th><b>constraints</b></th><th><b>priors</b></th></tr>\n<tr><td class=tg-left>  constmap.C             </td><td class=tg-right>  4.797635320601001</td><td class=tg-center>           </td><td class=tg-center>      </td></tr>\n<tr><td class=tg-left>  rbf.variance           </td><td class=tg-right> 16.228830109465786</td><td class=tg-center>    +ve    </td><td class=tg-center>      </td></tr>\n<tr><td class=tg-left>  rbf.lengthscale        </td><td class=tg-right>               (9,)</td><td class=tg-center>    +ve    </td><td class=tg-center>      </td></tr>\n<tr><td class=tg-left>  Gaussian_noise.variance</td><td class=tg-right>0.15197040122109085</td><td class=tg-center>    +ve    </td><td class=tg-center>      </td></tr>\n</table>"
      }
     },
     "ee9f710bd3d64cbea312c50f6a8c2a65": {
      "model_module": "@jupyter-widgets/base",
      "model_module_version": "1.2.0",
      "model_name": "LayoutModel",
      "state": {}
     },
     "eefac3dd80af4d9ead1bb438a8136ea8": {
      "model_module": "@jupyter-widgets/base",
      "model_module_version": "1.2.0",
      "model_name": "LayoutModel",
      "state": {}
     },
     "ef5310c91dd5408fb33486b2ed1f9b11": {
      "model_module": "@jupyter-widgets/controls",
      "model_module_version": "1.5.0",
      "model_name": "HBoxModel",
      "state": {
       "children": [
        "IPY_MODEL_9b521359788f44fbb1075e784e2073dc",
        "IPY_MODEL_5cf151bd1bd44eb2a93f1638a12e6121"
       ],
       "layout": "IPY_MODEL_fb64a373c4674275aa80a5f97bdff871"
      }
     },
     "ef8725035c12412eb4bf3a5910bc4701": {
      "model_module": "@jupyter-widgets/base",
      "model_module_version": "1.2.0",
      "model_name": "LayoutModel",
      "state": {}
     },
     "efcc77ce078f4750abadb67ca6aaefc2": {
      "model_module": "@jupyter-widgets/base",
      "model_module_version": "1.2.0",
      "model_name": "LayoutModel",
      "state": {}
     },
     "f036e72762314114a2fc41744a1e1ef4": {
      "model_module": "@jupyter-widgets/controls",
      "model_module_version": "1.5.0",
      "model_name": "IntProgressModel",
      "state": {
       "bar_style": "success",
       "layout": "IPY_MODEL_4a6422ec29074d64b8b4b2ac29132979",
       "max": 1000,
       "style": "IPY_MODEL_8d87cf442b8344b18f8de332041c2020",
       "value": 41
      }
     },
     "f04f0e7aea664c70bb0a82a17766997d": {
      "model_module": "@jupyter-widgets/base",
      "model_module_version": "1.2.0",
      "model_name": "LayoutModel",
      "state": {}
     },
     "f07632a405254bf494d5e927055ece7b": {
      "model_module": "@jupyter-widgets/base",
      "model_module_version": "1.2.0",
      "model_name": "LayoutModel",
      "state": {}
     },
     "f0c7cc372a28415db5a58d014429e146": {
      "model_module": "@jupyter-widgets/base",
      "model_module_version": "1.2.0",
      "model_name": "LayoutModel",
      "state": {}
     },
     "f0f56d4336704e6890fd43e6fd4831dc": {
      "model_module": "@jupyter-widgets/base",
      "model_module_version": "1.2.0",
      "model_name": "LayoutModel",
      "state": {}
     },
     "f142a5bdca33448d84691861d1e8d394": {
      "model_module": "@jupyter-widgets/controls",
      "model_module_version": "1.5.0",
      "model_name": "IntProgressModel",
      "state": {
       "bar_style": "success",
       "layout": "IPY_MODEL_ad400e6de2284bd1a56fad92c0a5db8e",
       "max": 1000,
       "style": "IPY_MODEL_4387cbfa96a0409893e5281da2c86e49",
       "value": 43
      }
     },
     "f14fa96017314b03abd7aa295c890fe3": {
      "model_module": "@jupyter-widgets/base",
      "model_module_version": "1.2.0",
      "model_name": "LayoutModel",
      "state": {}
     },
     "f1f0b2b447d04e05a391cb2e62265ab6": {
      "model_module": "@jupyter-widgets/controls",
      "model_module_version": "1.5.0",
      "model_name": "DescriptionStyleModel",
      "state": {
       "description_width": ""
      }
     },
     "f32a09e5221b43fdab5313b52444e706": {
      "model_module": "@jupyter-widgets/controls",
      "model_module_version": "1.5.0",
      "model_name": "HTMLModel",
      "state": {
       "layout": "IPY_MODEL_331103a5921b4245a7a8c032630a262b",
       "style": "IPY_MODEL_9cc8d2be1b0f4e2e868121f8110a5b0f",
       "value": "<style type=\"text/css\">\n    .tg-opt  {font-family:\"Courier New\", Courier, monospace !important;padding:2px 3px;word-break:normal;border-collapse:collapse;border-spacing:0;border-color:#DCDCDC;margin:0px auto;width:100%;}\n    .tg-opt td{font-family:\"Courier New\", Courier, monospace !important;font-weight:bold;color:#444;background-color:#F7FDFA;border-style:solid;border-width:1px;overflow:hidden;word-break:normal;border-color:#DCDCDC;}\n    .tg-opt th{font-family:\"Courier New\", Courier, monospace !important;font-weight:normal;color:#fff;background-color:#26ADE4;border-style:solid;border-width:1px;overflow:hidden;word-break:normal;border-color:#DCDCDC;}\n    .tg-opt .tg-left{font-family:\"Courier New\", Courier, monospace !important;font-weight:normal;text-align:left;}\n    .tg-opt .tg-right{font-family:\"Courier New\", Courier, monospace !important;font-weight:normal;text-align:right;}\n    </style>\n    <table class=\"tg-opt\"><tr><td class='tg-left'>optimizer</td><td class='tg-right'>L-BFGS-B (Scipy implementation)</td></tr><tr><td class='tg-left'>runtime</td><td class='tg-right'>00s30</td></tr><tr><td class='tg-left'>evaluation</td><td class='tg-right'>0047</td></tr><tr><td class='tg-left'>objective</td><td class='tg-right'>   9.160E+01</td></tr><tr><td class='tg-left'>||gradient||</td><td class='tg-right'>  +1.127E-06</td></tr><tr><td class='tg-left'>status</td><td class='tg-right'>Converged</td></tr></table>"
      }
     },
     "f3da1384cf7d46e59740efee7a602d1b": {
      "model_module": "@jupyter-widgets/controls",
      "model_module_version": "1.5.0",
      "model_name": "HTMLModel",
      "state": {
       "layout": "IPY_MODEL_4f0169e5251a472da3c6a39ac91b3dc2",
       "style": "IPY_MODEL_c35e060d85ee4ec38171094297337716",
       "value": "<style type=\"text/css\">\n    .tg-opt  {font-family:\"Courier New\", Courier, monospace !important;padding:2px 3px;word-break:normal;border-collapse:collapse;border-spacing:0;border-color:#DCDCDC;margin:0px auto;width:100%;}\n    .tg-opt td{font-family:\"Courier New\", Courier, monospace !important;font-weight:bold;color:#444;background-color:#F7FDFA;border-style:solid;border-width:1px;overflow:hidden;word-break:normal;border-color:#DCDCDC;}\n    .tg-opt th{font-family:\"Courier New\", Courier, monospace !important;font-weight:normal;color:#fff;background-color:#26ADE4;border-style:solid;border-width:1px;overflow:hidden;word-break:normal;border-color:#DCDCDC;}\n    .tg-opt .tg-left{font-family:\"Courier New\", Courier, monospace !important;font-weight:normal;text-align:left;}\n    .tg-opt .tg-right{font-family:\"Courier New\", Courier, monospace !important;font-weight:normal;text-align:right;}\n    </style>\n    <table class=\"tg-opt\"><tr><td class='tg-left'>optimizer</td><td class='tg-right'>L-BFGS-B (Scipy implementation)</td></tr><tr><td class='tg-left'>runtime</td><td class='tg-right'>00s32</td></tr><tr><td class='tg-left'>evaluation</td><td class='tg-right'>0051</td></tr><tr><td class='tg-left'>objective</td><td class='tg-right'>   9.190E+01</td></tr><tr><td class='tg-left'>||gradient||</td><td class='tg-right'>  +5.947E-08</td></tr><tr><td class='tg-left'>status</td><td class='tg-right'>Converged</td></tr></table>"
      }
     },
     "f438aaf12b834fd2a93324f3fa7de04b": {
      "model_module": "@jupyter-widgets/controls",
      "model_module_version": "1.5.0",
      "model_name": "HBoxModel",
      "state": {
       "children": [
        "IPY_MODEL_a95d01ba691e45049cfb6f804b60cb76",
        "IPY_MODEL_673231a3a5a240e080eb1b22dc749087"
       ],
       "layout": "IPY_MODEL_8bd14ac2669c47128ae2a61a7873d15f"
      }
     },
     "f4ec18020ac34cc4b3840e83c4270cf8": {
      "model_module": "@jupyter-widgets/base",
      "model_module_version": "1.2.0",
      "model_name": "LayoutModel",
      "state": {}
     },
     "f4ee0de2a5aa4d70ab1fe9caab60374b": {
      "model_module": "@jupyter-widgets/base",
      "model_module_version": "1.2.0",
      "model_name": "LayoutModel",
      "state": {}
     },
     "f50f6550d577426d98c9f2bc985d1f0d": {
      "model_module": "@jupyter-widgets/controls",
      "model_module_version": "1.5.0",
      "model_name": "HTMLModel",
      "state": {
       "layout": "IPY_MODEL_830d3084367245ab8cd2e9402e51653e",
       "style": "IPY_MODEL_ea68c6e4217b44ab8ab196782807dd64",
       "value": "<style type=\"text/css\">\n.pd{\n    font-family: \"Courier New\", Courier, monospace !important;\n    width: 100%;\n    padding: 3px;\n}\n</style>\n\n<p class=pd>\n<b>Model</b>: GP regression<br>\n<b>Objective</b>: 93.33036624632717<br>\n<b>Number of Parameters</b>: 12<br>\n<b>Number of Optimization Parameters</b>: 12<br>\n<b>Updates</b>: True<br>\n</p>\n<style type=\"text/css\">\n.tg  {font-family:\"Courier New\", Courier, monospace !important;padding:2px 3px;word-break:normal;border-collapse:collapse;border-spacing:0;border-color:#DCDCDC;margin:0px auto;width:100%;}\n.tg td{font-family:\"Courier New\", Courier, monospace !important;font-weight:bold;color:#444;background-color:#F7FDFA;border-style:solid;border-width:1px;overflow:hidden;word-break:normal;border-color:#DCDCDC;}\n.tg th{font-family:\"Courier New\", Courier, monospace !important;font-weight:normal;color:#fff;background-color:#26ADE4;border-style:solid;border-width:1px;overflow:hidden;word-break:normal;border-color:#DCDCDC;}\n.tg .tg-left{font-family:\"Courier New\", Courier, monospace !important;font-weight:normal;text-align:left;}\n.tg .tg-center{font-family:\"Courier New\", Courier, monospace !important;font-weight:normal;text-align:center;}\n.tg .tg-right{font-family:\"Courier New\", Courier, monospace !important;font-weight:normal;text-align:right;}\n</style>\n<table class=\"tg\"><tr><th><b>  GP_regression.         </b></th><th><b>             value</b></th><th><b>constraints</b></th><th><b>priors</b></th></tr>\n<tr><td class=tg-left>  constmap.C             </td><td class=tg-right> 5.024465320955505</td><td class=tg-center>           </td><td class=tg-center>      </td></tr>\n<tr><td class=tg-left>  rbf.variance           </td><td class=tg-right> 14.89763275205554</td><td class=tg-center>    +ve    </td><td class=tg-center>      </td></tr>\n<tr><td class=tg-left>  rbf.lengthscale        </td><td class=tg-right>              (9,)</td><td class=tg-center>    +ve    </td><td class=tg-center>      </td></tr>\n<tr><td class=tg-left>  Gaussian_noise.variance</td><td class=tg-right>0.1680802392687771</td><td class=tg-center>    +ve    </td><td class=tg-center>      </td></tr>\n</table>"
      }
     },
     "f596317506e344c8b2379b9935fef66b": {
      "model_module": "@jupyter-widgets/controls",
      "model_module_version": "1.5.0",
      "model_name": "HTMLModel",
      "state": {
       "layout": "IPY_MODEL_9252c0ae14ba41a1b3805bc90b52c4b7",
       "style": "IPY_MODEL_afae2178b9c1418db12d120a9ece24f4",
       "value": "<style type=\"text/css\">\n    .tg-opt  {font-family:\"Courier New\", Courier, monospace !important;padding:2px 3px;word-break:normal;border-collapse:collapse;border-spacing:0;border-color:#DCDCDC;margin:0px auto;width:100%;}\n    .tg-opt td{font-family:\"Courier New\", Courier, monospace !important;font-weight:bold;color:#444;background-color:#F7FDFA;border-style:solid;border-width:1px;overflow:hidden;word-break:normal;border-color:#DCDCDC;}\n    .tg-opt th{font-family:\"Courier New\", Courier, monospace !important;font-weight:normal;color:#fff;background-color:#26ADE4;border-style:solid;border-width:1px;overflow:hidden;word-break:normal;border-color:#DCDCDC;}\n    .tg-opt .tg-left{font-family:\"Courier New\", Courier, monospace !important;font-weight:normal;text-align:left;}\n    .tg-opt .tg-right{font-family:\"Courier New\", Courier, monospace !important;font-weight:normal;text-align:right;}\n    </style>\n    <table class=\"tg-opt\"><tr><td class='tg-left'>optimizer</td><td class='tg-right'>L-BFGS-B (Scipy implementation)</td></tr><tr><td class='tg-left'>runtime</td><td class='tg-right'>00s31</td></tr><tr><td class='tg-left'>evaluation</td><td class='tg-right'>0046</td></tr><tr><td class='tg-left'>objective</td><td class='tg-right'>   8.817E+01</td></tr><tr><td class='tg-left'>||gradient||</td><td class='tg-right'>  +1.205E-08</td></tr><tr><td class='tg-left'>status</td><td class='tg-right'>Converged</td></tr></table>"
      }
     },
     "f5d4e46c223a476da1844138ac7ceb84": {
      "model_module": "@jupyter-widgets/controls",
      "model_module_version": "1.5.0",
      "model_name": "DescriptionStyleModel",
      "state": {
       "description_width": ""
      }
     },
     "f5fda0927bae40d981abf510ace0f982": {
      "model_module": "@jupyter-widgets/controls",
      "model_module_version": "1.5.0",
      "model_name": "HTMLModel",
      "state": {
       "layout": "IPY_MODEL_8be2d4c13e184d7f915cd190a815a050",
       "style": "IPY_MODEL_1158f293c10f44bc8c44fc2de9c311d9",
       "value": "<style type=\"text/css\">\n    .tg-opt  {font-family:\"Courier New\", Courier, monospace !important;padding:2px 3px;word-break:normal;border-collapse:collapse;border-spacing:0;border-color:#DCDCDC;margin:0px auto;width:100%;}\n    .tg-opt td{font-family:\"Courier New\", Courier, monospace !important;font-weight:bold;color:#444;background-color:#F7FDFA;border-style:solid;border-width:1px;overflow:hidden;word-break:normal;border-color:#DCDCDC;}\n    .tg-opt th{font-family:\"Courier New\", Courier, monospace !important;font-weight:normal;color:#fff;background-color:#26ADE4;border-style:solid;border-width:1px;overflow:hidden;word-break:normal;border-color:#DCDCDC;}\n    .tg-opt .tg-left{font-family:\"Courier New\", Courier, monospace !important;font-weight:normal;text-align:left;}\n    .tg-opt .tg-right{font-family:\"Courier New\", Courier, monospace !important;font-weight:normal;text-align:right;}\n    </style>\n    <table class=\"tg-opt\"><tr><td class='tg-left'>optimizer</td><td class='tg-right'>L-BFGS-B (Scipy implementation)</td></tr><tr><td class='tg-left'>runtime</td><td class='tg-right'>00s31</td></tr><tr><td class='tg-left'>evaluation</td><td class='tg-right'>0048</td></tr><tr><td class='tg-left'>objective</td><td class='tg-right'>   9.134E+01</td></tr><tr><td class='tg-left'>||gradient||</td><td class='tg-right'>  +1.980E-07</td></tr><tr><td class='tg-left'>status</td><td class='tg-right'>Converged</td></tr></table>"
      }
     },
     "f64ec16a463b4c6abad19921895b0fd6": {
      "model_module": "@jupyter-widgets/controls",
      "model_module_version": "1.5.0",
      "model_name": "ProgressStyleModel",
      "state": {
       "description_width": ""
      }
     },
     "f65334542ce94085900a1f99642c5843": {
      "model_module": "@jupyter-widgets/base",
      "model_module_version": "1.2.0",
      "model_name": "LayoutModel",
      "state": {}
     },
     "f6897dbd52eb49a5ba37a0182aa6fcbf": {
      "model_module": "@jupyter-widgets/controls",
      "model_module_version": "1.5.0",
      "model_name": "VBoxModel",
      "state": {
       "children": [
        "IPY_MODEL_97efa8ee9ad549acb83f7293f4eae369",
        "IPY_MODEL_7867657d1ef24a408a1b0eeaff2d20f4"
       ],
       "layout": "IPY_MODEL_19ece037b21c470ab82c6c451b825274"
      }
     },
     "f6953ae28244426da7b6bf34ab4e1877": {
      "model_module": "@jupyter-widgets/controls",
      "model_module_version": "1.5.0",
      "model_name": "VBoxModel",
      "state": {
       "children": [
        "IPY_MODEL_7f7d4719efcc4e03a24b123b0a4c5a41",
        "IPY_MODEL_d074f1ee149c4e5abc1d5d765a264846"
       ],
       "layout": "IPY_MODEL_3549c5b3673948fd98ede35767efa0ec"
      }
     },
     "f6b6e9d24b694a7db835e92027530635": {
      "model_module": "@jupyter-widgets/base",
      "model_module_version": "1.2.0",
      "model_name": "LayoutModel",
      "state": {}
     },
     "f760297ebaba4176b8d87425b917f6a4": {
      "model_module": "@jupyter-widgets/controls",
      "model_module_version": "1.5.0",
      "model_name": "BoxModel",
      "state": {
       "children": [
        "IPY_MODEL_c6b1ed87a5a84dda817130a3e070f2f3"
       ],
       "layout": "IPY_MODEL_e609630a72734d1c9a370a7451af879f"
      }
     },
     "f7d750882a9f411ea42d29eb4e2d07a6": {
      "model_module": "@jupyter-widgets/base",
      "model_module_version": "1.2.0",
      "model_name": "LayoutModel",
      "state": {}
     },
     "f96323f3db694e89966166e90362eb57": {
      "model_module": "@jupyter-widgets/controls",
      "model_module_version": "1.5.0",
      "model_name": "HTMLModel",
      "state": {
       "layout": "IPY_MODEL_f0f56d4336704e6890fd43e6fd4831dc",
       "style": "IPY_MODEL_1540018a7d454610845fe73433868982",
       "value": "<style type=\"text/css\">\n.pd{\n    font-family: \"Courier New\", Courier, monospace !important;\n    width: 100%;\n    padding: 3px;\n}\n</style>\n\n<p class=pd>\n<b>Model</b>: GP regression<br>\n<b>Objective</b>: -238.3644735719942<br>\n<b>Number of Parameters</b>: 4<br>\n<b>Number of Optimization Parameters</b>: 4<br>\n<b>Updates</b>: True<br>\n</p>\n<style type=\"text/css\">\n.tg  {font-family:\"Courier New\", Courier, monospace !important;padding:2px 3px;word-break:normal;border-collapse:collapse;border-spacing:0;border-color:#DCDCDC;margin:0px auto;width:100%;}\n.tg td{font-family:\"Courier New\", Courier, monospace !important;font-weight:bold;color:#444;background-color:#F7FDFA;border-style:solid;border-width:1px;overflow:hidden;word-break:normal;border-color:#DCDCDC;}\n.tg th{font-family:\"Courier New\", Courier, monospace !important;font-weight:normal;color:#fff;background-color:#26ADE4;border-style:solid;border-width:1px;overflow:hidden;word-break:normal;border-color:#DCDCDC;}\n.tg .tg-left{font-family:\"Courier New\", Courier, monospace !important;font-weight:normal;text-align:left;}\n.tg .tg-center{font-family:\"Courier New\", Courier, monospace !important;font-weight:normal;text-align:center;}\n.tg .tg-right{font-family:\"Courier New\", Courier, monospace !important;font-weight:normal;text-align:right;}\n</style>\n<table class=\"tg\"><tr><th><b>  GP_regression.         </b></th><th><b>                value</b></th><th><b>constraints</b></th><th><b>priors</b></th></tr>\n<tr><td class=tg-left>  rbf.variance           </td><td class=tg-right>  0.04272050039541929</td><td class=tg-center>    +ve    </td><td class=tg-center>      </td></tr>\n<tr><td class=tg-left>  rbf.lengthscale        </td><td class=tg-right>                 (2,)</td><td class=tg-center>    +ve    </td><td class=tg-center>      </td></tr>\n<tr><td class=tg-left>  Gaussian_noise.variance</td><td class=tg-right>3.006414583102543e-06</td><td class=tg-center>    +ve    </td><td class=tg-center>      </td></tr>\n</table>"
      }
     },
     "f9b3490af9a54778b03f393da4d19f7c": {
      "model_module": "@jupyter-widgets/controls",
      "model_module_version": "1.5.0",
      "model_name": "HTMLModel",
      "state": {
       "layout": "IPY_MODEL_0b181bb2d6454d6f928913e1182df084",
       "style": "IPY_MODEL_0add5e09a0094ebda70f6aca91cd7b3d",
       "value": "<style type=\"text/css\">\n    .tg-opt  {font-family:\"Courier New\", Courier, monospace !important;padding:2px 3px;word-break:normal;border-collapse:collapse;border-spacing:0;border-color:#DCDCDC;margin:0px auto;width:100%;}\n    .tg-opt td{font-family:\"Courier New\", Courier, monospace !important;font-weight:bold;color:#444;background-color:#F7FDFA;border-style:solid;border-width:1px;overflow:hidden;word-break:normal;border-color:#DCDCDC;}\n    .tg-opt th{font-family:\"Courier New\", Courier, monospace !important;font-weight:normal;color:#fff;background-color:#26ADE4;border-style:solid;border-width:1px;overflow:hidden;word-break:normal;border-color:#DCDCDC;}\n    .tg-opt .tg-left{font-family:\"Courier New\", Courier, monospace !important;font-weight:normal;text-align:left;}\n    .tg-opt .tg-right{font-family:\"Courier New\", Courier, monospace !important;font-weight:normal;text-align:right;}\n    </style>\n    <table class=\"tg-opt\"><tr><td class='tg-left'>optimizer</td><td class='tg-right'>L-BFGS-B (Scipy implementation)</td></tr><tr><td class='tg-left'>runtime</td><td class='tg-right'>00s30</td></tr><tr><td class='tg-left'>evaluation</td><td class='tg-right'>0046</td></tr><tr><td class='tg-left'>objective</td><td class='tg-right'>   9.190E+01</td></tr><tr><td class='tg-left'>||gradient||</td><td class='tg-right'>  +2.797E-07</td></tr><tr><td class='tg-left'>status</td><td class='tg-right'>Converged</td></tr></table>"
      }
     },
     "f9c7c111c8f54043b43505e40b0b8a74": {
      "model_module": "@jupyter-widgets/base",
      "model_module_version": "1.2.0",
      "model_name": "LayoutModel",
      "state": {}
     },
     "fa3e7fff8a1f48a1be8e5dada9d8d85a": {
      "model_module": "@jupyter-widgets/controls",
      "model_module_version": "1.5.0",
      "model_name": "VBoxModel",
      "state": {
       "children": [
        "IPY_MODEL_9771f14ced2f450f95e3bc937c7485cc",
        "IPY_MODEL_cc97186463f44c28bd8630bfecd671fa"
       ],
       "layout": "IPY_MODEL_c2c9e0bffd3e47629e5dd41f6ceb5f34"
      }
     },
     "fadb79f0ae244f6bb38d72af85779494": {
      "model_module": "@jupyter-widgets/controls",
      "model_module_version": "1.5.0",
      "model_name": "BoxModel",
      "state": {
       "children": [
        "IPY_MODEL_1ddaf702e82444059ab03793e924fba2"
       ],
       "layout": "IPY_MODEL_94e13c56162148de9b15a97feca21394"
      }
     },
     "fb18032e782f48a48d4ef85e53a18ff6": {
      "model_module": "@jupyter-widgets/base",
      "model_module_version": "1.2.0",
      "model_name": "LayoutModel",
      "state": {}
     },
     "fb1826cb50f1461ca259ee8ff541d4cd": {
      "model_module": "@jupyter-widgets/controls",
      "model_module_version": "1.5.0",
      "model_name": "VBoxModel",
      "state": {
       "children": [
        "IPY_MODEL_ffb9ff08fa57421996cab5cef20447c0",
        "IPY_MODEL_abdc41018ff7405fb2304af4446072e3"
       ],
       "layout": "IPY_MODEL_19dfe71441f34ae0a5be33d5836adb8a"
      }
     },
     "fb52e2e12f3044768da11ce9b4aa1074": {
      "model_module": "@jupyter-widgets/controls",
      "model_module_version": "1.5.0",
      "model_name": "BoxModel",
      "state": {
       "children": [
        "IPY_MODEL_952fcaef84214fde98d36b361e1a1c15"
       ],
       "layout": "IPY_MODEL_05c0b3d04389450da0def6cb21b068f0"
      }
     },
     "fb64a373c4674275aa80a5f97bdff871": {
      "model_module": "@jupyter-widgets/base",
      "model_module_version": "1.2.0",
      "model_name": "LayoutModel",
      "state": {}
     },
     "fb6ee60d645e486bba90ed0c38b70cdd": {
      "model_module": "@jupyter-widgets/base",
      "model_module_version": "1.2.0",
      "model_name": "LayoutModel",
      "state": {}
     },
     "fb941938202b45bb9c9746f706f4084a": {
      "model_module": "@jupyter-widgets/controls",
      "model_module_version": "1.5.0",
      "model_name": "HTMLModel",
      "state": {
       "layout": "IPY_MODEL_b79d3f6414d8449a972a7731a4edf5b8",
       "style": "IPY_MODEL_5a538338e7104c5288cf5699825d581c",
       "value": "<style type=\"text/css\">\n.pd{\n    font-family: \"Courier New\", Courier, monospace !important;\n    width: 100%;\n    padding: 3px;\n}\n</style>\n\n<p class=pd>\n<b>Model</b>: GP regression<br>\n<b>Objective</b>: 91.77874029785812<br>\n<b>Number of Parameters</b>: 12<br>\n<b>Number of Optimization Parameters</b>: 12<br>\n<b>Updates</b>: True<br>\n</p>\n<style type=\"text/css\">\n.tg  {font-family:\"Courier New\", Courier, monospace !important;padding:2px 3px;word-break:normal;border-collapse:collapse;border-spacing:0;border-color:#DCDCDC;margin:0px auto;width:100%;}\n.tg td{font-family:\"Courier New\", Courier, monospace !important;font-weight:bold;color:#444;background-color:#F7FDFA;border-style:solid;border-width:1px;overflow:hidden;word-break:normal;border-color:#DCDCDC;}\n.tg th{font-family:\"Courier New\", Courier, monospace !important;font-weight:normal;color:#fff;background-color:#26ADE4;border-style:solid;border-width:1px;overflow:hidden;word-break:normal;border-color:#DCDCDC;}\n.tg .tg-left{font-family:\"Courier New\", Courier, monospace !important;font-weight:normal;text-align:left;}\n.tg .tg-center{font-family:\"Courier New\", Courier, monospace !important;font-weight:normal;text-align:center;}\n.tg .tg-right{font-family:\"Courier New\", Courier, monospace !important;font-weight:normal;text-align:right;}\n</style>\n<table class=\"tg\"><tr><th><b>  GP_regression.         </b></th><th><b>              value</b></th><th><b>constraints</b></th><th><b>priors</b></th></tr>\n<tr><td class=tg-left>  constmap.C             </td><td class=tg-right>  4.656463899744141</td><td class=tg-center>           </td><td class=tg-center>      </td></tr>\n<tr><td class=tg-left>  rbf.variance           </td><td class=tg-right> 15.071364475218685</td><td class=tg-center>    +ve    </td><td class=tg-center>      </td></tr>\n<tr><td class=tg-left>  rbf.lengthscale        </td><td class=tg-right>               (9,)</td><td class=tg-center>    +ve    </td><td class=tg-center>      </td></tr>\n<tr><td class=tg-left>  Gaussian_noise.variance</td><td class=tg-right>0.16253629680549544</td><td class=tg-center>    +ve    </td><td class=tg-center>      </td></tr>\n</table>"
      }
     },
     "fb969b7ced5842fcaaa9e4616d6cd954": {
      "model_module": "@jupyter-widgets/base",
      "model_module_version": "1.2.0",
      "model_name": "LayoutModel",
      "state": {}
     },
     "fbffd9919d9748bc84f774825944fe6e": {
      "model_module": "@jupyter-widgets/base",
      "model_module_version": "1.2.0",
      "model_name": "LayoutModel",
      "state": {}
     },
     "fc39ce66ef824c1aa447d986df8e6dae": {
      "model_module": "@jupyter-widgets/controls",
      "model_module_version": "1.5.0",
      "model_name": "HTMLModel",
      "state": {
       "layout": "IPY_MODEL_b3feea69e6324f6eb57dbac5da95a663",
       "style": "IPY_MODEL_0f806a58bd7a4ec2a9fc01745e75c652",
       "value": "<style type=\"text/css\">\n.pd{\n    font-family: \"Courier New\", Courier, monospace !important;\n    width: 100%;\n    padding: 3px;\n}\n</style>\n\n<p class=pd>\n<b>Model</b>: GP regression<br>\n<b>Objective</b>: 92.1786973668284<br>\n<b>Number of Parameters</b>: 12<br>\n<b>Number of Optimization Parameters</b>: 12<br>\n<b>Updates</b>: True<br>\n</p>\n<style type=\"text/css\">\n.tg  {font-family:\"Courier New\", Courier, monospace !important;padding:2px 3px;word-break:normal;border-collapse:collapse;border-spacing:0;border-color:#DCDCDC;margin:0px auto;width:100%;}\n.tg td{font-family:\"Courier New\", Courier, monospace !important;font-weight:bold;color:#444;background-color:#F7FDFA;border-style:solid;border-width:1px;overflow:hidden;word-break:normal;border-color:#DCDCDC;}\n.tg th{font-family:\"Courier New\", Courier, monospace !important;font-weight:normal;color:#fff;background-color:#26ADE4;border-style:solid;border-width:1px;overflow:hidden;word-break:normal;border-color:#DCDCDC;}\n.tg .tg-left{font-family:\"Courier New\", Courier, monospace !important;font-weight:normal;text-align:left;}\n.tg .tg-center{font-family:\"Courier New\", Courier, monospace !important;font-weight:normal;text-align:center;}\n.tg .tg-right{font-family:\"Courier New\", Courier, monospace !important;font-weight:normal;text-align:right;}\n</style>\n<table class=\"tg\"><tr><th><b>  GP_regression.         </b></th><th><b>             value</b></th><th><b>constraints</b></th><th><b>priors</b></th></tr>\n<tr><td class=tg-left>  constmap.C             </td><td class=tg-right> 5.078945812956321</td><td class=tg-center>           </td><td class=tg-center>      </td></tr>\n<tr><td class=tg-left>  rbf.variance           </td><td class=tg-right>14.938098714291328</td><td class=tg-center>    +ve    </td><td class=tg-center>      </td></tr>\n<tr><td class=tg-left>  rbf.lengthscale        </td><td class=tg-right>              (9,)</td><td class=tg-center>    +ve    </td><td class=tg-center>      </td></tr>\n<tr><td class=tg-left>  Gaussian_noise.variance</td><td class=tg-right>0.1694136506288459</td><td class=tg-center>    +ve    </td><td class=tg-center>      </td></tr>\n</table>"
      }
     },
     "fc70053eb81f45cf8c236ec24daa6942": {
      "model_module": "@jupyter-widgets/controls",
      "model_module_version": "1.5.0",
      "model_name": "IntProgressModel",
      "state": {
       "bar_style": "success",
       "layout": "IPY_MODEL_08a5b25f16f14bd9b101e96535255931",
       "max": 1000,
       "style": "IPY_MODEL_3a50a374a0fb498091ac7f848e5ea5db",
       "value": 41
      }
     },
     "fe0f8fe6b71a4e98af3951be56f60264": {
      "model_module": "@jupyter-widgets/base",
      "model_module_version": "1.2.0",
      "model_name": "LayoutModel",
      "state": {}
     },
     "fe7e473eda8847c9a1b56be9df34adc9": {
      "model_module": "@jupyter-widgets/controls",
      "model_module_version": "1.5.0",
      "model_name": "HBoxModel",
      "state": {
       "children": [
        "IPY_MODEL_fedcff0f3b784f18befdecf19cb9c7e6",
        "IPY_MODEL_909bbbcf88eb4859944e34c801cb97e9"
       ],
       "layout": "IPY_MODEL_c8eb617bc6b5485cbeaac01522b4fbe9"
      }
     },
     "fe83e8938d984ad9ac1e2c4cacc81fa0": {
      "model_module": "@jupyter-widgets/base",
      "model_module_version": "1.2.0",
      "model_name": "LayoutModel",
      "state": {}
     },
     "feb73f7a917f437ba4e2d485f2748bc9": {
      "model_module": "@jupyter-widgets/base",
      "model_module_version": "1.2.0",
      "model_name": "LayoutModel",
      "state": {}
     },
     "fed513c74ad748ee9cbb7b01a0c3ba0e": {
      "model_module": "@jupyter-widgets/controls",
      "model_module_version": "1.5.0",
      "model_name": "HTMLModel",
      "state": {
       "layout": "IPY_MODEL_117a63bb0e9c48459f94a8c2e4afdbc2",
       "style": "IPY_MODEL_6ce8939dbf904af187e1905acd9244fe",
       "value": "<style type=\"text/css\">\n.pd{\n    font-family: \"Courier New\", Courier, monospace !important;\n    width: 100%;\n    padding: 3px;\n}\n</style>\n\n<p class=pd>\n<b>Model</b>: GP regression<br>\n<b>Objective</b>: 88.17279276767337<br>\n<b>Number of Parameters</b>: 12<br>\n<b>Number of Optimization Parameters</b>: 12<br>\n<b>Updates</b>: True<br>\n</p>\n<style type=\"text/css\">\n.tg  {font-family:\"Courier New\", Courier, monospace !important;padding:2px 3px;word-break:normal;border-collapse:collapse;border-spacing:0;border-color:#DCDCDC;margin:0px auto;width:100%;}\n.tg td{font-family:\"Courier New\", Courier, monospace !important;font-weight:bold;color:#444;background-color:#F7FDFA;border-style:solid;border-width:1px;overflow:hidden;word-break:normal;border-color:#DCDCDC;}\n.tg th{font-family:\"Courier New\", Courier, monospace !important;font-weight:normal;color:#fff;background-color:#26ADE4;border-style:solid;border-width:1px;overflow:hidden;word-break:normal;border-color:#DCDCDC;}\n.tg .tg-left{font-family:\"Courier New\", Courier, monospace !important;font-weight:normal;text-align:left;}\n.tg .tg-center{font-family:\"Courier New\", Courier, monospace !important;font-weight:normal;text-align:center;}\n.tg .tg-right{font-family:\"Courier New\", Courier, monospace !important;font-weight:normal;text-align:right;}\n</style>\n<table class=\"tg\"><tr><th><b>  GP_regression.         </b></th><th><b>              value</b></th><th><b>constraints</b></th><th><b>priors</b></th></tr>\n<tr><td class=tg-left>  constmap.C             </td><td class=tg-right>  6.417910233670821</td><td class=tg-center>           </td><td class=tg-center>      </td></tr>\n<tr><td class=tg-left>  rbf.variance           </td><td class=tg-right>  11.01892930319523</td><td class=tg-center>    +ve    </td><td class=tg-center>      </td></tr>\n<tr><td class=tg-left>  rbf.lengthscale        </td><td class=tg-right>               (9,)</td><td class=tg-center>    +ve    </td><td class=tg-center>      </td></tr>\n<tr><td class=tg-left>  Gaussian_noise.variance</td><td class=tg-right>0.14149072244584487</td><td class=tg-center>    +ve    </td><td class=tg-center>      </td></tr>\n</table>"
      }
     },
     "fedcff0f3b784f18befdecf19cb9c7e6": {
      "model_module": "@jupyter-widgets/controls",
      "model_module_version": "1.5.0",
      "model_name": "VBoxModel",
      "state": {
       "children": [
        "IPY_MODEL_9908f4f541ea447e9fc732dec98b3561",
        "IPY_MODEL_429952dd70db4ac5ad9978468528dddc"
       ],
       "layout": "IPY_MODEL_0944dc0f2a92474c9d0daad45fc53e6e"
      }
     },
     "fee89162431e41369c64f7ca0022dc06": {
      "model_module": "@jupyter-widgets/controls",
      "model_module_version": "1.5.0",
      "model_name": "HBoxModel",
      "state": {
       "children": [
        "IPY_MODEL_be00f4d00a6940f1a31a4b6ce3901c39",
        "IPY_MODEL_132811fff3ee450aaa33b160ac9329be"
       ],
       "layout": "IPY_MODEL_665b854025924d3a910c2ed1712b73e7"
      }
     },
     "ff5a732e4261432abb44043892139c83": {
      "model_module": "@jupyter-widgets/controls",
      "model_module_version": "1.5.0",
      "model_name": "DescriptionStyleModel",
      "state": {
       "description_width": ""
      }
     },
     "ffb9ff08fa57421996cab5cef20447c0": {
      "model_module": "@jupyter-widgets/controls",
      "model_module_version": "1.5.0",
      "model_name": "IntProgressModel",
      "state": {
       "bar_style": "success",
       "layout": "IPY_MODEL_e0b4cdba50be468abd2f026d39f0ab86",
       "max": 1000,
       "style": "IPY_MODEL_174e62a151d34a839a5725fca323a0f0",
       "value": 46
      }
     }
    },
    "version_major": 2,
    "version_minor": 0
   }
  }
 },
 "nbformat": 4,
 "nbformat_minor": 2
}
